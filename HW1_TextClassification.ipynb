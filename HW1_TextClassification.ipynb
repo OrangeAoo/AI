{
  "cells": [
    {
      "cell_type": "markdown",
      "metadata": {
        "id": "view-in-github",
        "colab_type": "text"
      },
      "source": [
        "<a href=\"https://colab.research.google.com/github/OrangeAoo/AI/blob/main/HW1_TextClassification.ipynb\" target=\"_parent\"><img src=\"https://colab.research.google.com/assets/colab-badge.svg\" alt=\"Open In Colab\"/></a>"
      ]
    },
    {
      "cell_type": "markdown",
      "metadata": {
        "id": "p_3MEx8RDq9C"
      },
      "source": [
        "# Text Classification"
      ]
    },
    {
      "cell_type": "markdown",
      "metadata": {
        "id": "LqGSVX-_DybL"
      },
      "source": [
        "## Introduction\n",
        "\n",
        "The IMDb Movie Reviews dataset is a collection of 50,000 reviews from IMDb that are labeled as either positive or negative. The dataset is used for binary sentiment analysis, and it contains an equal number of positive and negative reviews.\n",
        "\n",
        "In this assignment, we will walk through three text classification pipelines on classifying IMDB moview review sentiment:\n",
        "1. Training a simple model from scratch\n",
        "2. Fine-tuning embeddings from a pre-trained BERT model\n",
        "3. Using an out-of-the-box zero-shot LLM\n",
        "\n",
        "\n",
        "**Your task**\n",
        "## Problem 1:\n",
        "\n",
        "Using the simple model provided in the Colab notebook, which is the same model discussed in class, modify the code by adding a hidden layer between the averaged embedding and the final logits. Use a ReLU activation function for this hidden layer, and set its dimension to 128.\n",
        "\n",
        "  \n",
        "\n",
        "1. [2 pts] Calculate the number of trainable parameters in your modified model.\n",
        "\n",
        "  \n",
        "\n",
        "2. [1 pt] Run the classification pipeline with your modified model and report the **accuracy** and **loss** after 10 epochs.\n",
        "\n",
        "  \n",
        "\n",
        "3. [2 pts] Increase the batch size from 128 to 1024 and run the classification pipeline again (ensure to reinitialize your model). What differences do you observe in the results, and how would you explain these changes?\n",
        "\n",
        "  \n",
        "  \n",
        "\n",
        "## Problem 2\n",
        "\n",
        "Modify the code for fine-tuning using BERT.\n",
        "\n",
        "  \n",
        "\n",
        "1. [2 pts] Freeze the base model (making its parameters non-trainable) and add a hidden layer (with a dimension size of 128) with a ReLU activation function, similar to what was done in Problem 1. Report the accuracy and loss after 2 epochs.\n",
        "\n",
        "  \n",
        "\n",
        "2. [1 pt] Provide an explanation for any improvements observed in Problem 2 compared to Problem 1.\n",
        "\n",
        "  \n",
        "\n",
        "## Problem 3\n",
        "\n",
        "Modify the code for Zero-shot LLM text classification. You may check the code in the [notebook](https://colab.research.google.com/drive/1ZLrXVNxq7V082NvHWp5vMoI8hxfi9Bpv?usp=sharing) from Lecture 2 as well.\n",
        "\n",
        "  \n",
        "\n",
        "1. [2 pts] Optimize the prompt as much as possible (e.g., by applying the chain of thought method discussed in the lecture). Run your optimized prompt with 1000 test samples. Report both the optimized prompt and the resulting accuracy.\n"
      ]
    },
    {
      "cell_type": "markdown",
      "metadata": {
        "id": "fXNTtSuDHepn"
      },
      "source": [
        "# Dataset Preparation\n",
        "\n",
        "First we will load the IMDB dataset, which contains text and binary labels."
      ]
    },
    {
      "cell_type": "code",
      "execution_count": null,
      "metadata": {
        "id": "GLQuGXr9Pbfk"
      },
      "outputs": [],
      "source": [
        "!pip install -q datasets"
      ]
    },
    {
      "cell_type": "markdown",
      "source": [
        "Load IMDB dataset"
      ],
      "metadata": {
        "id": "9eAcGQJ-Aavi"
      }
    },
    {
      "cell_type": "code",
      "execution_count": null,
      "metadata": {
        "colab": {
          "base_uri": "https://localhost:8080/"
        },
        "id": "vBs03Pm5Pbfk",
        "outputId": "1259fa28-bdeb-48f3-b601-8868c600f5b1"
      },
      "outputs": [
        {
          "output_type": "stream",
          "name": "stderr",
          "text": [
            "/usr/local/lib/python3.12/dist-packages/huggingface_hub/utils/_auth.py:94: UserWarning: \n",
            "The secret `HF_TOKEN` does not exist in your Colab secrets.\n",
            "To authenticate with the Hugging Face Hub, create a token in your settings tab (https://huggingface.co/settings/tokens), set it as secret in your Google Colab and restart your session.\n",
            "You will be able to reuse this secret in all of your notebooks.\n",
            "Please note that authentication is recommended but still optional to access public models or datasets.\n",
            "  warnings.warn(\n"
          ]
        }
      ],
      "source": [
        "from datasets import load_dataset\n",
        "from tqdm import tqdm\n",
        "\n",
        "imdb = load_dataset(\"imdb\")"
      ]
    },
    {
      "cell_type": "code",
      "execution_count": null,
      "metadata": {
        "id": "4AwzoYvy-YIK"
      },
      "outputs": [],
      "source": [
        "train_texts_raw = imdb['train']['text']\n",
        "test_texts_raw = imdb['test']['text']\n",
        "train_labels_raw = imdb['train']['label']\n",
        "test_labels_raw = imdb['test']['label']"
      ]
    },
    {
      "cell_type": "markdown",
      "metadata": {
        "id": "3HWQEoj9Pbfk"
      },
      "source": [
        "Let's shuffle the data and select 10000 samples for training and 1000 samples for testing (for homework purpose)"
      ]
    },
    {
      "cell_type": "code",
      "execution_count": null,
      "metadata": {
        "colab": {
          "base_uri": "https://localhost:8080/"
        },
        "id": "t3oBj5n-Pbfk",
        "outputId": "1a5775f5-086a-42f0-8b40-6134278b26b9"
      },
      "outputs": [
        {
          "output_type": "execute_result",
          "data": {
            "text/plain": [
              "(10000, 1000)"
            ]
          },
          "metadata": {},
          "execution_count": 5
        }
      ],
      "source": [
        "import numpy as np\n",
        "np.random.seed(42)\n",
        "train_indices = np.random.choice(len(train_texts_raw), 10000)\n",
        "test_indices = np.random.choice(len(test_texts_raw), 1000)\n",
        "train_texts = np.array(train_texts_raw)[train_indices].tolist()\n",
        "test_texts = np.array(test_texts_raw)[test_indices].tolist()\n",
        "train_labels = np.array(train_labels_raw)[train_indices].tolist()\n",
        "test_labels = np.array(test_labels_raw)[test_indices].tolist()\n",
        "len(train_texts), len(test_texts) # the size of train vs test"
      ]
    },
    {
      "cell_type": "markdown",
      "source": [
        "Let's take a look for an example, label `1` indicates positive and label `0` indicates negative."
      ],
      "metadata": {
        "id": "L6hdlFWYA8uY"
      }
    },
    {
      "cell_type": "code",
      "source": [
        "train_texts[1], train_labels[1]"
      ],
      "metadata": {
        "colab": {
          "base_uri": "https://localhost:8080/"
        },
        "id": "2-7HYuBRA8EK",
        "outputId": "36af0cb1-58c7-45fe-b756-1ebbaf1daaab"
      },
      "execution_count": null,
      "outputs": [
        {
          "output_type": "execute_result",
          "data": {
            "text/plain": [
              "(\"Went to see this finnish film and I've got to say that it is one of the better films I've seen this year. The intrigue is made up of 5-6 different stories, all taking place the very same day in a small finnish town. The stories come together very nicely in the end, reminding, perhaps, a bit of the way Tarantino's movies are made. Most of the actors performed very well, which most certainly is needed in realistic dramas of this type. I especially enjoyed the acting by Sanna Hietala, the lead actress, and Juha Kukkonen. I noticed btw that IMDB has got the wrong information about Sanna. Her name, as you might have noticed in my review ;), is NOT Heikkilä, but Hietala.\",\n",
              " 1)"
            ]
          },
          "metadata": {},
          "execution_count": 6
        }
      ]
    },
    {
      "cell_type": "markdown",
      "metadata": {
        "id": "BgI8ulH2JKA2"
      },
      "source": [
        "## A simple model\n",
        "\n",
        "### Tokenization\n",
        "To begin, we need a tokenizer that can map a text to a sequence of integers (and vice-versa).\n",
        "\n",
        "Here we are going to borrow the tokenizer from `Bert` directly. This tokenizer was trained on a large corpus of English texts to automatically learn subwords (another example of data-driven spirit!)."
      ]
    },
    {
      "cell_type": "markdown",
      "metadata": {
        "id": "2JVk8GqCLAUA"
      },
      "source": [
        "Download the tokenizer (one line of code thanks to Huggingface)."
      ]
    },
    {
      "cell_type": "code",
      "execution_count": null,
      "metadata": {
        "colab": {
          "base_uri": "https://localhost:8080/",
          "height": 251,
          "referenced_widgets": [
            "ee7154a580f54a559f686fb956d02312",
            "2e41ed7768934d80acdd14c5abfce386",
            "0cd9958db36947d3b36a388e1dd8fdbb",
            "92b6a78ec3d04b7b804a9a226ad36f8b",
            "1221fc4992fa463397924380e2ce666a",
            "fa6280657dc44b28af71357de7fed445",
            "d225ac32b58b41eeb08697df905a6090",
            "f13c88a7d69743df91c5cc4574566efb",
            "440e4046f55044c2a08d8b815a3ef3c2",
            "06ef18563fb949dfbe7362ac42c5fcd2",
            "a72ac9855d5e4292a939d4ed3c0e44e6",
            "6197dda3abd8493180287a4773651f90",
            "64864e77695a449d9c561f42373aa6e1",
            "2f249e61aac34b4ab98a84efd57420ac",
            "1a75e1a5cc7444478c1b21ad94e52dee",
            "06e6e8036bfb4067aa793278f252ab99",
            "ff5ff1b5ad7e46008f25dd9f02ce900b",
            "e6be28126550466aa0917acbcf52fe8c",
            "7a1726ba4e204f7ea232de1977699e6e",
            "ad1f136351694d519c1e05d6e4df446f",
            "c2c3c4ac0c0c4cb7a7588614dfb8610c",
            "f454648b1c3a443582c1499c02828ccc",
            "14398e92396d47b196a28774fb2d286a",
            "510ffa625bcc42f484ca4a0f56fb42b2",
            "00e5526dc135428f97eba29b6af35201",
            "292029458a244d5f9c15ca507fc89957",
            "adf971a9224b40aab8b530ff1fdf522d",
            "5f5d341579fb466aa266536155bc6bda",
            "c1d3d3096803446cb428ffaaf7bc532f",
            "d4e2fb27e6dd4f85980556f327a65843",
            "aa091f35726243d3bd8a9fad11a717c9",
            "a6a19e0b2212417dbad7ca2a4214ad71",
            "3c8a878472ac491ea09768f994304cda",
            "7249389a2f424616bc617976ad0d2d9e",
            "16f9520375564fb09efc4a2b6f4a4fcf",
            "1da375cb300f48e58f41629f3d130b5f",
            "4e01048164a649bb9742da1a764d4430",
            "20b87d9e20104070ab5997a81b1edb26",
            "b8169cc961464d4d981e88e25ffd8694",
            "90a3da84f39344a1b457543063737f6d",
            "1c12a77824ca4d73beb0c687a2fe248b",
            "be568f3c696d411c909fafd100c1a3bf",
            "8c21ef54753848c9beab0a1624dc596a",
            "04d3826c4ec145b5bbcc53b7084f7f50",
            "e40d498a0bff4d38a241ad9e6cf2e4e4",
            "f0a15c3167ea4e9498c5069087177ffd",
            "c8b42a11831047fc9871fc56b07115d1",
            "ffb551a86eb64eb2b79cbda25d6f4e74",
            "7f2bc15409ac413db401552ec3a276bd",
            "133e9962a3f44f7bb4a087278fe584a8",
            "34f2c53b3b2c49f0b3e95ab5a867c98e",
            "eb3bf58a292048458f2d48cf30e1cb28",
            "a1b41e5347864cb69f55c99bf6769548",
            "900207ce503e4001a6580729fff453fd",
            "b474d779826843f684f8eb0dcc9d6b3f"
          ]
        },
        "id": "nVmkecEwmTaG",
        "outputId": "3560873d-e6da-4d06-e9bb-0e5a71bc440c"
      },
      "outputs": [
        {
          "output_type": "stream",
          "name": "stderr",
          "text": [
            "The cache for model files in Transformers v4.22.0 has been updated. Migrating your old cache. This is a one-time only operation. You can interrupt this and resume the migration later on by calling `transformers.utils.move_cache()`.\n"
          ]
        },
        {
          "output_type": "display_data",
          "data": {
            "text/plain": [
              "0it [00:00, ?it/s]"
            ],
            "application/vnd.jupyter.widget-view+json": {
              "version_major": 2,
              "version_minor": 0,
              "model_id": "ee7154a580f54a559f686fb956d02312"
            }
          },
          "metadata": {}
        },
        {
          "output_type": "display_data",
          "data": {
            "text/plain": [
              "tokenizer_config.json:   0%|          | 0.00/48.0 [00:00<?, ?B/s]"
            ],
            "application/vnd.jupyter.widget-view+json": {
              "version_major": 2,
              "version_minor": 0,
              "model_id": "6197dda3abd8493180287a4773651f90"
            }
          },
          "metadata": {}
        },
        {
          "output_type": "display_data",
          "data": {
            "text/plain": [
              "config.json:   0%|          | 0.00/570 [00:00<?, ?B/s]"
            ],
            "application/vnd.jupyter.widget-view+json": {
              "version_major": 2,
              "version_minor": 0,
              "model_id": "14398e92396d47b196a28774fb2d286a"
            }
          },
          "metadata": {}
        },
        {
          "output_type": "display_data",
          "data": {
            "text/plain": [
              "vocab.txt:   0%|          | 0.00/232k [00:00<?, ?B/s]"
            ],
            "application/vnd.jupyter.widget-view+json": {
              "version_major": 2,
              "version_minor": 0,
              "model_id": "7249389a2f424616bc617976ad0d2d9e"
            }
          },
          "metadata": {}
        },
        {
          "output_type": "display_data",
          "data": {
            "text/plain": [
              "tokenizer.json:   0%|          | 0.00/466k [00:00<?, ?B/s]"
            ],
            "application/vnd.jupyter.widget-view+json": {
              "version_major": 2,
              "version_minor": 0,
              "model_id": "e40d498a0bff4d38a241ad9e6cf2e4e4"
            }
          },
          "metadata": {}
        },
        {
          "output_type": "stream",
          "name": "stderr",
          "text": [
            "/usr/local/lib/python3.10/dist-packages/transformers/tokenization_utils_base.py:1601: FutureWarning: `clean_up_tokenization_spaces` was not set. It will be set to `True` by default. This behavior will be depracted in transformers v4.45, and will be then set to `False` by default. For more details check this issue: https://github.com/huggingface/transformers/issues/31884\n",
            "  warnings.warn(\n"
          ]
        }
      ],
      "source": [
        "from transformers import AutoTokenizer\n",
        "\n",
        "tokenizer = AutoTokenizer.from_pretrained('bert-base-uncased')"
      ]
    },
    {
      "cell_type": "markdown",
      "metadata": {
        "id": "pljzq_h-LGRM"
      },
      "source": [
        "Encode a text and obtain a sequence of integers, each integer is called a `token`."
      ]
    },
    {
      "cell_type": "code",
      "execution_count": null,
      "metadata": {
        "colab": {
          "base_uri": "https://localhost:8080/"
        },
        "id": "_6idMuHJfCFq",
        "outputId": "4f968724-de89-491e-b00f-bce926df3847"
      },
      "outputs": [
        {
          "output_type": "execute_result",
          "data": {
            "text/plain": [
              "tensor([[ 101, 7592, 2088,  102]])"
            ]
          },
          "metadata": {},
          "execution_count": 10
        }
      ],
      "source": [
        "tokenizer.encode('hello world', return_tensors='pt')"
      ]
    },
    {
      "cell_type": "markdown",
      "metadata": {
        "id": "icCiesIkKLmS"
      },
      "source": [
        "### Model Architecture\n",
        "\n",
        "We build a very simple model that akins to `bag of words` method.\n",
        "\n",
        "We map each word (be more precise, token) to an embedding and then average all embeddings to get a sentence-level embedding. Then an linear layer will be used to extract the output (akin to logisitc regression).\n",
        "\n",
        "The token embeddings and parameters of the linear layer will be trained at the same time, using cross entropy loss (with logits).\n",
        "\n",
        "The model is constructed through the class `EmbeddingModel`.\n",
        "\n",
        "### Problem 1:\n",
        "Using the simple model below, which is the same model discussed in class, modify the code by adding a hidden layer between the averaged embedding and the final logits. Use a ReLU activation function for this hidden layer, and set its dimension to 128.\n",
        "\n",
        "  \n",
        "\n",
        "1. [2 pts] Calculate the number of trainable parameters in your modified model.\n",
        "\n",
        "  \n",
        "\n",
        "2. [1 pt] Run the classification pipeline with your modified model and report the **accuracy** and **loss** after 10 epochs.\n",
        "\n",
        "  \n",
        "\n",
        "3. [2 pts] Increase the batch size from 128 to 1024 and run the classification pipeline again (ensure to reinitialize your model). What differences do you observe in the results, and how would you explain these changes?\n"
      ]
    },
    {
      "cell_type": "code",
      "execution_count": null,
      "metadata": {
        "id": "Wn0_qSmSmsat"
      },
      "outputs": [],
      "source": [
        "import torch\n",
        "import torch.nn as nn\n",
        "import torch.nn.functional as F\n",
        "\n",
        "class EmbeddingModel(nn.Module):\n",
        "    def __init__(self, vocab_size, embedding_dim, hidden_dim, num_classes):\n",
        "        super().__init__()\n",
        "        self.embedding = nn.Embedding(vocab_size, embedding_dim)\n",
        "        self.fc1 = nn.Linear(embedding_dim, num_classes)\n",
        "\n",
        "    def forward(self, inputs):\n",
        "        output = self.embedding(inputs)\n",
        "        output = torch.mean(output, dim=1)  # Mean pooling\n",
        "        output = self.fc1(output)\n",
        "        return output\n",
        "\n",
        "model = EmbeddingModel(tokenizer.vocab_size, 128, 128, 2)"
      ]
    },
    {
      "cell_type": "markdown",
      "metadata": {
        "id": "PDDS1tqsMihu"
      },
      "source": [
        "You can test that whether the output dimension is what we want."
      ]
    },
    {
      "cell_type": "code",
      "execution_count": null,
      "metadata": {
        "colab": {
          "base_uri": "https://localhost:8080/"
        },
        "id": "51bXJBkCm3KX",
        "outputId": "a990881c-0802-4ae9-a656-5fc39c6473e0"
      },
      "outputs": [
        {
          "output_type": "execute_result",
          "data": {
            "text/plain": [
              "tensor([[0.0499, 0.0916]], grad_fn=<AddmmBackward0>)"
            ]
          },
          "metadata": {},
          "execution_count": 12
        }
      ],
      "source": [
        "inputs = tokenizer.encode('hello world', return_tensors='pt')\n",
        "model(inputs)"
      ]
    },
    {
      "cell_type": "markdown",
      "metadata": {
        "id": "vrhq0PsCc0HK"
      },
      "source": [
        "A helper function for training the model"
      ]
    },
    {
      "cell_type": "code",
      "execution_count": null,
      "metadata": {
        "id": "wcTs8JxYS0b7"
      },
      "outputs": [],
      "source": [
        "def train_model(num_epochs, batch_size, max_length, model, optimizer):\n",
        "\n",
        "\n",
        "    loss_fn = nn.CrossEntropyLoss() ## loss_fn(logits, target) will take K-dim logits and a target index in [0..K-1] that indicates the true class\n",
        "    train_accuracy_list = []\n",
        "    test_accuracy_list = []\n",
        "    train_loss_list = []\n",
        "    test_loss_list = []\n",
        "\n",
        "\n",
        "    for epoch in range(num_epochs):\n",
        "        train_loss = 0.0\n",
        "        train_accuracy = 0.0\n",
        "        ### training\n",
        "        model.train()\n",
        "        for batch in tqdm(range(0, len(train_texts), batch_size)):\n",
        "            input = train_texts[batch:batch+batch_size]\n",
        "            labels = train_labels[batch:batch+batch_size]\n",
        "\n",
        "            input = tokenizer(input, padding=True, truncation=True, max_length=max_length, return_tensors='pt') # Question: why do we need padding and truncation?\n",
        "            labels = torch.tensor(labels)\n",
        "\n",
        "            logits = model(input[\"input_ids\"])\n",
        "            loss = loss_fn(logits, labels)\n",
        "\n",
        "            train_loss += loss.item() * len(labels)\n",
        "            train_accuracy += (logits.argmax(dim=1) == labels).sum().item()\n",
        "\n",
        "            ### taking gradient descent on this batch\n",
        "            loss.backward()\n",
        "            optimizer.step()\n",
        "            optimizer.zero_grad()\n",
        "\n",
        "        print(f\"Epoch {epoch+1}/{num_epochs}, Loss: {train_loss/len(train_texts)}\")\n",
        "        print(f\"Train Accuracy: {train_accuracy/len(train_texts)}\")\n",
        "        train_accuracy_list.append(train_accuracy/len(train_texts))\n",
        "        train_loss_list.append(train_loss/len(train_texts))\n",
        "\n",
        "        ### testing\n",
        "        test_loss = 0.0\n",
        "        test_accuracy = 0.0\n",
        "        model.eval()\n",
        "        with torch.no_grad():\n",
        "            for batch in tqdm(range(0, len(test_texts), batch_size)):\n",
        "                input = test_texts[batch:batch+batch_size]\n",
        "                labels = test_labels[batch:batch+batch_size]\n",
        "                input = tokenizer(input, padding=True, truncation=True, max_length=max_length, return_tensors='pt')\n",
        "                labels = torch.tensor(labels)\n",
        "\n",
        "                logits = model(input[\"input_ids\"])\n",
        "                loss = loss_fn(logits, labels)\n",
        "                test_loss += loss.item() * len(labels)\n",
        "                test_accuracy += (logits.argmax(dim=1) == labels).sum().item()\n",
        "\n",
        "        print(f\"Test Loss: {test_loss/len(test_texts)}\")\n",
        "        print(f\"Test Accuracy: {test_accuracy/len(test_texts)}\")\n",
        "        test_accuracy_list.append(test_accuracy/len(test_texts))\n",
        "        test_loss_list.append(test_loss/len(test_texts))\n",
        "\n",
        "    return train_accuracy_list, test_accuracy_list, train_loss_list, test_loss_list, model"
      ]
    },
    {
      "cell_type": "markdown",
      "metadata": {
        "id": "uwc8XxgXc71l"
      },
      "source": [
        "Kick off training"
      ]
    },
    {
      "cell_type": "code",
      "execution_count": null,
      "metadata": {
        "id": "D2fHe5iDqTqS",
        "colab": {
          "base_uri": "https://localhost:8080/"
        },
        "outputId": "f504ac22-c310-4aaf-b66e-3f3703bbcd8c"
      },
      "outputs": [
        {
          "output_type": "stream",
          "name": "stdout",
          "text": [
            "Epoch 1/10, Loss: 0.6905236075401306\n",
            "Train Accuracy: 0.5256\n",
            "Test Loss: 0.682772352218628\n",
            "Test Accuracy: 0.56\n",
            "Epoch 2/10, Loss: 0.656630800819397\n",
            "Train Accuracy: 0.6215\n",
            "Test Loss: 0.6163395071029663\n",
            "Test Accuracy: 0.671\n",
            "Epoch 3/10, Loss: 0.5487612312793732\n",
            "Train Accuracy: 0.7395\n",
            "Test Loss: 0.49802234745025636\n",
            "Test Accuracy: 0.793\n",
            "Epoch 4/10, Loss: 0.42274134278297426\n",
            "Train Accuracy: 0.8244\n",
            "Test Loss: 0.41701280093193055\n",
            "Test Accuracy: 0.825\n",
            "Epoch 5/10, Loss: 0.3305585817813873\n",
            "Train Accuracy: 0.8697\n",
            "Test Loss: 0.37124239444732665\n",
            "Test Accuracy: 0.835\n",
            "Epoch 6/10, Loss: 0.2673660098731518\n",
            "Train Accuracy: 0.8985\n",
            "Test Loss: 0.344688395023346\n",
            "Test Accuracy: 0.852\n",
            "Epoch 7/10, Loss: 0.2208690035045147\n",
            "Train Accuracy: 0.9196\n",
            "Test Loss: 0.3285403985977173\n",
            "Test Accuracy: 0.86\n",
            "Epoch 8/10, Loss: 0.18470427219569682\n",
            "Train Accuracy: 0.9352\n",
            "Test Loss: 0.32198233270645144\n",
            "Test Accuracy: 0.873\n",
            "Epoch 9/10, Loss: 0.15545043005347253\n",
            "Train Accuracy: 0.9473\n",
            "Test Loss: 0.31545541524887083\n",
            "Test Accuracy: 0.879\n",
            "Epoch 10/10, Loss: 0.1314596530660987\n",
            "Train Accuracy: 0.957\n",
            "Test Loss: 0.32583222675323487\n",
            "Test Accuracy: 0.881\n"
          ]
        }
      ],
      "source": [
        "num_epochs = 10\n",
        "batch_size = 128\n",
        "max_length = 512\n",
        "optimizer = torch.optim.Adam(model.parameters(), lr=1e-3)\n",
        "\n",
        "train_accuracy_list, test_accuracy_list, train_loss_list, test_loss_list, model = train_model(num_epochs, batch_size, max_length, model, optimizer)"
      ]
    },
    {
      "cell_type": "markdown",
      "metadata": {
        "id": "jqQBT3SDdCRn"
      },
      "source": [
        "Accuracy plot as epoch increases."
      ]
    },
    {
      "cell_type": "code",
      "execution_count": null,
      "metadata": {
        "id": "kXOWUJZ6tmT-"
      },
      "outputs": [],
      "source": [
        "### plot the train and test accuracy\n",
        "\n",
        "import matplotlib.pyplot as plt\n",
        "\n",
        "plt.plot(train_accuracy_list, label='train_accuracy')\n",
        "plt.plot(test_accuracy_list, label='test_accuracy')\n",
        "plt.legend()"
      ]
    },
    {
      "cell_type": "markdown",
      "metadata": {
        "id": "87nfuZx-yp1L"
      },
      "source": [
        "### Fine-tune Pre-trained Embedding Model\n",
        "\n",
        "A paragraph-level embedding may capture the contexts better than word-level embeddings.\n",
        "\n",
        "Here we use a pre-trained model (Bert-base) to provide us a paragraph-level embedding."
      ]
    },
    {
      "cell_type": "markdown",
      "metadata": {
        "id": "IQFmf2GpfPCF"
      },
      "source": [
        "We just need one line to download Bert-base, which has 110M parameters and was trained on the Toronto BookCorpus (800M words) and English Wikipedia (2,500M words)\n",
        "\n",
        "Celebrate the spirit of open-source models!"
      ]
    },
    {
      "cell_type": "code",
      "execution_count": null,
      "metadata": {
        "colab": {
          "base_uri": "https://localhost:8080/",
          "height": 49,
          "referenced_widgets": [
            "1ed7c73977d44c4e9812b5c90e3fafda",
            "c4aae4992028491181c06b4a2ca271dc",
            "2d01cc11be33495aa1f47a5512f88868",
            "adf27c50e5394a8ba136dfae93e77b21",
            "403213755dd94050a5a411e98ee38429",
            "a222b9ada03c4b9f986844418c5c74da",
            "d86c047e9ae949dbb7a3e2dfc60012a6",
            "e91719fb6ab44511ab06305090676a6a",
            "d36692a58267444598480701ee6ac1f6",
            "61f194bf3d9845dbad853e74700e15f5",
            "b39cc1bed4ad42df84702d2b952ff343"
          ]
        },
        "id": "wvXJZAhuxQkm",
        "outputId": "c5164ec6-44a5-4c14-80b8-61a643f9d245"
      },
      "outputs": [
        {
          "output_type": "display_data",
          "data": {
            "text/plain": [
              "model.safetensors:   0%|          | 0.00/440M [00:00<?, ?B/s]"
            ],
            "application/vnd.jupyter.widget-view+json": {
              "version_major": 2,
              "version_minor": 0,
              "model_id": "1ed7c73977d44c4e9812b5c90e3fafda"
            }
          },
          "metadata": {}
        }
      ],
      "source": [
        "## download Bert\n",
        "import torch\n",
        "from transformers import BertTokenizer, BertModel\n",
        "\n",
        "bert_model = BertModel.from_pretrained('bert-base-uncased')"
      ]
    },
    {
      "cell_type": "markdown",
      "metadata": {
        "id": "rpQ2cbxZfwqX"
      },
      "source": [
        "We also donwload the tokenizer again and make the tokenizer is consistent with the bert model"
      ]
    },
    {
      "cell_type": "code",
      "execution_count": null,
      "metadata": {
        "id": "5hlv8SsQy0_t",
        "colab": {
          "base_uri": "https://localhost:8080/"
        },
        "outputId": "11af8350-68a0-4bca-f6ee-88a5052799f9"
      },
      "outputs": [
        {
          "output_type": "stream",
          "name": "stderr",
          "text": [
            "/usr/local/lib/python3.10/dist-packages/transformers/tokenization_utils_base.py:1601: FutureWarning: `clean_up_tokenization_spaces` was not set. It will be set to `True` by default. This behavior will be depracted in transformers v4.45, and will be then set to `False` by default. For more details check this issue: https://github.com/huggingface/transformers/issues/31884\n",
            "  warnings.warn(\n"
          ]
        }
      ],
      "source": [
        "tokenizer = BertTokenizer.from_pretrained('bert-base-uncased')"
      ]
    },
    {
      "cell_type": "markdown",
      "metadata": {
        "id": "dEwViSlegEIR"
      },
      "source": [
        "We build the ClassificationModel with Bert as a base_model.\n",
        "\n",
        "We freeze the base model parameters except last two layers so that we are not changing most parameters while fine-tuning.\n",
        "\n",
        "\n",
        "### Problem 2\n",
        "\n",
        "Modify the code for fine-tuning using BERT.\n",
        "\n",
        "  \n",
        "\n",
        "1. [2 pts] Freeze the base model (making its parameters non-trainable) and add a hidden layer (with a dimension size of 128) with a ReLU activation function, similar to what was done in Problem 1. Report the accuracy and loss after 2 epochs.\n",
        "\n",
        "  \n",
        "\n",
        "2. [1 pt] Provide an explanation for any difference observed in Problem 2 compared to Problem 1.\n"
      ]
    },
    {
      "cell_type": "code",
      "execution_count": null,
      "metadata": {
        "id": "T8sPCAEwy6yR"
      },
      "outputs": [],
      "source": [
        "import torch\n",
        "import torch.nn as nn\n",
        "import torch.nn.functional as F\n",
        "\n",
        "class ClassificationModel(nn.Module):\n",
        "    def __init__(self, base_model, embedding_dim, hidden_dim, num_classes, freeze_base_model=True):\n",
        "        super().__init__()\n",
        "        self.fc1 = nn.Linear(embedding_dim, num_classes)\n",
        "        self.base_model = base_model\n",
        "\n",
        "    def forward(self, inputs):\n",
        "        outputs = self.base_model(**inputs)\n",
        "        cls_embedding = outputs.last_hidden_state[:, 0, :] #embedding of the first token (cls_token, which is a special token that provides paragraph-level embedding)\n",
        "        logits = self.fc1(cls_embedding)\n",
        "        return logits"
      ]
    },
    {
      "cell_type": "markdown",
      "metadata": {
        "id": "oMbUF2fAgoUW"
      },
      "source": [
        "Create a model and move the model to GPU memory"
      ]
    },
    {
      "cell_type": "code",
      "execution_count": null,
      "metadata": {
        "id": "H_rA5VWSt-ED"
      },
      "outputs": [],
      "source": [
        "model = ClassificationModel(bert_model, 768, 128, 2)\n",
        "model = model.to('cuda') # we need to move model to cuda to use GPU"
      ]
    },
    {
      "cell_type": "markdown",
      "metadata": {
        "id": "w_L70XIQgse_"
      },
      "source": [
        "Test whether the output dimension is correct"
      ]
    },
    {
      "cell_type": "code",
      "execution_count": null,
      "metadata": {
        "colab": {
          "base_uri": "https://localhost:8080/"
        },
        "id": "tcC9XmADuNmp",
        "outputId": "b1f85b78-8745-4e82-f0da-d31dbf678c28"
      },
      "outputs": [
        {
          "output_type": "stream",
          "name": "stdout",
          "text": [
            "tensor([[ 0.0462,  0.0228],\n",
            "        [ 0.0730, -0.0898]], device='cuda:0', grad_fn=<AddmmBackward0>)\n"
          ]
        }
      ],
      "source": [
        "input = tokenizer(['hello world', 'go go power'], return_tensors='pt', padding=True, truncation=True, max_length=4)\n",
        "input = input.to('cuda')\n",
        "print(model(input))"
      ]
    },
    {
      "cell_type": "markdown",
      "metadata": {
        "id": "lx2Yw1T6g0h6"
      },
      "source": [
        "The input actually includes `input_ids` and `attention_mask`. We will explain their meanings later when we talk about transformers."
      ]
    },
    {
      "cell_type": "markdown",
      "metadata": {
        "id": "hfFx6gMmjKgq"
      },
      "source": [
        "Kickoff training.\n",
        "\n",
        "To run the following code, we suggest you switch to L4 GPU (about 3min per epoch) or A100 GPU (about 2min per epoch). After you switch the code, you need to rerun the data processing. Check [here](https://saturncloud.io/blog/how-to-activate-gpu-computing-in-google-colab/) for instructions."
      ]
    },
    {
      "cell_type": "code",
      "execution_count": null,
      "metadata": {
        "colab": {
          "base_uri": "https://localhost:8080/"
        },
        "id": "WfSmOYb4uPuS",
        "outputId": "c0419849-a5a4-4007-8c1a-940f63a1461d"
      },
      "outputs": [
        {
          "output_type": "stream",
          "name": "stderr",
          "text": [
            "100%|██████████| 79/79 [01:47<00:00,  1.36s/it]\n"
          ]
        },
        {
          "output_type": "stream",
          "name": "stdout",
          "text": [
            "Epoch 1/2, Loss: 0.19274951703548432\n",
            "Train Accuracy: 0.9214\n"
          ]
        },
        {
          "output_type": "stream",
          "name": "stderr",
          "text": [
            "100%|██████████| 8/8 [00:10<00:00,  1.30s/it]\n"
          ]
        },
        {
          "output_type": "stream",
          "name": "stdout",
          "text": [
            "Test Loss: 0.2132639878988266\n",
            "Test Accuracy: 0.924\n"
          ]
        },
        {
          "output_type": "stream",
          "name": "stderr",
          "text": [
            "100%|██████████| 79/79 [01:46<00:00,  1.35s/it]\n"
          ]
        },
        {
          "output_type": "stream",
          "name": "stdout",
          "text": [
            "Epoch 2/2, Loss: 0.17205181368887423\n",
            "Train Accuracy: 0.9331\n"
          ]
        },
        {
          "output_type": "stream",
          "name": "stderr",
          "text": [
            "100%|██████████| 8/8 [00:10<00:00,  1.29s/it]"
          ]
        },
        {
          "output_type": "stream",
          "name": "stdout",
          "text": [
            "Test Loss: 0.22460264229774476\n",
            "Test Accuracy: 0.926\n"
          ]
        },
        {
          "output_type": "stream",
          "name": "stderr",
          "text": [
            "\n"
          ]
        }
      ],
      "source": [
        "\n",
        "num_epochs = 2\n",
        "batch_size = 128\n",
        "max_length = 512\n",
        "\n",
        "\n",
        "optimizer = torch.optim.Adam(model.parameters(), lr=1e-3)\n",
        "train_accuracy_list = []\n",
        "test_accuracy_list = []\n",
        "train_loss_list = []\n",
        "test_loss_list = []\n",
        "\n",
        "for epoch in range(num_epochs):\n",
        "    train_loss = 0.0\n",
        "    train_accuracy = 0.0\n",
        "    model.train()\n",
        "    for batch in tqdm(range(0, len(train_texts), batch_size)):\n",
        "        input = train_texts[batch:batch+batch_size]\n",
        "        labels = train_labels[batch:batch+batch_size]\n",
        "\n",
        "        input = tokenizer(input, padding=True, truncation=True, max_length=max_length, return_tensors='pt')\n",
        "        labels = torch.tensor(labels)\n",
        "\n",
        "        input = input.to('cuda')\n",
        "        labels = labels.to('cuda')\n",
        "        logits = model(input)\n",
        "        loss = nn.CrossEntropyLoss()(logits, labels)\n",
        "\n",
        "        train_loss += loss.item() * len(labels)\n",
        "        train_accuracy += (logits.argmax(dim=1) == labels).sum().item()\n",
        "\n",
        "        loss.backward()\n",
        "        optimizer.step()\n",
        "        optimizer.zero_grad()\n",
        "\n",
        "    print(f\"Epoch {epoch+1}/{num_epochs}, Loss: {train_loss/len(train_texts)}\")\n",
        "    print(f\"Train Accuracy: {train_accuracy/len(train_texts)}\")\n",
        "    train_accuracy_list.append(train_accuracy/len(train_texts))\n",
        "    train_loss_list.append(train_loss/len(train_texts))\n",
        "\n",
        "    test_loss = 0.0\n",
        "    test_accuracy = 0.0\n",
        "    model.eval()\n",
        "    with torch.no_grad():\n",
        "        for batch in tqdm(range(0, len(test_texts), batch_size)):\n",
        "            input = test_texts[batch:batch+batch_size]\n",
        "            labels = test_labels[batch:batch+batch_size]\n",
        "            input = tokenizer(input, padding=True, truncation=True, max_length=max_length, return_tensors='pt')\n",
        "            labels = torch.tensor(labels)\n",
        "            input = input.to('cuda')\n",
        "            labels = labels.to('cuda')\n",
        "            logits = model(input)\n",
        "            loss = nn.CrossEntropyLoss()(logits, labels)\n",
        "            test_loss += loss.item() * len(labels)\n",
        "            test_accuracy += (logits.argmax(dim=1) == labels).sum().item()\n",
        "\n",
        "    print(f\"Test Loss: {test_loss/len(test_texts)}\")\n",
        "    print(f\"Test Accuracy: {test_accuracy/len(test_texts)}\")\n",
        "    test_accuracy_list.append(test_accuracy/len(test_texts))\n",
        "    test_loss_list.append(test_loss/len(test_texts))"
      ]
    },
    {
      "cell_type": "code",
      "execution_count": null,
      "metadata": {
        "colab": {
          "base_uri": "https://localhost:8080/",
          "height": 448
        },
        "id": "y68f2yMWjVJh",
        "outputId": "5c338276-8c83-4fb5-a177-0c959774e09d"
      },
      "outputs": [
        {
          "output_type": "execute_result",
          "data": {
            "text/plain": [
              "<matplotlib.legend.Legend at 0x78fc15e77580>"
            ]
          },
          "metadata": {},
          "execution_count": 28
        },
        {
          "output_type": "display_data",
          "data": {
            "text/plain": [
              "<Figure size 640x480 with 1 Axes>"
            ],
            "image/png": "[encoded data removed]"
          },
          "metadata": {}
        }
      ],
      "source": [
        "### plot the train and test accuracy\n",
        "from matplotlib import pyplot as plt\n",
        "plt.plot(train_accuracy_list, label='train_accuracy')\n",
        "plt.plot(test_accuracy_list, label='test_accuracy')\n",
        "plt.legend()"
      ]
    },
    {
      "cell_type": "markdown",
      "metadata": {
        "id": "0J5CihOgytL_"
      },
      "source": [
        "## LLM-based zero-shot classification\n",
        "\n",
        "Next, we are going to demo how to use LLM to do text classification without any training.\n",
        "\n",
        "Let's start with installing the package.\n",
        "\n",
        "llm-batch-helper (https://pypi.org/project/llm_batch_helper/) is a package that calling LLMs with parallelization, caching, and retry functionality."
      ]
    },
    {
      "cell_type": "code",
      "source": [
        "!pip install llm-batch-helper==0.3.2"
      ],
      "metadata": {
        "colab": {
          "base_uri": "https://localhost:8080/"
        },
        "id": "ExccjXW6aaxn",
        "outputId": "ae025071-8dbb-4e57-c5c8-e50d5eee3bb4"
      },
      "execution_count": null,
      "outputs": [
        {
          "output_type": "stream",
          "name": "stdout",
          "text": [
            "Collecting llm-batch-helper==0.3.2\n",
            "  Downloading llm_batch_helper-0.3.2-py3-none-any.whl.metadata (14 kB)\n",
            "Requirement already satisfied: httpx<2.0.0,>=0.24.0 in /usr/local/lib/python3.12/dist-packages (from llm-batch-helper==0.3.2) (0.28.1)\n",
            "Requirement already satisfied: openai<2.0.0,>=1.0.0 in /usr/local/lib/python3.12/dist-packages (from llm-batch-helper==0.3.2) (1.104.2)\n",
            "Requirement already satisfied: tenacity<9.0.0,>=8.0.0 in /usr/local/lib/python3.12/dist-packages (from llm-batch-helper==0.3.2) (8.5.0)\n",
            "Requirement already satisfied: tqdm<5.0.0,>=4.65.0 in /usr/local/lib/python3.12/dist-packages (from llm-batch-helper==0.3.2) (4.67.1)\n",
            "Requirement already satisfied: anyio in /usr/local/lib/python3.12/dist-packages (from httpx<2.0.0,>=0.24.0->llm-batch-helper==0.3.2) (4.10.0)\n",
            "Requirement already satisfied: certifi in /usr/local/lib/python3.12/dist-packages (from httpx<2.0.0,>=0.24.0->llm-batch-helper==0.3.2) (2025.8.3)\n",
            "Requirement already satisfied: httpcore==1.* in /usr/local/lib/python3.12/dist-packages (from httpx<2.0.0,>=0.24.0->llm-batch-helper==0.3.2) (1.0.9)\n",
            "Requirement already satisfied: idna in /usr/local/lib/python3.12/dist-packages (from httpx<2.0.0,>=0.24.0->llm-batch-helper==0.3.2) (3.10)\n",
            "Requirement already satisfied: h11>=0.16 in /usr/local/lib/python3.12/dist-packages (from httpcore==1.*->httpx<2.0.0,>=0.24.0->llm-batch-helper==0.3.2) (0.16.0)\n",
            "Requirement already satisfied: distro<2,>=1.7.0 in /usr/local/lib/python3.12/dist-packages (from openai<2.0.0,>=1.0.0->llm-batch-helper==0.3.2) (1.9.0)\n",
            "Requirement already satisfied: jiter<1,>=0.4.0 in /usr/local/lib/python3.12/dist-packages (from openai<2.0.0,>=1.0.0->llm-batch-helper==0.3.2) (0.10.0)\n",
            "Requirement already satisfied: pydantic<3,>=1.9.0 in /usr/local/lib/python3.12/dist-packages (from openai<2.0.0,>=1.0.0->llm-batch-helper==0.3.2) (2.11.7)\n",
            "Requirement already satisfied: sniffio in /usr/local/lib/python3.12/dist-packages (from openai<2.0.0,>=1.0.0->llm-batch-helper==0.3.2) (1.3.1)\n",
            "Requirement already satisfied: typing-extensions<5,>=4.11 in /usr/local/lib/python3.12/dist-packages (from openai<2.0.0,>=1.0.0->llm-batch-helper==0.3.2) (4.15.0)\n",
            "Requirement already satisfied: annotated-types>=0.6.0 in /usr/local/lib/python3.12/dist-packages (from pydantic<3,>=1.9.0->openai<2.0.0,>=1.0.0->llm-batch-helper==0.3.2) (0.7.0)\n",
            "Requirement already satisfied: pydantic-core==2.33.2 in /usr/local/lib/python3.12/dist-packages (from pydantic<3,>=1.9.0->openai<2.0.0,>=1.0.0->llm-batch-helper==0.3.2) (2.33.2)\n",
            "Requirement already satisfied: typing-inspection>=0.4.0 in /usr/local/lib/python3.12/dist-packages (from pydantic<3,>=1.9.0->openai<2.0.0,>=1.0.0->llm-batch-helper==0.3.2) (0.4.1)\n",
            "Downloading llm_batch_helper-0.3.2-py3-none-any.whl (17 kB)\n",
            "Installing collected packages: llm-batch-helper\n",
            "  Attempting uninstall: llm-batch-helper\n",
            "    Found existing installation: llm_batch_helper 0.3.1\n",
            "    Uninstalling llm_batch_helper-0.3.1:\n",
            "      Successfully uninstalled llm_batch_helper-0.3.1\n",
            "Successfully installed llm-batch-helper-0.3.2\n"
          ]
        }
      ]
    },
    {
      "cell_type": "markdown",
      "source": [
        "An example of using the llm_batch_helper package.\n",
        "\n",
        "Here we suggest the usage of OpenRouter for calling LLMs. OpenRouter provides a universal account for invoking various LLMs. Sometimes free tokens might be offered for state-of-the-art models (e.g., https://openrouter.ai/moonshotai/kimi-k2:free)."
      ],
      "metadata": {
        "id": "CJxWW0BOcRun"
      }
    },
    {
      "cell_type": "code",
      "execution_count": null,
      "metadata": {
        "colab": {
          "base_uri": "https://localhost:8080/"
        },
        "id": "2eoujZnOyaQy",
        "outputId": "ebea9dc1-4aa4-4ca1-e0e1-e9d36908a5cf"
      },
      "outputs": [
        {
          "output_type": "stream",
          "name": "stderr",
          "text": [
            "Classifying: 100%|██████████| 3/3 [00:04<00:00,  1.55s/it]"
          ]
        },
        {
          "output_type": "stream",
          "name": "stdout",
          "text": [
            "\n",
            "115049a298532be2f181edb03f766770: The capital of France is Paris.\n",
            "52cb6b5e4a038af1756708f98afb718a: 2 + 2 = 4.\n",
            "baa758cc1a9876b21fab4d9b07f03e9b: \"Hamlet\" was written by William Shakespeare. It is one of his tragedies, written around 1600–1601 and first published in 1603 (folio/ quartos thereafter).\n"
          ]
        },
        {
          "output_type": "stream",
          "name": "stderr",
          "text": [
            "\n"
          ]
        }
      ],
      "source": [
        "from llm_batch_helper import LLMConfig, process_prompts_batch  # docs show these symbols\n",
        "\n",
        "# Docs: async process_prompts_batch(prompts, config=..., provider=\"openai\", cache_dir=..., force=False)\n",
        "#       LLMConfig(model_name=..., system_instruction=..., max_concurrent_requests=..., **kwargs)\n",
        "# See: https://llm-batch-helper.readthedocs.io/en/latest/api.html\n",
        "\n",
        "### setup OpenRouter api key\n",
        "import os\n",
        "os.environ['OPENROUTER_API_KEY'] = \"\"\n",
        "\n",
        "\n",
        "\n",
        "prompts = [\n",
        "    \"What is the capital of France?\",\n",
        "    \"What is 2+2?\",\n",
        "    \"Who wrote 'Hamlet'?\"\n",
        "]\n",
        "cache_dir = 'llm_cache'\n",
        "\n",
        "config = LLMConfig(\n",
        "    model_name=\"gpt-5-mini\",\n",
        "    system_instruction=\"You are a helpful assistant.\",\n",
        "    temperature=1.0,                           # match deterministic-ish behavior\n",
        "    max_concurrent_requests=30,              # maximal number of paralleizing requests\n",
        "    max_retries=5,                           # maximal number of retries per request\n",
        "    # Pass through OpenAI-style extras via **kwargs supported by LLMConfig\n",
        "    seed=42\n",
        ")\n",
        "\n",
        "# Run batch; returns dict: {prompt_id: {\"response_text\": str, ...}}\n",
        "results = process_prompts_batch(\n",
        "    prompts=prompts,\n",
        "    provider=\"openrouter\",\n",
        "    config=config,\n",
        "    cache_dir=cache_dir,     # set to use caching; or None to disable\n",
        "    desc=\"Classifying\"\n",
        ")\n",
        "\n",
        "# Print results\n",
        "print()\n",
        "for prompt_id, response in results.items():\n",
        "    print(f\"{prompt_id}: {response['response_text']}\") #prompt_id is the hash of the prompt for cache identification"
      ]
    },
    {
      "cell_type": "markdown",
      "metadata": {
        "id": "5GXbwSElmBxu"
      },
      "source": [
        "Let's write a helper function to enumerate all texts and call OpenAI api to get the respones."
      ]
    },
    {
      "cell_type": "code",
      "execution_count": null,
      "metadata": {
        "id": "IUvwORCxuXSb"
      },
      "outputs": [],
      "source": [
        "import json\n",
        "from typing import List, Union\n",
        "\n",
        "def classify(texts: List[str], prompt: str):\n",
        "    \"\"\"\n",
        "    texts: list of inputs\n",
        "    prompt: template string containing {text}\n",
        "    max_concurrency: parallel requests via llm-batch-helper\n",
        "    cache_dir: optional on-disk cache directory (e.g., '.llm_cache')\n",
        "    \"\"\"\n",
        "    # Build prompts with stable IDs so results can be re-ordered reliably\n",
        "    prompts = [(str(i), prompt.format(text=t)) for i, t in enumerate(texts)] # here prompt_id is user-defined (prompt_id is str(i))\n",
        "\n",
        "    config = LLMConfig(\n",
        "        model_name=\"gpt-5-mini\",\n",
        "        system_instruction=\"You are a helpful assistant.\",\n",
        "        temperature=1.0,                           # match deterministic-ish behavior\n",
        "        max_concurrent_requests=30,              # maximal number of paralleizing requests\n",
        "        max_retries=5,                           # maximal number of retries per request\n",
        "        # Pass through OpenAI-style extras via **kwargs supported by LLMConfig\n",
        "        response_format={\"type\": \"json_object\"},\n",
        "        seed=42\n",
        "    )\n",
        "\n",
        "    # Run batch; returns dict: {prompt_id: {\"response_text\": str, ...}}\n",
        "    results = process_prompts_batch(\n",
        "        prompts=prompts,\n",
        "        provider=\"openrouter\",\n",
        "        config=config,\n",
        "        cache_dir='.llm_cache',     # set to use caching; or None to disable\n",
        "        desc=\"Classifying\"\n",
        "    )\n",
        "\n",
        "    # Restore original order and JSON-decode if possible\n",
        "    return results"
      ]
    },
    {
      "cell_type": "markdown",
      "metadata": {
        "id": "Php0la_BmYwy"
      },
      "source": [
        "### Problem 3\n",
        "\n",
        "\n",
        "Modify the code for Zero-shot LLM text classification. You may check the code in the [notebook](https://colab.research.google.com/drive/1ZLrXVNxq7V082NvHWp5vMoI8hxfi9Bpv?usp=sharing) from Lecture 2 as well.\n",
        "\n",
        "  \n",
        "\n",
        "1. [2 pts] Optimize the prompt as much as possible (e.g., by applying the chain of thought method discussed in the lecture). Run your optimized prompt with 1000 test samples. Report both the optimized prompt and the resulting accuracy."
      ]
    },
    {
      "cell_type": "markdown",
      "source": [
        "\n",
        "Here is a prompt example.\n",
        "\n",
        "For the JSON format output, you may check [here](https://platform.openai.com/docs/guides/structured-outputs/introduction) for a better way of handling structure output, but the following approach is more explicit.\n"
      ],
      "metadata": {
        "id": "meOUNyDczOsM"
      }
    },
    {
      "cell_type": "code",
      "execution_count": null,
      "metadata": {
        "id": "kGJaLm8l5pIt"
      },
      "outputs": [],
      "source": [
        "prompt = '''\n",
        "You are given a movie review text and you need to classify it into positive or negative.\n",
        "\n",
        "Your response should be a JSON object with the following format:\n",
        "{{\n",
        "    \"Sentiment\": \"Positive\" or \"Negative\"\n",
        "}}\n",
        "\n",
        "The text is below:\n",
        "Text: {text}\n",
        "'''"
      ]
    },
    {
      "cell_type": "code",
      "execution_count": null,
      "metadata": {
        "colab": {
          "base_uri": "https://localhost:8080/"
        },
        "id": "OsNIw9XemjQv",
        "outputId": "fb85c853-1b7b-43d8-a671-6c8bc951b887"
      },
      "outputs": [
        {
          "output_type": "stream",
          "name": "stderr",
          "text": [
            "Classifying: 100%|██████████| 10/10 [00:07<00:00,  1.33it/s]"
          ]
        },
        {
          "output_type": "stream",
          "name": "stdout",
          "text": [
            "{'0': {'response_text': '{\\n    \"Sentiment\": \"Negative\"\\n}', 'usage_details': {'prompt_token_count': 447, 'completion_token_count': 16, 'total_token_count': 463}}, '1': {'response_text': '{\\n    \"Sentiment\": \"Negative\"\\n}', 'usage_details': {'prompt_token_count': 922, 'completion_token_count': 80, 'total_token_count': 1002}}, '2': {'response_text': '{\\n    \"Sentiment\": \"Negative\"\\n}', 'usage_details': {'prompt_token_count': 229, 'completion_token_count': 80, 'total_token_count': 309}}, '3': {'response_text': '{\\n    \"Sentiment\": \"Negative\"\\n}', 'usage_details': {'prompt_token_count': 312, 'completion_token_count': 272, 'total_token_count': 584}}, '4': {'response_text': '{\\n    \"Sentiment\": \"Positive\"\\n}', 'usage_details': {'prompt_token_count': 304, 'completion_token_count': 16, 'total_token_count': 320}}, '5': {'response_text': '{\"Sentiment\": \"Negative\"}', 'usage_details': {'prompt_token_count': 157, 'completion_token_count': 77, 'total_token_count': 234}}, '6': {'response_text': '{\\n    \"Sentiment\": \"Positive\"\\n}', 'usage_details': {'prompt_token_count': 155, 'completion_token_count': 80, 'total_token_count': 235}}, '7': {'response_text': '{\"Sentiment\":\"Negative\"}', 'usage_details': {'prompt_token_count': 625, 'completion_token_count': 140, 'total_token_count': 765}}, '8': {'response_text': '{\\n    \"Sentiment\": \"Positive\"\\n}', 'usage_details': {'prompt_token_count': 265, 'completion_token_count': 80, 'total_token_count': 345}}, '9': {'response_text': '{\\n    \"Sentiment\": \"Positive\"\\n}', 'usage_details': {'prompt_token_count': 201, 'completion_token_count': 80, 'total_token_count': 281}}}\n"
          ]
        },
        {
          "output_type": "stream",
          "name": "stderr",
          "text": [
            "\n"
          ]
        }
      ],
      "source": [
        "results = classify(test_texts[:10], prompt) # You can first test/tune over 10 samples, and then run 1000 samples.\n",
        "\n",
        "\n",
        "# Print results\n",
        "print()\n",
        "for prompt_id, response in results.items():\n",
        "    print(f\"{prompt_id}: {response['response_text']}\") #prompt_id is the hash of the prompt for cache identification"
      ]
    },
    {
      "cell_type": "markdown",
      "metadata": {
        "id": "SvTQXvjIpTim"
      },
      "source": [
        "Take a look for the output: it is a desired dictionary"
      ]
    },
    {
      "cell_type": "markdown",
      "metadata": {
        "id": "NCVhetnZqFjY"
      },
      "source": [
        "Write a helper function to compute the accuracy score"
      ]
    },
    {
      "cell_type": "code",
      "execution_count": null,
      "metadata": {
        "id": "rpob3o9jl47W"
      },
      "outputs": [],
      "source": [
        "def accuracy_score(results, texts, labels):\n",
        "    accuracy = 0\n",
        "    for i, (prompt_id, result) in enumerate(results.items()):\n",
        "        classification = json.loads(result['response_text'])['Sentiment']\n",
        "        if classification == 'Positive' and labels[i] == 1 or classification == 'Negative' and labels[i] == 0:\n",
        "            accuracy += 1\n",
        "\n",
        "    return accuracy/len(results)"
      ]
    },
    {
      "cell_type": "code",
      "execution_count": null,
      "metadata": {
        "colab": {
          "base_uri": "https://localhost:8080/"
        },
        "id": "67Lw4K-fV_35",
        "outputId": "a140bfc7-f85f-4ce1-8b7d-615b905e8488"
      },
      "outputs": [
        {
          "output_type": "stream",
          "name": "stdout",
          "text": [
            "accuracy: 0.9\n"
          ]
        }
      ],
      "source": [
        "accuracy = accuracy_score(results, test_texts, test_labels)\n",
        "print(\"accuracy:\", accuracy)"
      ]
    }
  ],
  "metadata": {
    "colab": {
      "machine_shape": "hm",
      "provenance": [],
      "include_colab_link": true
    },
    "kernelspec": {
      "display_name": "Python 3",
      "name": "python3"
    },
    "language_info": {
      "codemirror_mode": {
        "name": "ipython",
        "version": 3
      },
      "file_extension": ".py",
      "mimetype": "text/x-python",
      "name": "python",
      "nbconvert_exporter": "python",
      "pygments_lexer": "ipython3",
      "version": "3.10.13"
    },
    "widgets": {
      "application/vnd.jupyter.widget-state+json": {
        "ee7154a580f54a559f686fb956d02312": {
          "model_module": "@jupyter-widgets/controls",
          "model_name": "HBoxModel",
          "model_module_version": "1.5.0",
          "state": {
            "_dom_classes": [],
            "_model_module": "@jupyter-widgets/controls",
            "_model_module_version": "1.5.0",
            "_model_name": "HBoxModel",
            "_view_count": null,
            "_view_module": "@jupyter-widgets/controls",
            "_view_module_version": "1.5.0",
            "_view_name": "HBoxView",
            "box_style": "",
            "children": [
              "IPY_MODEL_2e41ed7768934d80acdd14c5abfce386",
              "IPY_MODEL_0cd9958db36947d3b36a388e1dd8fdbb",
              "IPY_MODEL_92b6a78ec3d04b7b804a9a226ad36f8b"
            ],
            "layout": "IPY_MODEL_1221fc4992fa463397924380e2ce666a"
          }
        },
        "2e41ed7768934d80acdd14c5abfce386": {
          "model_module": "@jupyter-widgets/controls",
          "model_name": "HTMLModel",
          "model_module_version": "1.5.0",
          "state": {
            "_dom_classes": [],
            "_model_module": "@jupyter-widgets/controls",
            "_model_module_version": "1.5.0",
            "_model_name": "HTMLModel",
            "_view_count": null,
            "_view_module": "@jupyter-widgets/controls",
            "_view_module_version": "1.5.0",
            "_view_name": "HTMLView",
            "description": "",
            "description_tooltip": null,
            "layout": "IPY_MODEL_fa6280657dc44b28af71357de7fed445",
            "placeholder": "​",
            "style": "IPY_MODEL_d225ac32b58b41eeb08697df905a6090",
            "value": ""
          }
        },
        "0cd9958db36947d3b36a388e1dd8fdbb": {
          "model_module": "@jupyter-widgets/controls",
          "model_name": "FloatProgressModel",
          "model_module_version": "1.5.0",
          "state": {
            "_dom_classes": [],
            "_model_module": "@jupyter-widgets/controls",
            "_model_module_version": "1.5.0",
            "_model_name": "FloatProgressModel",
            "_view_count": null,
            "_view_module": "@jupyter-widgets/controls",
            "_view_module_version": "1.5.0",
            "_view_name": "ProgressView",
            "bar_style": "success",
            "description": "",
            "description_tooltip": null,
            "layout": "IPY_MODEL_f13c88a7d69743df91c5cc4574566efb",
            "max": 1,
            "min": 0,
            "orientation": "horizontal",
            "style": "IPY_MODEL_440e4046f55044c2a08d8b815a3ef3c2",
            "value": 0
          }
        },
        "92b6a78ec3d04b7b804a9a226ad36f8b": {
          "model_module": "@jupyter-widgets/controls",
          "model_name": "HTMLModel",
          "model_module_version": "1.5.0",
          "state": {
            "_dom_classes": [],
            "_model_module": "@jupyter-widgets/controls",
            "_model_module_version": "1.5.0",
            "_model_name": "HTMLModel",
            "_view_count": null,
            "_view_module": "@jupyter-widgets/controls",
            "_view_module_version": "1.5.0",
            "_view_name": "HTMLView",
            "description": "",
            "description_tooltip": null,
            "layout": "IPY_MODEL_06ef18563fb949dfbe7362ac42c5fcd2",
            "placeholder": "​",
            "style": "IPY_MODEL_a72ac9855d5e4292a939d4ed3c0e44e6",
            "value": " 0/0 [00:00&lt;?, ?it/s]"
          }
        },
        "1221fc4992fa463397924380e2ce666a": {
          "model_module": "@jupyter-widgets/base",
          "model_name": "LayoutModel",
          "model_module_version": "1.2.0",
          "state": {
            "_model_module": "@jupyter-widgets/base",
            "_model_module_version": "1.2.0",
            "_model_name": "LayoutModel",
            "_view_count": null,
            "_view_module": "@jupyter-widgets/base",
            "_view_module_version": "1.2.0",
            "_view_name": "LayoutView",
            "align_content": null,
            "align_items": null,
            "align_self": null,
            "border": null,
            "bottom": null,
            "display": null,
            "flex": null,
            "flex_flow": null,
            "grid_area": null,
            "grid_auto_columns": null,
            "grid_auto_flow": null,
            "grid_auto_rows": null,
            "grid_column": null,
            "grid_gap": null,
            "grid_row": null,
            "grid_template_areas": null,
            "grid_template_columns": null,
            "grid_template_rows": null,
            "height": null,
            "justify_content": null,
            "justify_items": null,
            "left": null,
            "margin": null,
            "max_height": null,
            "max_width": null,
            "min_height": null,
            "min_width": null,
            "object_fit": null,
            "object_position": null,
            "order": null,
            "overflow": null,
            "overflow_x": null,
            "overflow_y": null,
            "padding": null,
            "right": null,
            "top": null,
            "visibility": null,
            "width": null
          }
        },
        "fa6280657dc44b28af71357de7fed445": {
          "model_module": "@jupyter-widgets/base",
          "model_name": "LayoutModel",
          "model_module_version": "1.2.0",
          "state": {
            "_model_module": "@jupyter-widgets/base",
            "_model_module_version": "1.2.0",
            "_model_name": "LayoutModel",
            "_view_count": null,
            "_view_module": "@jupyter-widgets/base",
            "_view_module_version": "1.2.0",
            "_view_name": "LayoutView",
            "align_content": null,
            "align_items": null,
            "align_self": null,
            "border": null,
            "bottom": null,
            "display": null,
            "flex": null,
            "flex_flow": null,
            "grid_area": null,
            "grid_auto_columns": null,
            "grid_auto_flow": null,
            "grid_auto_rows": null,
            "grid_column": null,
            "grid_gap": null,
            "grid_row": null,
            "grid_template_areas": null,
            "grid_template_columns": null,
            "grid_template_rows": null,
            "height": null,
            "justify_content": null,
            "justify_items": null,
            "left": null,
            "margin": null,
            "max_height": null,
            "max_width": null,
            "min_height": null,
            "min_width": null,
            "object_fit": null,
            "object_position": null,
            "order": null,
            "overflow": null,
            "overflow_x": null,
            "overflow_y": null,
            "padding": null,
            "right": null,
            "top": null,
            "visibility": null,
            "width": null
          }
        },
        "d225ac32b58b41eeb08697df905a6090": {
          "model_module": "@jupyter-widgets/controls",
          "model_name": "DescriptionStyleModel",
          "model_module_version": "1.5.0",
          "state": {
            "_model_module": "@jupyter-widgets/controls",
            "_model_module_version": "1.5.0",
            "_model_name": "DescriptionStyleModel",
            "_view_count": null,
            "_view_module": "@jupyter-widgets/base",
            "_view_module_version": "1.2.0",
            "_view_name": "StyleView",
            "description_width": ""
          }
        },
        "f13c88a7d69743df91c5cc4574566efb": {
          "model_module": "@jupyter-widgets/base",
          "model_name": "LayoutModel",
          "model_module_version": "1.2.0",
          "state": {
            "_model_module": "@jupyter-widgets/base",
            "_model_module_version": "1.2.0",
            "_model_name": "LayoutModel",
            "_view_count": null,
            "_view_module": "@jupyter-widgets/base",
            "_view_module_version": "1.2.0",
            "_view_name": "LayoutView",
            "align_content": null,
            "align_items": null,
            "align_self": null,
            "border": null,
            "bottom": null,
            "display": null,
            "flex": null,
            "flex_flow": null,
            "grid_area": null,
            "grid_auto_columns": null,
            "grid_auto_flow": null,
            "grid_auto_rows": null,
            "grid_column": null,
            "grid_gap": null,
            "grid_row": null,
            "grid_template_areas": null,
            "grid_template_columns": null,
            "grid_template_rows": null,
            "height": null,
            "justify_content": null,
            "justify_items": null,
            "left": null,
            "margin": null,
            "max_height": null,
            "max_width": null,
            "min_height": null,
            "min_width": null,
            "object_fit": null,
            "object_position": null,
            "order": null,
            "overflow": null,
            "overflow_x": null,
            "overflow_y": null,
            "padding": null,
            "right": null,
            "top": null,
            "visibility": null,
            "width": "20px"
          }
        },
        "440e4046f55044c2a08d8b815a3ef3c2": {
          "model_module": "@jupyter-widgets/controls",
          "model_name": "ProgressStyleModel",
          "model_module_version": "1.5.0",
          "state": {
            "_model_module": "@jupyter-widgets/controls",
            "_model_module_version": "1.5.0",
            "_model_name": "ProgressStyleModel",
            "_view_count": null,
            "_view_module": "@jupyter-widgets/base",
            "_view_module_version": "1.2.0",
            "_view_name": "StyleView",
            "bar_color": null,
            "description_width": ""
          }
        },
        "06ef18563fb949dfbe7362ac42c5fcd2": {
          "model_module": "@jupyter-widgets/base",
          "model_name": "LayoutModel",
          "model_module_version": "1.2.0",
          "state": {
            "_model_module": "@jupyter-widgets/base",
            "_model_module_version": "1.2.0",
            "_model_name": "LayoutModel",
            "_view_count": null,
            "_view_module": "@jupyter-widgets/base",
            "_view_module_version": "1.2.0",
            "_view_name": "LayoutView",
            "align_content": null,
            "align_items": null,
            "align_self": null,
            "border": null,
            "bottom": null,
            "display": null,
            "flex": null,
            "flex_flow": null,
            "grid_area": null,
            "grid_auto_columns": null,
            "grid_auto_flow": null,
            "grid_auto_rows": null,
            "grid_column": null,
            "grid_gap": null,
            "grid_row": null,
            "grid_template_areas": null,
            "grid_template_columns": null,
            "grid_template_rows": null,
            "height": null,
            "justify_content": null,
            "justify_items": null,
            "left": null,
            "margin": null,
            "max_height": null,
            "max_width": null,
            "min_height": null,
            "min_width": null,
            "object_fit": null,
            "object_position": null,
            "order": null,
            "overflow": null,
            "overflow_x": null,
            "overflow_y": null,
            "padding": null,
            "right": null,
            "top": null,
            "visibility": null,
            "width": null
          }
        },
        "a72ac9855d5e4292a939d4ed3c0e44e6": {
          "model_module": "@jupyter-widgets/controls",
          "model_name": "DescriptionStyleModel",
          "model_module_version": "1.5.0",
          "state": {
            "_model_module": "@jupyter-widgets/controls",
            "_model_module_version": "1.5.0",
            "_model_name": "DescriptionStyleModel",
            "_view_count": null,
            "_view_module": "@jupyter-widgets/base",
            "_view_module_version": "1.2.0",
            "_view_name": "StyleView",
            "description_width": ""
          }
        },
        "6197dda3abd8493180287a4773651f90": {
          "model_module": "@jupyter-widgets/controls",
          "model_name": "HBoxModel",
          "model_module_version": "1.5.0",
          "state": {
            "_dom_classes": [],
            "_model_module": "@jupyter-widgets/controls",
            "_model_module_version": "1.5.0",
            "_model_name": "HBoxModel",
            "_view_count": null,
            "_view_module": "@jupyter-widgets/controls",
            "_view_module_version": "1.5.0",
            "_view_name": "HBoxView",
            "box_style": "",
            "children": [
              "IPY_MODEL_64864e77695a449d9c561f42373aa6e1",
              "IPY_MODEL_2f249e61aac34b4ab98a84efd57420ac",
              "IPY_MODEL_1a75e1a5cc7444478c1b21ad94e52dee"
            ],
            "layout": "IPY_MODEL_06e6e8036bfb4067aa793278f252ab99"
          }
        },
        "64864e77695a449d9c561f42373aa6e1": {
          "model_module": "@jupyter-widgets/controls",
          "model_name": "HTMLModel",
          "model_module_version": "1.5.0",
          "state": {
            "_dom_classes": [],
            "_model_module": "@jupyter-widgets/controls",
            "_model_module_version": "1.5.0",
            "_model_name": "HTMLModel",
            "_view_count": null,
            "_view_module": "@jupyter-widgets/controls",
            "_view_module_version": "1.5.0",
            "_view_name": "HTMLView",
            "description": "",
            "description_tooltip": null,
            "layout": "IPY_MODEL_ff5ff1b5ad7e46008f25dd9f02ce900b",
            "placeholder": "​",
            "style": "IPY_MODEL_e6be28126550466aa0917acbcf52fe8c",
            "value": "tokenizer_config.json: 100%"
          }
        },
        "2f249e61aac34b4ab98a84efd57420ac": {
          "model_module": "@jupyter-widgets/controls",
          "model_name": "FloatProgressModel",
          "model_module_version": "1.5.0",
          "state": {
            "_dom_classes": [],
            "_model_module": "@jupyter-widgets/controls",
            "_model_module_version": "1.5.0",
            "_model_name": "FloatProgressModel",
            "_view_count": null,
            "_view_module": "@jupyter-widgets/controls",
            "_view_module_version": "1.5.0",
            "_view_name": "ProgressView",
            "bar_style": "success",
            "description": "",
            "description_tooltip": null,
            "layout": "IPY_MODEL_7a1726ba4e204f7ea232de1977699e6e",
            "max": 48,
            "min": 0,
            "orientation": "horizontal",
            "style": "IPY_MODEL_ad1f136351694d519c1e05d6e4df446f",
            "value": 48
          }
        },
        "1a75e1a5cc7444478c1b21ad94e52dee": {
          "model_module": "@jupyter-widgets/controls",
          "model_name": "HTMLModel",
          "model_module_version": "1.5.0",
          "state": {
            "_dom_classes": [],
            "_model_module": "@jupyter-widgets/controls",
            "_model_module_version": "1.5.0",
            "_model_name": "HTMLModel",
            "_view_count": null,
            "_view_module": "@jupyter-widgets/controls",
            "_view_module_version": "1.5.0",
            "_view_name": "HTMLView",
            "description": "",
            "description_tooltip": null,
            "layout": "IPY_MODEL_c2c3c4ac0c0c4cb7a7588614dfb8610c",
            "placeholder": "​",
            "style": "IPY_MODEL_f454648b1c3a443582c1499c02828ccc",
            "value": " 48.0/48.0 [00:00&lt;00:00, 3.66kB/s]"
          }
        },
        "06e6e8036bfb4067aa793278f252ab99": {
          "model_module": "@jupyter-widgets/base",
          "model_name": "LayoutModel",
          "model_module_version": "1.2.0",
          "state": {
            "_model_module": "@jupyter-widgets/base",
            "_model_module_version": "1.2.0",
            "_model_name": "LayoutModel",
            "_view_count": null,
            "_view_module": "@jupyter-widgets/base",
            "_view_module_version": "1.2.0",
            "_view_name": "LayoutView",
            "align_content": null,
            "align_items": null,
            "align_self": null,
            "border": null,
            "bottom": null,
            "display": null,
            "flex": null,
            "flex_flow": null,
            "grid_area": null,
            "grid_auto_columns": null,
            "grid_auto_flow": null,
            "grid_auto_rows": null,
            "grid_column": null,
            "grid_gap": null,
            "grid_row": null,
            "grid_template_areas": null,
            "grid_template_columns": null,
            "grid_template_rows": null,
            "height": null,
            "justify_content": null,
            "justify_items": null,
            "left": null,
            "margin": null,
            "max_height": null,
            "max_width": null,
            "min_height": null,
            "min_width": null,
            "object_fit": null,
            "object_position": null,
            "order": null,
            "overflow": null,
            "overflow_x": null,
            "overflow_y": null,
            "padding": null,
            "right": null,
            "top": null,
            "visibility": null,
            "width": null
          }
        },
        "ff5ff1b5ad7e46008f25dd9f02ce900b": {
          "model_module": "@jupyter-widgets/base",
          "model_name": "LayoutModel",
          "model_module_version": "1.2.0",
          "state": {
            "_model_module": "@jupyter-widgets/base",
            "_model_module_version": "1.2.0",
            "_model_name": "LayoutModel",
            "_view_count": null,
            "_view_module": "@jupyter-widgets/base",
            "_view_module_version": "1.2.0",
            "_view_name": "LayoutView",
            "align_content": null,
            "align_items": null,
            "align_self": null,
            "border": null,
            "bottom": null,
            "display": null,
            "flex": null,
            "flex_flow": null,
            "grid_area": null,
            "grid_auto_columns": null,
            "grid_auto_flow": null,
            "grid_auto_rows": null,
            "grid_column": null,
            "grid_gap": null,
            "grid_row": null,
            "grid_template_areas": null,
            "grid_template_columns": null,
            "grid_template_rows": null,
            "height": null,
            "justify_content": null,
            "justify_items": null,
            "left": null,
            "margin": null,
            "max_height": null,
            "max_width": null,
            "min_height": null,
            "min_width": null,
            "object_fit": null,
            "object_position": null,
            "order": null,
            "overflow": null,
            "overflow_x": null,
            "overflow_y": null,
            "padding": null,
            "right": null,
            "top": null,
            "visibility": null,
            "width": null
          }
        },
        "e6be28126550466aa0917acbcf52fe8c": {
          "model_module": "@jupyter-widgets/controls",
          "model_name": "DescriptionStyleModel",
          "model_module_version": "1.5.0",
          "state": {
            "_model_module": "@jupyter-widgets/controls",
            "_model_module_version": "1.5.0",
            "_model_name": "DescriptionStyleModel",
            "_view_count": null,
            "_view_module": "@jupyter-widgets/base",
            "_view_module_version": "1.2.0",
            "_view_name": "StyleView",
            "description_width": ""
          }
        },
        "7a1726ba4e204f7ea232de1977699e6e": {
          "model_module": "@jupyter-widgets/base",
          "model_name": "LayoutModel",
          "model_module_version": "1.2.0",
          "state": {
            "_model_module": "@jupyter-widgets/base",
            "_model_module_version": "1.2.0",
            "_model_name": "LayoutModel",
            "_view_count": null,
            "_view_module": "@jupyter-widgets/base",
            "_view_module_version": "1.2.0",
            "_view_name": "LayoutView",
            "align_content": null,
            "align_items": null,
            "align_self": null,
            "border": null,
            "bottom": null,
            "display": null,
            "flex": null,
            "flex_flow": null,
            "grid_area": null,
            "grid_auto_columns": null,
            "grid_auto_flow": null,
            "grid_auto_rows": null,
            "grid_column": null,
            "grid_gap": null,
            "grid_row": null,
            "grid_template_areas": null,
            "grid_template_columns": null,
            "grid_template_rows": null,
            "height": null,
            "justify_content": null,
            "justify_items": null,
            "left": null,
            "margin": null,
            "max_height": null,
            "max_width": null,
            "min_height": null,
            "min_width": null,
            "object_fit": null,
            "object_position": null,
            "order": null,
            "overflow": null,
            "overflow_x": null,
            "overflow_y": null,
            "padding": null,
            "right": null,
            "top": null,
            "visibility": null,
            "width": null
          }
        },
        "ad1f136351694d519c1e05d6e4df446f": {
          "model_module": "@jupyter-widgets/controls",
          "model_name": "ProgressStyleModel",
          "model_module_version": "1.5.0",
          "state": {
            "_model_module": "@jupyter-widgets/controls",
            "_model_module_version": "1.5.0",
            "_model_name": "ProgressStyleModel",
            "_view_count": null,
            "_view_module": "@jupyter-widgets/base",
            "_view_module_version": "1.2.0",
            "_view_name": "StyleView",
            "bar_color": null,
            "description_width": ""
          }
        },
        "c2c3c4ac0c0c4cb7a7588614dfb8610c": {
          "model_module": "@jupyter-widgets/base",
          "model_name": "LayoutModel",
          "model_module_version": "1.2.0",
          "state": {
            "_model_module": "@jupyter-widgets/base",
            "_model_module_version": "1.2.0",
            "_model_name": "LayoutModel",
            "_view_count": null,
            "_view_module": "@jupyter-widgets/base",
            "_view_module_version": "1.2.0",
            "_view_name": "LayoutView",
            "align_content": null,
            "align_items": null,
            "align_self": null,
            "border": null,
            "bottom": null,
            "display": null,
            "flex": null,
            "flex_flow": null,
            "grid_area": null,
            "grid_auto_columns": null,
            "grid_auto_flow": null,
            "grid_auto_rows": null,
            "grid_column": null,
            "grid_gap": null,
            "grid_row": null,
            "grid_template_areas": null,
            "grid_template_columns": null,
            "grid_template_rows": null,
            "height": null,
            "justify_content": null,
            "justify_items": null,
            "left": null,
            "margin": null,
            "max_height": null,
            "max_width": null,
            "min_height": null,
            "min_width": null,
            "object_fit": null,
            "object_position": null,
            "order": null,
            "overflow": null,
            "overflow_x": null,
            "overflow_y": null,
            "padding": null,
            "right": null,
            "top": null,
            "visibility": null,
            "width": null
          }
        },
        "f454648b1c3a443582c1499c02828ccc": {
          "model_module": "@jupyter-widgets/controls",
          "model_name": "DescriptionStyleModel",
          "model_module_version": "1.5.0",
          "state": {
            "_model_module": "@jupyter-widgets/controls",
            "_model_module_version": "1.5.0",
            "_model_name": "DescriptionStyleModel",
            "_view_count": null,
            "_view_module": "@jupyter-widgets/base",
            "_view_module_version": "1.2.0",
            "_view_name": "StyleView",
            "description_width": ""
          }
        },
        "14398e92396d47b196a28774fb2d286a": {
          "model_module": "@jupyter-widgets/controls",
          "model_name": "HBoxModel",
          "model_module_version": "1.5.0",
          "state": {
            "_dom_classes": [],
            "_model_module": "@jupyter-widgets/controls",
            "_model_module_version": "1.5.0",
            "_model_name": "HBoxModel",
            "_view_count": null,
            "_view_module": "@jupyter-widgets/controls",
            "_view_module_version": "1.5.0",
            "_view_name": "HBoxView",
            "box_style": "",
            "children": [
              "IPY_MODEL_510ffa625bcc42f484ca4a0f56fb42b2",
              "IPY_MODEL_00e5526dc135428f97eba29b6af35201",
              "IPY_MODEL_292029458a244d5f9c15ca507fc89957"
            ],
            "layout": "IPY_MODEL_adf971a9224b40aab8b530ff1fdf522d"
          }
        },
        "510ffa625bcc42f484ca4a0f56fb42b2": {
          "model_module": "@jupyter-widgets/controls",
          "model_name": "HTMLModel",
          "model_module_version": "1.5.0",
          "state": {
            "_dom_classes": [],
            "_model_module": "@jupyter-widgets/controls",
            "_model_module_version": "1.5.0",
            "_model_name": "HTMLModel",
            "_view_count": null,
            "_view_module": "@jupyter-widgets/controls",
            "_view_module_version": "1.5.0",
            "_view_name": "HTMLView",
            "description": "",
            "description_tooltip": null,
            "layout": "IPY_MODEL_5f5d341579fb466aa266536155bc6bda",
            "placeholder": "​",
            "style": "IPY_MODEL_c1d3d3096803446cb428ffaaf7bc532f",
            "value": "config.json: 100%"
          }
        },
        "00e5526dc135428f97eba29b6af35201": {
          "model_module": "@jupyter-widgets/controls",
          "model_name": "FloatProgressModel",
          "model_module_version": "1.5.0",
          "state": {
            "_dom_classes": [],
            "_model_module": "@jupyter-widgets/controls",
            "_model_module_version": "1.5.0",
            "_model_name": "FloatProgressModel",
            "_view_count": null,
            "_view_module": "@jupyter-widgets/controls",
            "_view_module_version": "1.5.0",
            "_view_name": "ProgressView",
            "bar_style": "success",
            "description": "",
            "description_tooltip": null,
            "layout": "IPY_MODEL_d4e2fb27e6dd4f85980556f327a65843",
            "max": 570,
            "min": 0,
            "orientation": "horizontal",
            "style": "IPY_MODEL_aa091f35726243d3bd8a9fad11a717c9",
            "value": 570
          }
        },
        "292029458a244d5f9c15ca507fc89957": {
          "model_module": "@jupyter-widgets/controls",
          "model_name": "HTMLModel",
          "model_module_version": "1.5.0",
          "state": {
            "_dom_classes": [],
            "_model_module": "@jupyter-widgets/controls",
            "_model_module_version": "1.5.0",
            "_model_name": "HTMLModel",
            "_view_count": null,
            "_view_module": "@jupyter-widgets/controls",
            "_view_module_version": "1.5.0",
            "_view_name": "HTMLView",
            "description": "",
            "description_tooltip": null,
            "layout": "IPY_MODEL_a6a19e0b2212417dbad7ca2a4214ad71",
            "placeholder": "​",
            "style": "IPY_MODEL_3c8a878472ac491ea09768f994304cda",
            "value": " 570/570 [00:00&lt;00:00, 43.0kB/s]"
          }
        },
        "adf971a9224b40aab8b530ff1fdf522d": {
          "model_module": "@jupyter-widgets/base",
          "model_name": "LayoutModel",
          "model_module_version": "1.2.0",
          "state": {
            "_model_module": "@jupyter-widgets/base",
            "_model_module_version": "1.2.0",
            "_model_name": "LayoutModel",
            "_view_count": null,
            "_view_module": "@jupyter-widgets/base",
            "_view_module_version": "1.2.0",
            "_view_name": "LayoutView",
            "align_content": null,
            "align_items": null,
            "align_self": null,
            "border": null,
            "bottom": null,
            "display": null,
            "flex": null,
            "flex_flow": null,
            "grid_area": null,
            "grid_auto_columns": null,
            "grid_auto_flow": null,
            "grid_auto_rows": null,
            "grid_column": null,
            "grid_gap": null,
            "grid_row": null,
            "grid_template_areas": null,
            "grid_template_columns": null,
            "grid_template_rows": null,
            "height": null,
            "justify_content": null,
            "justify_items": null,
            "left": null,
            "margin": null,
            "max_height": null,
            "max_width": null,
            "min_height": null,
            "min_width": null,
            "object_fit": null,
            "object_position": null,
            "order": null,
            "overflow": null,
            "overflow_x": null,
            "overflow_y": null,
            "padding": null,
            "right": null,
            "top": null,
            "visibility": null,
            "width": null
          }
        },
        "5f5d341579fb466aa266536155bc6bda": {
          "model_module": "@jupyter-widgets/base",
          "model_name": "LayoutModel",
          "model_module_version": "1.2.0",
          "state": {
            "_model_module": "@jupyter-widgets/base",
            "_model_module_version": "1.2.0",
            "_model_name": "LayoutModel",
            "_view_count": null,
            "_view_module": "@jupyter-widgets/base",
            "_view_module_version": "1.2.0",
            "_view_name": "LayoutView",
            "align_content": null,
            "align_items": null,
            "align_self": null,
            "border": null,
            "bottom": null,
            "display": null,
            "flex": null,
            "flex_flow": null,
            "grid_area": null,
            "grid_auto_columns": null,
            "grid_auto_flow": null,
            "grid_auto_rows": null,
            "grid_column": null,
            "grid_gap": null,
            "grid_row": null,
            "grid_template_areas": null,
            "grid_template_columns": null,
            "grid_template_rows": null,
            "height": null,
            "justify_content": null,
            "justify_items": null,
            "left": null,
            "margin": null,
            "max_height": null,
            "max_width": null,
            "min_height": null,
            "min_width": null,
            "object_fit": null,
            "object_position": null,
            "order": null,
            "overflow": null,
            "overflow_x": null,
            "overflow_y": null,
            "padding": null,
            "right": null,
            "top": null,
            "visibility": null,
            "width": null
          }
        },
        "c1d3d3096803446cb428ffaaf7bc532f": {
          "model_module": "@jupyter-widgets/controls",
          "model_name": "DescriptionStyleModel",
          "model_module_version": "1.5.0",
          "state": {
            "_model_module": "@jupyter-widgets/controls",
            "_model_module_version": "1.5.0",
            "_model_name": "DescriptionStyleModel",
            "_view_count": null,
            "_view_module": "@jupyter-widgets/base",
            "_view_module_version": "1.2.0",
            "_view_name": "StyleView",
            "description_width": ""
          }
        },
        "d4e2fb27e6dd4f85980556f327a65843": {
          "model_module": "@jupyter-widgets/base",
          "model_name": "LayoutModel",
          "model_module_version": "1.2.0",
          "state": {
            "_model_module": "@jupyter-widgets/base",
            "_model_module_version": "1.2.0",
            "_model_name": "LayoutModel",
            "_view_count": null,
            "_view_module": "@jupyter-widgets/base",
            "_view_module_version": "1.2.0",
            "_view_name": "LayoutView",
            "align_content": null,
            "align_items": null,
            "align_self": null,
            "border": null,
            "bottom": null,
            "display": null,
            "flex": null,
            "flex_flow": null,
            "grid_area": null,
            "grid_auto_columns": null,
            "grid_auto_flow": null,
            "grid_auto_rows": null,
            "grid_column": null,
            "grid_gap": null,
            "grid_row": null,
            "grid_template_areas": null,
            "grid_template_columns": null,
            "grid_template_rows": null,
            "height": null,
            "justify_content": null,
            "justify_items": null,
            "left": null,
            "margin": null,
            "max_height": null,
            "max_width": null,
            "min_height": null,
            "min_width": null,
            "object_fit": null,
            "object_position": null,
            "order": null,
            "overflow": null,
            "overflow_x": null,
            "overflow_y": null,
            "padding": null,
            "right": null,
            "top": null,
            "visibility": null,
            "width": null
          }
        },
        "aa091f35726243d3bd8a9fad11a717c9": {
          "model_module": "@jupyter-widgets/controls",
          "model_name": "ProgressStyleModel",
          "model_module_version": "1.5.0",
          "state": {
            "_model_module": "@jupyter-widgets/controls",
            "_model_module_version": "1.5.0",
            "_model_name": "ProgressStyleModel",
            "_view_count": null,
            "_view_module": "@jupyter-widgets/base",
            "_view_module_version": "1.2.0",
            "_view_name": "StyleView",
            "bar_color": null,
            "description_width": ""
          }
        },
        "a6a19e0b2212417dbad7ca2a4214ad71": {
          "model_module": "@jupyter-widgets/base",
          "model_name": "LayoutModel",
          "model_module_version": "1.2.0",
          "state": {
            "_model_module": "@jupyter-widgets/base",
            "_model_module_version": "1.2.0",
            "_model_name": "LayoutModel",
            "_view_count": null,
            "_view_module": "@jupyter-widgets/base",
            "_view_module_version": "1.2.0",
            "_view_name": "LayoutView",
            "align_content": null,
            "align_items": null,
            "align_self": null,
            "border": null,
            "bottom": null,
            "display": null,
            "flex": null,
            "flex_flow": null,
            "grid_area": null,
            "grid_auto_columns": null,
            "grid_auto_flow": null,
            "grid_auto_rows": null,
            "grid_column": null,
            "grid_gap": null,
            "grid_row": null,
            "grid_template_areas": null,
            "grid_template_columns": null,
            "grid_template_rows": null,
            "height": null,
            "justify_content": null,
            "justify_items": null,
            "left": null,
            "margin": null,
            "max_height": null,
            "max_width": null,
            "min_height": null,
            "min_width": null,
            "object_fit": null,
            "object_position": null,
            "order": null,
            "overflow": null,
            "overflow_x": null,
            "overflow_y": null,
            "padding": null,
            "right": null,
            "top": null,
            "visibility": null,
            "width": null
          }
        },
        "3c8a878472ac491ea09768f994304cda": {
          "model_module": "@jupyter-widgets/controls",
          "model_name": "DescriptionStyleModel",
          "model_module_version": "1.5.0",
          "state": {
            "_model_module": "@jupyter-widgets/controls",
            "_model_module_version": "1.5.0",
            "_model_name": "DescriptionStyleModel",
            "_view_count": null,
            "_view_module": "@jupyter-widgets/base",
            "_view_module_version": "1.2.0",
            "_view_name": "StyleView",
            "description_width": ""
          }
        },
        "7249389a2f424616bc617976ad0d2d9e": {
          "model_module": "@jupyter-widgets/controls",
          "model_name": "HBoxModel",
          "model_module_version": "1.5.0",
          "state": {
            "_dom_classes": [],
            "_model_module": "@jupyter-widgets/controls",
            "_model_module_version": "1.5.0",
            "_model_name": "HBoxModel",
            "_view_count": null,
            "_view_module": "@jupyter-widgets/controls",
            "_view_module_version": "1.5.0",
            "_view_name": "HBoxView",
            "box_style": "",
            "children": [
              "IPY_MODEL_16f9520375564fb09efc4a2b6f4a4fcf",
              "IPY_MODEL_1da375cb300f48e58f41629f3d130b5f",
              "IPY_MODEL_4e01048164a649bb9742da1a764d4430"
            ],
            "layout": "IPY_MODEL_20b87d9e20104070ab5997a81b1edb26"
          }
        },
        "16f9520375564fb09efc4a2b6f4a4fcf": {
          "model_module": "@jupyter-widgets/controls",
          "model_name": "HTMLModel",
          "model_module_version": "1.5.0",
          "state": {
            "_dom_classes": [],
            "_model_module": "@jupyter-widgets/controls",
            "_model_module_version": "1.5.0",
            "_model_name": "HTMLModel",
            "_view_count": null,
            "_view_module": "@jupyter-widgets/controls",
            "_view_module_version": "1.5.0",
            "_view_name": "HTMLView",
            "description": "",
            "description_tooltip": null,
            "layout": "IPY_MODEL_b8169cc961464d4d981e88e25ffd8694",
            "placeholder": "​",
            "style": "IPY_MODEL_90a3da84f39344a1b457543063737f6d",
            "value": "vocab.txt: 100%"
          }
        },
        "1da375cb300f48e58f41629f3d130b5f": {
          "model_module": "@jupyter-widgets/controls",
          "model_name": "FloatProgressModel",
          "model_module_version": "1.5.0",
          "state": {
            "_dom_classes": [],
            "_model_module": "@jupyter-widgets/controls",
            "_model_module_version": "1.5.0",
            "_model_name": "FloatProgressModel",
            "_view_count": null,
            "_view_module": "@jupyter-widgets/controls",
            "_view_module_version": "1.5.0",
            "_view_name": "ProgressView",
            "bar_style": "success",
            "description": "",
            "description_tooltip": null,
            "layout": "IPY_MODEL_1c12a77824ca4d73beb0c687a2fe248b",
            "max": 231508,
            "min": 0,
            "orientation": "horizontal",
            "style": "IPY_MODEL_be568f3c696d411c909fafd100c1a3bf",
            "value": 231508
          }
        },
        "4e01048164a649bb9742da1a764d4430": {
          "model_module": "@jupyter-widgets/controls",
          "model_name": "HTMLModel",
          "model_module_version": "1.5.0",
          "state": {
            "_dom_classes": [],
            "_model_module": "@jupyter-widgets/controls",
            "_model_module_version": "1.5.0",
            "_model_name": "HTMLModel",
            "_view_count": null,
            "_view_module": "@jupyter-widgets/controls",
            "_view_module_version": "1.5.0",
            "_view_name": "HTMLView",
            "description": "",
            "description_tooltip": null,
            "layout": "IPY_MODEL_8c21ef54753848c9beab0a1624dc596a",
            "placeholder": "​",
            "style": "IPY_MODEL_04d3826c4ec145b5bbcc53b7084f7f50",
            "value": " 232k/232k [00:00&lt;00:00, 8.98MB/s]"
          }
        },
        "20b87d9e20104070ab5997a81b1edb26": {
          "model_module": "@jupyter-widgets/base",
          "model_name": "LayoutModel",
          "model_module_version": "1.2.0",
          "state": {
            "_model_module": "@jupyter-widgets/base",
            "_model_module_version": "1.2.0",
            "_model_name": "LayoutModel",
            "_view_count": null,
            "_view_module": "@jupyter-widgets/base",
            "_view_module_version": "1.2.0",
            "_view_name": "LayoutView",
            "align_content": null,
            "align_items": null,
            "align_self": null,
            "border": null,
            "bottom": null,
            "display": null,
            "flex": null,
            "flex_flow": null,
            "grid_area": null,
            "grid_auto_columns": null,
            "grid_auto_flow": null,
            "grid_auto_rows": null,
            "grid_column": null,
            "grid_gap": null,
            "grid_row": null,
            "grid_template_areas": null,
            "grid_template_columns": null,
            "grid_template_rows": null,
            "height": null,
            "justify_content": null,
            "justify_items": null,
            "left": null,
            "margin": null,
            "max_height": null,
            "max_width": null,
            "min_height": null,
            "min_width": null,
            "object_fit": null,
            "object_position": null,
            "order": null,
            "overflow": null,
            "overflow_x": null,
            "overflow_y": null,
            "padding": null,
            "right": null,
            "top": null,
            "visibility": null,
            "width": null
          }
        },
        "b8169cc961464d4d981e88e25ffd8694": {
          "model_module": "@jupyter-widgets/base",
          "model_name": "LayoutModel",
          "model_module_version": "1.2.0",
          "state": {
            "_model_module": "@jupyter-widgets/base",
            "_model_module_version": "1.2.0",
            "_model_name": "LayoutModel",
            "_view_count": null,
            "_view_module": "@jupyter-widgets/base",
            "_view_module_version": "1.2.0",
            "_view_name": "LayoutView",
            "align_content": null,
            "align_items": null,
            "align_self": null,
            "border": null,
            "bottom": null,
            "display": null,
            "flex": null,
            "flex_flow": null,
            "grid_area": null,
            "grid_auto_columns": null,
            "grid_auto_flow": null,
            "grid_auto_rows": null,
            "grid_column": null,
            "grid_gap": null,
            "grid_row": null,
            "grid_template_areas": null,
            "grid_template_columns": null,
            "grid_template_rows": null,
            "height": null,
            "justify_content": null,
            "justify_items": null,
            "left": null,
            "margin": null,
            "max_height": null,
            "max_width": null,
            "min_height": null,
            "min_width": null,
            "object_fit": null,
            "object_position": null,
            "order": null,
            "overflow": null,
            "overflow_x": null,
            "overflow_y": null,
            "padding": null,
            "right": null,
            "top": null,
            "visibility": null,
            "width": null
          }
        },
        "90a3da84f39344a1b457543063737f6d": {
          "model_module": "@jupyter-widgets/controls",
          "model_name": "DescriptionStyleModel",
          "model_module_version": "1.5.0",
          "state": {
            "_model_module": "@jupyter-widgets/controls",
            "_model_module_version": "1.5.0",
            "_model_name": "DescriptionStyleModel",
            "_view_count": null,
            "_view_module": "@jupyter-widgets/base",
            "_view_module_version": "1.2.0",
            "_view_name": "StyleView",
            "description_width": ""
          }
        },
        "1c12a77824ca4d73beb0c687a2fe248b": {
          "model_module": "@jupyter-widgets/base",
          "model_name": "LayoutModel",
          "model_module_version": "1.2.0",
          "state": {
            "_model_module": "@jupyter-widgets/base",
            "_model_module_version": "1.2.0",
            "_model_name": "LayoutModel",
            "_view_count": null,
            "_view_module": "@jupyter-widgets/base",
            "_view_module_version": "1.2.0",
            "_view_name": "LayoutView",
            "align_content": null,
            "align_items": null,
            "align_self": null,
            "border": null,
            "bottom": null,
            "display": null,
            "flex": null,
            "flex_flow": null,
            "grid_area": null,
            "grid_auto_columns": null,
            "grid_auto_flow": null,
            "grid_auto_rows": null,
            "grid_column": null,
            "grid_gap": null,
            "grid_row": null,
            "grid_template_areas": null,
            "grid_template_columns": null,
            "grid_template_rows": null,
            "height": null,
            "justify_content": null,
            "justify_items": null,
            "left": null,
            "margin": null,
            "max_height": null,
            "max_width": null,
            "min_height": null,
            "min_width": null,
            "object_fit": null,
            "object_position": null,
            "order": null,
            "overflow": null,
            "overflow_x": null,
            "overflow_y": null,
            "padding": null,
            "right": null,
            "top": null,
            "visibility": null,
            "width": null
          }
        },
        "be568f3c696d411c909fafd100c1a3bf": {
          "model_module": "@jupyter-widgets/controls",
          "model_name": "ProgressStyleModel",
          "model_module_version": "1.5.0",
          "state": {
            "_model_module": "@jupyter-widgets/controls",
            "_model_module_version": "1.5.0",
            "_model_name": "ProgressStyleModel",
            "_view_count": null,
            "_view_module": "@jupyter-widgets/base",
            "_view_module_version": "1.2.0",
            "_view_name": "StyleView",
            "bar_color": null,
            "description_width": ""
          }
        },
        "8c21ef54753848c9beab0a1624dc596a": {
          "model_module": "@jupyter-widgets/base",
          "model_name": "LayoutModel",
          "model_module_version": "1.2.0",
          "state": {
            "_model_module": "@jupyter-widgets/base",
            "_model_module_version": "1.2.0",
            "_model_name": "LayoutModel",
            "_view_count": null,
            "_view_module": "@jupyter-widgets/base",
            "_view_module_version": "1.2.0",
            "_view_name": "LayoutView",
            "align_content": null,
            "align_items": null,
            "align_self": null,
            "border": null,
            "bottom": null,
            "display": null,
            "flex": null,
            "flex_flow": null,
            "grid_area": null,
            "grid_auto_columns": null,
            "grid_auto_flow": null,
            "grid_auto_rows": null,
            "grid_column": null,
            "grid_gap": null,
            "grid_row": null,
            "grid_template_areas": null,
            "grid_template_columns": null,
            "grid_template_rows": null,
            "height": null,
            "justify_content": null,
            "justify_items": null,
            "left": null,
            "margin": null,
            "max_height": null,
            "max_width": null,
            "min_height": null,
            "min_width": null,
            "object_fit": null,
            "object_position": null,
            "order": null,
            "overflow": null,
            "overflow_x": null,
            "overflow_y": null,
            "padding": null,
            "right": null,
            "top": null,
            "visibility": null,
            "width": null
          }
        },
        "04d3826c4ec145b5bbcc53b7084f7f50": {
          "model_module": "@jupyter-widgets/controls",
          "model_name": "DescriptionStyleModel",
          "model_module_version": "1.5.0",
          "state": {
            "_model_module": "@jupyter-widgets/controls",
            "_model_module_version": "1.5.0",
            "_model_name": "DescriptionStyleModel",
            "_view_count": null,
            "_view_module": "@jupyter-widgets/base",
            "_view_module_version": "1.2.0",
            "_view_name": "StyleView",
            "description_width": ""
          }
        },
        "e40d498a0bff4d38a241ad9e6cf2e4e4": {
          "model_module": "@jupyter-widgets/controls",
          "model_name": "HBoxModel",
          "model_module_version": "1.5.0",
          "state": {
            "_dom_classes": [],
            "_model_module": "@jupyter-widgets/controls",
            "_model_module_version": "1.5.0",
            "_model_name": "HBoxModel",
            "_view_count": null,
            "_view_module": "@jupyter-widgets/controls",
            "_view_module_version": "1.5.0",
            "_view_name": "HBoxView",
            "box_style": "",
            "children": [
              "IPY_MODEL_f0a15c3167ea4e9498c5069087177ffd",
              "IPY_MODEL_c8b42a11831047fc9871fc56b07115d1",
              "IPY_MODEL_ffb551a86eb64eb2b79cbda25d6f4e74"
            ],
            "layout": "IPY_MODEL_7f2bc15409ac413db401552ec3a276bd"
          }
        },
        "f0a15c3167ea4e9498c5069087177ffd": {
          "model_module": "@jupyter-widgets/controls",
          "model_name": "HTMLModel",
          "model_module_version": "1.5.0",
          "state": {
            "_dom_classes": [],
            "_model_module": "@jupyter-widgets/controls",
            "_model_module_version": "1.5.0",
            "_model_name": "HTMLModel",
            "_view_count": null,
            "_view_module": "@jupyter-widgets/controls",
            "_view_module_version": "1.5.0",
            "_view_name": "HTMLView",
            "description": "",
            "description_tooltip": null,
            "layout": "IPY_MODEL_133e9962a3f44f7bb4a087278fe584a8",
            "placeholder": "​",
            "style": "IPY_MODEL_34f2c53b3b2c49f0b3e95ab5a867c98e",
            "value": "tokenizer.json: 100%"
          }
        },
        "c8b42a11831047fc9871fc56b07115d1": {
          "model_module": "@jupyter-widgets/controls",
          "model_name": "FloatProgressModel",
          "model_module_version": "1.5.0",
          "state": {
            "_dom_classes": [],
            "_model_module": "@jupyter-widgets/controls",
            "_model_module_version": "1.5.0",
            "_model_name": "FloatProgressModel",
            "_view_count": null,
            "_view_module": "@jupyter-widgets/controls",
            "_view_module_version": "1.5.0",
            "_view_name": "ProgressView",
            "bar_style": "success",
            "description": "",
            "description_tooltip": null,
            "layout": "IPY_MODEL_eb3bf58a292048458f2d48cf30e1cb28",
            "max": 466062,
            "min": 0,
            "orientation": "horizontal",
            "style": "IPY_MODEL_a1b41e5347864cb69f55c99bf6769548",
            "value": 466062
          }
        },
        "ffb551a86eb64eb2b79cbda25d6f4e74": {
          "model_module": "@jupyter-widgets/controls",
          "model_name": "HTMLModel",
          "model_module_version": "1.5.0",
          "state": {
            "_dom_classes": [],
            "_model_module": "@jupyter-widgets/controls",
            "_model_module_version": "1.5.0",
            "_model_name": "HTMLModel",
            "_view_count": null,
            "_view_module": "@jupyter-widgets/controls",
            "_view_module_version": "1.5.0",
            "_view_name": "HTMLView",
            "description": "",
            "description_tooltip": null,
            "layout": "IPY_MODEL_900207ce503e4001a6580729fff453fd",
            "placeholder": "​",
            "style": "IPY_MODEL_b474d779826843f684f8eb0dcc9d6b3f",
            "value": " 466k/466k [00:00&lt;00:00, 7.10MB/s]"
          }
        },
        "7f2bc15409ac413db401552ec3a276bd": {
          "model_module": "@jupyter-widgets/base",
          "model_name": "LayoutModel",
          "model_module_version": "1.2.0",
          "state": {
            "_model_module": "@jupyter-widgets/base",
            "_model_module_version": "1.2.0",
            "_model_name": "LayoutModel",
            "_view_count": null,
            "_view_module": "@jupyter-widgets/base",
            "_view_module_version": "1.2.0",
            "_view_name": "LayoutView",
            "align_content": null,
            "align_items": null,
            "align_self": null,
            "border": null,
            "bottom": null,
            "display": null,
            "flex": null,
            "flex_flow": null,
            "grid_area": null,
            "grid_auto_columns": null,
            "grid_auto_flow": null,
            "grid_auto_rows": null,
            "grid_column": null,
            "grid_gap": null,
            "grid_row": null,
            "grid_template_areas": null,
            "grid_template_columns": null,
            "grid_template_rows": null,
            "height": null,
            "justify_content": null,
            "justify_items": null,
            "left": null,
            "margin": null,
            "max_height": null,
            "max_width": null,
            "min_height": null,
            "min_width": null,
            "object_fit": null,
            "object_position": null,
            "order": null,
            "overflow": null,
            "overflow_x": null,
            "overflow_y": null,
            "padding": null,
            "right": null,
            "top": null,
            "visibility": null,
            "width": null
          }
        },
        "133e9962a3f44f7bb4a087278fe584a8": {
          "model_module": "@jupyter-widgets/base",
          "model_name": "LayoutModel",
          "model_module_version": "1.2.0",
          "state": {
            "_model_module": "@jupyter-widgets/base",
            "_model_module_version": "1.2.0",
            "_model_name": "LayoutModel",
            "_view_count": null,
            "_view_module": "@jupyter-widgets/base",
            "_view_module_version": "1.2.0",
            "_view_name": "LayoutView",
            "align_content": null,
            "align_items": null,
            "align_self": null,
            "border": null,
            "bottom": null,
            "display": null,
            "flex": null,
            "flex_flow": null,
            "grid_area": null,
            "grid_auto_columns": null,
            "grid_auto_flow": null,
            "grid_auto_rows": null,
            "grid_column": null,
            "grid_gap": null,
            "grid_row": null,
            "grid_template_areas": null,
            "grid_template_columns": null,
            "grid_template_rows": null,
            "height": null,
            "justify_content": null,
            "justify_items": null,
            "left": null,
            "margin": null,
            "max_height": null,
            "max_width": null,
            "min_height": null,
            "min_width": null,
            "object_fit": null,
            "object_position": null,
            "order": null,
            "overflow": null,
            "overflow_x": null,
            "overflow_y": null,
            "padding": null,
            "right": null,
            "top": null,
            "visibility": null,
            "width": null
          }
        },
        "34f2c53b3b2c49f0b3e95ab5a867c98e": {
          "model_module": "@jupyter-widgets/controls",
          "model_name": "DescriptionStyleModel",
          "model_module_version": "1.5.0",
          "state": {
            "_model_module": "@jupyter-widgets/controls",
            "_model_module_version": "1.5.0",
            "_model_name": "DescriptionStyleModel",
            "_view_count": null,
            "_view_module": "@jupyter-widgets/base",
            "_view_module_version": "1.2.0",
            "_view_name": "StyleView",
            "description_width": ""
          }
        },
        "eb3bf58a292048458f2d48cf30e1cb28": {
          "model_module": "@jupyter-widgets/base",
          "model_name": "LayoutModel",
          "model_module_version": "1.2.0",
          "state": {
            "_model_module": "@jupyter-widgets/base",
            "_model_module_version": "1.2.0",
            "_model_name": "LayoutModel",
            "_view_count": null,
            "_view_module": "@jupyter-widgets/base",
            "_view_module_version": "1.2.0",
            "_view_name": "LayoutView",
            "align_content": null,
            "align_items": null,
            "align_self": null,
            "border": null,
            "bottom": null,
            "display": null,
            "flex": null,
            "flex_flow": null,
            "grid_area": null,
            "grid_auto_columns": null,
            "grid_auto_flow": null,
            "grid_auto_rows": null,
            "grid_column": null,
            "grid_gap": null,
            "grid_row": null,
            "grid_template_areas": null,
            "grid_template_columns": null,
            "grid_template_rows": null,
            "height": null,
            "justify_content": null,
            "justify_items": null,
            "left": null,
            "margin": null,
            "max_height": null,
            "max_width": null,
            "min_height": null,
            "min_width": null,
            "object_fit": null,
            "object_position": null,
            "order": null,
            "overflow": null,
            "overflow_x": null,
            "overflow_y": null,
            "padding": null,
            "right": null,
            "top": null,
            "visibility": null,
            "width": null
          }
        },
        "a1b41e5347864cb69f55c99bf6769548": {
          "model_module": "@jupyter-widgets/controls",
          "model_name": "ProgressStyleModel",
          "model_module_version": "1.5.0",
          "state": {
            "_model_module": "@jupyter-widgets/controls",
            "_model_module_version": "1.5.0",
            "_model_name": "ProgressStyleModel",
            "_view_count": null,
            "_view_module": "@jupyter-widgets/base",
            "_view_module_version": "1.2.0",
            "_view_name": "StyleView",
            "bar_color": null,
            "description_width": ""
          }
        },
        "900207ce503e4001a6580729fff453fd": {
          "model_module": "@jupyter-widgets/base",
          "model_name": "LayoutModel",
          "model_module_version": "1.2.0",
          "state": {
            "_model_module": "@jupyter-widgets/base",
            "_model_module_version": "1.2.0",
            "_model_name": "LayoutModel",
            "_view_count": null,
            "_view_module": "@jupyter-widgets/base",
            "_view_module_version": "1.2.0",
            "_view_name": "LayoutView",
            "align_content": null,
            "align_items": null,
            "align_self": null,
            "border": null,
            "bottom": null,
            "display": null,
            "flex": null,
            "flex_flow": null,
            "grid_area": null,
            "grid_auto_columns": null,
            "grid_auto_flow": null,
            "grid_auto_rows": null,
            "grid_column": null,
            "grid_gap": null,
            "grid_row": null,
            "grid_template_areas": null,
            "grid_template_columns": null,
            "grid_template_rows": null,
            "height": null,
            "justify_content": null,
            "justify_items": null,
            "left": null,
            "margin": null,
            "max_height": null,
            "max_width": null,
            "min_height": null,
            "min_width": null,
            "object_fit": null,
            "object_position": null,
            "order": null,
            "overflow": null,
            "overflow_x": null,
            "overflow_y": null,
            "padding": null,
            "right": null,
            "top": null,
            "visibility": null,
            "width": null
          }
        },
        "b474d779826843f684f8eb0dcc9d6b3f": {
          "model_module": "@jupyter-widgets/controls",
          "model_name": "DescriptionStyleModel",
          "model_module_version": "1.5.0",
          "state": {
            "_model_module": "@jupyter-widgets/controls",
            "_model_module_version": "1.5.0",
            "_model_name": "DescriptionStyleModel",
            "_view_count": null,
            "_view_module": "@jupyter-widgets/base",
            "_view_module_version": "1.2.0",
            "_view_name": "StyleView",
            "description_width": ""
          }
        },
        "1ed7c73977d44c4e9812b5c90e3fafda": {
          "model_module": "@jupyter-widgets/controls",
          "model_name": "HBoxModel",
          "model_module_version": "1.5.0",
          "state": {
            "_dom_classes": [],
            "_model_module": "@jupyter-widgets/controls",
            "_model_module_version": "1.5.0",
            "_model_name": "HBoxModel",
            "_view_count": null,
            "_view_module": "@jupyter-widgets/controls",
            "_view_module_version": "1.5.0",
            "_view_name": "HBoxView",
            "box_style": "",
            "children": [
              "IPY_MODEL_c4aae4992028491181c06b4a2ca271dc",
              "IPY_MODEL_2d01cc11be33495aa1f47a5512f88868",
              "IPY_MODEL_adf27c50e5394a8ba136dfae93e77b21"
            ],
            "layout": "IPY_MODEL_403213755dd94050a5a411e98ee38429"
          }
        },
        "c4aae4992028491181c06b4a2ca271dc": {
          "model_module": "@jupyter-widgets/controls",
          "model_name": "HTMLModel",
          "model_module_version": "1.5.0",
          "state": {
            "_dom_classes": [],
            "_model_module": "@jupyter-widgets/controls",
            "_model_module_version": "1.5.0",
            "_model_name": "HTMLModel",
            "_view_count": null,
            "_view_module": "@jupyter-widgets/controls",
            "_view_module_version": "1.5.0",
            "_view_name": "HTMLView",
            "description": "",
            "description_tooltip": null,
            "layout": "IPY_MODEL_a222b9ada03c4b9f986844418c5c74da",
            "placeholder": "​",
            "style": "IPY_MODEL_d86c047e9ae949dbb7a3e2dfc60012a6",
            "value": "model.safetensors: 100%"
          }
        },
        "2d01cc11be33495aa1f47a5512f88868": {
          "model_module": "@jupyter-widgets/controls",
          "model_name": "FloatProgressModel",
          "model_module_version": "1.5.0",
          "state": {
            "_dom_classes": [],
            "_model_module": "@jupyter-widgets/controls",
            "_model_module_version": "1.5.0",
            "_model_name": "FloatProgressModel",
            "_view_count": null,
            "_view_module": "@jupyter-widgets/controls",
            "_view_module_version": "1.5.0",
            "_view_name": "ProgressView",
            "bar_style": "success",
            "description": "",
            "description_tooltip": null,
            "layout": "IPY_MODEL_e91719fb6ab44511ab06305090676a6a",
            "max": 440449768,
            "min": 0,
            "orientation": "horizontal",
            "style": "IPY_MODEL_d36692a58267444598480701ee6ac1f6",
            "value": 440449768
          }
        },
        "adf27c50e5394a8ba136dfae93e77b21": {
          "model_module": "@jupyter-widgets/controls",
          "model_name": "HTMLModel",
          "model_module_version": "1.5.0",
          "state": {
            "_dom_classes": [],
            "_model_module": "@jupyter-widgets/controls",
            "_model_module_version": "1.5.0",
            "_model_name": "HTMLModel",
            "_view_count": null,
            "_view_module": "@jupyter-widgets/controls",
            "_view_module_version": "1.5.0",
            "_view_name": "HTMLView",
            "description": "",
            "description_tooltip": null,
            "layout": "IPY_MODEL_61f194bf3d9845dbad853e74700e15f5",
            "placeholder": "​",
            "style": "IPY_MODEL_b39cc1bed4ad42df84702d2b952ff343",
            "value": " 440M/440M [00:01&lt;00:00, 268MB/s]"
          }
        },
        "403213755dd94050a5a411e98ee38429": {
          "model_module": "@jupyter-widgets/base",
          "model_name": "LayoutModel",
          "model_module_version": "1.2.0",
          "state": {
            "_model_module": "@jupyter-widgets/base",
            "_model_module_version": "1.2.0",
            "_model_name": "LayoutModel",
            "_view_count": null,
            "_view_module": "@jupyter-widgets/base",
            "_view_module_version": "1.2.0",
            "_view_name": "LayoutView",
            "align_content": null,
            "align_items": null,
            "align_self": null,
            "border": null,
            "bottom": null,
            "display": null,
            "flex": null,
            "flex_flow": null,
            "grid_area": null,
            "grid_auto_columns": null,
            "grid_auto_flow": null,
            "grid_auto_rows": null,
            "grid_column": null,
            "grid_gap": null,
            "grid_row": null,
            "grid_template_areas": null,
            "grid_template_columns": null,
            "grid_template_rows": null,
            "height": null,
            "justify_content": null,
            "justify_items": null,
            "left": null,
            "margin": null,
            "max_height": null,
            "max_width": null,
            "min_height": null,
            "min_width": null,
            "object_fit": null,
            "object_position": null,
            "order": null,
            "overflow": null,
            "overflow_x": null,
            "overflow_y": null,
            "padding": null,
            "right": null,
            "top": null,
            "visibility": null,
            "width": null
          }
        },
        "a222b9ada03c4b9f986844418c5c74da": {
          "model_module": "@jupyter-widgets/base",
          "model_name": "LayoutModel",
          "model_module_version": "1.2.0",
          "state": {
            "_model_module": "@jupyter-widgets/base",
            "_model_module_version": "1.2.0",
            "_model_name": "LayoutModel",
            "_view_count": null,
            "_view_module": "@jupyter-widgets/base",
            "_view_module_version": "1.2.0",
            "_view_name": "LayoutView",
            "align_content": null,
            "align_items": null,
            "align_self": null,
            "border": null,
            "bottom": null,
            "display": null,
            "flex": null,
            "flex_flow": null,
            "grid_area": null,
            "grid_auto_columns": null,
            "grid_auto_flow": null,
            "grid_auto_rows": null,
            "grid_column": null,
            "grid_gap": null,
            "grid_row": null,
            "grid_template_areas": null,
            "grid_template_columns": null,
            "grid_template_rows": null,
            "height": null,
            "justify_content": null,
            "justify_items": null,
            "left": null,
            "margin": null,
            "max_height": null,
            "max_width": null,
            "min_height": null,
            "min_width": null,
            "object_fit": null,
            "object_position": null,
            "order": null,
            "overflow": null,
            "overflow_x": null,
            "overflow_y": null,
            "padding": null,
            "right": null,
            "top": null,
            "visibility": null,
            "width": null
          }
        },
        "d86c047e9ae949dbb7a3e2dfc60012a6": {
          "model_module": "@jupyter-widgets/controls",
          "model_name": "DescriptionStyleModel",
          "model_module_version": "1.5.0",
          "state": {
            "_model_module": "@jupyter-widgets/controls",
            "_model_module_version": "1.5.0",
            "_model_name": "DescriptionStyleModel",
            "_view_count": null,
            "_view_module": "@jupyter-widgets/base",
            "_view_module_version": "1.2.0",
            "_view_name": "StyleView",
            "description_width": ""
          }
        },
        "e91719fb6ab44511ab06305090676a6a": {
          "model_module": "@jupyter-widgets/base",
          "model_name": "LayoutModel",
          "model_module_version": "1.2.0",
          "state": {
            "_model_module": "@jupyter-widgets/base",
            "_model_module_version": "1.2.0",
            "_model_name": "LayoutModel",
            "_view_count": null,
            "_view_module": "@jupyter-widgets/base",
            "_view_module_version": "1.2.0",
            "_view_name": "LayoutView",
            "align_content": null,
            "align_items": null,
            "align_self": null,
            "border": null,
            "bottom": null,
            "display": null,
            "flex": null,
            "flex_flow": null,
            "grid_area": null,
            "grid_auto_columns": null,
            "grid_auto_flow": null,
            "grid_auto_rows": null,
            "grid_column": null,
            "grid_gap": null,
            "grid_row": null,
            "grid_template_areas": null,
            "grid_template_columns": null,
            "grid_template_rows": null,
            "height": null,
            "justify_content": null,
            "justify_items": null,
            "left": null,
            "margin": null,
            "max_height": null,
            "max_width": null,
            "min_height": null,
            "min_width": null,
            "object_fit": null,
            "object_position": null,
            "order": null,
            "overflow": null,
            "overflow_x": null,
            "overflow_y": null,
            "padding": null,
            "right": null,
            "top": null,
            "visibility": null,
            "width": null
          }
        },
        "d36692a58267444598480701ee6ac1f6": {
          "model_module": "@jupyter-widgets/controls",
          "model_name": "ProgressStyleModel",
          "model_module_version": "1.5.0",
          "state": {
            "_model_module": "@jupyter-widgets/controls",
            "_model_module_version": "1.5.0",
            "_model_name": "ProgressStyleModel",
            "_view_count": null,
            "_view_module": "@jupyter-widgets/base",
            "_view_module_version": "1.2.0",
            "_view_name": "StyleView",
            "bar_color": null,
            "description_width": ""
          }
        },
        "61f194bf3d9845dbad853e74700e15f5": {
          "model_module": "@jupyter-widgets/base",
          "model_name": "LayoutModel",
          "model_module_version": "1.2.0",
          "state": {
            "_model_module": "@jupyter-widgets/base",
            "_model_module_version": "1.2.0",
            "_model_name": "LayoutModel",
            "_view_count": null,
            "_view_module": "@jupyter-widgets/base",
            "_view_module_version": "1.2.0",
            "_view_name": "LayoutView",
            "align_content": null,
            "align_items": null,
            "align_self": null,
            "border": null,
            "bottom": null,
            "display": null,
            "flex": null,
            "flex_flow": null,
            "grid_area": null,
            "grid_auto_columns": null,
            "grid_auto_flow": null,
            "grid_auto_rows": null,
            "grid_column": null,
            "grid_gap": null,
            "grid_row": null,
            "grid_template_areas": null,
            "grid_template_columns": null,
            "grid_template_rows": null,
            "height": null,
            "justify_content": null,
            "justify_items": null,
            "left": null,
            "margin": null,
            "max_height": null,
            "max_width": null,
            "min_height": null,
            "min_width": null,
            "object_fit": null,
            "object_position": null,
            "order": null,
            "overflow": null,
            "overflow_x": null,
            "overflow_y": null,
            "padding": null,
            "right": null,
            "top": null,
            "visibility": null,
            "width": null
          }
        },
        "b39cc1bed4ad42df84702d2b952ff343": {
          "model_module": "@jupyter-widgets/controls",
          "model_name": "DescriptionStyleModel",
          "model_module_version": "1.5.0",
          "state": {
            "_model_module": "@jupyter-widgets/controls",
            "_model_module_version": "1.5.0",
            "_model_name": "DescriptionStyleModel",
            "_view_count": null,
            "_view_module": "@jupyter-widgets/base",
            "_view_module_version": "1.2.0",
            "_view_name": "StyleView",
            "description_width": ""
          }
        }
      }
    }
  },
  "nbformat": 4,
  "nbformat_minor": 0
}