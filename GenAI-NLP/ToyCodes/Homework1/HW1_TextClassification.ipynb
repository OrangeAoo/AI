{
  "cells": [
    {
      "cell_type": "markdown",
      "metadata": {
        "id": "view-in-github",
        "colab_type": "text"
      },
      "source": [
        "<a href=\"https://colab.research.google.com/github/OrangeAoo/AI/blob/main/GenAI-NLP/ToyCodes/Homework1/HW1_TextClassification.ipynb\" target=\"_parent\"><img src=\"https://colab.research.google.com/assets/colab-badge.svg\" alt=\"Open In Colab\"/></a>"
      ]
    },
    {
      "cell_type": "markdown",
      "metadata": {
        "id": "p_3MEx8RDq9C"
      },
      "source": [
        "# Text Classification"
      ]
    },
    {
      "cell_type": "markdown",
      "metadata": {
        "id": "LqGSVX-_DybL"
      },
      "source": [
        "## Introduction\n",
        "\n",
        "The IMDb Movie Reviews dataset is a collection of 50,000 reviews from IMDb that are labeled as either positive or negative. The dataset is used for binary sentiment analysis, and it contains an equal number of positive and negative reviews.\n",
        "\n",
        "In this assignment, we will walk through three text classification pipelines on classifying IMDB moview review sentiment:\n",
        "1. Training a simple model from scratch\n",
        "2. Fine-tuning embeddings from a pre-trained BERT model\n",
        "3. Using an out-of-the-box zero-shot LLM\n",
        "\n",
        "\n",
        "**Your task**\n",
        "## Problem 1:\n",
        "\n",
        "Using the simple model provided in the Colab notebook, which is the same model discussed in class, modify the code by adding a hidden layer between the averaged embedding and the final logits. Use a ReLU activation function for this hidden layer, and set its dimension to 128.\n",
        "\n",
        "  \n",
        "\n",
        "1. [2 pts] Calculate the number of trainable parameters in your modified model.\n",
        "\n",
        "  \n",
        "\n",
        "2. [1 pt] Run the classification pipeline with your modified model and report the **accuracy** and **loss** after 10 epochs.\n",
        "\n",
        "  \n",
        "\n",
        "3. [2 pts] Increase the batch size from 128 to 1024 and run the classification pipeline again (ensure to reinitialize your model). What differences do you observe in the results, and how would you explain these changes?\n",
        "\n",
        "  \n",
        "  \n",
        "\n",
        "## Problem 2\n",
        "\n",
        "Modify the code for fine-tuning using BERT.\n",
        "\n",
        "  \n",
        "\n",
        "1. [2 pts] Freeze the base model (making its parameters non-trainable) and add a hidden layer (with a dimension size of 128) with a ReLU activation function, similar to what was done in Problem 1. Report the accuracy and loss after 2 epochs.\n",
        "\n",
        "  \n",
        "\n",
        "2. [1 pt] Provide an explanation for any improvements observed in Problem 2 compared to Problem 1.\n",
        "\n",
        "  \n",
        "\n",
        "## Problem 3\n",
        "\n",
        "Modify the code for Zero-shot LLM text classification. You may check the code in the [notebook](https://colab.research.google.com/drive/1ZLrXVNxq7V082NvHWp5vMoI8hxfi9Bpv?usp=sharing) from Lecture 2 as well.\n",
        "\n",
        "  \n",
        "\n",
        "1. [2 pts] Optimize the prompt as much as possible (e.g., by applying the chain of thought method discussed in the lecture). Run your optimized prompt with 1000 test samples. Report both the optimized prompt and the resulting accuracy.\n"
      ]
    },
    {
      "cell_type": "markdown",
      "metadata": {
        "id": "fXNTtSuDHepn"
      },
      "source": [
        "# Dataset Preparation\n",
        "\n",
        "First we will load the IMDB dataset, which contains text and binary labels."
      ]
    },
    {
      "cell_type": "code",
      "execution_count": 30,
      "metadata": {
        "id": "pYpYV8WI5ckm",
        "colab": {
          "base_uri": "https://localhost:8080/"
        },
        "outputId": "0561810f-9681-4e7a-f359-832a5444ee6e"
      },
      "outputs": [
        {
          "output_type": "stream",
          "name": "stdout",
          "text": [
            "🔄 [03:34:48] Retry attempt 4/5:\n",
            "   Error: HTTPStatusError (status: 429)\n",
            "   Message: Client error '429 Too Many Requests' for url 'https://openrouter.ai/api/v1/chat/completions'\n",
            "For mor...\n",
            "   Waiting 8.0s before next attempt...\n",
            "\n"
          ]
        }
      ],
      "source": [
        "!pip install -q datasets"
      ]
    },
    {
      "cell_type": "markdown",
      "metadata": {
        "id": "9eAcGQJ-Aavi"
      },
      "source": [
        "Load IMDB dataset"
      ]
    },
    {
      "cell_type": "code",
      "execution_count": 31,
      "metadata": {
        "id": "vBs03Pm5Pbfk"
      },
      "outputs": [],
      "source": [
        "from datasets import load_dataset\n",
        "from tqdm import tqdm\n",
        "\n",
        "imdb = load_dataset(\"imdb\")"
      ]
    },
    {
      "cell_type": "code",
      "execution_count": 32,
      "metadata": {
        "id": "4AwzoYvy-YIK",
        "outputId": "1c63b012-3748-4036-d545-0f0edd962e84",
        "colab": {
          "base_uri": "https://localhost:8080/"
        }
      },
      "outputs": [
        {
          "output_type": "execute_result",
          "data": {
            "text/plain": [
              "(25000, 25000)"
            ]
          },
          "metadata": {},
          "execution_count": 32
        }
      ],
      "source": [
        "train_texts_raw = imdb['train']['text']\n",
        "test_texts_raw = imdb['test']['text']\n",
        "train_labels_raw = imdb['train']['label']\n",
        "test_labels_raw = imdb['test']['label']\n",
        "\n",
        "len(train_texts_raw), len(test_texts_raw)"
      ]
    },
    {
      "cell_type": "markdown",
      "metadata": {
        "id": "3HWQEoj9Pbfk"
      },
      "source": [
        "Let's shuffle the data and select 10000 samples for training and 1000 samples for testing (for homework purpose)"
      ]
    },
    {
      "cell_type": "code",
      "execution_count": 33,
      "metadata": {
        "colab": {
          "base_uri": "https://localhost:8080/"
        },
        "id": "t3oBj5n-Pbfk",
        "outputId": "21e9d3e7-bca3-4b28-a1b6-bbd61c7cdc18"
      },
      "outputs": [
        {
          "output_type": "execute_result",
          "data": {
            "text/plain": [
              "(10000, 1000)"
            ]
          },
          "metadata": {},
          "execution_count": 33
        }
      ],
      "source": [
        "import numpy as np\n",
        "np.random.seed(42)\n",
        "train_indices = np.random.choice(len(train_texts_raw), 10000)\n",
        "test_indices = np.random.choice(len(test_texts_raw), 1000)\n",
        "train_texts = np.array(train_texts_raw)[train_indices].tolist()\n",
        "test_texts = np.array(test_texts_raw)[test_indices].tolist()\n",
        "train_labels = np.array(train_labels_raw)[train_indices].tolist()\n",
        "test_labels = np.array(test_labels_raw)[test_indices].tolist()\n",
        "len(train_texts), len(test_texts) # the size of train vs test"
      ]
    },
    {
      "cell_type": "markdown",
      "metadata": {
        "id": "L6hdlFWYA8uY"
      },
      "source": [
        "Let's take a look for an example, label `1` indicates positive and label `0` indicates negative."
      ]
    },
    {
      "cell_type": "code",
      "execution_count": 34,
      "metadata": {
        "colab": {
          "base_uri": "https://localhost:8080/"
        },
        "id": "2-7HYuBRA8EK",
        "outputId": "b3a1f99f-7469-40af-af23-bea4285f0d68"
      },
      "outputs": [
        {
          "output_type": "execute_result",
          "data": {
            "text/plain": [
              "(\"Went to see this finnish film and I've got to say that it is one of the better films I've seen this year. The intrigue is made up of 5-6 different stories, all taking place the very same day in a small finnish town. The stories come together very nicely in the end, reminding, perhaps, a bit of the way Tarantino's movies are made. Most of the actors performed very well, which most certainly is needed in realistic dramas of this type. I especially enjoyed the acting by Sanna Hietala, the lead actress, and Juha Kukkonen. I noticed btw that IMDB has got the wrong information about Sanna. Her name, as you might have noticed in my review ;), is NOT Heikkilä, but Hietala.\",\n",
              " 1)"
            ]
          },
          "metadata": {},
          "execution_count": 34
        }
      ],
      "source": [
        "train_texts[1], train_labels[1]"
      ]
    },
    {
      "cell_type": "markdown",
      "source": [
        "# A simple model"
      ],
      "metadata": {
        "id": "ARlFdgkCLerq"
      }
    },
    {
      "cell_type": "markdown",
      "metadata": {
        "id": "BgI8ulH2JKA2"
      },
      "source": [
        "## Tokenization\n",
        "To begin, we need a tokenizer that can map a text to a sequence of integers (and vice-versa).\n",
        "\n",
        "Here we are going to borrow the tokenizer from `Bert` directly. This tokenizer was trained on a large corpus of English texts to automatically learn subwords (another example of data-driven spirit!)."
      ]
    },
    {
      "cell_type": "markdown",
      "metadata": {
        "id": "2JVk8GqCLAUA"
      },
      "source": [
        "Download the tokenizer (one line of code thanks to Huggingface)."
      ]
    },
    {
      "cell_type": "code",
      "execution_count": 4,
      "metadata": {
        "colab": {
          "base_uri": "https://localhost:8080/",
          "height": 145,
          "referenced_widgets": [
            "b92dcb211e074d94a412f7d9db3ebae2",
            "07d66783b9074658b95c0dc6502ee0f3",
            "1b519d389cf64b42946a836c19a2b580",
            "eaade09a448f447eb3e623cb395371e3",
            "789b8ddc1d34461ca8f4666f7e24567e",
            "563135c77c8d407693a45593f12e32b7",
            "813afe780d234dd4a1d16064bcb4ef18",
            "8edff418a4c74049aad4ff18d6a77d7f",
            "782cb48912024c3f929ce5c2f2587c86",
            "d9c1e92f85524573a3adeeeb874918b0",
            "85065afdbdc04746b0120d4b059cafab",
            "3cf84b8fbcf14b51918b9327df999f4b",
            "e5567ceec52648f4b4c5e19d7ec7d66c",
            "5f6845383c034b52abf95292a310b581",
            "6d2d050863834f6caba4eca3aa5a1f28",
            "96dfd11eaac74eaea4a468f51d293ae5",
            "8a0a911fae5a48e08559f43cb36713dc",
            "d78d232cd14b41068e2a5e45afdcdd1f",
            "6ee5960c7a864166ab0a6b5d7fcac390",
            "d6d8e385e2794b1b898333130476761e",
            "e61d4937237847109ea5ed1d95a1f210",
            "5c71e726e59f4111b32759aebc6c4776",
            "9432be38aa4e475d8589098d467ddf92",
            "f5d2600fd483451fbcf7958948f62c5f",
            "6bc3de87526d4d1e9bc738a7d3bbfc17",
            "dd4178fdaa00491496cb2ccfce42f4bf",
            "835ef4320d4741349bad4559c0b61756",
            "73549abc03d14d99b9a8b9103e0498a9",
            "73b44ca2553f4787a101259a6247ad80",
            "5b1744e8818f420f8300577cfec046a9",
            "d7c0974ad1e74d47b6e81a316498bfa2",
            "af16a15ec1484ce983f79d80a0c4ec2e",
            "c3bd8711e4fe41b6a9e72fb2b7c40f27",
            "112209cd36f845c1847951861675594c",
            "cb043abd3c11433ba5304821724ad251",
            "61aac8793b9a4dc39711e0f7da52aa92",
            "8d7ce07fd4dc4b79b2b81db111cd6b71",
            "7ac9c42057a04086a313c898bb08c07d",
            "747ba8e84d094afe90a5988304652495",
            "f35fae3867354085917300c028acfbdd",
            "8fa2c4ede8c24f238d9d90ec97cd8629",
            "22ea8b2b757342faaca4f690de1c4cc1",
            "31d9fd32198145c088ecad2febd0f110",
            "6667d639e09947afb609079a356259b9"
          ]
        },
        "id": "nVmkecEwmTaG",
        "outputId": "483a45d6-d156-4499-f50d-fa0ee1fa733d"
      },
      "outputs": [
        {
          "output_type": "display_data",
          "data": {
            "text/plain": [
              "tokenizer_config.json:   0%|          | 0.00/48.0 [00:00<?, ?B/s]"
            ],
            "application/vnd.jupyter.widget-view+json": {
              "version_major": 2,
              "version_minor": 0,
              "model_id": "b92dcb211e074d94a412f7d9db3ebae2"
            }
          },
          "metadata": {}
        },
        {
          "output_type": "display_data",
          "data": {
            "text/plain": [
              "config.json:   0%|          | 0.00/570 [00:00<?, ?B/s]"
            ],
            "application/vnd.jupyter.widget-view+json": {
              "version_major": 2,
              "version_minor": 0,
              "model_id": "3cf84b8fbcf14b51918b9327df999f4b"
            }
          },
          "metadata": {}
        },
        {
          "output_type": "display_data",
          "data": {
            "text/plain": [
              "vocab.txt:   0%|          | 0.00/232k [00:00<?, ?B/s]"
            ],
            "application/vnd.jupyter.widget-view+json": {
              "version_major": 2,
              "version_minor": 0,
              "model_id": "9432be38aa4e475d8589098d467ddf92"
            }
          },
          "metadata": {}
        },
        {
          "output_type": "display_data",
          "data": {
            "text/plain": [
              "tokenizer.json:   0%|          | 0.00/466k [00:00<?, ?B/s]"
            ],
            "application/vnd.jupyter.widget-view+json": {
              "version_major": 2,
              "version_minor": 0,
              "model_id": "112209cd36f845c1847951861675594c"
            }
          },
          "metadata": {}
        }
      ],
      "source": [
        "from transformers import AutoTokenizer\n",
        "\n",
        "tokenizer = AutoTokenizer.from_pretrained('bert-base-uncased')"
      ]
    },
    {
      "cell_type": "markdown",
      "metadata": {
        "id": "pljzq_h-LGRM"
      },
      "source": [
        "Encode a text and obtain a sequence of integers, each integer is called a `token`."
      ]
    },
    {
      "cell_type": "code",
      "execution_count": null,
      "metadata": {
        "id": "DaUzPs9N5cko",
        "outputId": "7768fb8a-9d26-4c83-c697-7e9a14987b37"
      },
      "outputs": [
        {
          "data": {
            "text/plain": [
              "tensor([[ 101, 2314, 2924,  102, 2769, 2924,  102]])"
            ]
          },
          "execution_count": 24,
          "metadata": {},
          "output_type": "execute_result"
        }
      ],
      "source": [
        "tokenizer.encode([\"river bank\", 'money bank'], return_tensors='pt')"
      ]
    },
    {
      "cell_type": "markdown",
      "metadata": {
        "id": "icCiesIkKLmS"
      },
      "source": [
        "## Model Architecture\n",
        "\n",
        "We build a very simple model that akins to `bag of words` method.\n",
        "\n",
        "We map each word (be more precise, token) to an embedding and then average all embeddings to get a sentence-level embedding. Then an linear layer will be used to extract the output (akin to logisitc regression).\n",
        "\n",
        "The token embeddings and parameters of the linear layer will be trained at the same time, using cross entropy loss (with logits).\n",
        "\n",
        "The model is constructed through the class `EmbeddingModel`.\n",
        "\n",
        "# Problem 1:\n",
        "Using the simple model below, which is the same model discussed in class, modify the code by adding a hidden layer between the averaged embedding and the final logits. Use a ReLU activation function for this hidden layer, and set its dimension to 128.\n",
        "\n",
        "  \n",
        "\n",
        "1. [2 pts] Calculate the number of trainable parameters in your modified model.\n",
        "    \n",
        "    <!-- [MyCalculation: here!](https://vscode.dev/github/OrangeAoo/AI/blob/main/GenAI-NLP/ToyCodes/Homework1/HW1_TextClassification.ipynb#C19:L10) -->\n",
        "    ```python\n",
        "    >>> 3_923_586\n",
        "    ```\n",
        "2. [1 pt] Run the classification pipeline with your modified model and report the **accuracy** and **loss** after 10 epochs.\n",
        "\n",
        "    <!-- [Results: here!](https://vscode.dev/github/OrangeAoo/AI/blob/main/GenAI-NLP/ToyCodes/Homework1/HW1_TextClassification.ipynb#C27) -->\n",
        "    \n",
        "    ```md\n",
        "    BatchSize==128\n",
        "    ============ FINAL RESULTS =============\n",
        "    |            |   Trian    |    Test    |\n",
        "    | ---------- | ---------- | ---------- |\n",
        "    |    Accu    |   0.9477   |   0.8610   |\n",
        "    |    Loss    |   0.1539   |   0.3554   |\n",
        "    ```\n",
        "    ![BatchSize-128](attachment:image.png)\n",
        "\n",
        "3. [2 pts] Increase the batch size from 128 to 1024 and run the classification pipeline again (ensure to reinitialize your model). What differences do you observe in the results, and how would you explain these changes?\n",
        "\n",
        "    ```md\n",
        "    BatchSize==1024\n",
        "    ============ FINAL RESULTS =============\n",
        "    |            |   Trian    |    Test    |\n",
        "    | ---------- | ---------- | ---------- |\n",
        "    |    Accu    |   0.7364   |   0.7420   |\n",
        "    |    Loss    |   0.5660   |   0.5650   |\n",
        "    ```\n",
        "    ![BatchSize-1024](attachment:image-3.png)\n",
        "\n",
        "\n",
        "> Why larger batch_size -> (lower accuracy, greater loss)?\n",
        "- Fewer param updates -> #updates == #samples / batch_size * #epoch\n",
        "- Larger sample set per update(batch) --> each iteration would find params that over-smoothen the model. (In extreme case, when batch_size == #sample -> +inf, model updates the exact average gradient over the dataset, no variance, no randomness.)\n",
        "\n",
        "# Problem 1:\n",
        "Using the simple model below, which is the same model discussed in class, modify the code by adding a hidden layer between the averaged embedding and the final logits. Use a ReLU activation function for this hidden layer, and set its dimension to 128.\n",
        "\n",
        "  \n",
        "\n",
        "1. [2 pts] Calculate the number of trainable parameters in your modified model.\n",
        "    \n",
        "    <!-- [MyCalculation: here!](https://vscode.dev/github/OrangeAoo/AI/blob/main/GenAI-NLP/ToyCodes/Homework1/HW1_TextClassification.ipynb#C19:L10) -->\n",
        "    ```python\n",
        "    >>> 3_923_586\n",
        "    ```\n",
        "2. [1 pt] Run the classification pipeline with your modified model and report the **accuracy** and **loss** after 10 epochs.\n",
        "\n",
        "    <!-- [Results: here!](https://vscode.dev/github/OrangeAoo/AI/blob/main/GenAI-NLP/ToyCodes/Homework1/HW1_TextClassification.ipynb#C27) -->\n",
        "    \n",
        "    ```md\n",
        "    BatchSize==128\n",
        "    ============ FINAL RESULTS =============\n",
        "    |            |   Trian    |    Test    |\n",
        "    | ---------- | ---------- | ---------- |\n",
        "    |    Accu    |   0.9477   |   0.8610   |\n",
        "    |    Loss    |   0.1539   |   0.3554   |\n",
        "    ```\n",
        "    ![BatchSize-128](attachment:image.png)\n",
        "\n",
        "3. [2 pts] Increase the batch size from 128 to 1024 and run the classification pipeline again (ensure to reinitialize your model). What differences do you observe in the results, and how would you explain these changes?\n",
        "\n",
        "    ```md\n",
        "    BatchSize==1024\n",
        "    ============ FINAL RESULTS =============\n",
        "    |            |   Trian    |    Test    |\n",
        "    | ---------- | ---------- | ---------- |\n",
        "    |    Accu    |   0.7364   |   0.7420   |\n",
        "    |    Loss    |   0.5660   |   0.5650   |\n",
        "    ```\n",
        "    ![BatchSize-1024](attachment:image-3.png)\n",
        "\n",
        "\n",
        "> Why larger batch_size -> (lower accuracy, greater loss)?\n",
        "- Fewer param updates -> #updates == #samples / batch_size * #epoch\n",
        "- Larger sample set per update(batch) --> each iteration would find params that over-smoothen the model. (In extreme case, when batch_size == #sample -> +inf, model updates the exact average gradient over the dataset, no variance, no randomness.)\n",
        "\n",
        "# Problem 1:\n",
        "Using the simple model below, which is the same model discussed in class, modify the code by adding a hidden layer between the averaged embedding and the final logits. Use a ReLU activation function for this hidden layer, and set its dimension to 128.\n",
        "\n",
        "  \n",
        "\n",
        "1. [2 pts] Calculate the number of trainable parameters in your modified model.\n",
        "    \n",
        "    <!-- [MyCalculation: here!](https://vscode.dev/github/OrangeAoo/AI/blob/main/GenAI-NLP/ToyCodes/Homework1/HW1_TextClassification.ipynb#C19:L10) -->\n",
        "    ```python\n",
        "    >>> 3_923_586\n",
        "    ```\n",
        "2. [1 pt] Run the classification pipeline with your modified model and report the **accuracy** and **loss** after 10 epochs.\n",
        "\n",
        "    <!-- [Results: here!](https://vscode.dev/github/OrangeAoo/AI/blob/main/GenAI-NLP/ToyCodes/Homework1/HW1_TextClassification.ipynb#C27) -->\n",
        "    \n",
        "    ```md\n",
        "    BatchSize==128\n",
        "    ============ FINAL RESULTS =============\n",
        "    |            |   Trian    |    Test    |\n",
        "    | ---------- | ---------- | ---------- |\n",
        "    |    Accu    |   0.9477   |   0.8610   |\n",
        "    |    Loss    |   0.1539   |   0.3554   |\n",
        "    ```\n",
        "    ![BatchSize-128](attachment:image.png)\n",
        "\n",
        "3. [2 pts] Increase the batch size from 128 to 1024 and run the classification pipeline again (ensure to reinitialize your model). What differences do you observe in the results, and how would you explain these changes?\n",
        "\n",
        "    ```md\n",
        "    BatchSize==1024\n",
        "    ============ FINAL RESULTS =============\n",
        "    |            |   Trian    |    Test    |\n",
        "    | ---------- | ---------- | ---------- |\n",
        "    |    Accu    |   0.7364   |   0.7420   |\n",
        "    |    Loss    |   0.5660   |   0.5650   |\n",
        "    ```\n",
        "    ![BatchSize-1024](attachment:image-3.png)\n",
        "\n",
        "\n",
        "> Why larger batch_size -> (lower accuracy, greater loss)?\n",
        "- Fewer param updates -> #updates == #samples / batch_size * #epoch\n",
        "- Larger sample set per update(batch) --> each iteration would find params that over-smoothen the model. (In extreme case, when batch_size == #sample -> +inf, model updates the exact average gradient over the dataset, no variance, no randomness.)"
      ]
    },
    {
      "cell_type": "code",
      "source": [
        "def export_results(train_accuracy_list, test_accuracy_list, train_loss_list, test_loss_list, _w=10):\n",
        "    print(f\"============ FINAL RESULTS =============\")\n",
        "    print(f\"| {'':^{_w}} | {'Trian':^{_w}} | {'Test':^{_w}} |\")\n",
        "    print('| '+('-'*_w+' | ')*3)\n",
        "    print(f\"| {'Accu':^{_w}} | {train_accuracy_list[-1]:^{_w}.4f} | {test_accuracy_list[-1]:^{_w}.4f} |\")\n",
        "    print(f\"| {'Loss':^{_w}} | {train_loss_list[-1]:^{_w}.4f} | {test_loss_list[-1]:^{_w}.4f} |\")\n",
        "\n"
      ],
      "metadata": {
        "id": "Ju2rHBizMUcr"
      },
      "execution_count": 11,
      "outputs": []
    },
    {
      "cell_type": "markdown",
      "source": [
        "\n",
        "# Problem 1:\n",
        "Using the simple model below, which is the same model discussed in class, modify the code by adding a hidden layer between the averaged embedding and the final logits. Use a ReLU activation function for this hidden layer, and set its dimension to 128.\n",
        "\n",
        "  \n",
        "\n",
        "1. [2 pts] Calculate the number of trainable parameters in your modified model.\n",
        "    \n",
        "    <!-- [MyCalculation: here!](https://vscode.dev/github/OrangeAoo/AI/blob/main/GenAI-NLP/ToyCodes/Homework1/HW1_TextClassification.ipynb#C19:L10) -->\n",
        "    ```python\n",
        "    >>> 3_923_586\n",
        "    ```\n",
        "2. [1 pt] Run the classification pipeline with your modified model and report the **accuracy** and **loss** after 10 epochs.\n",
        "\n",
        "    <!-- [Results: here!](https://vscode.dev/github/OrangeAoo/AI/blob/main/GenAI-NLP/ToyCodes/Homework1/HW1_TextClassification.ipynb#C27) -->\n",
        "    \n",
        "    ```md\n",
        "    BatchSize==128\n",
        "    ============ FINAL RESULTS =============\n",
        "    |            |   Trian    |    Test    |\n",
        "    | ---------- | ---------- | ---------- |\n",
        "    |    Accu    |   0.9477   |   0.8610   |\n",
        "    |    Loss    |   0.1539   |   0.3554   |\n",
        "    ```\n",
        "    ![BatchSize-128](attachment:image.png)\n",
        "\n",
        "3. [2 pts] Increase the batch size from 128 to 1024 and run the classification pipeline again (ensure to reinitialize your model). What differences do you observe in the results, and how would you explain these changes?\n",
        "\n",
        "    ```md\n",
        "    BatchSize==1024\n",
        "    ============ FINAL RESULTS =============\n",
        "    |            |   Trian    |    Test    |\n",
        "    | ---------- | ---------- | ---------- |\n",
        "    |    Accu    |   0.7364   |   0.7420   |\n",
        "    |    Loss    |   0.5660   |   0.5650   |\n",
        "    ```\n",
        "    ![BatchSize-1024](attachment:image-3.png)\n",
        "\n",
        "\n",
        "> Why larger batch_size -> (lower accuracy, greater loss)?\n",
        "- Fewer param updates -> #updates == #samples / batch_size * #epoch\n",
        "- Larger sample set per update(batch) --> each iteration would find params that over-smoothen the model. (In extreme case, when batch_size == #sample -> +inf, model updates the exact average gradient over the dataset, no variance, no randomness.)\n",
        "- Less noise, but more likely to get stuck in the local minima."
      ],
      "metadata": {
        "id": "HgMWxBnELbT4"
      }
    },
    {
      "cell_type": "code",
      "execution_count": 15,
      "metadata": {
        "id": "Wn0_qSmSmsat"
      },
      "outputs": [],
      "source": [
        "import torch\n",
        "import torch.nn as nn\n",
        "import torch.nn.functional as F\n",
        "from functools import partial\n",
        "\n",
        "class EmbeddingModel(nn.Module):\n",
        "    def __init__(self, vocab_size, embedding_dim, hidden_dim, num_classes):\n",
        "        super().__init__()\n",
        "        self.embedding = nn.Embedding(vocab_size, embedding_dim)\n",
        "        self.fc0 = nn.Linear(embedding_dim, hidden_dim)\n",
        "        self.fc1 = nn.Linear(hidden_dim, num_classes)\n",
        "\n",
        "    def forward(self, inputs):\n",
        "        # return self.nnPipe(input).squeeze()\n",
        "        # outputs = nn.Sequential(\n",
        "        #     self.embedding,\n",
        "        #     partial(torch.mean, dim=1),\n",
        "        #     self.fc0,\n",
        "        #     nn.ReLU(),\n",
        "        #     self.fc1\n",
        "        # )(inputs)\n",
        "        outputs = self.embedding(inputs)\n",
        "        outputs = torch.mean(outputs, dim=1)\n",
        "        outputs = self.fc0(outputs)\n",
        "        outputs = nn.ReLU()(outputs)\n",
        "        outputs = self.fc1(outputs)\n",
        "        return outputs.squeeze()\n",
        "\n",
        "\n",
        "model = EmbeddingModel(tokenizer.vocab_size, 128, 128, 2)"
      ]
    },
    {
      "cell_type": "markdown",
      "metadata": {
        "id": "U_OpZ5R95cko"
      },
      "source": [
        "## #trainable parameters"
      ]
    },
    {
      "cell_type": "code",
      "execution_count": null,
      "metadata": {
        "id": "3xnBXWjx5cko",
        "outputId": "0b6ce204-4161-48e6-dff2-f1e7a4330b79"
      },
      "outputs": [
        {
          "name": "stdout",
          "output_type": "stream",
          "text": [
            "embedding.weight torch.Size([30522, 128]) True\n",
            "fc0.weight torch.Size([128, 128]) True\n",
            "fc0.bias torch.Size([128]) True\n",
            "fc1.weight torch.Size([2, 128]) True\n",
            "fc1.bias torch.Size([2]) True\n"
          ]
        },
        {
          "data": {
            "text/plain": [
              "np.int64(3923586)"
            ]
          },
          "execution_count": 111,
          "metadata": {},
          "output_type": "execute_result"
        }
      ],
      "source": [
        "n_trainable_params = 0\n",
        "for name, param in model.named_parameters():\n",
        "    print(name, param.size(), param.requires_grad)\n",
        "    # if \"embedding\" in name: continue\n",
        "    n_trainable_params += np.prod(param.size())\n",
        "\n",
        "n_trainable_params"
      ]
    },
    {
      "cell_type": "markdown",
      "metadata": {
        "id": "PDDS1tqsMihu"
      },
      "source": [
        "You can test that whether the output dimension is what we want."
      ]
    },
    {
      "cell_type": "code",
      "execution_count": null,
      "metadata": {
        "id": "UsZtM8cU5cko",
        "outputId": "e15b88b8-8c7a-483f-96dc-e7141b1733e2"
      },
      "outputs": [
        {
          "name": "stdout",
          "output_type": "stream",
          "text": [
            "torch.Size([1, 4])\n"
          ]
        },
        {
          "data": {
            "text/plain": [
              "torch.Size([1, 4, 128])"
            ]
          },
          "execution_count": 71,
          "metadata": {},
          "output_type": "execute_result"
        }
      ],
      "source": [
        "inputs = tokenizer.encode('hello world', return_tensors='pt')\n",
        "print(inputs.shape)\n",
        "nn.Embedding(tokenizer.vocab_size, 128)(inputs).shape"
      ]
    },
    {
      "cell_type": "code",
      "execution_count": null,
      "metadata": {
        "colab": {
          "base_uri": "https://localhost:8080/"
        },
        "id": "51bXJBkCm3KX",
        "outputId": "a990881c-0802-4ae9-a656-5fc39c6473e0"
      },
      "outputs": [
        {
          "data": {
            "text/plain": [
              "tensor([ 0.2074, -0.1401], grad_fn=<SqueezeBackward0>)"
            ]
          },
          "execution_count": 88,
          "metadata": {},
          "output_type": "execute_result"
        }
      ],
      "source": [
        "inputs = tokenizer.encode('hello world', return_tensors='pt')\n",
        "model.forward(inputs)"
      ]
    },
    {
      "cell_type": "markdown",
      "metadata": {
        "id": "vrhq0PsCc0HK"
      },
      "source": [
        "A helper function for training the model"
      ]
    },
    {
      "cell_type": "code",
      "execution_count": 16,
      "metadata": {
        "id": "wcTs8JxYS0b7"
      },
      "outputs": [],
      "source": [
        "def train_model(num_epochs, batch_size, max_length, model, optimizer, verbose=False):\n",
        "    loss_fn = nn.CrossEntropyLoss() ## loss_fn(logits, target) will take K-dim logits and a target index in [0..K-1] that indicates the true class\n",
        "    train_accuracy_list = []\n",
        "    test_accuracy_list = []\n",
        "    train_loss_list = []\n",
        "    test_loss_list = []\n",
        "\n",
        "\n",
        "    for epoch in range(num_epochs):\n",
        "        train_loss = 0.0\n",
        "        train_accuracy = 0.0\n",
        "        ### training ----------------------------------------\n",
        "        model.train()\n",
        "        for batch in tqdm(range(0, len(train_texts), batch_size)):\n",
        "            input = train_texts[batch:batch+batch_size]\n",
        "            labels = train_labels[batch:batch+batch_size]\n",
        "\n",
        "            input = tokenizer(input, padding=True, truncation=True, max_length=max_length, return_tensors='pt') # Question: why do we need padding and truncation?\n",
        "            labels = torch.tensor(labels)\n",
        "\n",
        "            logits = model(input[\"input_ids\"])\n",
        "            loss = loss_fn(logits, labels)\n",
        "\n",
        "            train_loss += loss.item() * len(labels)\n",
        "            train_accuracy += (logits.argmax(dim=1) == labels).sum().item()\n",
        "\n",
        "            ### taking gradient descent on this batch\n",
        "            loss.backward()\n",
        "            optimizer.step()\n",
        "            optimizer.zero_grad()\n",
        "        if verbose:\n",
        "            print(f\"Epoch {epoch+1}/{num_epochs}, Loss: {train_loss/len(train_texts)}\")\n",
        "            print(f\"Train Accuracy: {train_accuracy/len(train_texts)}\")\n",
        "\n",
        "        train_accuracy_list.append(train_accuracy/len(train_texts))\n",
        "        train_loss_list.append(train_loss/len(train_texts))\n",
        "\n",
        "        ### testing ----------------------------------------\n",
        "        test_loss = 0.0\n",
        "        test_accuracy = 0.0\n",
        "        model.eval()\n",
        "        with torch.no_grad():\n",
        "            for batch in tqdm(range(0, len(test_texts), batch_size)):\n",
        "                input = test_texts[batch:batch+batch_size]\n",
        "                labels = test_labels[batch:batch+batch_size]\n",
        "                input = tokenizer(input, padding=True, truncation=True, max_length=max_length, return_tensors='pt')\n",
        "                labels = torch.tensor(labels)\n",
        "\n",
        "                logits = model(input[\"input_ids\"])\n",
        "                loss = loss_fn(logits, labels)\n",
        "                test_loss += loss.item() * len(labels)\n",
        "                test_accuracy += (logits.argmax(dim=1) == labels).sum().item()\n",
        "        if verbose:\n",
        "            print(f\"Test Loss: {test_loss/len(test_texts)}\")\n",
        "            print(f\"Test Accuracy: {test_accuracy/len(test_texts)}\")\n",
        "        test_accuracy_list.append(test_accuracy/len(test_texts))\n",
        "        test_loss_list.append(test_loss/len(test_texts))\n",
        "\n",
        "    return train_accuracy_list, test_accuracy_list, train_loss_list, test_loss_list, model\n"
      ]
    },
    {
      "cell_type": "markdown",
      "metadata": {
        "id": "uwc8XxgXc71l"
      },
      "source": [
        "## TrainTest -> loss & accuracy\n",
        "Kick off training"
      ]
    },
    {
      "cell_type": "markdown",
      "source": [
        "### batch_size=128"
      ],
      "metadata": {
        "id": "_wjqb0YULoMs"
      }
    },
    {
      "cell_type": "code",
      "execution_count": 17,
      "metadata": {
        "colab": {
          "base_uri": "https://localhost:8080/"
        },
        "id": "D2fHe5iDqTqS",
        "outputId": "3b59134b-2e97-4d15-d75d-29406161e865"
      },
      "outputs": [
        {
          "output_type": "stream",
          "name": "stderr",
          "text": [
            "100%|██████████| 79/79 [00:43<00:00,  1.83it/s]\n"
          ]
        },
        {
          "output_type": "stream",
          "name": "stdout",
          "text": [
            "Epoch 1/10, Loss: 0.6921257811546325\n",
            "Train Accuracy: 0.5234\n"
          ]
        },
        {
          "output_type": "stream",
          "name": "stderr",
          "text": [
            "100%|██████████| 8/8 [00:03<00:00,  2.02it/s]\n"
          ]
        },
        {
          "output_type": "stream",
          "name": "stdout",
          "text": [
            "Test Loss: 0.6822196664810181\n",
            "Test Accuracy: 0.581\n"
          ]
        },
        {
          "output_type": "stream",
          "name": "stderr",
          "text": [
            "100%|██████████| 79/79 [00:43<00:00,  1.84it/s]\n"
          ]
        },
        {
          "output_type": "stream",
          "name": "stdout",
          "text": [
            "Epoch 2/10, Loss: 0.6675842281341553\n",
            "Train Accuracy: 0.5951\n"
          ]
        },
        {
          "output_type": "stream",
          "name": "stderr",
          "text": [
            "100%|██████████| 8/8 [00:03<00:00,  2.02it/s]\n"
          ]
        },
        {
          "output_type": "stream",
          "name": "stdout",
          "text": [
            "Test Loss: 0.6395608243942261\n",
            "Test Accuracy: 0.629\n"
          ]
        },
        {
          "output_type": "stream",
          "name": "stderr",
          "text": [
            "100%|██████████| 79/79 [00:43<00:00,  1.84it/s]\n"
          ]
        },
        {
          "output_type": "stream",
          "name": "stdout",
          "text": [
            "Epoch 3/10, Loss: 0.5896436948299408\n",
            "Train Accuracy: 0.6953\n"
          ]
        },
        {
          "output_type": "stream",
          "name": "stderr",
          "text": [
            "100%|██████████| 8/8 [00:03<00:00,  2.02it/s]\n"
          ]
        },
        {
          "output_type": "stream",
          "name": "stdout",
          "text": [
            "Test Loss: 0.5476568841934204\n",
            "Test Accuracy: 0.723\n"
          ]
        },
        {
          "output_type": "stream",
          "name": "stderr",
          "text": [
            "100%|██████████| 79/79 [00:43<00:00,  1.83it/s]\n"
          ]
        },
        {
          "output_type": "stream",
          "name": "stdout",
          "text": [
            "Epoch 4/10, Loss: 0.47563015475273135\n",
            "Train Accuracy: 0.7921\n"
          ]
        },
        {
          "output_type": "stream",
          "name": "stderr",
          "text": [
            "100%|██████████| 8/8 [00:03<00:00,  2.03it/s]\n"
          ]
        },
        {
          "output_type": "stream",
          "name": "stdout",
          "text": [
            "Test Loss: 0.44716068243980406\n",
            "Test Accuracy: 0.815\n"
          ]
        },
        {
          "output_type": "stream",
          "name": "stderr",
          "text": [
            "100%|██████████| 79/79 [00:42<00:00,  1.84it/s]\n"
          ]
        },
        {
          "output_type": "stream",
          "name": "stdout",
          "text": [
            "Epoch 5/10, Loss: 0.36702201700210574\n",
            "Train Accuracy: 0.8511\n"
          ]
        },
        {
          "output_type": "stream",
          "name": "stderr",
          "text": [
            "100%|██████████| 8/8 [00:03<00:00,  2.02it/s]\n"
          ]
        },
        {
          "output_type": "stream",
          "name": "stdout",
          "text": [
            "Test Loss: 0.3775362505912781\n",
            "Test Accuracy: 0.85\n"
          ]
        },
        {
          "output_type": "stream",
          "name": "stderr",
          "text": [
            "100%|██████████| 79/79 [00:43<00:00,  1.83it/s]\n"
          ]
        },
        {
          "output_type": "stream",
          "name": "stdout",
          "text": [
            "Epoch 6/10, Loss: 0.2904347956597805\n",
            "Train Accuracy: 0.8907\n"
          ]
        },
        {
          "output_type": "stream",
          "name": "stderr",
          "text": [
            "100%|██████████| 8/8 [00:03<00:00,  2.02it/s]\n"
          ]
        },
        {
          "output_type": "stream",
          "name": "stdout",
          "text": [
            "Test Loss: 0.34109791278839113\n",
            "Test Accuracy: 0.866\n"
          ]
        },
        {
          "output_type": "stream",
          "name": "stderr",
          "text": [
            "100%|██████████| 79/79 [00:42<00:00,  1.84it/s]\n"
          ]
        },
        {
          "output_type": "stream",
          "name": "stdout",
          "text": [
            "Epoch 7/10, Loss: 0.2380534913212061\n",
            "Train Accuracy: 0.912\n"
          ]
        },
        {
          "output_type": "stream",
          "name": "stderr",
          "text": [
            "100%|██████████| 8/8 [00:03<00:00,  2.02it/s]\n"
          ]
        },
        {
          "output_type": "stream",
          "name": "stdout",
          "text": [
            "Test Loss: 0.319948897600174\n",
            "Test Accuracy: 0.874\n"
          ]
        },
        {
          "output_type": "stream",
          "name": "stderr",
          "text": [
            "100%|██████████| 79/79 [00:42<00:00,  1.84it/s]\n"
          ]
        },
        {
          "output_type": "stream",
          "name": "stdout",
          "text": [
            "Epoch 8/10, Loss: 0.19861882063746453\n",
            "Train Accuracy: 0.9294\n"
          ]
        },
        {
          "output_type": "stream",
          "name": "stderr",
          "text": [
            "100%|██████████| 8/8 [00:03<00:00,  2.01it/s]\n"
          ]
        },
        {
          "output_type": "stream",
          "name": "stdout",
          "text": [
            "Test Loss: 0.3098506443500519\n",
            "Test Accuracy: 0.877\n"
          ]
        },
        {
          "output_type": "stream",
          "name": "stderr",
          "text": [
            "100%|██████████| 79/79 [00:43<00:00,  1.83it/s]\n"
          ]
        },
        {
          "output_type": "stream",
          "name": "stdout",
          "text": [
            "Epoch 9/10, Loss: 0.16832674457877875\n",
            "Train Accuracy: 0.9438\n"
          ]
        },
        {
          "output_type": "stream",
          "name": "stderr",
          "text": [
            "100%|██████████| 8/8 [00:04<00:00,  1.97it/s]\n"
          ]
        },
        {
          "output_type": "stream",
          "name": "stdout",
          "text": [
            "Test Loss: 0.3110092234611511\n",
            "Test Accuracy: 0.877\n"
          ]
        },
        {
          "output_type": "stream",
          "name": "stderr",
          "text": [
            "100%|██████████| 79/79 [00:43<00:00,  1.83it/s]\n"
          ]
        },
        {
          "output_type": "stream",
          "name": "stdout",
          "text": [
            "Epoch 10/10, Loss: 0.14436749571561813\n",
            "Train Accuracy: 0.9535\n"
          ]
        },
        {
          "output_type": "stream",
          "name": "stderr",
          "text": [
            "100%|██████████| 8/8 [00:04<00:00,  2.00it/s]"
          ]
        },
        {
          "output_type": "stream",
          "name": "stdout",
          "text": [
            "Test Loss: 0.32182481145858766\n",
            "Test Accuracy: 0.866\n",
            "\n",
            "\n",
            "BatchSize==128\n",
            "============ FINAL RESULTS =============\n",
            "|            |   Trian    |    Test    |\n",
            "| ---------- | ---------- | ---------- | \n",
            "|    Accu    |   0.9535   |   0.8660   |\n",
            "|    Loss    |   0.1444   |   0.3218   |\n"
          ]
        },
        {
          "output_type": "stream",
          "name": "stderr",
          "text": [
            "\n"
          ]
        }
      ],
      "source": [
        "num_epochs = 10\n",
        "batch_size = 128\n",
        "max_length = 512\n",
        "model = EmbeddingModel(tokenizer.vocab_size, 128, 128, 2)\n",
        "optimizer = torch.optim.Adam(model.parameters(), lr=1e-3)\n",
        "\n",
        "train_accuracy_list, test_accuracy_list, train_loss_list, test_loss_list, model = train_model(num_epochs, batch_size, max_length, model, optimizer, verbose=True)\n",
        "print(\"\\n\")\n",
        "print(f\"BatchSize=={batch_size}\")\n",
        "export_results(train_accuracy_list, test_accuracy_list, train_loss_list, test_loss_list)"
      ]
    },
    {
      "cell_type": "markdown",
      "metadata": {
        "id": "BIOCxcaz5ckp"
      },
      "source": [
        "### batch_size=1024"
      ]
    },
    {
      "cell_type": "code",
      "execution_count": null,
      "metadata": {
        "id": "5FD2Hda-5ckp",
        "outputId": "4418a34d-48a0-42d0-e860-432472c68208"
      },
      "outputs": [
        {
          "name": "stderr",
          "output_type": "stream",
          "text": [
            "100%|██████████| 10/10 [00:15<00:00,  1.52s/it]\n",
            "100%|██████████| 1/1 [00:00<00:00,  1.14it/s]\n",
            "100%|██████████| 10/10 [00:11<00:00,  1.11s/it]\n",
            "100%|██████████| 1/1 [00:01<00:00,  1.20s/it]\n",
            "100%|██████████| 10/10 [00:13<00:00,  1.38s/it]\n",
            "100%|██████████| 1/1 [00:01<00:00,  1.12s/it]\n",
            "100%|██████████| 10/10 [00:09<00:00,  1.05it/s]\n",
            "100%|██████████| 1/1 [00:00<00:00,  1.22it/s]\n",
            "100%|██████████| 10/10 [00:09<00:00,  1.09it/s]\n",
            "100%|██████████| 1/1 [00:00<00:00,  1.44it/s]\n",
            "100%|██████████| 10/10 [00:09<00:00,  1.05it/s]\n",
            "100%|██████████| 1/1 [00:00<00:00,  1.70it/s]\n",
            "100%|██████████| 10/10 [00:08<00:00,  1.15it/s]\n",
            "100%|██████████| 1/1 [00:00<00:00,  1.49it/s]\n",
            "100%|██████████| 10/10 [00:10<00:00,  1.10s/it]\n",
            "100%|██████████| 1/1 [00:00<00:00,  1.03it/s]\n",
            "100%|██████████| 10/10 [00:11<00:00,  1.11s/it]\n",
            "100%|██████████| 1/1 [00:00<00:00,  1.02it/s]\n",
            "100%|██████████| 10/10 [00:11<00:00,  1.15s/it]\n",
            "100%|██████████| 1/1 [00:01<00:00,  1.12s/it]"
          ]
        },
        {
          "name": "stdout",
          "output_type": "stream",
          "text": [
            "BatchSize==1024\n",
            "============ FINAL RESULTS =============\n",
            "|            |   Trian    |    Test    |\n",
            "| ---------- | ---------- | ---------- | \n",
            "|    Accu    |   0.7364   |   0.7420   |\n",
            "|    Loss    |   0.5660   |   0.5650   |\n"
          ]
        },
        {
          "name": "stderr",
          "output_type": "stream",
          "text": [
            "\n"
          ]
        }
      ],
      "source": [
        "model2=EmbeddingModel(tokenizer.vocab_size, 128, 128, 2)\n",
        "\n",
        "num_epochs = 10\n",
        "batch_size = 1024\n",
        "max_length = 512\n",
        "optimizer = torch.optim.Adam(model2.parameters(), lr=1e-3)\n",
        "\n",
        "train_accuracy_list2, test_accuracy_list2, train_loss_list2, test_loss_list2, model2 = train_model(num_epochs, batch_size, max_length, model2, optimizer)\n",
        "print(\"\\n\")\n",
        "print(f\"BatchSize=={batch_size}\")\n",
        "export_results(train_accuracy_list2, test_accuracy_list2, train_loss_list2, test_loss_list2)"
      ]
    },
    {
      "cell_type": "markdown",
      "metadata": {
        "id": "jqQBT3SDdCRn"
      },
      "source": [
        "## Plot: Accuracy/Loss vs Epoch"
      ]
    },
    {
      "cell_type": "code",
      "execution_count": null,
      "metadata": {
        "id": "kXOWUJZ6tmT-",
        "outputId": "9ec5ef1c-ba60-4b36-aea4-0b26759fc5fa"
      },
      "outputs": [
        {
          "data": {
            "image/png": "[encoded data removed]",
            "text/plain": [
              "<Figure size 2000x600 with 2 Axes>"
            ]
          },
          "metadata": {},
          "output_type": "display_data"
        },
        {
          "data": {
            "image/png": "[encoded data removed]",
            "text/plain": [
              "<Figure size 2000x600 with 2 Axes>"
            ]
          },
          "metadata": {},
          "output_type": "display_data"
        }
      ],
      "source": [
        "### plot the train and test accuracy\n",
        "\n",
        "import matplotlib.pyplot as plt\n",
        "plt.figure(figsize=(20, 6))\n",
        "plt.suptitle(\"batchsize==128\")\n",
        "\n",
        "plt.subplot(121)\n",
        "plt.plot(train_accuracy_list, label='train_accuracy')\n",
        "plt.plot(test_accuracy_list, label='test_accuracy')\n",
        "plt.legend()\n",
        "plt.grid()\n",
        "\n",
        "plt.subplot(122)\n",
        "plt.plot(train_loss_list, label='train_loss')\n",
        "plt.plot(test_loss_list, label='test_loss')\n",
        "plt.legend()\n",
        "plt.grid()\n",
        "\n",
        "plt.figure(figsize=(20, 6))\n",
        "plt.suptitle(\"batchsize==1024\")\n",
        "plt.subplot(121)\n",
        "plt.plot(train_accuracy_list2, label='train_accuracy')\n",
        "plt.plot(test_accuracy_list2, label='test_accuracy')\n",
        "plt.legend()\n",
        "plt.grid()\n",
        "\n",
        "plt.subplot(122)\n",
        "plt.plot(train_loss_list2, label='train_loss')\n",
        "plt.plot(test_loss_list2, label='test_loss')\n",
        "plt.legend()\n",
        "plt.grid()"
      ]
    },
    {
      "cell_type": "code",
      "execution_count": null,
      "metadata": {
        "id": "27wsXg7k5ckp"
      },
      "outputs": [],
      "source": []
    },
    {
      "cell_type": "markdown",
      "metadata": {
        "id": "87nfuZx-yp1L"
      },
      "source": [
        "# Fine-tune Pre-trained Embedding Model\n",
        "\n",
        "A paragraph-level embedding may capture the contexts better than word-level embeddings.\n",
        "\n",
        "Here we use a pre-trained model (Bert-base) to provide us a paragraph-level embedding."
      ]
    },
    {
      "cell_type": "markdown",
      "metadata": {
        "id": "IQFmf2GpfPCF"
      },
      "source": [
        "We just need one line to download Bert-base, which has 110M parameters and was trained on the Toronto BookCorpus (800M words) and English Wikipedia (2,500M words)\n",
        "\n",
        "Celebrate the spirit of open-source models!"
      ]
    },
    {
      "cell_type": "code",
      "execution_count": 5,
      "metadata": {
        "id": "wvXJZAhuxQkm",
        "colab": {
          "base_uri": "https://localhost:8080/",
          "height": 81,
          "referenced_widgets": [
            "65e103eba6fa48f8a58d432a63929e35",
            "f12a21f0b848430f87d3506b2cf0a6b4",
            "b26c9584b6f14c44bbc673648b0c8f2c",
            "6756c5fc064b4a82bcc7808820022933",
            "33cb00f3bcef4885bad3d9303252e578",
            "494c07341d504021ab6e2459797729e3",
            "f3d8ba1353204c1da284655462d2c164",
            "14fc030515264f37a5f59ea1a08f2d42",
            "97b2df4559db4dfc85536a8ae4fcc5a7",
            "d7dc8a026e8c4da4bfb24260a21e3854",
            "03d6200bf648448aa674b8decd513992",
            "595293bf8e0b42ac9940cabc4aa3da0b",
            "4ea532017d654a4bb927dbf7e764defb",
            "06d7c6a55acc4bcbb83d708e34450010",
            "bfac654b2210432a9011ee6ca001c57a",
            "1b697ef5b6c049bcbd6a3f11ded8c791",
            "a8dc2245eb8d4d1b85facbbca12549e6",
            "9d4f8e4f9bd04e6682624031de3c92b5",
            "376e961c514d4787a9d48cc88f56b60b",
            "1d1c4cb668934381a00e2a5d5fdfa434",
            "db993ef7374243c380e808ba62b45b0b",
            "83e680af404e468b94cfd404e52449c9"
          ]
        },
        "outputId": "29224deb-6cfa-49e6-a6c3-26ff19d3c0e2"
      },
      "outputs": [
        {
          "output_type": "display_data",
          "data": {
            "text/plain": [
              "config.json:   0%|          | 0.00/570 [00:00<?, ?B/s]"
            ],
            "application/vnd.jupyter.widget-view+json": {
              "version_major": 2,
              "version_minor": 0,
              "model_id": "65e103eba6fa48f8a58d432a63929e35"
            }
          },
          "metadata": {}
        },
        {
          "output_type": "display_data",
          "data": {
            "text/plain": [
              "model.safetensors:   0%|          | 0.00/440M [00:00<?, ?B/s]"
            ],
            "application/vnd.jupyter.widget-view+json": {
              "version_major": 2,
              "version_minor": 0,
              "model_id": "595293bf8e0b42ac9940cabc4aa3da0b"
            }
          },
          "metadata": {}
        }
      ],
      "source": [
        "## download Bert\n",
        "import torch\n",
        "from transformers import BertTokenizer, BertModel\n",
        "\n",
        "bert_model = BertModel.from_pretrained('bert-base-uncased')"
      ]
    },
    {
      "cell_type": "markdown",
      "metadata": {
        "id": "rpQ2cbxZfwqX"
      },
      "source": [
        "We also donwload the tokenizer again and make the tokenizer is consistent with the bert model"
      ]
    },
    {
      "cell_type": "code",
      "execution_count": 6,
      "metadata": {
        "id": "5hlv8SsQy0_t",
        "colab": {
          "base_uri": "https://localhost:8080/",
          "height": 113,
          "referenced_widgets": [
            "6132e61d9699411cac0e6efc54534c5d",
            "0d26d18fc0fa4b84ad6f85ec7f4c1cc7",
            "52194b4929e244beb43f06615faf00e9",
            "b15aeda4f7db46a2a4509f8fdad4bf00",
            "47649f80722840fcaa6ee55fcbd97e14",
            "e89ae389560d4cff9fd7d7fb699f3ab1",
            "78ed3a7c37424f50bd2427e414414cd0",
            "defbcfb17a714a2183b98bbac6ddd6f5",
            "ab89dfebcca7483aabd02f65cf2fd669",
            "e2e379f019314368bb987b4b6f7e3fcf",
            "19ff64f2645340549d79ce517e8dd43f",
            "2756ac255e4a40c1b6389a800a4df4a4",
            "ee6cecaae34c4bba86ce05420b51764b",
            "1658221f86ef455dab16c42cb8d3cb8c",
            "b6d73074294f4ab4a482fd4bea68ba71",
            "0742fa3cb86b430faf5441ce70542946",
            "877cccb7b8154dbebefb99b219bf3198",
            "2f8874fe05784d84a33639ccc09581ba",
            "85a98a6c9f104179a38163e5de6d821e",
            "ccbb416464fb499a96abeebd36993f70",
            "5fef7cd1315e45ce8ce481b1eb880d2b",
            "8f52c78022ac4bb3810def1d87fa5849",
            "1e4bf5e3b5744728b304b660ab3ecad5",
            "f1849833435543e5bd16fa8fd0e90891",
            "9eb901ff97ed4d3980ce0adb1005bb85",
            "edd530e96c9e489cbb7fa993afdad708",
            "9a9703bf72484e3a9b802a09695da993",
            "2e964b6e4c8942d6b8bc45ec9837761b",
            "03c3e134c9844e10aacef1a03c5a77e3",
            "ec237943bfb4483fb44b046982db15c0",
            "19f6ba44504049b38e0cc96679653e3f",
            "370356b87be34cf792a8e090241ae65f",
            "67a5fd72865841a7b4ee06d17a5f7a55"
          ]
        },
        "outputId": "b9bf1a9b-b2b6-4a79-f900-18cb07ed8895"
      },
      "outputs": [
        {
          "output_type": "display_data",
          "data": {
            "text/plain": [
              "tokenizer_config.json:   0%|          | 0.00/48.0 [00:00<?, ?B/s]"
            ],
            "application/vnd.jupyter.widget-view+json": {
              "version_major": 2,
              "version_minor": 0,
              "model_id": "6132e61d9699411cac0e6efc54534c5d"
            }
          },
          "metadata": {}
        },
        {
          "output_type": "display_data",
          "data": {
            "text/plain": [
              "vocab.txt:   0%|          | 0.00/232k [00:00<?, ?B/s]"
            ],
            "application/vnd.jupyter.widget-view+json": {
              "version_major": 2,
              "version_minor": 0,
              "model_id": "2756ac255e4a40c1b6389a800a4df4a4"
            }
          },
          "metadata": {}
        },
        {
          "output_type": "display_data",
          "data": {
            "text/plain": [
              "tokenizer.json:   0%|          | 0.00/466k [00:00<?, ?B/s]"
            ],
            "application/vnd.jupyter.widget-view+json": {
              "version_major": 2,
              "version_minor": 0,
              "model_id": "1e4bf5e3b5744728b304b660ab3ecad5"
            }
          },
          "metadata": {}
        }
      ],
      "source": [
        "tokenizer = BertTokenizer.from_pretrained('bert-base-uncased')"
      ]
    },
    {
      "cell_type": "markdown",
      "source": [
        "We build the ClassificationModel with Bert as a base_model.\n",
        "\n",
        "We freeze the base model parameters except last two layers so that we are not changing most parameters while fine-tuning."
      ],
      "metadata": {
        "id": "Ze-5Pn1gLxD8"
      }
    },
    {
      "cell_type": "markdown",
      "metadata": {
        "id": "dEwViSlegEIR"
      },
      "source": [
        "# Problem 2\n",
        "\n",
        "Modify the code for fine-tuning using BERT.\n",
        "\n",
        "  \n",
        "\n",
        "1. [2 pts] Freeze the base model (making its parameters non-trainable) and add a hidden layer (with a dimension size of 128) with a ReLU activation function, similar to what was done in Problem 1. Report the accuracy and loss after 2 epochs.\n",
        "\n",
        "- BatchSize==64\n",
        "\n",
        "|            |   Trian    |    Test    |\n",
        "| ---------- | ---------- | ---------- |\n",
        "|    Accu    |   0.8522   |   0.8730   |\n",
        "|    Loss    |   0.3443   |   0.3110   |\n",
        "```md\n",
        "## Make BatchSize comparable to problem 1\n",
        "```\n",
        "\n",
        "- BatchSize==128\n",
        "\n",
        "|            |   Trian    |    Test    |\n",
        "| ---------- | ---------- | ---------- |\n",
        "|    Accu    |   0.8505   |   0.8610   |\n",
        "|    Loss    |   0.3462   |   0.3284   |\n",
        "\n",
        "\n",
        "2. [1 pt] Provide an explanation for any difference observed in Problem 2 compared to Problem 1.\n",
        "\n",
        "P1-simpleModel (Epoch 2/10)\n",
        "\n",
        "|            |   Trian    |    Test    |\n",
        "| ---------- | ---------- | ---------- |\n",
        "|    Accu    |   0.5951   |   0.6290   |\n",
        "|    Loss    |   0.6676   |   0.6396   |\n",
        "> Difference:\n",
        "\n",
        "The simple baseline model trained from scratch seems underfitting. After 2 epochs, the pre-trained bert model gives nearly the same accuracy as the simple model does after 10 epochs.\n",
        "\n",
        "> Explanation (why P2-model is better?):\n",
        "  - Pretrained: bert model starts with pretrained token knowledge, even with most params frozen and only updated for the last 2 layers.\n",
        "\n",
        "  - BERT(attention) is better than AvePooling: the **_same_** parts for 2 models are the hidden layer + ReLU + Logits layer. So the **_delta_** lies in the BERT(attention) vs Bagging(average), where BERT gives a better sentence/paragraph-level CLS input to the same later layers.\n"
      ]
    },
    {
      "cell_type": "code",
      "execution_count": 7,
      "metadata": {
        "id": "T8sPCAEwy6yR"
      },
      "outputs": [],
      "source": [
        "import torch\n",
        "import torch.nn as nn\n",
        "import torch.nn.functional as F\n",
        "\n",
        "class ClassificationModel(nn.Module):\n",
        "    def __init__(self, base_model:nn.Module, embedding_dim:int, hidden_dim:int, num_classes:int, freeze_base_model:bool=True):\n",
        "        super().__init__()\n",
        "        self.base_model = base_model\n",
        "        self.fc0 = nn.Linear(embedding_dim, hidden_dim)\n",
        "        self.fc1 = nn.Linear(hidden_dim, num_classes)\n",
        "        self.freeze_base_model_ = freeze_base_model\n",
        "        self.tag_trainable_baseModel_params(self.freeze_base_model_)\n",
        "\n",
        "    def tag_trainable_baseModel_params(self, is_frozen):\n",
        "        for p in self.base_model.parameters():\n",
        "            p.requires_grad = is_frozen\n",
        "\n",
        "    def forward(self, inputs):\n",
        "        if self.freeze_base_model_:\n",
        "            self.base_model.eval()\n",
        "            with torch.no_grad():\n",
        "                outputs = self.base_model(**inputs)\n",
        "        else:\n",
        "            outputs = self.base_model(**inputs)\n",
        "\n",
        "        cls_embedding = outputs.last_hidden_state[:, 0, :] #embedding of the first token (cls_token, which is a special token that provides paragraph-level embedding)\n",
        "        # print(cls_embedding.shape) ## >>> [batch, 768]\n",
        "        cls_tmp = nn.ReLU()(\n",
        "            self.fc0(cls_embedding)\n",
        "        )\n",
        "        logits = self.fc1(cls_tmp)\n",
        "        return logits"
      ]
    },
    {
      "cell_type": "markdown",
      "metadata": {
        "id": "oMbUF2fAgoUW"
      },
      "source": [
        "Create a model and move the model to GPU memory"
      ]
    },
    {
      "cell_type": "code",
      "execution_count": 8,
      "metadata": {
        "id": "H_rA5VWSt-ED"
      },
      "outputs": [],
      "source": [
        "model = ClassificationModel(bert_model, 768, 128, 2)\n",
        "# model = model.to(DEVICE) # we need to move model to cuda to use GPU"
      ]
    },
    {
      "cell_type": "markdown",
      "metadata": {
        "id": "w_L70XIQgse_"
      },
      "source": [
        "Test whether the output dimension is correct"
      ]
    },
    {
      "cell_type": "code",
      "execution_count": null,
      "metadata": {
        "colab": {
          "base_uri": "https://localhost:8080/"
        },
        "id": "tcC9XmADuNmp",
        "outputId": "b1f85b78-8745-4e82-f0da-d31dbf678c28"
      },
      "outputs": [
        {
          "name": "stdout",
          "output_type": "stream",
          "text": [
            "torch.Size([2, 2])\n"
          ]
        },
        {
          "data": {
            "text/plain": [
              "tensor([[-0.2048,  0.1449],\n",
              "        [-0.1822,  0.1720]], grad_fn=<AddmmBackward0>)"
            ]
          },
          "execution_count": 183,
          "metadata": {},
          "output_type": "execute_result"
        }
      ],
      "source": [
        "input = tokenizer(['hello world', 'go go power'], return_tensors='pt', padding=True, truncation=True, max_length=4)\n",
        "# input = input.to(DEVICE) ### NO CUDA ON MY LOCAL DEVICE\n",
        "output = model(input)\n",
        "print(output.shape)\n",
        "output"
      ]
    },
    {
      "cell_type": "markdown",
      "metadata": {
        "id": "lx2Yw1T6g0h6"
      },
      "source": [
        "The input actually includes `input_ids` and `attention_mask`. We will explain their meanings later when we talk about transformers."
      ]
    },
    {
      "cell_type": "markdown",
      "metadata": {
        "id": "hfFx6gMmjKgq"
      },
      "source": [
        "Kickoff training.\n",
        "\n",
        "To run the following code, we suggest you switch to L4 GPU (about 3min per epoch) or A100 GPU (about 2min per epoch). After you switch the code, you need to rerun the data processing. Check [here](https://saturncloud.io/blog/how-to-activate-gpu-computing-in-google-colab/) for instructions."
      ]
    },
    {
      "cell_type": "code",
      "source": [
        "(train_texts.__sizeof__()), len(train_texts)"
      ],
      "metadata": {
        "colab": {
          "base_uri": "https://localhost:8080/"
        },
        "id": "gK0D5fuvLMju",
        "outputId": "e6999292-e6b7-46ac-83d0-ad8e4546a3eb"
      },
      "execution_count": 18,
      "outputs": [
        {
          "output_type": "execute_result",
          "data": {
            "text/plain": [
              "(80040, 10000)"
            ]
          },
          "metadata": {},
          "execution_count": 18
        }
      ]
    },
    {
      "cell_type": "code",
      "source": [
        "np.sum([len(t) for t in train_texts])"
      ],
      "metadata": {
        "colab": {
          "base_uri": "https://localhost:8080/"
        },
        "id": "eo9YdciONksu",
        "outputId": "2dca5b5d-73eb-4d2c-d4d6-26b5ee368f61"
      },
      "execution_count": 8,
      "outputs": [
        {
          "output_type": "execute_result",
          "data": {
            "text/plain": [
              "np.int64(13217740)"
            ]
          },
          "metadata": {},
          "execution_count": 8
        }
      ]
    },
    {
      "cell_type": "code",
      "execution_count": 18,
      "metadata": {
        "colab": {
          "base_uri": "https://localhost:8080/"
        },
        "outputId": "fa08bb57-28c2-47a6-cc83-8c378ce89a5d",
        "id": "m56eoQbx3ukt"
      },
      "outputs": [
        {
          "output_type": "stream",
          "name": "stdout",
          "text": [
            "============= CONFIG ============\n",
            "DEVICE               | cuda  \n",
            "num_epochs           | 2     \n",
            "batch_size           | 128   \n",
            "max_length           | 512   \n",
            "n_trainable_params   | 203   \n",
            "=================================\n"
          ]
        },
        {
          "output_type": "stream",
          "name": "stderr",
          "text": [
            "100%|██████████| 79/79 [01:35<00:00,  1.21s/it]\n"
          ]
        },
        {
          "output_type": "stream",
          "name": "stdout",
          "text": [
            "Epoch 1/2, Loss: 0.43414440622329714\n",
            "Train Accuracy: 0.7988\n"
          ]
        },
        {
          "output_type": "stream",
          "name": "stderr",
          "text": [
            "100%|██████████| 8/8 [00:09<00:00,  1.17s/it]\n"
          ]
        },
        {
          "output_type": "stream",
          "name": "stdout",
          "text": [
            "Test Loss: 0.3461093745231628\n",
            "Test Accuracy: 0.847\n"
          ]
        },
        {
          "output_type": "stream",
          "name": "stderr",
          "text": [
            "100%|██████████| 79/79 [01:35<00:00,  1.20s/it]\n"
          ]
        },
        {
          "output_type": "stream",
          "name": "stdout",
          "text": [
            "Epoch 2/2, Loss: 0.3461538448572159\n",
            "Train Accuracy: 0.8505\n"
          ]
        },
        {
          "output_type": "stream",
          "name": "stderr",
          "text": [
            "100%|██████████| 8/8 [00:09<00:00,  1.17s/it]"
          ]
        },
        {
          "output_type": "stream",
          "name": "stdout",
          "text": [
            "Test Loss: 0.3284197075366974\n",
            "Test Accuracy: 0.861\n",
            "\n",
            "\n",
            "BatchSize==128\n",
            "============ FINAL RESULTS =============\n",
            "|            |   Trian    |    Test    |\n",
            "| ---------- | ---------- | ---------- | \n",
            "|    Accu    |   0.8505   |   0.8610   |\n",
            "|    Loss    |   0.3462   |   0.3284   |\n"
          ]
        },
        {
          "output_type": "stream",
          "name": "stderr",
          "text": [
            "\n"
          ]
        }
      ],
      "source": [
        "DEVICE = 'cuda' if torch.cuda.is_available() else 'cpu'\n",
        "num_epochs = 2\n",
        "batch_size = 128 # Reduced batch size to prevent CUDA OOM\n",
        "max_length = 512\n",
        "\n",
        "model = ClassificationModel(bert_model, 768, 128, 2)\n",
        "model = model.to(DEVICE)\n",
        "trainable_params = [p for p in model.parameters() if p.requires_grad]\n",
        "optimizer = torch.optim.Adam(trainable_params, lr=1e-3)\n",
        "\n",
        "print(f\"============= CONFIG ============\")\n",
        "print(f\"{'DEVICE':<20} | {DEVICE:<6}\")\n",
        "print(f\"{'num_epochs':<20} | {num_epochs:<6}\")\n",
        "print(f\"{'batch_size':<20} | {batch_size:<6}\")\n",
        "print(f\"{'max_length':<20} | {max_length:<6}\")\n",
        "print(f\"{'n_trainable_params':<20} | {len(trainable_params):<6}\")\n",
        "print(f\"=================================\")\n",
        "\n",
        "\n",
        "train_accuracy_list = []\n",
        "test_accuracy_list = []\n",
        "train_loss_list = []\n",
        "test_loss_list = []\n",
        "\n",
        "for epoch in range(num_epochs):\n",
        "    train_loss = 0.0\n",
        "    train_accuracy = 0.0\n",
        "    model.train()\n",
        "    for batch in tqdm(range(0, len(train_texts), batch_size)):\n",
        "        input = train_texts[batch:batch+batch_size]\n",
        "        labels = train_labels[batch:batch+batch_size]\n",
        "\n",
        "        input = tokenizer(input, padding=True, truncation=True, max_length=max_length, return_tensors='pt')\n",
        "        labels = torch.tensor(labels)\n",
        "\n",
        "        input = input.to(DEVICE)\n",
        "        labels = labels.to(DEVICE)\n",
        "        logits = model(input)\n",
        "        loss = nn.CrossEntropyLoss()(logits, labels)\n",
        "\n",
        "        train_loss += loss.item() * len(labels)\n",
        "        train_accuracy += (logits.argmax(dim=1) == labels).sum().item()\n",
        "\n",
        "        loss.backward()\n",
        "        optimizer.step()\n",
        "        optimizer.zero_grad()\n",
        "\n",
        "    print(f\"Epoch {epoch+1}/{num_epochs}, Loss: {train_loss/len(train_texts)}\")\n",
        "    print(f\"Train Accuracy: {train_accuracy/len(train_texts)}\")\n",
        "    train_accuracy_list.append(train_accuracy/len(train_texts))\n",
        "    train_loss_list.append(train_loss/len(train_texts))\n",
        "\n",
        "    test_loss = 0.0\n",
        "    test_accuracy = 0.0\n",
        "    model.eval()\n",
        "    with torch.no_grad():\n",
        "        for batch in tqdm(range(0, len(test_texts), batch_size)):\n",
        "            input = test_texts[batch:batch+batch_size]\n",
        "            labels = test_labels[batch:batch+batch_size]\n",
        "            input = tokenizer(input, padding=True, truncation=True, max_length=max_length, return_tensors='pt')\n",
        "            labels = torch.tensor(labels)\n",
        "            input = input.to(DEVICE)\n",
        "            labels = labels.to(DEVICE)\n",
        "            logits = model(input)\n",
        "            loss = nn.CrossEntropyLoss()(logits, labels)\n",
        "            test_loss += loss.item() * len(labels)\n",
        "            test_accuracy += (logits.argmax(dim=1) == labels).sum().item()\n",
        "\n",
        "    print(f\"Test Loss: {test_loss/len(test_texts)}\")\n",
        "    print(f\"Test Accuracy: {test_accuracy/len(test_texts)}\")\n",
        "    test_accuracy_list.append(test_accuracy/len(test_texts))\n",
        "    test_loss_list.append(test_loss/len(test_texts))\n",
        "\n",
        "print(\"\\n\")\n",
        "print(f\"BatchSize=={batch_size}\")\n",
        "export_results(train_accuracy_list, test_accuracy_list, train_loss_list, test_loss_list)"
      ]
    },
    {
      "cell_type": "code",
      "execution_count": 20,
      "metadata": {
        "colab": {
          "base_uri": "https://localhost:8080/",
          "height": 448
        },
        "id": "y68f2yMWjVJh",
        "outputId": "bcb97e59-135d-4e04-d8dc-e0cc116d74f2"
      },
      "outputs": [
        {
          "output_type": "execute_result",
          "data": {
            "text/plain": [
              "<matplotlib.legend.Legend at 0x79c2684ffbc0>"
            ]
          },
          "metadata": {},
          "execution_count": 20
        },
        {
          "output_type": "display_data",
          "data": {
            "text/plain": [
              "<Figure size 640x480 with 1 Axes>"
            ],
            "image/png": "[encoded data removed]"
          },
          "metadata": {}
        }
      ],
      "source": [
        "### plot the train and test accuracy\n",
        "from matplotlib import pyplot as plt\n",
        "plt.plot(train_accuracy_list, label='train_accuracy')\n",
        "plt.plot(test_accuracy_list, label='test_accuracy')\n",
        "plt.xticks(range(num_epochs), range(1,num_epochs+1))\n",
        "plt.legend()"
      ]
    },
    {
      "cell_type": "markdown",
      "metadata": {
        "id": "0J5CihOgytL_"
      },
      "source": [
        "# LLM-based zero-shot classification\n",
        "\n",
        "Next, we are going to demo how to use LLM to do text classification without any training.\n",
        "\n",
        "Let's start with installing the package.\n",
        "\n",
        "llm-batch-helper (https://pypi.org/project/llm_batch_helper/) is a package that calling LLMs with parallelization, caching, and retry functionality."
      ]
    },
    {
      "cell_type": "code",
      "execution_count": 38,
      "metadata": {
        "colab": {
          "base_uri": "https://localhost:8080/"
        },
        "id": "ExccjXW6aaxn",
        "outputId": "062c3e9a-43d0-4670-84bb-e5fb58dfba9c"
      },
      "outputs": [
        {
          "output_type": "stream",
          "name": "stdout",
          "text": [
            "Requirement already satisfied: llm-batch-helper==0.3.2 in /usr/local/lib/python3.12/dist-packages (0.3.2)\n",
            "Requirement already satisfied: httpx<2.0.0,>=0.24.0 in /usr/local/lib/python3.12/dist-packages (from llm-batch-helper==0.3.2) (0.28.1)\n",
            "Requirement already satisfied: openai<2.0.0,>=1.0.0 in /usr/local/lib/python3.12/dist-packages (from llm-batch-helper==0.3.2) (1.106.1)\n",
            "Requirement already satisfied: tenacity<9.0.0,>=8.0.0 in /usr/local/lib/python3.12/dist-packages (from llm-batch-helper==0.3.2) (8.5.0)\n",
            "Requirement already satisfied: tqdm<5.0.0,>=4.65.0 in /usr/local/lib/python3.12/dist-packages (from llm-batch-helper==0.3.2) (4.67.1)\n",
            "Requirement already satisfied: anyio in /usr/local/lib/python3.12/dist-packages (from httpx<2.0.0,>=0.24.0->llm-batch-helper==0.3.2) (4.10.0)\n",
            "Requirement already satisfied: certifi in /usr/local/lib/python3.12/dist-packages (from httpx<2.0.0,>=0.24.0->llm-batch-helper==0.3.2) (2025.8.3)\n",
            "Requirement already satisfied: httpcore==1.* in /usr/local/lib/python3.12/dist-packages (from httpx<2.0.0,>=0.24.0->llm-batch-helper==0.3.2) (1.0.9)\n",
            "Requirement already satisfied: idna in /usr/local/lib/python3.12/dist-packages (from httpx<2.0.0,>=0.24.0->llm-batch-helper==0.3.2) (3.10)\n",
            "Requirement already satisfied: h11>=0.16 in /usr/local/lib/python3.12/dist-packages (from httpcore==1.*->httpx<2.0.0,>=0.24.0->llm-batch-helper==0.3.2) (0.16.0)\n",
            "Requirement already satisfied: distro<2,>=1.7.0 in /usr/local/lib/python3.12/dist-packages (from openai<2.0.0,>=1.0.0->llm-batch-helper==0.3.2) (1.9.0)\n",
            "Requirement already satisfied: jiter<1,>=0.4.0 in /usr/local/lib/python3.12/dist-packages (from openai<2.0.0,>=1.0.0->llm-batch-helper==0.3.2) (0.10.0)\n",
            "Requirement already satisfied: pydantic<3,>=1.9.0 in /usr/local/lib/python3.12/dist-packages (from openai<2.0.0,>=1.0.0->llm-batch-helper==0.3.2) (2.11.7)\n",
            "Requirement already satisfied: sniffio in /usr/local/lib/python3.12/dist-packages (from openai<2.0.0,>=1.0.0->llm-batch-helper==0.3.2) (1.3.1)\n",
            "Requirement already satisfied: typing-extensions<5,>=4.11 in /usr/local/lib/python3.12/dist-packages (from openai<2.0.0,>=1.0.0->llm-batch-helper==0.3.2) (4.15.0)\n",
            "Requirement already satisfied: annotated-types>=0.6.0 in /usr/local/lib/python3.12/dist-packages (from pydantic<3,>=1.9.0->openai<2.0.0,>=1.0.0->llm-batch-helper==0.3.2) (0.7.0)\n",
            "Requirement already satisfied: pydantic-core==2.33.2 in /usr/local/lib/python3.12/dist-packages (from pydantic<3,>=1.9.0->openai<2.0.0,>=1.0.0->llm-batch-helper==0.3.2) (2.33.2)\n",
            "Requirement already satisfied: typing-inspection>=0.4.0 in /usr/local/lib/python3.12/dist-packages (from pydantic<3,>=1.9.0->openai<2.0.0,>=1.0.0->llm-batch-helper==0.3.2) (0.4.1)\n"
          ]
        }
      ],
      "source": [
        "!pip install llm-batch-helper==0.3.2"
      ]
    },
    {
      "cell_type": "markdown",
      "metadata": {
        "id": "CJxWW0BOcRun"
      },
      "source": [
        "An example of using the llm_batch_helper package.\n",
        "\n",
        "Here we suggest the usage of OpenRouter for calling LLMs. OpenRouter provides a universal account for invoking various LLMs. Sometimes free tokens might be offered for state-of-the-art models (e.g., https://openrouter.ai/moonshotai/kimi-k2:free)."
      ]
    },
    {
      "cell_type": "code",
      "source": [
        "MODEL = [\n",
        "    'deepseek/deepseek-chat-v3.1:free',\n",
        "    'moonshotai/kimi-k2:free',\n",
        "    'rekaai/reka-flash-3:free',\n",
        "    'nousresearch/deephermes-3-llama-3-8b-preview:free',\n",
        "    'openai/gpt-oss-20b:free',\n",
        "]"
      ],
      "metadata": {
        "id": "BHBUcA5LQg3k"
      },
      "execution_count": 41,
      "outputs": []
    },
    {
      "cell_type": "code",
      "execution_count": 43,
      "metadata": {
        "colab": {
          "base_uri": "https://localhost:8080/",
          "height": 1000
        },
        "id": "2eoujZnOyaQy",
        "outputId": "58a121a1-d724-4531-89fa-a07af3cd176c"
      },
      "outputs": [
        {
          "output_type": "stream",
          "name": "stdout",
          "text": [
            "❌ [03:40:20] API call failed on attempt 5: LLM API call failed after internal retries: Client error '429 Too Many Requests' for url 'https://openrouter.ai/api/v1/chat/completions'\n",
            "For more information check: https://developer.mozilla.org/en-US/docs/Web/HTTP/Status/429\n"
          ]
        },
        {
          "output_type": "stream",
          "name": "stderr",
          "text": [
            "\rClassifying:   0%|          | 0/3 [00:00<?, ?it/s]"
          ]
        },
        {
          "output_type": "stream",
          "name": "stdout",
          "text": [
            "🔁 [03:40:22] Application-level retry 5/5 for prompt: 898\n",
            "❌ [03:40:22] API call failed on attempt 5: LLM API call failed after internal retries: Client error '429 Too Many Requests' for url 'https://openrouter.ai/api/v1/chat/completions'\n",
            "For more information check: https://developer.mozilla.org/en-US/docs/Web/HTTP/Status/429\n",
            "❌ [03:40:22] API call failed on attempt 1: LLM API call failed after internal retries: Client error '429 Too Many Requests' for url 'https://openrouter.ai/api/v1/chat/completions'\n",
            "For more information check: https://developer.mozilla.org/en-US/docs/Web/HTTP/Status/429\n",
            "   Waiting 2s before next application retry...\n",
            "🔁 [03:40:22] Application-level retry 5/5 for prompt: 7\n",
            "🔄 [03:40:23] Retry attempt 1/5:\n",
            "   Error: HTTPStatusError (status: 429)\n",
            "   Message: Client error '429 Too Many Requests' for url 'https://openrouter.ai/api/v1/chat/completions'\n",
            "For mor...\n",
            "   Waiting 4.0s before next attempt...\n",
            "\n",
            "🔄 [03:40:23] Retry attempt 1/5:\n",
            "   Error: HTTPStatusError (status: 429)\n",
            "   Message: Client error '429 Too Many Requests' for url 'https://openrouter.ai/api/v1/chat/completions'\n",
            "For mor...\n",
            "   Waiting 4.0s before next attempt...\n",
            "\n",
            "🔄 [03:40:23] Retry attempt 1/5:\n",
            "   Error: HTTPStatusError (status: 429)\n",
            "   Message: Client error '429 Too Many Requests' for url 'https://openrouter.ai/api/v1/chat/completions'\n",
            "For mor...\n",
            "   Waiting 4.0s before next attempt...\n",
            "\n",
            "🔄 [03:40:23] Retry attempt 3/5:\n",
            "   Error: HTTPStatusError (status: 429)\n",
            "   Message: Client error '429 Too Many Requests' for url 'https://openrouter.ai/api/v1/chat/completions'\n",
            "For mor...\n",
            "   Waiting 4.0s before next attempt...\n",
            "\n",
            "🔄 [03:40:23] Retry attempt 1/5:\n",
            "   Error: HTTPStatusError (status: 429)\n",
            "   Message: Client error '429 Too Many Requests' for url 'https://openrouter.ai/api/v1/chat/completions'\n",
            "For mor...\n",
            "   Waiting 4.0s before next attempt...\n",
            "\n",
            "🔄 [03:40:23] Retry attempt 1/5:\n",
            "   Error: HTTPStatusError (status: 429)\n",
            "   Message: Client error '429 Too Many Requests' for url 'https://openrouter.ai/api/v1/chat/completions'\n",
            "For mor...\n",
            "   Waiting 4.0s before next attempt...\n",
            "\n",
            "❌ [03:40:23] API call failed on attempt 2: LLM API call failed after internal retries: Client error '429 Too Many Requests' for url 'https://openrouter.ai/api/v1/chat/completions'\n",
            "For more information check: https://developer.mozilla.org/en-US/docs/Web/HTTP/Status/429\n",
            "   Waiting 4s before next application retry...\n",
            "🔄 [03:40:23] Retry attempt 3/5:\n",
            "   Error: HTTPStatusError (status: 429)\n",
            "   Message: Client error '429 Too Many Requests' for url 'https://openrouter.ai/api/v1/chat/completions'\n",
            "For mor...\n",
            "   Waiting 4.0s before next attempt...\n",
            "\n",
            "🔄 [03:40:23] Retry attempt 3/5:\n",
            "   Error: HTTPStatusError (status: 429)\n",
            "   Message: Client error '429 Too Many Requests' for url 'https://openrouter.ai/api/v1/chat/completions'\n",
            "For mor...\n",
            "   Waiting 4.0s before next attempt...\n",
            "\n",
            "🔄 [03:40:23] Retry attempt 4/5:\n",
            "   Error: HTTPStatusError (status: 429)\n",
            "   Message: Client error '429 Too Many Requests' for url 'https://openrouter.ai/api/v1/chat/completions'\n",
            "For mor...\n",
            "   Waiting 8.0s before next attempt...\n",
            "\n",
            "🔄 [03:40:23] Retry attempt 4/5:\n",
            "   Error: HTTPStatusError (status: 429)\n",
            "   Message: Client error '429 Too Many Requests' for url 'https://openrouter.ai/api/v1/chat/completions'\n",
            "For mor...\n",
            "   Waiting 8.0s before next attempt...\n",
            "\n",
            "🔄 [03:40:23] Retry attempt 1/5:\n",
            "   Error: HTTPStatusError (status: 429)\n",
            "   Message: Client error '429 Too Many Requests' for url 'https://openrouter.ai/api/v1/chat/completions'\n",
            "For mor...\n",
            "   Waiting 4.0s before next attempt...\n",
            "\n",
            "🔄 [03:40:23] Retry attempt 2/5:\n",
            "   Error: HTTPStatusError (status: 429)\n",
            "   Message: Client error '429 Too Many Requests' for url 'https://openrouter.ai/api/v1/chat/completions'\n",
            "For mor...\n",
            "   Waiting 4.0s before next attempt...\n",
            "\n",
            "🔄 [03:40:23] Retry attempt 3/5:\n",
            "   Error: HTTPStatusError (status: 429)\n",
            "   Message: Client error '429 Too Many Requests' for url 'https://openrouter.ai/api/v1/chat/completions'\n",
            "For mor...\n",
            "   Waiting 4.0s before next attempt...\n",
            "\n",
            "🔄 [03:40:23] Retry attempt 3/5:\n",
            "   Error: HTTPStatusError (status: 429)\n",
            "   Message: Client error '429 Too Many Requests' for url 'https://openrouter.ai/api/v1/chat/completions'\n",
            "For mor...\n",
            "   Waiting 4.0s before next attempt...\n",
            "\n",
            "🔄 [03:40:23] Retry attempt 2/5:\n",
            "   Error: HTTPStatusError (status: 429)\n",
            "   Message: Client error '429 Too Many Requests' for url 'https://openrouter.ai/api/v1/chat/completions'\n",
            "For mor...\n",
            "   Waiting 4.0s before next attempt...\n",
            "\n",
            "🔄 [03:40:23] Retry attempt 3/5:\n",
            "   Error: HTTPStatusError (status: 429)\n",
            "   Message: Client error '429 Too Many Requests' for url 'https://openrouter.ai/api/v1/chat/completions'\n",
            "For mor...\n",
            "   Waiting 4.0s before next attempt...\n",
            "\n",
            "🔄 [03:40:23] Retry attempt 3/5:\n",
            "   Error: HTTPStatusError (status: 429)\n",
            "   Message: Client error '429 Too Many Requests' for url 'https://openrouter.ai/api/v1/chat/completions'\n",
            "For mor...\n",
            "   Waiting 4.0s before next attempt...\n",
            "\n",
            "🔄 [03:40:23] Retry attempt 4/5:\n",
            "   Error: HTTPStatusError (status: 429)\n",
            "   Message: Client error '429 Too Many Requests' for url 'https://openrouter.ai/api/v1/chat/completions'\n",
            "For mor...\n",
            "   Waiting 8.0s before next attempt...\n",
            "\n",
            "🔄 [03:40:23] Retry attempt 2/5:\n",
            "   Error: HTTPStatusError (status: 429)\n",
            "   Message: Client error '429 Too Many Requests' for url 'https://openrouter.ai/api/v1/chat/completions'\n",
            "For mor...\n",
            "   Waiting 4.0s before next attempt...\n",
            "\n",
            "🔄 [03:40:23] Retry attempt 3/5:\n",
            "   Error: HTTPStatusError (status: 429)\n",
            "   Message: Client error '429 Too Many Requests' for url 'https://openrouter.ai/api/v1/chat/completions'\n",
            "For mor...\n",
            "   Waiting 4.0s before next attempt...\n",
            "\n",
            "🔄 [03:40:23] Retry attempt 3/5:\n",
            "   Error: HTTPStatusError (status: 429)\n",
            "   Message: Client error '429 Too Many Requests' for url 'https://openrouter.ai/api/v1/chat/completions'\n",
            "For mor...\n",
            "   Waiting 4.0s before next attempt...\n",
            "\n",
            "❌ [03:40:23] API call failed on attempt 2: LLM API call failed after internal retries: Client error '429 Too Many Requests' for url 'https://openrouter.ai/api/v1/chat/completions'\n",
            "For more information check: https://developer.mozilla.org/en-US/docs/Web/HTTP/Status/429\n",
            "   Waiting 4s before next application retry...\n",
            "🔄 [03:40:23] Retry attempt 2/5:\n",
            "   Error: HTTPStatusError (status: 429)\n",
            "   Message: Client error '429 Too Many Requests' for url 'https://openrouter.ai/api/v1/chat/completions'\n",
            "For mor...\n",
            "   Waiting 4.0s before next attempt...\n",
            "\n",
            "🔄 [03:40:23] Retry attempt 1/5:\n",
            "   Error: HTTPStatusError (status: 429)\n",
            "   Message: Client error '429 Too Many Requests' for url 'https://openrouter.ai/api/v1/chat/completions'\n",
            "For mor...\n",
            "   Waiting 4.0s before next attempt...\n",
            "\n",
            "🔄 [03:40:23] Retry attempt 3/5:\n",
            "   Error: HTTPStatusError (status: 429)\n",
            "   Message: Client error '429 Too Many Requests' for url 'https://openrouter.ai/api/v1/chat/completions'\n",
            "For mor...\n",
            "   Waiting 4.0s before next attempt...\n",
            "\n",
            "🔄 [03:40:23] Retry attempt 3/5:\n",
            "   Error: HTTPStatusError (status: 429)\n",
            "   Message: Client error '429 Too Many Requests' for url 'https://openrouter.ai/api/v1/chat/completions'\n",
            "For mor...\n",
            "   Waiting 4.0s before next attempt...\n",
            "\n",
            "🔄 [03:40:23] Retry attempt 1/5:\n",
            "   Error: HTTPStatusError (status: 429)\n",
            "   Message: Client error '429 Too Many Requests' for url 'https://openrouter.ai/api/v1/chat/completions'\n",
            "For mor...\n",
            "   Waiting 4.0s before next attempt...\n",
            "\n",
            "🔄 [03:40:23] Retry attempt 3/5:\n",
            "   Error: HTTPStatusError (status: 429)\n",
            "   Message: Client error '429 Too Many Requests' for url 'https://openrouter.ai/api/v1/chat/completions'\n",
            "For mor...\n",
            "   Waiting 4.0s before next attempt...\n",
            "\n",
            "❌ [03:40:23] API call failed on attempt 5: LLM API call failed after internal retries: Client error '429 Too Many Requests' for url 'https://openrouter.ai/api/v1/chat/completions'\n",
            "For more information check: https://developer.mozilla.org/en-US/docs/Web/HTTP/Status/429\n",
            "🔁 [03:40:24] Application-level retry 2/5 for prompt: 771\n",
            "🔄 [03:40:24] Retry attempt 1/5:\n",
            "   Error: HTTPStatusError (status: 429)\n",
            "   Message: Client error '429 Too Many Requests' for url 'https://openrouter.ai/api/v1/chat/completions'\n",
            "For mor...\n",
            "   Waiting 4.0s before next attempt...\n",
            "\n",
            "🔄 [03:40:24] Retry attempt 1/5:\n",
            "   Error: HTTPStatusError (status: 429)\n",
            "   Message: Client error '429 Too Many Requests' for url 'https://openrouter.ai/api/v1/chat/completions'\n",
            "For mor...\n",
            "   Waiting 4.0s before next attempt...\n",
            "\n",
            "🔄 [03:40:25] Retry attempt 2/5:\n",
            "   Error: HTTPStatusError (status: 429)\n",
            "   Message: Client error '429 Too Many Requests' for url 'https://openrouter.ai/api/v1/chat/completions'\n",
            "For mor...\n",
            "   Waiting 4.0s before next attempt...\n",
            "\n",
            "🔄 [03:40:25] Retry attempt 3/5:\n",
            "   Error: HTTPStatusError (status: 429)\n",
            "   Message: Client error '429 Too Many Requests' for url 'https://openrouter.ai/api/v1/chat/completions'\n",
            "For mor...\n",
            "   Waiting 4.0s before next attempt...\n",
            "\n",
            "🔁 [03:40:25] Application-level retry 4/5 for prompt: 369\n",
            "🔄 [03:40:26] Retry attempt 1/5:\n",
            "   Error: HTTPStatusError (status: 429)\n",
            "   Message: Client error '429 Too Many Requests' for url 'https://openrouter.ai/api/v1/chat/completions'\n",
            "For mor...\n",
            "   Waiting 4.0s before next attempt...\n",
            "\n",
            "🔁 [03:40:27] Application-level retry 3/5 for prompt: 8\n",
            "🔁 [03:40:28] Application-level retry 3/5 for prompt: 88\n",
            "🔄 [03:40:28] Retry attempt 2/5:\n",
            "   Error: HTTPStatusError (status: 429)\n",
            "   Message: Client error '429 Too Many Requests' for url 'https://openrouter.ai/api/v1/chat/completions'\n",
            "For mor...\n",
            "   Waiting 4.0s before next attempt...\n",
            "\n",
            "🔄 [03:40:29] Retry attempt 2/5:\n",
            "   Error: HTTPStatusError (status: 429)\n",
            "   Message: Client error '429 Too Many Requests' for url 'https://openrouter.ai/api/v1/chat/completions'\n",
            "For mor...\n",
            "   Waiting 4.0s before next attempt...\n",
            "\n",
            "🔄 [03:40:29] Retry attempt 3/5:\n",
            "   Error: HTTPStatusError (status: 429)\n",
            "   Message: Client error '429 Too Many Requests' for url 'https://openrouter.ai/api/v1/chat/completions'\n",
            "For mor...\n",
            "   Waiting 4.0s before next attempt...\n",
            "\n",
            "🔄 [03:40:29] Retry attempt 4/5:\n",
            "   Error: HTTPStatusError (status: 429)\n",
            "   Message: Client error '429 Too Many Requests' for url 'https://openrouter.ai/api/v1/chat/completions'\n",
            "For mor...\n",
            "   Waiting 8.0s before next attempt...\n",
            "\n",
            "🔄 [03:40:29] Retry attempt 4/5:\n",
            "   Error: HTTPStatusError (status: 429)\n",
            "   Message: Client error '429 Too Many Requests' for url 'https://openrouter.ai/api/v1/chat/completions'\n",
            "For mor...\n",
            "   Waiting 8.0s before next attempt...\n",
            "\n",
            "🔄 [03:40:29] Retry attempt 2/5:\n",
            "   Error: HTTPStatusError (status: 429)\n",
            "   Message: Client error '429 Too Many Requests' for url 'https://openrouter.ai/api/v1/chat/completions'\n",
            "For mor...\n",
            "   Waiting 4.0s before next attempt...\n",
            "\n",
            "🔄 [03:40:29] Retry attempt 4/5:\n",
            "   Error: HTTPStatusError (status: 429)\n",
            "   Message: Client error '429 Too Many Requests' for url 'https://openrouter.ai/api/v1/chat/completions'\n",
            "For mor...\n",
            "   Waiting 8.0s before next attempt...\n",
            "\n",
            "🔄 [03:40:29] Retry attempt 4/5:\n",
            "   Error: HTTPStatusError (status: 429)\n",
            "   Message: Client error '429 Too Many Requests' for url 'https://openrouter.ai/api/v1/chat/completions'\n",
            "For mor...\n",
            "   Waiting 8.0s before next attempt...\n",
            "\n",
            "🔄 [03:40:29] Retry attempt 4/5:\n",
            "   Error: HTTPStatusError (status: 429)\n",
            "   Message: Client error '429 Too Many Requests' for url 'https://openrouter.ai/api/v1/chat/completions'\n",
            "For mor...\n",
            "   Waiting 8.0s before next attempt...\n",
            "\n",
            "🔄 [03:40:29] Retry attempt 3/5:\n",
            "   Error: HTTPStatusError (status: 429)\n",
            "   Message: Client error '429 Too Many Requests' for url 'https://openrouter.ai/api/v1/chat/completions'\n",
            "For mor...\n",
            "   Waiting 4.0s before next attempt...\n",
            "\n",
            "🔄 [03:40:29] Retry attempt 2/5:\n",
            "   Error: HTTPStatusError (status: 429)\n",
            "   Message: Client error '429 Too Many Requests' for url 'https://openrouter.ai/api/v1/chat/completions'\n",
            "For mor...\n",
            "   Waiting 4.0s before next attempt...\n",
            "\n",
            "🔄 [03:40:29] Retry attempt 4/5:\n",
            "   Error: HTTPStatusError (status: 429)\n",
            "   Message: Client error '429 Too Many Requests' for url 'https://openrouter.ai/api/v1/chat/completions'\n",
            "For mor...\n",
            "   Waiting 8.0s before next attempt...\n",
            "\n",
            "🔄 [03:40:29] Retry attempt 2/5:\n",
            "   Error: HTTPStatusError (status: 429)\n",
            "   Message: Client error '429 Too Many Requests' for url 'https://openrouter.ai/api/v1/chat/completions'\n",
            "For mor...\n",
            "   Waiting 4.0s before next attempt...\n",
            "\n",
            "🔄 [03:40:29] Retry attempt 3/5:\n",
            "   Error: HTTPStatusError (status: 429)\n",
            "   Message: Client error '429 Too Many Requests' for url 'https://openrouter.ai/api/v1/chat/completions'\n",
            "For mor...\n",
            "   Waiting 4.0s before next attempt...\n",
            "\n",
            "🔄 [03:40:29] Retry attempt 2/5:\n",
            "   Error: HTTPStatusError (status: 429)\n",
            "   Message: Client error '429 Too Many Requests' for url 'https://openrouter.ai/api/v1/chat/completions'\n",
            "For mor...\n",
            "   Waiting 4.0s before next attempt...\n",
            "\n",
            "🔄 [03:40:29] Retry attempt 2/5:\n",
            "   Error: HTTPStatusError (status: 429)\n",
            "   Message: Client error '429 Too Many Requests' for url 'https://openrouter.ai/api/v1/chat/completions'\n",
            "For mor...\n",
            "   Waiting 4.0s before next attempt...\n",
            "\n",
            "🔄 [03:40:29] Retry attempt 4/5:\n",
            "   Error: HTTPStatusError (status: 429)\n",
            "   Message: Client error '429 Too Many Requests' for url 'https://openrouter.ai/api/v1/chat/completions'\n",
            "For mor...\n",
            "   Waiting 8.0s before next attempt...\n",
            "\n",
            "🔄 [03:40:29] Retry attempt 1/5:\n",
            "   Error: HTTPStatusError (status: 429)\n",
            "   Message: Client error '429 Too Many Requests' for url 'https://openrouter.ai/api/v1/chat/completions'\n",
            "For mor...\n",
            "   Waiting 4.0s before next attempt...\n",
            "\n",
            "🔄 [03:40:29] Retry attempt 2/5:\n",
            "   Error: HTTPStatusError (status: 429)\n",
            "   Message: Client error '429 Too Many Requests' for url 'https://openrouter.ai/api/v1/chat/completions'\n",
            "For mor...\n",
            "   Waiting 4.0s before next attempt...\n",
            "\n",
            "🔄 [03:40:29] Retry attempt 2/5:\n",
            "   Error: HTTPStatusError (status: 429)\n",
            "   Message: Client error '429 Too Many Requests' for url 'https://openrouter.ai/api/v1/chat/completions'\n",
            "For mor...\n",
            "   Waiting 4.0s before next attempt...\n",
            "\n",
            "🔄 [03:40:29] Retry attempt 4/5:\n",
            "   Error: HTTPStatusError (status: 429)\n",
            "   Message: Client error '429 Too Many Requests' for url 'https://openrouter.ai/api/v1/chat/completions'\n",
            "For mor...\n",
            "   Waiting 8.0s before next attempt...\n",
            "\n",
            "🔄 [03:40:29] Retry attempt 4/5:\n",
            "   Error: HTTPStatusError (status: 429)\n",
            "   Message: Client error '429 Too Many Requests' for url 'https://openrouter.ai/api/v1/chat/completions'\n",
            "For mor...\n",
            "   Waiting 8.0s before next attempt...\n",
            "\n",
            "🔄 [03:40:29] Retry attempt 4/5:\n",
            "   Error: HTTPStatusError (status: 429)\n",
            "   Message: Client error '429 Too Many Requests' for url 'https://openrouter.ai/api/v1/chat/completions'\n",
            "For mor...\n",
            "   Waiting 8.0s before next attempt...\n",
            "\n",
            "🔄 [03:40:29] Retry attempt 4/5:\n",
            "   Error: HTTPStatusError (status: 429)\n",
            "   Message: Client error '429 Too Many Requests' for url 'https://openrouter.ai/api/v1/chat/completions'\n",
            "For mor...\n",
            "   Waiting 8.0s before next attempt...\n",
            "\n",
            "🔄 [03:40:29] Retry attempt 1/5:\n",
            "   Error: HTTPStatusError (status: 429)\n",
            "   Message: Client error '429 Too Many Requests' for url 'https://openrouter.ai/api/v1/chat/completions'\n",
            "For mor...\n",
            "   Waiting 4.0s before next attempt...\n",
            "\n",
            "🔄 [03:40:29] Retry attempt 4/5:\n",
            "   Error: HTTPStatusError (status: 429)\n",
            "   Message: Client error '429 Too Many Requests' for url 'https://openrouter.ai/api/v1/chat/completions'\n",
            "For mor...\n",
            "   Waiting 8.0s before next attempt...\n",
            "\n",
            "🔄 [03:40:29] Retry attempt 3/5:\n",
            "   Error: HTTPStatusError (status: 429)\n",
            "   Message: Client error '429 Too Many Requests' for url 'https://openrouter.ai/api/v1/chat/completions'\n",
            "For mor...\n",
            "   Waiting 4.0s before next attempt...\n",
            "\n",
            "🔄 [03:40:29] Retry attempt 2/5:\n",
            "   Error: HTTPStatusError (status: 429)\n",
            "   Message: Client error '429 Too Many Requests' for url 'https://openrouter.ai/api/v1/chat/completions'\n",
            "For mor...\n",
            "   Waiting 4.0s before next attempt...\n",
            "\n",
            "🔄 [03:40:29] Retry attempt 3/5:\n",
            "   Error: HTTPStatusError (status: 429)\n",
            "   Message: Client error '429 Too Many Requests' for url 'https://openrouter.ai/api/v1/chat/completions'\n",
            "For mor...\n",
            "   Waiting 4.0s before next attempt...\n",
            "\n",
            "🔄 [03:40:29] Retry attempt 4/5:\n",
            "   Error: HTTPStatusError (status: 429)\n",
            "   Message: Client error '429 Too Many Requests' for url 'https://openrouter.ai/api/v1/chat/completions'\n",
            "For mor...\n",
            "   Waiting 8.0s before next attempt...\n",
            "\n",
            "🔄 [03:40:30] Retry attempt 2/5:\n",
            "   Error: HTTPStatusError (status: 429)\n",
            "   Message: Client error '429 Too Many Requests' for url 'https://openrouter.ai/api/v1/chat/completions'\n",
            "For mor...\n",
            "   Waiting 4.0s before next attempt...\n",
            "\n",
            "❌ [03:40:31] API call failed on attempt 2: LLM API call failed after internal retries: Client error '429 Too Many Requests' for url 'https://openrouter.ai/api/v1/chat/completions'\n",
            "For more information check: https://developer.mozilla.org/en-US/docs/Web/HTTP/Status/429\n",
            "   Waiting 4s before next application retry...\n",
            "❌ [03:40:31] API call failed on attempt 2: LLM API call failed after internal retries: Client error '429 Too Many Requests' for url 'https://openrouter.ai/api/v1/chat/completions'\n",
            "For more information check: https://developer.mozilla.org/en-US/docs/Web/HTTP/Status/429\n",
            "   Waiting 4s before next application retry...\n",
            "❌ [03:40:32] API call failed on attempt 2: LLM API call failed after internal retries: Client error '429 Too Many Requests' for url 'https://openrouter.ai/api/v1/chat/completions'\n",
            "For more information check: https://developer.mozilla.org/en-US/docs/Web/HTTP/Status/429\n",
            "   Waiting 4s before next application retry...\n",
            "🔁 [03:40:32] Application-level retry 5/5 for prompt: 87\n",
            "🔄 [03:40:33] Retry attempt 3/5:\n",
            "   Error: HTTPStatusError (status: 429)\n",
            "   Message: Client error '429 Too Many Requests' for url 'https://openrouter.ai/api/v1/chat/completions'\n",
            "For mor...\n",
            "   Waiting 4.0s before next attempt...\n",
            "\n",
            "🔁 [03:40:33] Application-level retry 5/5 for prompt: 127\n",
            "🔄 [03:40:34] Retry attempt 4/5:\n",
            "   Error: HTTPStatusError (status: 429)\n",
            "   Message: Client error '429 Too Many Requests' for url 'https://openrouter.ai/api/v1/chat/completions'\n",
            "For mor...\n",
            "   Waiting 8.0s before next attempt...\n",
            "\n",
            "🔄 [03:40:34] Retry attempt 3/5:\n",
            "   Error: HTTPStatusError (status: 429)\n",
            "   Message: Client error '429 Too Many Requests' for url 'https://openrouter.ai/api/v1/chat/completions'\n",
            "For mor...\n",
            "   Waiting 4.0s before next attempt...\n",
            "\n",
            "🔄 [03:40:34] Retry attempt 1/5:\n",
            "   Error: HTTPStatusError (status: 429)\n",
            "   Message: Client error '429 Too Many Requests' for url 'https://openrouter.ai/api/v1/chat/completions'\n",
            "For mor...\n",
            "   Waiting 4.0s before next attempt...\n",
            "\n",
            "🔄 [03:40:34] Retry attempt 1/5:\n",
            "   Error: HTTPStatusError (status: 429)\n",
            "   Message: Client error '429 Too Many Requests' for url 'https://openrouter.ai/api/v1/chat/completions'\n",
            "For mor...\n",
            "   Waiting 4.0s before next attempt...\n",
            "\n",
            "🔄 [03:40:34] Retry attempt 3/5:\n",
            "   Error: HTTPStatusError (status: 429)\n",
            "   Message: Client error '429 Too Many Requests' for url 'https://openrouter.ai/api/v1/chat/completions'\n",
            "For mor...\n",
            "   Waiting 4.0s before next attempt...\n",
            "\n",
            "🔄 [03:40:34] Retry attempt 3/5:\n",
            "   Error: HTTPStatusError (status: 429)\n",
            "   Message: Client error '429 Too Many Requests' for url 'https://openrouter.ai/api/v1/chat/completions'\n",
            "For mor...\n",
            "   Waiting 4.0s before next attempt...\n",
            "\n",
            "🔄 [03:40:34] Retry attempt 3/5:\n",
            "   Error: HTTPStatusError (status: 429)\n",
            "   Message: Client error '429 Too Many Requests' for url 'https://openrouter.ai/api/v1/chat/completions'\n",
            "For mor...\n",
            "   Waiting 4.0s before next attempt...\n",
            "\n",
            "🔄 [03:40:34] Retry attempt 3/5:\n",
            "   Error: HTTPStatusError (status: 429)\n",
            "   Message: Client error '429 Too Many Requests' for url 'https://openrouter.ai/api/v1/chat/completions'\n",
            "For mor...\n",
            "   Waiting 4.0s before next attempt...\n",
            "\n",
            "🔄 [03:40:34] Retry attempt 2/5:\n",
            "   Error: HTTPStatusError (status: 429)\n",
            "   Message: Client error '429 Too Many Requests' for url 'https://openrouter.ai/api/v1/chat/completions'\n",
            "For mor...\n",
            "   Waiting 4.0s before next attempt...\n",
            "\n",
            "🔄 [03:40:34] Retry attempt 4/5:\n",
            "   Error: HTTPStatusError (status: 429)\n",
            "   Message: Client error '429 Too Many Requests' for url 'https://openrouter.ai/api/v1/chat/completions'\n",
            "For mor...\n",
            "   Waiting 8.0s before next attempt...\n",
            "\n",
            "🔄 [03:40:34] Retry attempt 3/5:\n",
            "   Error: HTTPStatusError (status: 429)\n",
            "   Message: Client error '429 Too Many Requests' for url 'https://openrouter.ai/api/v1/chat/completions'\n",
            "For mor...\n",
            "   Waiting 4.0s before next attempt...\n",
            "\n",
            "🔄 [03:40:34] Retry attempt 4/5:\n",
            "   Error: HTTPStatusError (status: 429)\n",
            "   Message: Client error '429 Too Many Requests' for url 'https://openrouter.ai/api/v1/chat/completions'\n",
            "For mor...\n",
            "   Waiting 8.0s before next attempt...\n",
            "\n",
            "🔄 [03:40:34] Retry attempt 4/5:\n",
            "   Error: HTTPStatusError (status: 429)\n",
            "   Message: Client error '429 Too Many Requests' for url 'https://openrouter.ai/api/v1/chat/completions'\n",
            "For mor...\n",
            "   Waiting 8.0s before next attempt...\n",
            "\n",
            "🔄 [03:40:34] Retry attempt 2/5:\n",
            "   Error: HTTPStatusError (status: 429)\n",
            "   Message: Client error '429 Too Many Requests' for url 'https://openrouter.ai/api/v1/chat/completions'\n",
            "For mor...\n",
            "   Waiting 4.0s before next attempt...\n",
            "\n",
            "🔄 [03:40:34] Retry attempt 3/5:\n",
            "   Error: HTTPStatusError (status: 429)\n",
            "   Message: Client error '429 Too Many Requests' for url 'https://openrouter.ai/api/v1/chat/completions'\n",
            "For mor...\n",
            "   Waiting 4.0s before next attempt...\n",
            "\n",
            "🔄 [03:40:34] Retry attempt 4/5:\n",
            "   Error: HTTPStatusError (status: 429)\n",
            "   Message: Client error '429 Too Many Requests' for url 'https://openrouter.ai/api/v1/chat/completions'\n",
            "For mor...\n",
            "   Waiting 8.0s before next attempt...\n",
            "\n",
            "🔄 [03:40:34] Retry attempt 3/5:\n",
            "   Error: HTTPStatusError (status: 429)\n",
            "   Message: Client error '429 Too Many Requests' for url 'https://openrouter.ai/api/v1/chat/completions'\n",
            "For mor...\n",
            "   Waiting 4.0s before next attempt...\n",
            "\n",
            "🔄 [03:40:34] Retry attempt 3/5:\n",
            "   Error: HTTPStatusError (status: 429)\n",
            "   Message: Client error '429 Too Many Requests' for url 'https://openrouter.ai/api/v1/chat/completions'\n",
            "For mor...\n",
            "   Waiting 4.0s before next attempt...\n",
            "\n",
            "🔄 [03:40:34] Retry attempt 3/5:\n",
            "   Error: HTTPStatusError (status: 429)\n",
            "   Message: Client error '429 Too Many Requests' for url 'https://openrouter.ai/api/v1/chat/completions'\n",
            "For mor...\n",
            "   Waiting 4.0s before next attempt...\n",
            "\n"
          ]
        },
        {
          "output_type": "stream",
          "name": "stderr",
          "text": [
            "\rClassifying:   0%|          | 0/3 [00:14<?, ?it/s]\n"
          ]
        },
        {
          "output_type": "error",
          "ename": "KeyboardInterrupt",
          "evalue": "",
          "traceback": [
            "\u001b[0;31m---------------------------------------------------------------------------\u001b[0m",
            "\u001b[0;31mKeyboardInterrupt\u001b[0m                         Traceback (most recent call last)",
            "\u001b[0;32m/tmp/ipython-input-1592114971.py\u001b[0m in \u001b[0;36m<cell line: 0>\u001b[0;34m()\u001b[0m\n\u001b[1;32m     34\u001b[0m ]\n\u001b[1;32m     35\u001b[0m \u001b[0;31m# Run batch; returns dict: {prompt_id: {\"response_text\": str, ...}}\u001b[0m\u001b[0;34m\u001b[0m\u001b[0;34m\u001b[0m\u001b[0m\n\u001b[0;32m---> 36\u001b[0;31m results = process_prompts_batch(\n\u001b[0m\u001b[1;32m     37\u001b[0m     \u001b[0mprompts\u001b[0m\u001b[0;34m=\u001b[0m\u001b[0mprompts\u001b[0m\u001b[0;34m,\u001b[0m\u001b[0;34m\u001b[0m\u001b[0;34m\u001b[0m\u001b[0m\n\u001b[1;32m     38\u001b[0m     \u001b[0mprovider\u001b[0m\u001b[0;34m=\u001b[0m\u001b[0;34m\"openrouter\"\u001b[0m\u001b[0;34m,\u001b[0m\u001b[0;34m\u001b[0m\u001b[0;34m\u001b[0m\u001b[0m\n",
            "\u001b[0;32m/usr/local/lib/python3.12/dist-packages/llm_batch_helper/providers.py\u001b[0m in \u001b[0;36mprocess_prompts_batch\u001b[0;34m(prompts, input_dir, config, provider, desc, cache_dir, force)\u001b[0m\n\u001b[1;32m    376\u001b[0m         \u001b[0;34m>>\u001b[0m\u001b[0;34m>\u001b[0m \u001b[0;31m# Results will be in the same order as input prompts\u001b[0m\u001b[0;34m\u001b[0m\u001b[0;34m\u001b[0m\u001b[0m\n\u001b[1;32m    377\u001b[0m     \"\"\"\n\u001b[0;32m--> 378\u001b[0;31m     return _run_async_function(\n\u001b[0m\u001b[1;32m    379\u001b[0m         \u001b[0mprocess_prompts_batch_async\u001b[0m\u001b[0;34m,\u001b[0m\u001b[0;34m\u001b[0m\u001b[0;34m\u001b[0m\u001b[0m\n\u001b[1;32m    380\u001b[0m         \u001b[0mprompts\u001b[0m\u001b[0;34m=\u001b[0m\u001b[0mprompts\u001b[0m\u001b[0;34m,\u001b[0m\u001b[0;34m\u001b[0m\u001b[0;34m\u001b[0m\u001b[0m\n",
            "\u001b[0;32m/usr/local/lib/python3.12/dist-packages/llm_batch_helper/providers.py\u001b[0m in \u001b[0;36m_run_async_function\u001b[0;34m(async_func, *args, **kwargs)\u001b[0m\n\u001b[1;32m     28\u001b[0m             \u001b[0;32mimport\u001b[0m \u001b[0mnest_asyncio\u001b[0m\u001b[0;34m\u001b[0m\u001b[0;34m\u001b[0m\u001b[0m\n\u001b[1;32m     29\u001b[0m             \u001b[0mnest_asyncio\u001b[0m\u001b[0;34m.\u001b[0m\u001b[0mapply\u001b[0m\u001b[0;34m(\u001b[0m\u001b[0;34m)\u001b[0m\u001b[0;34m\u001b[0m\u001b[0;34m\u001b[0m\u001b[0m\n\u001b[0;32m---> 30\u001b[0;31m             \u001b[0;32mreturn\u001b[0m \u001b[0masyncio\u001b[0m\u001b[0;34m.\u001b[0m\u001b[0mrun\u001b[0m\u001b[0;34m(\u001b[0m\u001b[0masync_func\u001b[0m\u001b[0;34m(\u001b[0m\u001b[0;34m*\u001b[0m\u001b[0margs\u001b[0m\u001b[0;34m,\u001b[0m \u001b[0;34m**\u001b[0m\u001b[0mkwargs\u001b[0m\u001b[0;34m)\u001b[0m\u001b[0;34m)\u001b[0m\u001b[0;34m\u001b[0m\u001b[0;34m\u001b[0m\u001b[0m\n\u001b[0m\u001b[1;32m     31\u001b[0m         \u001b[0;32mexcept\u001b[0m \u001b[0mImportError\u001b[0m\u001b[0;34m:\u001b[0m\u001b[0;34m\u001b[0m\u001b[0;34m\u001b[0m\u001b[0m\n\u001b[1;32m     32\u001b[0m             \u001b[0;31m# If nest_asyncio is not available, try to run in the current loop\u001b[0m\u001b[0;34m\u001b[0m\u001b[0;34m\u001b[0m\u001b[0m\n",
            "\u001b[0;32m/usr/local/lib/python3.12/dist-packages/nest_asyncio.py\u001b[0m in \u001b[0;36mrun\u001b[0;34m(main, debug)\u001b[0m\n\u001b[1;32m     28\u001b[0m         \u001b[0mtask\u001b[0m \u001b[0;34m=\u001b[0m \u001b[0masyncio\u001b[0m\u001b[0;34m.\u001b[0m\u001b[0mensure_future\u001b[0m\u001b[0;34m(\u001b[0m\u001b[0mmain\u001b[0m\u001b[0;34m)\u001b[0m\u001b[0;34m\u001b[0m\u001b[0;34m\u001b[0m\u001b[0m\n\u001b[1;32m     29\u001b[0m         \u001b[0;32mtry\u001b[0m\u001b[0;34m:\u001b[0m\u001b[0;34m\u001b[0m\u001b[0;34m\u001b[0m\u001b[0m\n\u001b[0;32m---> 30\u001b[0;31m             \u001b[0;32mreturn\u001b[0m \u001b[0mloop\u001b[0m\u001b[0;34m.\u001b[0m\u001b[0mrun_until_complete\u001b[0m\u001b[0;34m(\u001b[0m\u001b[0mtask\u001b[0m\u001b[0;34m)\u001b[0m\u001b[0;34m\u001b[0m\u001b[0;34m\u001b[0m\u001b[0m\n\u001b[0m\u001b[1;32m     31\u001b[0m         \u001b[0;32mfinally\u001b[0m\u001b[0;34m:\u001b[0m\u001b[0;34m\u001b[0m\u001b[0;34m\u001b[0m\u001b[0m\n\u001b[1;32m     32\u001b[0m             \u001b[0;32mif\u001b[0m \u001b[0;32mnot\u001b[0m \u001b[0mtask\u001b[0m\u001b[0;34m.\u001b[0m\u001b[0mdone\u001b[0m\u001b[0;34m(\u001b[0m\u001b[0;34m)\u001b[0m\u001b[0;34m:\u001b[0m\u001b[0;34m\u001b[0m\u001b[0;34m\u001b[0m\u001b[0m\n",
            "\u001b[0;32m/usr/local/lib/python3.12/dist-packages/nest_asyncio.py\u001b[0m in \u001b[0;36mrun_until_complete\u001b[0;34m(self, future)\u001b[0m\n\u001b[1;32m     90\u001b[0m                 \u001b[0mf\u001b[0m\u001b[0;34m.\u001b[0m\u001b[0m_log_destroy_pending\u001b[0m \u001b[0;34m=\u001b[0m \u001b[0;32mFalse\u001b[0m\u001b[0;34m\u001b[0m\u001b[0;34m\u001b[0m\u001b[0m\n\u001b[1;32m     91\u001b[0m             \u001b[0;32mwhile\u001b[0m \u001b[0;32mnot\u001b[0m \u001b[0mf\u001b[0m\u001b[0;34m.\u001b[0m\u001b[0mdone\u001b[0m\u001b[0;34m(\u001b[0m\u001b[0;34m)\u001b[0m\u001b[0;34m:\u001b[0m\u001b[0;34m\u001b[0m\u001b[0;34m\u001b[0m\u001b[0m\n\u001b[0;32m---> 92\u001b[0;31m                 \u001b[0mself\u001b[0m\u001b[0;34m.\u001b[0m\u001b[0m_run_once\u001b[0m\u001b[0;34m(\u001b[0m\u001b[0;34m)\u001b[0m\u001b[0;34m\u001b[0m\u001b[0;34m\u001b[0m\u001b[0m\n\u001b[0m\u001b[1;32m     93\u001b[0m                 \u001b[0;32mif\u001b[0m \u001b[0mself\u001b[0m\u001b[0;34m.\u001b[0m\u001b[0m_stopping\u001b[0m\u001b[0;34m:\u001b[0m\u001b[0;34m\u001b[0m\u001b[0;34m\u001b[0m\u001b[0m\n\u001b[1;32m     94\u001b[0m                     \u001b[0;32mbreak\u001b[0m\u001b[0;34m\u001b[0m\u001b[0;34m\u001b[0m\u001b[0m\n",
            "\u001b[0;32m/usr/local/lib/python3.12/dist-packages/nest_asyncio.py\u001b[0m in \u001b[0;36m_run_once\u001b[0;34m(self)\u001b[0m\n\u001b[1;32m    113\u001b[0m                 scheduled[0]._when - self.time(), 0), 86400) if scheduled\n\u001b[1;32m    114\u001b[0m             else None)\n\u001b[0;32m--> 115\u001b[0;31m         \u001b[0mevent_list\u001b[0m \u001b[0;34m=\u001b[0m \u001b[0mself\u001b[0m\u001b[0;34m.\u001b[0m\u001b[0m_selector\u001b[0m\u001b[0;34m.\u001b[0m\u001b[0mselect\u001b[0m\u001b[0;34m(\u001b[0m\u001b[0mtimeout\u001b[0m\u001b[0;34m)\u001b[0m\u001b[0;34m\u001b[0m\u001b[0;34m\u001b[0m\u001b[0m\n\u001b[0m\u001b[1;32m    116\u001b[0m         \u001b[0mself\u001b[0m\u001b[0;34m.\u001b[0m\u001b[0m_process_events\u001b[0m\u001b[0;34m(\u001b[0m\u001b[0mevent_list\u001b[0m\u001b[0;34m)\u001b[0m\u001b[0;34m\u001b[0m\u001b[0;34m\u001b[0m\u001b[0m\n\u001b[1;32m    117\u001b[0m \u001b[0;34m\u001b[0m\u001b[0m\n",
            "\u001b[0;32m/usr/lib/python3.12/selectors.py\u001b[0m in \u001b[0;36mselect\u001b[0;34m(self, timeout)\u001b[0m\n\u001b[1;32m    466\u001b[0m             \u001b[0mready\u001b[0m \u001b[0;34m=\u001b[0m \u001b[0;34m[\u001b[0m\u001b[0;34m]\u001b[0m\u001b[0;34m\u001b[0m\u001b[0;34m\u001b[0m\u001b[0m\n\u001b[1;32m    467\u001b[0m             \u001b[0;32mtry\u001b[0m\u001b[0;34m:\u001b[0m\u001b[0;34m\u001b[0m\u001b[0;34m\u001b[0m\u001b[0m\n\u001b[0;32m--> 468\u001b[0;31m                 \u001b[0mfd_event_list\u001b[0m \u001b[0;34m=\u001b[0m \u001b[0mself\u001b[0m\u001b[0;34m.\u001b[0m\u001b[0m_selector\u001b[0m\u001b[0;34m.\u001b[0m\u001b[0mpoll\u001b[0m\u001b[0;34m(\u001b[0m\u001b[0mtimeout\u001b[0m\u001b[0;34m,\u001b[0m \u001b[0mmax_ev\u001b[0m\u001b[0;34m)\u001b[0m\u001b[0;34m\u001b[0m\u001b[0;34m\u001b[0m\u001b[0m\n\u001b[0m\u001b[1;32m    469\u001b[0m             \u001b[0;32mexcept\u001b[0m \u001b[0mInterruptedError\u001b[0m\u001b[0;34m:\u001b[0m\u001b[0;34m\u001b[0m\u001b[0;34m\u001b[0m\u001b[0m\n\u001b[1;32m    470\u001b[0m                 \u001b[0;32mreturn\u001b[0m \u001b[0mready\u001b[0m\u001b[0;34m\u001b[0m\u001b[0;34m\u001b[0m\u001b[0m\n",
            "\u001b[0;31mKeyboardInterrupt\u001b[0m: "
          ]
        }
      ],
      "source": [
        "from llm_batch_helper import (\n",
        "    LLMConfig,\n",
        "    process_prompts_batch,\n",
        "    providers,\n",
        "    process_prompts_batch_async,\n",
        ")\n",
        "# docs show these symbols\n",
        "\n",
        "# Docs: async process_prompts_batch(prompts, config=..., provider=\"openai\", cache_dir=..., force=False)\n",
        "#       LLMConfig(model_name=..., system_instruction=..., max_concurrent_requests=..., **kwargs)\n",
        "# See: https://llm-batch-helper.readthedocs.io/en/latest/api.html\n",
        "\n",
        "### setup OpenRouter api key\n",
        "import os\n",
        "\n",
        "model_name = \"openai/gpt-oss-120b:free\"\n",
        "os.environ['OPENROUTER_API_KEY'] = \"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\"\n",
        "cache_dir = 'llm_cache'\n",
        "\n",
        "config = LLMConfig(\n",
        "    model_name=model_name,\n",
        "    system_instruction=\"You are a helpful assistant.\",\n",
        "    temperature=1.0,                           # match deterministic-ish behavior\n",
        "    max_concurrent_requests=5,              # maximal number of paralleizing requests\n",
        "    max_retries=5,                           # maximal number of retries per request\n",
        "    # Pass through OpenAI-style extras via **kwargs supported by LLMConfig\n",
        "    seed=42\n",
        ")\n",
        "\n",
        "prompts = [\n",
        "    \"What is the capital of France?\",\n",
        "    \"What is 2+2?\",\n",
        "    \"Who wrote 'Hamlet'?\"\n",
        "]\n",
        "# Run batch; returns dict: {prompt_id: {\"response_text\": str, ...}}\n",
        "results = process_prompts_batch(\n",
        "    prompts=prompts,\n",
        "    provider=\"openrouter\",\n",
        "    config=config,\n",
        "    cache_dir=cache_dir,     # set to use caching; or None to disable\n",
        "    desc=\"Classifying\",\n",
        "    # force=True\n",
        ")\n",
        "\n",
        "# results = process_prompts_batch_async(\n",
        "#     prompts=prompts,\n",
        "#     provider=\"openrouter\",\n",
        "#     config=config,\n",
        "#     cache_dir=cache_dir,     # set to use caching; or None to disable\n",
        "#     desc=\"Classifying\"\n",
        "# )\n",
        "\n",
        "# requests.get(link, headers = {'User-agent': 'your bot 0.1'})\n",
        "\n",
        "# Print results\n",
        "#prompt_id is the hash of the prompt for cache identification\n",
        "for prompt_id, response in results.items():\n",
        "    if \"error\" in response:\n",
        "        print(f\"Error in {prompt_id}: {response['error']}\")\n",
        "    else:\n",
        "        print(f\"Success: {response['response_text']}\")"
      ]
    },
    {
      "cell_type": "code",
      "source": [
        "response"
      ],
      "metadata": {
        "id": "Vgqi12BWVsN7",
        "outputId": "80568638-1d42-47f2-bbe5-4520db14a3db",
        "colab": {
          "base_uri": "https://localhost:8080/"
        }
      },
      "execution_count": 11,
      "outputs": [
        {
          "output_type": "execute_result",
          "data": {
            "text/plain": [
              "{'error': \"LLM API call failed after internal retries: Client error '429 Too Many Requests' for url 'https://openrouter.ai/api/v1/chat/completions'\\nFor more information check: https://developer.mozilla.org/en-US/docs/Web/HTTP/Status/429\",\n",
              " 'provider': 'openrouter'}"
            ]
          },
          "metadata": {},
          "execution_count": 11
        }
      ]
    },
    {
      "cell_type": "markdown",
      "metadata": {
        "id": "5GXbwSElmBxu"
      },
      "source": [
        "Let's write a helper function to enumerate all texts and call OpenAI api to get the respones."
      ]
    },
    {
      "cell_type": "code",
      "execution_count": 18,
      "metadata": {
        "id": "IUvwORCxuXSb"
      },
      "outputs": [],
      "source": [
        "import json\n",
        "from typing import List, Union\n",
        "from pathlib import Path\n",
        "\n",
        "def classify(\n",
        "    texts: List[str],\n",
        "    prompt: str,\n",
        "    **llm_configs,\n",
        "):\n",
        "    \"\"\"\n",
        "    texts: list of inputs\n",
        "    prompt: template string containing {text}\n",
        "    max_concurrency: parallel requests via llm-batch-helper\n",
        "    cache_dir: optional on-disk cache directory (e.g., '.llm_cache')\n",
        "    \"\"\"\n",
        "    # Build prompts with stable IDs so results can be re-ordered reliably\n",
        "    llm_configs = {\n",
        "        \"model_name\": \"moonshotai/kimi-k2:free\",\n",
        "        \"system_instruction\": \"You are a helpful assistant.\",\n",
        "        \"temperature\": 1.0,                           # match deterministic-ish behavior\n",
        "        \"max_concurrent_requests\": 30,              # maximal number of paralleizing requests\n",
        "        \"max_retries\": 5,                           # maximal number of retries per request\n",
        "        \"seed\":42,\n",
        "        **llm_configs,\n",
        "    }\n",
        "\n",
        "    config = LLMConfig(**llm_configs)\n",
        "\n",
        "    prompts = [(str(i), prompt.format(text=t)) for i, t in enumerate(texts)] # here prompt_id is user-defined (prompt_id is str(i))\n",
        "\n",
        "    # Run batch; returns dict: {prompt_id: {\"response_text\": str, ...}}\n",
        "    results = process_prompts_batch(\n",
        "        prompts=prompts,\n",
        "        provider=\"openrouter\",\n",
        "        config=config,\n",
        "        cache_dir=cache_dir,     # set to use caching; or None to disable\n",
        "        desc=\"Classifying\"\n",
        "    )\n",
        "\n",
        "    # Restore original order and JSON-decode if possible\n",
        "    return results"
      ]
    },
    {
      "cell_type": "markdown",
      "metadata": {
        "id": "Php0la_BmYwy"
      },
      "source": [
        "# Problem 3\n",
        "\n",
        "\n",
        "Modify the code for Zero-shot LLM text classification. You may check the code in the [notebook](https://colab.research.google.com/drive/1ZLrXVNxq7V082NvHWp5vMoI8hxfi9Bpv?usp=sharing) from Lecture 2 as well.\n",
        "\n",
        "  \n",
        "\n",
        "1. [2 pts] Optimize the prompt as much as possible (e.g., by applying the chain of thought method discussed in the lecture). Run your optimized prompt with 1000 test samples. Report both the optimized prompt and the resulting accuracy."
      ]
    },
    {
      "cell_type": "markdown",
      "metadata": {
        "id": "meOUNyDczOsM"
      },
      "source": [
        "\n",
        "Here is a prompt example.\n",
        "\n",
        "For the JSON format output, you may check [here](https://platform.openai.com/docs/guides/structured-outputs/introduction) for a better way of handling structure output, but the following approach is more explicit.\n"
      ]
    },
    {
      "cell_type": "markdown",
      "source": [
        "## Baseline"
      ],
      "metadata": {
        "id": "nMhfILHAJ12d"
      }
    },
    {
      "cell_type": "code",
      "execution_count": 29,
      "metadata": {
        "id": "kGJaLm8l5pIt",
        "colab": {
          "base_uri": "https://localhost:8080/"
        },
        "outputId": "e9cdaed0-a2c9-4a05-9299-44e835c8c45c"
      },
      "outputs": [
        {
          "output_type": "stream",
          "name": "stdout",
          "text": [
            "🔄 [03:34:36] Retry attempt 4/5:\n",
            "   Error: HTTPStatusError (status: 429)\n",
            "   Message: Client error '429 Too Many Requests' for url 'https://openrouter.ai/api/v1/chat/completions'\n",
            "For mor...\n",
            "   Waiting 8.0s before next attempt...\n",
            "\n",
            "🔄 [03:34:36] Retry attempt 2/5:\n",
            "   Error: HTTPStatusError (status: 429)\n",
            "   Message: Client error '429 Too Many Requests' for url 'https://openrouter.ai/api/v1/chat/completions'\n",
            "For mor...\n",
            "   Waiting 4.0s before next attempt...\n",
            "\n"
          ]
        }
      ],
      "source": [
        "prompt = '''\n",
        "You are given a movie review text and you need to classify it into positive or negative.\n",
        "\n",
        "Your response should be a JSON object with the following format:\n",
        "{{\n",
        "    \"Sentiment\": \"Positive\" or \"Negative\"\n",
        "}}\n",
        "\n",
        "The text is below:\n",
        "Text: {text}\n",
        "'''"
      ]
    },
    {
      "cell_type": "code",
      "execution_count": 26,
      "metadata": {
        "colab": {
          "base_uri": "https://localhost:8080/",
          "height": 1000
        },
        "id": "OsNIw9XemjQv",
        "outputId": "88d9e527-fbb8-45e0-de93-697db72c7726"
      },
      "outputs": [
        {
          "output_type": "stream",
          "name": "stdout",
          "text": [
            "🔄 [02:30:08] Retry attempt 3/5:\n",
            "   Error: HTTPStatusError (status: 429)\n",
            "   Message: Client error '429 Too Many Requests' for url 'https://openrouter.ai/api/v1/chat/completions'\n",
            "For mor...\n",
            "   Waiting 4.0s before next attempt...\n",
            "\n"
          ]
        },
        {
          "output_type": "stream",
          "name": "stderr",
          "text": [
            "\rClassifying:   0%|          | 0/1000 [00:00<?, ?it/s]"
          ]
        },
        {
          "output_type": "stream",
          "name": "stdout",
          "text": [
            "🔄 [02:30:10] Retry attempt 3/5:\n",
            "   Error: HTTPStatusError (status: 429)\n",
            "   Message: Client error '429 Too Many Requests' for url 'https://openrouter.ai/api/v1/chat/completions'\n",
            "For mor...\n",
            "   Waiting 4.0s before next attempt...\n",
            "\n",
            "🔄 [02:30:10] Retry attempt 1/5:\n",
            "   Error: HTTPStatusError (status: 429)\n",
            "   Message: Client error '429 Too Many Requests' for url 'https://openrouter.ai/api/v1/chat/completions'\n",
            "For mor...\n",
            "   Waiting 4.0s before next attempt...\n",
            "\n",
            "🔄 [02:30:10] Retry attempt 1/5:\n",
            "   Error: HTTPStatusError (status: 429)\n",
            "   Message: Client error '429 Too Many Requests' for url 'https://openrouter.ai/api/v1/chat/completions'\n",
            "For mor...\n",
            "   Waiting 4.0s before next attempt...\n",
            "\n",
            "🔄 [02:30:11] Retry attempt 1/5:\n",
            "   Error: HTTPStatusError (status: 429)\n",
            "   Message: Client error '429 Too Many Requests' for url 'https://openrouter.ai/api/v1/chat/completions'\n",
            "For mor...\n",
            "   Waiting 4.0s before next attempt...\n",
            "\n",
            "🔄 [02:30:11] Retry attempt 1/5:\n",
            "   Error: HTTPStatusError (status: 429)\n",
            "   Message: Client error '429 Too Many Requests' for url 'https://openrouter.ai/api/v1/chat/completions'\n",
            "For mor...\n",
            "   Waiting 4.0s before next attempt...\n",
            "\n",
            "🔄 [02:30:11] Retry attempt 1/5:\n",
            "   Error: HTTPStatusError (status: 429)\n",
            "   Message: Client error '429 Too Many Requests' for url 'https://openrouter.ai/api/v1/chat/completions'\n",
            "For mor...\n",
            "   Waiting 4.0s before next attempt...\n",
            "\n",
            "🔄 [02:30:11] Retry attempt 1/5:\n",
            "   Error: HTTPStatusError (status: 429)\n",
            "   Message: Client error '429 Too Many Requests' for url 'https://openrouter.ai/api/v1/chat/completions'\n",
            "For mor...\n",
            "   Waiting 4.0s before next attempt...\n",
            "\n",
            "🔄 [02:30:11] Retry attempt 1/5:\n",
            "   Error: HTTPStatusError (status: 429)\n",
            "   Message: Client error '429 Too Many Requests' for url 'https://openrouter.ai/api/v1/chat/completions'\n",
            "For mor...\n",
            "   Waiting 4.0s before next attempt...\n",
            "\n",
            "🔄 [02:30:11] Retry attempt 1/5:\n",
            "   Error: HTTPStatusError (status: 429)\n",
            "   Message: Client error '429 Too Many Requests' for url 'https://openrouter.ai/api/v1/chat/completions'\n",
            "For mor...\n",
            "   Waiting 4.0s before next attempt...\n",
            "\n",
            "🔄 [02:30:11] Retry attempt 1/5:\n",
            "   Error: HTTPStatusError (status: 429)\n",
            "   Message: Client error '429 Too Many Requests' for url 'https://openrouter.ai/api/v1/chat/completions'\n",
            "For mor...\n",
            "   Waiting 4.0s before next attempt...\n",
            "\n",
            "🔄 [02:30:11] Retry attempt 1/5:\n",
            "   Error: HTTPStatusError (status: 429)\n",
            "   Message: Client error '429 Too Many Requests' for url 'https://openrouter.ai/api/v1/chat/completions'\n",
            "For mor...\n",
            "   Waiting 4.0s before next attempt...\n",
            "\n",
            "🔄 [02:30:11] Retry attempt 1/5:\n",
            "   Error: HTTPStatusError (status: 429)\n",
            "   Message: Client error '429 Too Many Requests' for url 'https://openrouter.ai/api/v1/chat/completions'\n",
            "For mor...\n",
            "   Waiting 4.0s before next attempt...\n",
            "\n",
            "🔄 [02:30:11] Retry attempt 1/5:\n",
            "   Error: HTTPStatusError (status: 429)\n",
            "   Message: Client error '429 Too Many Requests' for url 'https://openrouter.ai/api/v1/chat/completions'\n",
            "For mor...\n",
            "   Waiting 4.0s before next attempt...\n",
            "\n",
            "🔄 [02:30:11] Retry attempt 1/5:\n",
            "   Error: HTTPStatusError (status: 429)\n",
            "   Message: Client error '429 Too Many Requests' for url 'https://openrouter.ai/api/v1/chat/completions'\n",
            "For mor...\n",
            "   Waiting 4.0s before next attempt...\n",
            "\n",
            "🔄 [02:30:11] Retry attempt 1/5:\n",
            "   Error: HTTPStatusError (status: 429)\n",
            "   Message: Client error '429 Too Many Requests' for url 'https://openrouter.ai/api/v1/chat/completions'\n",
            "For mor...\n",
            "   Waiting 4.0s before next attempt...\n",
            "\n",
            "🔄 [02:30:11] Retry attempt 1/5:\n",
            "   Error: HTTPStatusError (status: 429)\n",
            "   Message: Client error '429 Too Many Requests' for url 'https://openrouter.ai/api/v1/chat/completions'\n",
            "For mor...\n",
            "   Waiting 4.0s before next attempt...\n",
            "\n",
            "🔄 [02:30:11] Retry attempt 1/5:\n",
            "   Error: HTTPStatusError (status: 429)\n",
            "   Message: Client error '429 Too Many Requests' for url 'https://openrouter.ai/api/v1/chat/completions'\n",
            "For mor...\n",
            "   Waiting 4.0s before next attempt...\n",
            "\n",
            "🔄 [02:30:11] Retry attempt 1/5:\n",
            "   Error: HTTPStatusError (status: 429)\n",
            "   Message: Client error '429 Too Many Requests' for url 'https://openrouter.ai/api/v1/chat/completions'\n",
            "For mor...\n",
            "   Waiting 4.0s before next attempt...\n",
            "\n",
            "🔄 [02:30:11] Retry attempt 1/5:\n",
            "   Error: HTTPStatusError (status: 429)\n",
            "   Message: Client error '429 Too Many Requests' for url 'https://openrouter.ai/api/v1/chat/completions'\n",
            "For mor...\n",
            "   Waiting 4.0s before next attempt...\n",
            "\n",
            "🔄 [02:30:11] Retry attempt 1/5:\n",
            "   Error: HTTPStatusError (status: 429)\n",
            "   Message: Client error '429 Too Many Requests' for url 'https://openrouter.ai/api/v1/chat/completions'\n",
            "For mor...\n",
            "   Waiting 4.0s before next attempt...\n",
            "\n",
            "🔄 [02:30:11] Retry attempt 1/5:\n",
            "   Error: HTTPStatusError (status: 429)\n",
            "   Message: Client error '429 Too Many Requests' for url 'https://openrouter.ai/api/v1/chat/completions'\n",
            "For mor...\n",
            "   Waiting 4.0s before next attempt...\n",
            "\n",
            "🔄 [02:30:11] Retry attempt 1/5:\n",
            "   Error: HTTPStatusError (status: 429)\n",
            "   Message: Client error '429 Too Many Requests' for url 'https://openrouter.ai/api/v1/chat/completions'\n",
            "For mor...\n",
            "   Waiting 4.0s before next attempt...\n",
            "\n",
            "🔄 [02:30:11] Retry attempt 1/5:\n",
            "   Error: HTTPStatusError (status: 429)\n",
            "   Message: Client error '429 Too Many Requests' for url 'https://openrouter.ai/api/v1/chat/completions'\n",
            "For mor...\n",
            "   Waiting 4.0s before next attempt...\n",
            "\n",
            "🔄 [02:30:11] Retry attempt 1/5:\n",
            "   Error: HTTPStatusError (status: 429)\n",
            "   Message: Client error '429 Too Many Requests' for url 'https://openrouter.ai/api/v1/chat/completions'\n",
            "For mor...\n",
            "   Waiting 4.0s before next attempt...\n",
            "\n",
            "🔄 [02:30:11] Retry attempt 1/5:\n",
            "   Error: HTTPStatusError (status: 429)\n",
            "   Message: Client error '429 Too Many Requests' for url 'https://openrouter.ai/api/v1/chat/completions'\n",
            "For mor...\n",
            "   Waiting 4.0s before next attempt...\n",
            "\n",
            "🔄 [02:30:11] Retry attempt 1/5:\n",
            "   Error: HTTPStatusError (status: 429)\n",
            "   Message: Client error '429 Too Many Requests' for url 'https://openrouter.ai/api/v1/chat/completions'\n",
            "For mor...\n",
            "   Waiting 4.0s before next attempt...\n",
            "\n",
            "🔄 [02:30:11] Retry attempt 1/5:\n",
            "   Error: HTTPStatusError (status: 429)\n",
            "   Message: Client error '429 Too Many Requests' for url 'https://openrouter.ai/api/v1/chat/completions'\n",
            "For mor...\n",
            "   Waiting 4.0s before next attempt...\n",
            "\n",
            "🔄 [02:30:11] Retry attempt 1/5:\n",
            "   Error: HTTPStatusError (status: 429)\n",
            "   Message: Client error '429 Too Many Requests' for url 'https://openrouter.ai/api/v1/chat/completions'\n",
            "For mor...\n",
            "   Waiting 4.0s before next attempt...\n",
            "\n",
            "🔄 [02:30:11] Retry attempt 1/5:\n",
            "   Error: HTTPStatusError (status: 429)\n",
            "   Message: Client error '429 Too Many Requests' for url 'https://openrouter.ai/api/v1/chat/completions'\n",
            "For mor...\n",
            "   Waiting 4.0s before next attempt...\n",
            "\n",
            "🔄 [02:30:11] Retry attempt 1/5:\n",
            "   Error: HTTPStatusError (status: 429)\n",
            "   Message: Client error '429 Too Many Requests' for url 'https://openrouter.ai/api/v1/chat/completions'\n",
            "For mor...\n",
            "   Waiting 4.0s before next attempt...\n",
            "\n",
            "🔄 [02:30:11] Retry attempt 1/5:\n",
            "   Error: HTTPStatusError (status: 429)\n",
            "   Message: Client error '429 Too Many Requests' for url 'https://openrouter.ai/api/v1/chat/completions'\n",
            "For mor...\n",
            "   Waiting 4.0s before next attempt...\n",
            "\n",
            "🔄 [02:30:12] Retry attempt 4/5:\n",
            "   Error: HTTPStatusError (status: 429)\n",
            "   Message: Client error '429 Too Many Requests' for url 'https://openrouter.ai/api/v1/chat/completions'\n",
            "For mor...\n",
            "   Waiting 8.0s before next attempt...\n",
            "\n",
            "🔄 [02:30:14] Retry attempt 4/5:\n",
            "   Error: HTTPStatusError (status: 429)\n",
            "   Message: Client error '429 Too Many Requests' for url 'https://openrouter.ai/api/v1/chat/completions'\n",
            "For mor...\n",
            "   Waiting 8.0s before next attempt...\n",
            "\n"
          ]
        },
        {
          "output_type": "stream",
          "name": "stderr",
          "text": [
            "\rClassifying:   0%|          | 0/1000 [00:08<?, ?it/s]\n"
          ]
        },
        {
          "output_type": "error",
          "ename": "KeyboardInterrupt",
          "evalue": "",
          "traceback": [
            "\u001b[0;31m---------------------------------------------------------------------------\u001b[0m",
            "\u001b[0;31mKeyboardInterrupt\u001b[0m                         Traceback (most recent call last)",
            "\u001b[0;32m/tmp/ipython-input-491585453.py\u001b[0m in \u001b[0;36m<cell line: 0>\u001b[0;34m()\u001b[0m\n\u001b[0;32m----> 1\u001b[0;31m \u001b[0mresults\u001b[0m \u001b[0;34m=\u001b[0m \u001b[0mclassify\u001b[0m\u001b[0;34m(\u001b[0m\u001b[0mtest_texts\u001b[0m\u001b[0;34m,\u001b[0m \u001b[0mprompt\u001b[0m\u001b[0;34m,\u001b[0m \u001b[0mmodel_name\u001b[0m\u001b[0;34m=\u001b[0m\u001b[0mMODEL\u001b[0m\u001b[0;34m[\u001b[0m\u001b[0;36m0\u001b[0m\u001b[0;34m]\u001b[0m\u001b[0;34m)\u001b[0m \u001b[0;31m# You can first test/tune over 10 samples, and then run 1000 samples.\u001b[0m\u001b[0;34m\u001b[0m\u001b[0;34m\u001b[0m\u001b[0m\n\u001b[0m\u001b[1;32m      2\u001b[0m \u001b[0;34m\u001b[0m\u001b[0m\n\u001b[1;32m      3\u001b[0m \u001b[0;34m\u001b[0m\u001b[0m\n\u001b[1;32m      4\u001b[0m \u001b[0;31m# Print results\u001b[0m\u001b[0;34m\u001b[0m\u001b[0;34m\u001b[0m\u001b[0m\n\u001b[1;32m      5\u001b[0m \u001b[0mprint\u001b[0m\u001b[0;34m(\u001b[0m\u001b[0;34m)\u001b[0m\u001b[0;34m\u001b[0m\u001b[0;34m\u001b[0m\u001b[0m\n",
            "\u001b[0;32m/tmp/ipython-input-3362300946.py\u001b[0m in \u001b[0;36mclassify\u001b[0;34m(texts, prompt, **llm_configs)\u001b[0m\n\u001b[1;32m     30\u001b[0m \u001b[0;34m\u001b[0m\u001b[0m\n\u001b[1;32m     31\u001b[0m     \u001b[0;31m# Run batch; returns dict: {prompt_id: {\"response_text\": str, ...}}\u001b[0m\u001b[0;34m\u001b[0m\u001b[0;34m\u001b[0m\u001b[0m\n\u001b[0;32m---> 32\u001b[0;31m     results = process_prompts_batch(\n\u001b[0m\u001b[1;32m     33\u001b[0m         \u001b[0mprompts\u001b[0m\u001b[0;34m=\u001b[0m\u001b[0mprompts\u001b[0m\u001b[0;34m,\u001b[0m\u001b[0;34m\u001b[0m\u001b[0;34m\u001b[0m\u001b[0m\n\u001b[1;32m     34\u001b[0m         \u001b[0mprovider\u001b[0m\u001b[0;34m=\u001b[0m\u001b[0;34m\"openrouter\"\u001b[0m\u001b[0;34m,\u001b[0m\u001b[0;34m\u001b[0m\u001b[0;34m\u001b[0m\u001b[0m\n",
            "\u001b[0;32m/usr/local/lib/python3.12/dist-packages/llm_batch_helper/providers.py\u001b[0m in \u001b[0;36mprocess_prompts_batch\u001b[0;34m(prompts, input_dir, config, provider, desc, cache_dir, force)\u001b[0m\n\u001b[1;32m    376\u001b[0m         \u001b[0;34m>>\u001b[0m\u001b[0;34m>\u001b[0m \u001b[0;31m# Results will be in the same order as input prompts\u001b[0m\u001b[0;34m\u001b[0m\u001b[0;34m\u001b[0m\u001b[0m\n\u001b[1;32m    377\u001b[0m     \"\"\"\n\u001b[0;32m--> 378\u001b[0;31m     return _run_async_function(\n\u001b[0m\u001b[1;32m    379\u001b[0m         \u001b[0mprocess_prompts_batch_async\u001b[0m\u001b[0;34m,\u001b[0m\u001b[0;34m\u001b[0m\u001b[0;34m\u001b[0m\u001b[0m\n\u001b[1;32m    380\u001b[0m         \u001b[0mprompts\u001b[0m\u001b[0;34m=\u001b[0m\u001b[0mprompts\u001b[0m\u001b[0;34m,\u001b[0m\u001b[0;34m\u001b[0m\u001b[0;34m\u001b[0m\u001b[0m\n",
            "\u001b[0;32m/usr/local/lib/python3.12/dist-packages/llm_batch_helper/providers.py\u001b[0m in \u001b[0;36m_run_async_function\u001b[0;34m(async_func, *args, **kwargs)\u001b[0m\n\u001b[1;32m     28\u001b[0m             \u001b[0;32mimport\u001b[0m \u001b[0mnest_asyncio\u001b[0m\u001b[0;34m\u001b[0m\u001b[0;34m\u001b[0m\u001b[0m\n\u001b[1;32m     29\u001b[0m             \u001b[0mnest_asyncio\u001b[0m\u001b[0;34m.\u001b[0m\u001b[0mapply\u001b[0m\u001b[0;34m(\u001b[0m\u001b[0;34m)\u001b[0m\u001b[0;34m\u001b[0m\u001b[0;34m\u001b[0m\u001b[0m\n\u001b[0;32m---> 30\u001b[0;31m             \u001b[0;32mreturn\u001b[0m \u001b[0masyncio\u001b[0m\u001b[0;34m.\u001b[0m\u001b[0mrun\u001b[0m\u001b[0;34m(\u001b[0m\u001b[0masync_func\u001b[0m\u001b[0;34m(\u001b[0m\u001b[0;34m*\u001b[0m\u001b[0margs\u001b[0m\u001b[0;34m,\u001b[0m \u001b[0;34m**\u001b[0m\u001b[0mkwargs\u001b[0m\u001b[0;34m)\u001b[0m\u001b[0;34m)\u001b[0m\u001b[0;34m\u001b[0m\u001b[0;34m\u001b[0m\u001b[0m\n\u001b[0m\u001b[1;32m     31\u001b[0m         \u001b[0;32mexcept\u001b[0m \u001b[0mImportError\u001b[0m\u001b[0;34m:\u001b[0m\u001b[0;34m\u001b[0m\u001b[0;34m\u001b[0m\u001b[0m\n\u001b[1;32m     32\u001b[0m             \u001b[0;31m# If nest_asyncio is not available, try to run in the current loop\u001b[0m\u001b[0;34m\u001b[0m\u001b[0;34m\u001b[0m\u001b[0m\n",
            "\u001b[0;32m/usr/local/lib/python3.12/dist-packages/nest_asyncio.py\u001b[0m in \u001b[0;36mrun\u001b[0;34m(main, debug)\u001b[0m\n\u001b[1;32m     28\u001b[0m         \u001b[0mtask\u001b[0m \u001b[0;34m=\u001b[0m \u001b[0masyncio\u001b[0m\u001b[0;34m.\u001b[0m\u001b[0mensure_future\u001b[0m\u001b[0;34m(\u001b[0m\u001b[0mmain\u001b[0m\u001b[0;34m)\u001b[0m\u001b[0;34m\u001b[0m\u001b[0;34m\u001b[0m\u001b[0m\n\u001b[1;32m     29\u001b[0m         \u001b[0;32mtry\u001b[0m\u001b[0;34m:\u001b[0m\u001b[0;34m\u001b[0m\u001b[0;34m\u001b[0m\u001b[0m\n\u001b[0;32m---> 30\u001b[0;31m             \u001b[0;32mreturn\u001b[0m \u001b[0mloop\u001b[0m\u001b[0;34m.\u001b[0m\u001b[0mrun_until_complete\u001b[0m\u001b[0;34m(\u001b[0m\u001b[0mtask\u001b[0m\u001b[0;34m)\u001b[0m\u001b[0;34m\u001b[0m\u001b[0;34m\u001b[0m\u001b[0m\n\u001b[0m\u001b[1;32m     31\u001b[0m         \u001b[0;32mfinally\u001b[0m\u001b[0;34m:\u001b[0m\u001b[0;34m\u001b[0m\u001b[0;34m\u001b[0m\u001b[0m\n\u001b[1;32m     32\u001b[0m             \u001b[0;32mif\u001b[0m \u001b[0;32mnot\u001b[0m \u001b[0mtask\u001b[0m\u001b[0;34m.\u001b[0m\u001b[0mdone\u001b[0m\u001b[0;34m(\u001b[0m\u001b[0;34m)\u001b[0m\u001b[0;34m:\u001b[0m\u001b[0;34m\u001b[0m\u001b[0;34m\u001b[0m\u001b[0m\n",
            "\u001b[0;32m/usr/local/lib/python3.12/dist-packages/nest_asyncio.py\u001b[0m in \u001b[0;36mrun_until_complete\u001b[0;34m(self, future)\u001b[0m\n\u001b[1;32m     90\u001b[0m                 \u001b[0mf\u001b[0m\u001b[0;34m.\u001b[0m\u001b[0m_log_destroy_pending\u001b[0m \u001b[0;34m=\u001b[0m \u001b[0;32mFalse\u001b[0m\u001b[0;34m\u001b[0m\u001b[0;34m\u001b[0m\u001b[0m\n\u001b[1;32m     91\u001b[0m             \u001b[0;32mwhile\u001b[0m \u001b[0;32mnot\u001b[0m \u001b[0mf\u001b[0m\u001b[0;34m.\u001b[0m\u001b[0mdone\u001b[0m\u001b[0;34m(\u001b[0m\u001b[0;34m)\u001b[0m\u001b[0;34m:\u001b[0m\u001b[0;34m\u001b[0m\u001b[0;34m\u001b[0m\u001b[0m\n\u001b[0;32m---> 92\u001b[0;31m                 \u001b[0mself\u001b[0m\u001b[0;34m.\u001b[0m\u001b[0m_run_once\u001b[0m\u001b[0;34m(\u001b[0m\u001b[0;34m)\u001b[0m\u001b[0;34m\u001b[0m\u001b[0;34m\u001b[0m\u001b[0m\n\u001b[0m\u001b[1;32m     93\u001b[0m                 \u001b[0;32mif\u001b[0m \u001b[0mself\u001b[0m\u001b[0;34m.\u001b[0m\u001b[0m_stopping\u001b[0m\u001b[0;34m:\u001b[0m\u001b[0;34m\u001b[0m\u001b[0;34m\u001b[0m\u001b[0m\n\u001b[1;32m     94\u001b[0m                     \u001b[0;32mbreak\u001b[0m\u001b[0;34m\u001b[0m\u001b[0;34m\u001b[0m\u001b[0m\n",
            "\u001b[0;32m/usr/local/lib/python3.12/dist-packages/nest_asyncio.py\u001b[0m in \u001b[0;36m_run_once\u001b[0;34m(self)\u001b[0m\n\u001b[1;32m    131\u001b[0m \u001b[0;34m\u001b[0m\u001b[0m\n\u001b[1;32m    132\u001b[0m                 \u001b[0;32mtry\u001b[0m\u001b[0;34m:\u001b[0m\u001b[0;34m\u001b[0m\u001b[0;34m\u001b[0m\u001b[0m\n\u001b[0;32m--> 133\u001b[0;31m                     \u001b[0mhandle\u001b[0m\u001b[0;34m.\u001b[0m\u001b[0m_run\u001b[0m\u001b[0;34m(\u001b[0m\u001b[0;34m)\u001b[0m\u001b[0;34m\u001b[0m\u001b[0;34m\u001b[0m\u001b[0m\n\u001b[0m\u001b[1;32m    134\u001b[0m                 \u001b[0;32mfinally\u001b[0m\u001b[0;34m:\u001b[0m\u001b[0;34m\u001b[0m\u001b[0;34m\u001b[0m\u001b[0m\n\u001b[1;32m    135\u001b[0m                     \u001b[0;31m# restore the current task\u001b[0m\u001b[0;34m\u001b[0m\u001b[0;34m\u001b[0m\u001b[0m\n",
            "\u001b[0;32m/usr/lib/python3.12/asyncio/events.py\u001b[0m in \u001b[0;36m_run\u001b[0;34m(self)\u001b[0m\n\u001b[1;32m     86\u001b[0m     \u001b[0;32mdef\u001b[0m \u001b[0m_run\u001b[0m\u001b[0;34m(\u001b[0m\u001b[0mself\u001b[0m\u001b[0;34m)\u001b[0m\u001b[0;34m:\u001b[0m\u001b[0;34m\u001b[0m\u001b[0;34m\u001b[0m\u001b[0m\n\u001b[1;32m     87\u001b[0m         \u001b[0;32mtry\u001b[0m\u001b[0;34m:\u001b[0m\u001b[0;34m\u001b[0m\u001b[0;34m\u001b[0m\u001b[0m\n\u001b[0;32m---> 88\u001b[0;31m             \u001b[0mself\u001b[0m\u001b[0;34m.\u001b[0m\u001b[0m_context\u001b[0m\u001b[0;34m.\u001b[0m\u001b[0mrun\u001b[0m\u001b[0;34m(\u001b[0m\u001b[0mself\u001b[0m\u001b[0;34m.\u001b[0m\u001b[0m_callback\u001b[0m\u001b[0;34m,\u001b[0m \u001b[0;34m*\u001b[0m\u001b[0mself\u001b[0m\u001b[0;34m.\u001b[0m\u001b[0m_args\u001b[0m\u001b[0;34m)\u001b[0m\u001b[0;34m\u001b[0m\u001b[0;34m\u001b[0m\u001b[0m\n\u001b[0m\u001b[1;32m     89\u001b[0m         \u001b[0;32mexcept\u001b[0m \u001b[0;34m(\u001b[0m\u001b[0mSystemExit\u001b[0m\u001b[0;34m,\u001b[0m \u001b[0mKeyboardInterrupt\u001b[0m\u001b[0;34m)\u001b[0m\u001b[0;34m:\u001b[0m\u001b[0;34m\u001b[0m\u001b[0;34m\u001b[0m\u001b[0m\n\u001b[1;32m     90\u001b[0m             \u001b[0;32mraise\u001b[0m\u001b[0;34m\u001b[0m\u001b[0;34m\u001b[0m\u001b[0m\n",
            "\u001b[0;32m/usr/lib/python3.12/asyncio/tasks.py\u001b[0m in \u001b[0;36m__wakeup\u001b[0;34m(self, future)\u001b[0m\n\u001b[1;32m    394\u001b[0m             \u001b[0;31m# instead of `__next__()`, which is slower for futures\u001b[0m\u001b[0;34m\u001b[0m\u001b[0;34m\u001b[0m\u001b[0m\n\u001b[1;32m    395\u001b[0m             \u001b[0;31m# that return non-generator iterators from their `__iter__`.\u001b[0m\u001b[0;34m\u001b[0m\u001b[0;34m\u001b[0m\u001b[0m\n\u001b[0;32m--> 396\u001b[0;31m             \u001b[0mself\u001b[0m\u001b[0;34m.\u001b[0m\u001b[0m__step\u001b[0m\u001b[0;34m(\u001b[0m\u001b[0;34m)\u001b[0m\u001b[0;34m\u001b[0m\u001b[0;34m\u001b[0m\u001b[0m\n\u001b[0m\u001b[1;32m    397\u001b[0m         \u001b[0mself\u001b[0m \u001b[0;34m=\u001b[0m \u001b[0;32mNone\u001b[0m  \u001b[0;31m# Needed to break cycles when an exception occurs.\u001b[0m\u001b[0;34m\u001b[0m\u001b[0;34m\u001b[0m\u001b[0m\n\u001b[1;32m    398\u001b[0m \u001b[0;34m\u001b[0m\u001b[0m\n",
            "\u001b[0;32m/usr/lib/python3.12/asyncio/tasks.py\u001b[0m in \u001b[0;36m__step\u001b[0;34m(self, exc)\u001b[0m\n\u001b[1;32m    301\u001b[0m         \u001b[0m_enter_task\u001b[0m\u001b[0;34m(\u001b[0m\u001b[0mself\u001b[0m\u001b[0;34m.\u001b[0m\u001b[0m_loop\u001b[0m\u001b[0;34m,\u001b[0m \u001b[0mself\u001b[0m\u001b[0;34m)\u001b[0m\u001b[0;34m\u001b[0m\u001b[0;34m\u001b[0m\u001b[0m\n\u001b[1;32m    302\u001b[0m         \u001b[0;32mtry\u001b[0m\u001b[0;34m:\u001b[0m\u001b[0;34m\u001b[0m\u001b[0;34m\u001b[0m\u001b[0m\n\u001b[0;32m--> 303\u001b[0;31m             \u001b[0mself\u001b[0m\u001b[0;34m.\u001b[0m\u001b[0m__step_run_and_handle_result\u001b[0m\u001b[0;34m(\u001b[0m\u001b[0mexc\u001b[0m\u001b[0;34m)\u001b[0m\u001b[0;34m\u001b[0m\u001b[0;34m\u001b[0m\u001b[0m\n\u001b[0m\u001b[1;32m    304\u001b[0m         \u001b[0;32mfinally\u001b[0m\u001b[0;34m:\u001b[0m\u001b[0;34m\u001b[0m\u001b[0;34m\u001b[0m\u001b[0m\n\u001b[1;32m    305\u001b[0m             \u001b[0m_leave_task\u001b[0m\u001b[0;34m(\u001b[0m\u001b[0mself\u001b[0m\u001b[0;34m.\u001b[0m\u001b[0m_loop\u001b[0m\u001b[0;34m,\u001b[0m \u001b[0mself\u001b[0m\u001b[0;34m)\u001b[0m\u001b[0;34m\u001b[0m\u001b[0;34m\u001b[0m\u001b[0m\n",
            "\u001b[0;32m/usr/lib/python3.12/asyncio/tasks.py\u001b[0m in \u001b[0;36m__step_run_and_handle_result\u001b[0;34m(***failed resolving arguments***)\u001b[0m\n\u001b[1;32m    312\u001b[0m                 \u001b[0;31m# We use the `send` method directly, because coroutines\u001b[0m\u001b[0;34m\u001b[0m\u001b[0;34m\u001b[0m\u001b[0m\n\u001b[1;32m    313\u001b[0m                 \u001b[0;31m# don't have `__iter__` and `__next__` methods.\u001b[0m\u001b[0;34m\u001b[0m\u001b[0;34m\u001b[0m\u001b[0m\n\u001b[0;32m--> 314\u001b[0;31m                 \u001b[0mresult\u001b[0m \u001b[0;34m=\u001b[0m \u001b[0mcoro\u001b[0m\u001b[0;34m.\u001b[0m\u001b[0msend\u001b[0m\u001b[0;34m(\u001b[0m\u001b[0;32mNone\u001b[0m\u001b[0;34m)\u001b[0m\u001b[0;34m\u001b[0m\u001b[0;34m\u001b[0m\u001b[0m\n\u001b[0m\u001b[1;32m    315\u001b[0m             \u001b[0;32melse\u001b[0m\u001b[0;34m:\u001b[0m\u001b[0;34m\u001b[0m\u001b[0;34m\u001b[0m\u001b[0m\n\u001b[1;32m    316\u001b[0m                 \u001b[0mresult\u001b[0m \u001b[0;34m=\u001b[0m \u001b[0mcoro\u001b[0m\u001b[0;34m.\u001b[0m\u001b[0mthrow\u001b[0m\u001b[0;34m(\u001b[0m\u001b[0mexc\u001b[0m\u001b[0;34m)\u001b[0m\u001b[0;34m\u001b[0m\u001b[0;34m\u001b[0m\u001b[0m\n",
            "\u001b[0;32m/usr/local/lib/python3.12/dist-packages/llm_batch_helper/providers.py\u001b[0m in \u001b[0;36m_process_single_prompt_attempt_with_verification\u001b[0;34m(prompt_id, prompt_text, config, provider, semaphore, cache_dir, force)\u001b[0m\n\u001b[1;32m    425\u001b[0m             \u001b[0;32mtry\u001b[0m\u001b[0;34m:\u001b[0m\u001b[0;34m\u001b[0m\u001b[0;34m\u001b[0m\u001b[0m\n\u001b[1;32m    426\u001b[0m                 \u001b[0;31m# Get LLM response\u001b[0m\u001b[0;34m\u001b[0m\u001b[0;34m\u001b[0m\u001b[0m\n\u001b[0;32m--> 427\u001b[0;31m                 llm_response_data = await get_llm_response_with_internal_retry(\n\u001b[0m\u001b[1;32m    428\u001b[0m                     \u001b[0mprompt_id\u001b[0m\u001b[0;34m,\u001b[0m \u001b[0mprompt_text\u001b[0m\u001b[0;34m,\u001b[0m \u001b[0mconfig\u001b[0m\u001b[0;34m,\u001b[0m \u001b[0mprovider\u001b[0m\u001b[0;34m\u001b[0m\u001b[0;34m\u001b[0m\u001b[0m\n\u001b[1;32m    429\u001b[0m                 )\n",
            "\u001b[0;32m/usr/local/lib/python3.12/dist-packages/llm_batch_helper/providers.py\u001b[0m in \u001b[0;36mget_llm_response_with_internal_retry\u001b[0;34m(prompt_id, prompt, config, provider, cache, force)\u001b[0m\n\u001b[1;32m    252\u001b[0m             \u001b[0mresponse\u001b[0m \u001b[0;34m=\u001b[0m \u001b[0;32mawait\u001b[0m \u001b[0m_get_together_response_direct\u001b[0m\u001b[0;34m(\u001b[0m\u001b[0mprompt\u001b[0m\u001b[0;34m,\u001b[0m \u001b[0mconfig\u001b[0m\u001b[0;34m)\u001b[0m\u001b[0;34m\u001b[0m\u001b[0;34m\u001b[0m\u001b[0m\n\u001b[1;32m    253\u001b[0m         \u001b[0;32melif\u001b[0m \u001b[0mprovider\u001b[0m\u001b[0;34m.\u001b[0m\u001b[0mlower\u001b[0m\u001b[0;34m(\u001b[0m\u001b[0;34m)\u001b[0m \u001b[0;34m==\u001b[0m \u001b[0;34m\"openrouter\"\u001b[0m\u001b[0;34m:\u001b[0m\u001b[0;34m\u001b[0m\u001b[0;34m\u001b[0m\u001b[0m\n\u001b[0;32m--> 254\u001b[0;31m             \u001b[0mresponse\u001b[0m \u001b[0;34m=\u001b[0m \u001b[0;32mawait\u001b[0m \u001b[0m_get_openrouter_response_direct\u001b[0m\u001b[0;34m(\u001b[0m\u001b[0mprompt\u001b[0m\u001b[0;34m,\u001b[0m \u001b[0mconfig\u001b[0m\u001b[0;34m)\u001b[0m\u001b[0;34m\u001b[0m\u001b[0;34m\u001b[0m\u001b[0m\n\u001b[0m\u001b[1;32m    255\u001b[0m         \u001b[0;32melse\u001b[0m\u001b[0;34m:\u001b[0m\u001b[0;34m\u001b[0m\u001b[0;34m\u001b[0m\u001b[0m\n\u001b[1;32m    256\u001b[0m             \u001b[0;32mraise\u001b[0m \u001b[0mValueError\u001b[0m\u001b[0;34m(\u001b[0m\u001b[0;34mf\"Unsupported provider: {provider}\"\u001b[0m\u001b[0;34m)\u001b[0m\u001b[0;34m\u001b[0m\u001b[0;34m\u001b[0m\u001b[0m\n",
            "\u001b[0;32m/usr/local/lib/python3.12/dist-packages/tenacity/asyncio/__init__.py\u001b[0m in \u001b[0;36masync_wrapped\u001b[0;34m(*args, **kwargs)\u001b[0m\n\u001b[1;32m    187\u001b[0m             \u001b[0mcopy\u001b[0m \u001b[0;34m=\u001b[0m \u001b[0mself\u001b[0m\u001b[0;34m.\u001b[0m\u001b[0mcopy\u001b[0m\u001b[0;34m(\u001b[0m\u001b[0;34m)\u001b[0m\u001b[0;34m\u001b[0m\u001b[0;34m\u001b[0m\u001b[0m\n\u001b[1;32m    188\u001b[0m             \u001b[0masync_wrapped\u001b[0m\u001b[0;34m.\u001b[0m\u001b[0mstatistics\u001b[0m \u001b[0;34m=\u001b[0m \u001b[0mcopy\u001b[0m\u001b[0;34m.\u001b[0m\u001b[0mstatistics\u001b[0m  \u001b[0;31m# type: ignore[attr-defined]\u001b[0m\u001b[0;34m\u001b[0m\u001b[0;34m\u001b[0m\u001b[0m\n\u001b[0;32m--> 189\u001b[0;31m             \u001b[0;32mreturn\u001b[0m \u001b[0;32mawait\u001b[0m \u001b[0mcopy\u001b[0m\u001b[0;34m(\u001b[0m\u001b[0mfn\u001b[0m\u001b[0;34m,\u001b[0m \u001b[0;34m*\u001b[0m\u001b[0margs\u001b[0m\u001b[0;34m,\u001b[0m \u001b[0;34m**\u001b[0m\u001b[0mkwargs\u001b[0m\u001b[0;34m)\u001b[0m\u001b[0;34m\u001b[0m\u001b[0;34m\u001b[0m\u001b[0m\n\u001b[0m\u001b[1;32m    190\u001b[0m \u001b[0;34m\u001b[0m\u001b[0m\n\u001b[1;32m    191\u001b[0m         \u001b[0;31m# Preserve attributes\u001b[0m\u001b[0;34m\u001b[0m\u001b[0;34m\u001b[0m\u001b[0m\n",
            "\u001b[0;32m/usr/local/lib/python3.12/dist-packages/tenacity/asyncio/__init__.py\u001b[0m in \u001b[0;36m__call__\u001b[0;34m(self, fn, *args, **kwargs)\u001b[0m\n\u001b[1;32m    109\u001b[0m         \u001b[0mretry_state\u001b[0m \u001b[0;34m=\u001b[0m \u001b[0mRetryCallState\u001b[0m\u001b[0;34m(\u001b[0m\u001b[0mretry_object\u001b[0m\u001b[0;34m=\u001b[0m\u001b[0mself\u001b[0m\u001b[0;34m,\u001b[0m \u001b[0mfn\u001b[0m\u001b[0;34m=\u001b[0m\u001b[0mfn\u001b[0m\u001b[0;34m,\u001b[0m \u001b[0margs\u001b[0m\u001b[0;34m=\u001b[0m\u001b[0margs\u001b[0m\u001b[0;34m,\u001b[0m \u001b[0mkwargs\u001b[0m\u001b[0;34m=\u001b[0m\u001b[0mkwargs\u001b[0m\u001b[0;34m)\u001b[0m\u001b[0;34m\u001b[0m\u001b[0;34m\u001b[0m\u001b[0m\n\u001b[1;32m    110\u001b[0m         \u001b[0;32mwhile\u001b[0m \u001b[0;32mTrue\u001b[0m\u001b[0;34m:\u001b[0m\u001b[0;34m\u001b[0m\u001b[0;34m\u001b[0m\u001b[0m\n\u001b[0;32m--> 111\u001b[0;31m             \u001b[0mdo\u001b[0m \u001b[0;34m=\u001b[0m \u001b[0;32mawait\u001b[0m \u001b[0mself\u001b[0m\u001b[0;34m.\u001b[0m\u001b[0miter\u001b[0m\u001b[0;34m(\u001b[0m\u001b[0mretry_state\u001b[0m\u001b[0;34m=\u001b[0m\u001b[0mretry_state\u001b[0m\u001b[0;34m)\u001b[0m\u001b[0;34m\u001b[0m\u001b[0;34m\u001b[0m\u001b[0m\n\u001b[0m\u001b[1;32m    112\u001b[0m             \u001b[0;32mif\u001b[0m \u001b[0misinstance\u001b[0m\u001b[0;34m(\u001b[0m\u001b[0mdo\u001b[0m\u001b[0;34m,\u001b[0m \u001b[0mDoAttempt\u001b[0m\u001b[0;34m)\u001b[0m\u001b[0;34m:\u001b[0m\u001b[0;34m\u001b[0m\u001b[0;34m\u001b[0m\u001b[0m\n\u001b[1;32m    113\u001b[0m                 \u001b[0;32mtry\u001b[0m\u001b[0;34m:\u001b[0m\u001b[0;34m\u001b[0m\u001b[0;34m\u001b[0m\u001b[0m\n",
            "\u001b[0;32m/usr/local/lib/python3.12/dist-packages/tenacity/asyncio/__init__.py\u001b[0m in \u001b[0;36miter\u001b[0;34m(self, retry_state)\u001b[0m\n\u001b[1;32m    151\u001b[0m         \u001b[0mresult\u001b[0m \u001b[0;34m=\u001b[0m \u001b[0;32mNone\u001b[0m\u001b[0;34m\u001b[0m\u001b[0;34m\u001b[0m\u001b[0m\n\u001b[1;32m    152\u001b[0m         \u001b[0;32mfor\u001b[0m \u001b[0maction\u001b[0m \u001b[0;32min\u001b[0m \u001b[0mself\u001b[0m\u001b[0;34m.\u001b[0m\u001b[0miter_state\u001b[0m\u001b[0;34m.\u001b[0m\u001b[0mactions\u001b[0m\u001b[0;34m:\u001b[0m\u001b[0;34m\u001b[0m\u001b[0;34m\u001b[0m\u001b[0m\n\u001b[0;32m--> 153\u001b[0;31m             \u001b[0mresult\u001b[0m \u001b[0;34m=\u001b[0m \u001b[0;32mawait\u001b[0m \u001b[0maction\u001b[0m\u001b[0;34m(\u001b[0m\u001b[0mretry_state\u001b[0m\u001b[0;34m)\u001b[0m\u001b[0;34m\u001b[0m\u001b[0;34m\u001b[0m\u001b[0m\n\u001b[0m\u001b[1;32m    154\u001b[0m         \u001b[0;32mreturn\u001b[0m \u001b[0mresult\u001b[0m\u001b[0;34m\u001b[0m\u001b[0;34m\u001b[0m\u001b[0m\n\u001b[1;32m    155\u001b[0m \u001b[0;34m\u001b[0m\u001b[0m\n",
            "\u001b[0;32m/usr/local/lib/python3.12/dist-packages/tenacity/_utils.py\u001b[0m in \u001b[0;36minner\u001b[0;34m(*args, **kwargs)\u001b[0m\n\u001b[1;32m     97\u001b[0m \u001b[0;34m\u001b[0m\u001b[0m\n\u001b[1;32m     98\u001b[0m     \u001b[0;32masync\u001b[0m \u001b[0;32mdef\u001b[0m \u001b[0minner\u001b[0m\u001b[0;34m(\u001b[0m\u001b[0;34m*\u001b[0m\u001b[0margs\u001b[0m\u001b[0;34m:\u001b[0m \u001b[0mtyping\u001b[0m\u001b[0;34m.\u001b[0m\u001b[0mAny\u001b[0m\u001b[0;34m,\u001b[0m \u001b[0;34m**\u001b[0m\u001b[0mkwargs\u001b[0m\u001b[0;34m:\u001b[0m \u001b[0mtyping\u001b[0m\u001b[0;34m.\u001b[0m\u001b[0mAny\u001b[0m\u001b[0;34m)\u001b[0m \u001b[0;34m->\u001b[0m \u001b[0mtyping\u001b[0m\u001b[0;34m.\u001b[0m\u001b[0mAny\u001b[0m\u001b[0;34m:\u001b[0m\u001b[0;34m\u001b[0m\u001b[0;34m\u001b[0m\u001b[0m\n\u001b[0;32m---> 99\u001b[0;31m         \u001b[0;32mreturn\u001b[0m \u001b[0mcall\u001b[0m\u001b[0;34m(\u001b[0m\u001b[0;34m*\u001b[0m\u001b[0margs\u001b[0m\u001b[0;34m,\u001b[0m \u001b[0;34m**\u001b[0m\u001b[0mkwargs\u001b[0m\u001b[0;34m)\u001b[0m\u001b[0;34m\u001b[0m\u001b[0;34m\u001b[0m\u001b[0m\n\u001b[0m\u001b[1;32m    100\u001b[0m \u001b[0;34m\u001b[0m\u001b[0m\n\u001b[1;32m    101\u001b[0m     \u001b[0;32mreturn\u001b[0m \u001b[0minner\u001b[0m\u001b[0;34m\u001b[0m\u001b[0;34m\u001b[0m\u001b[0m\n",
            "\u001b[0;32m/usr/local/lib/python3.12/dist-packages/tenacity/__init__.py\u001b[0m in \u001b[0;36m<lambda>\u001b[0;34m(rs)\u001b[0m\n\u001b[1;32m    396\u001b[0m     \u001b[0;32mdef\u001b[0m \u001b[0m_post_retry_check_actions\u001b[0m\u001b[0;34m(\u001b[0m\u001b[0mself\u001b[0m\u001b[0;34m,\u001b[0m \u001b[0mretry_state\u001b[0m\u001b[0;34m:\u001b[0m \u001b[0;34m\"RetryCallState\"\u001b[0m\u001b[0;34m)\u001b[0m \u001b[0;34m->\u001b[0m \u001b[0;32mNone\u001b[0m\u001b[0;34m:\u001b[0m\u001b[0;34m\u001b[0m\u001b[0;34m\u001b[0m\u001b[0m\n\u001b[1;32m    397\u001b[0m         \u001b[0;32mif\u001b[0m \u001b[0;32mnot\u001b[0m \u001b[0;34m(\u001b[0m\u001b[0mself\u001b[0m\u001b[0;34m.\u001b[0m\u001b[0miter_state\u001b[0m\u001b[0;34m.\u001b[0m\u001b[0mis_explicit_retry\u001b[0m \u001b[0;32mor\u001b[0m \u001b[0mself\u001b[0m\u001b[0;34m.\u001b[0m\u001b[0miter_state\u001b[0m\u001b[0;34m.\u001b[0m\u001b[0mretry_run_result\u001b[0m\u001b[0;34m)\u001b[0m\u001b[0;34m:\u001b[0m\u001b[0;34m\u001b[0m\u001b[0;34m\u001b[0m\u001b[0m\n\u001b[0;32m--> 398\u001b[0;31m             \u001b[0mself\u001b[0m\u001b[0;34m.\u001b[0m\u001b[0m_add_action_func\u001b[0m\u001b[0;34m(\u001b[0m\u001b[0;32mlambda\u001b[0m \u001b[0mrs\u001b[0m\u001b[0;34m:\u001b[0m \u001b[0mrs\u001b[0m\u001b[0;34m.\u001b[0m\u001b[0moutcome\u001b[0m\u001b[0;34m.\u001b[0m\u001b[0mresult\u001b[0m\u001b[0;34m(\u001b[0m\u001b[0;34m)\u001b[0m\u001b[0;34m)\u001b[0m\u001b[0;34m\u001b[0m\u001b[0;34m\u001b[0m\u001b[0m\n\u001b[0m\u001b[1;32m    399\u001b[0m             \u001b[0;32mreturn\u001b[0m\u001b[0;34m\u001b[0m\u001b[0;34m\u001b[0m\u001b[0m\n\u001b[1;32m    400\u001b[0m \u001b[0;34m\u001b[0m\u001b[0m\n",
            "\u001b[0;32m/usr/lib/python3.12/concurrent/futures/_base.py\u001b[0m in \u001b[0;36mresult\u001b[0;34m(self, timeout)\u001b[0m\n\u001b[1;32m    447\u001b[0m                     \u001b[0;32mraise\u001b[0m \u001b[0mCancelledError\u001b[0m\u001b[0;34m(\u001b[0m\u001b[0;34m)\u001b[0m\u001b[0;34m\u001b[0m\u001b[0;34m\u001b[0m\u001b[0m\n\u001b[1;32m    448\u001b[0m                 \u001b[0;32melif\u001b[0m \u001b[0mself\u001b[0m\u001b[0;34m.\u001b[0m\u001b[0m_state\u001b[0m \u001b[0;34m==\u001b[0m \u001b[0mFINISHED\u001b[0m\u001b[0;34m:\u001b[0m\u001b[0;34m\u001b[0m\u001b[0;34m\u001b[0m\u001b[0m\n\u001b[0;32m--> 449\u001b[0;31m                     \u001b[0;32mreturn\u001b[0m \u001b[0mself\u001b[0m\u001b[0;34m.\u001b[0m\u001b[0m__get_result\u001b[0m\u001b[0;34m(\u001b[0m\u001b[0;34m)\u001b[0m\u001b[0;34m\u001b[0m\u001b[0;34m\u001b[0m\u001b[0m\n\u001b[0m\u001b[1;32m    450\u001b[0m \u001b[0;34m\u001b[0m\u001b[0m\n\u001b[1;32m    451\u001b[0m                 \u001b[0mself\u001b[0m\u001b[0;34m.\u001b[0m\u001b[0m_condition\u001b[0m\u001b[0;34m.\u001b[0m\u001b[0mwait\u001b[0m\u001b[0;34m(\u001b[0m\u001b[0mtimeout\u001b[0m\u001b[0;34m)\u001b[0m\u001b[0;34m\u001b[0m\u001b[0;34m\u001b[0m\u001b[0m\n",
            "\u001b[0;32m/usr/lib/python3.12/concurrent/futures/_base.py\u001b[0m in \u001b[0;36m__get_result\u001b[0;34m(self)\u001b[0m\n\u001b[1;32m    399\u001b[0m         \u001b[0;32mif\u001b[0m \u001b[0mself\u001b[0m\u001b[0;34m.\u001b[0m\u001b[0m_exception\u001b[0m\u001b[0;34m:\u001b[0m\u001b[0;34m\u001b[0m\u001b[0;34m\u001b[0m\u001b[0m\n\u001b[1;32m    400\u001b[0m             \u001b[0;32mtry\u001b[0m\u001b[0;34m:\u001b[0m\u001b[0;34m\u001b[0m\u001b[0;34m\u001b[0m\u001b[0m\n\u001b[0;32m--> 401\u001b[0;31m                 \u001b[0;32mraise\u001b[0m \u001b[0mself\u001b[0m\u001b[0;34m.\u001b[0m\u001b[0m_exception\u001b[0m\u001b[0;34m\u001b[0m\u001b[0;34m\u001b[0m\u001b[0m\n\u001b[0m\u001b[1;32m    402\u001b[0m             \u001b[0;32mfinally\u001b[0m\u001b[0;34m:\u001b[0m\u001b[0;34m\u001b[0m\u001b[0;34m\u001b[0m\u001b[0m\n\u001b[1;32m    403\u001b[0m                 \u001b[0;31m# Break a reference cycle with the exception in self._exception\u001b[0m\u001b[0;34m\u001b[0m\u001b[0;34m\u001b[0m\u001b[0m\n",
            "\u001b[0;32m/usr/local/lib/python3.12/dist-packages/tenacity/asyncio/__init__.py\u001b[0m in \u001b[0;36m__call__\u001b[0;34m(self, fn, *args, **kwargs)\u001b[0m\n\u001b[1;32m    112\u001b[0m             \u001b[0;32mif\u001b[0m \u001b[0misinstance\u001b[0m\u001b[0;34m(\u001b[0m\u001b[0mdo\u001b[0m\u001b[0;34m,\u001b[0m \u001b[0mDoAttempt\u001b[0m\u001b[0;34m)\u001b[0m\u001b[0;34m:\u001b[0m\u001b[0;34m\u001b[0m\u001b[0;34m\u001b[0m\u001b[0m\n\u001b[1;32m    113\u001b[0m                 \u001b[0;32mtry\u001b[0m\u001b[0;34m:\u001b[0m\u001b[0;34m\u001b[0m\u001b[0;34m\u001b[0m\u001b[0m\n\u001b[0;32m--> 114\u001b[0;31m                     \u001b[0mresult\u001b[0m \u001b[0;34m=\u001b[0m \u001b[0;32mawait\u001b[0m \u001b[0mfn\u001b[0m\u001b[0;34m(\u001b[0m\u001b[0;34m*\u001b[0m\u001b[0margs\u001b[0m\u001b[0;34m,\u001b[0m \u001b[0;34m**\u001b[0m\u001b[0mkwargs\u001b[0m\u001b[0;34m)\u001b[0m\u001b[0;34m\u001b[0m\u001b[0;34m\u001b[0m\u001b[0m\n\u001b[0m\u001b[1;32m    115\u001b[0m                 \u001b[0;32mexcept\u001b[0m \u001b[0mBaseException\u001b[0m\u001b[0;34m:\u001b[0m  \u001b[0;31m# noqa: B902\u001b[0m\u001b[0;34m\u001b[0m\u001b[0;34m\u001b[0m\u001b[0m\n\u001b[1;32m    116\u001b[0m                     \u001b[0mretry_state\u001b[0m\u001b[0;34m.\u001b[0m\u001b[0mset_exception\u001b[0m\u001b[0;34m(\u001b[0m\u001b[0msys\u001b[0m\u001b[0;34m.\u001b[0m\u001b[0mexc_info\u001b[0m\u001b[0;34m(\u001b[0m\u001b[0;34m)\u001b[0m\u001b[0;34m)\u001b[0m  \u001b[0;31m# type: ignore[arg-type]\u001b[0m\u001b[0;34m\u001b[0m\u001b[0;34m\u001b[0m\u001b[0m\n",
            "\u001b[0;32m/usr/local/lib/python3.12/dist-packages/llm_batch_helper/providers.py\u001b[0m in \u001b[0;36m_get_openrouter_response_direct\u001b[0;34m(prompt, config)\u001b[0m\n\u001b[1;32m    193\u001b[0m         \u001b[0;32mraise\u001b[0m \u001b[0mValueError\u001b[0m\u001b[0;34m(\u001b[0m\u001b[0;34m\"OPENROUTER_API_KEY environment variable not set\"\u001b[0m\u001b[0;34m)\u001b[0m\u001b[0;34m\u001b[0m\u001b[0;34m\u001b[0m\u001b[0m\n\u001b[1;32m    194\u001b[0m \u001b[0;34m\u001b[0m\u001b[0m\n\u001b[0;32m--> 195\u001b[0;31m     \u001b[0;32masync\u001b[0m \u001b[0;32mwith\u001b[0m \u001b[0mhttpx\u001b[0m\u001b[0;34m.\u001b[0m\u001b[0mAsyncClient\u001b[0m\u001b[0;34m(\u001b[0m\u001b[0mtimeout\u001b[0m\u001b[0;34m=\u001b[0m\u001b[0;36m1000.0\u001b[0m\u001b[0;34m)\u001b[0m \u001b[0;32mas\u001b[0m \u001b[0mclient\u001b[0m\u001b[0;34m:\u001b[0m\u001b[0;34m\u001b[0m\u001b[0;34m\u001b[0m\u001b[0m\n\u001b[0m\u001b[1;32m    196\u001b[0m         messages = [\n\u001b[1;32m    197\u001b[0m             \u001b[0;34m{\u001b[0m\u001b[0;34m\"role\"\u001b[0m\u001b[0;34m:\u001b[0m \u001b[0;34m\"system\"\u001b[0m\u001b[0;34m,\u001b[0m \u001b[0;34m\"content\"\u001b[0m\u001b[0;34m:\u001b[0m \u001b[0mconfig\u001b[0m\u001b[0;34m.\u001b[0m\u001b[0msystem_instruction\u001b[0m\u001b[0;34m}\u001b[0m\u001b[0;34m,\u001b[0m\u001b[0;34m\u001b[0m\u001b[0;34m\u001b[0m\u001b[0m\n",
            "\u001b[0;32m/usr/local/lib/python3.12/dist-packages/httpx/_client.py\u001b[0m in \u001b[0;36m__init__\u001b[0;34m(self, auth, params, headers, cookies, verify, cert, http1, http2, proxy, mounts, timeout, follow_redirects, limits, max_redirects, event_hooks, base_url, transport, trust_env, default_encoding)\u001b[0m\n\u001b[1;32m   1400\u001b[0m         \u001b[0mproxy_map\u001b[0m \u001b[0;34m=\u001b[0m \u001b[0mself\u001b[0m\u001b[0;34m.\u001b[0m\u001b[0m_get_proxy_map\u001b[0m\u001b[0;34m(\u001b[0m\u001b[0mproxy\u001b[0m\u001b[0;34m,\u001b[0m \u001b[0mallow_env_proxies\u001b[0m\u001b[0;34m)\u001b[0m\u001b[0;34m\u001b[0m\u001b[0;34m\u001b[0m\u001b[0m\n\u001b[1;32m   1401\u001b[0m \u001b[0;34m\u001b[0m\u001b[0m\n\u001b[0;32m-> 1402\u001b[0;31m         self._transport = self._init_transport(\n\u001b[0m\u001b[1;32m   1403\u001b[0m             \u001b[0mverify\u001b[0m\u001b[0;34m=\u001b[0m\u001b[0mverify\u001b[0m\u001b[0;34m,\u001b[0m\u001b[0;34m\u001b[0m\u001b[0;34m\u001b[0m\u001b[0m\n\u001b[1;32m   1404\u001b[0m             \u001b[0mcert\u001b[0m\u001b[0;34m=\u001b[0m\u001b[0mcert\u001b[0m\u001b[0;34m,\u001b[0m\u001b[0;34m\u001b[0m\u001b[0;34m\u001b[0m\u001b[0m\n",
            "\u001b[0;32m/usr/local/lib/python3.12/dist-packages/httpx/_client.py\u001b[0m in \u001b[0;36m_init_transport\u001b[0;34m(self, verify, cert, trust_env, http1, http2, limits, transport)\u001b[0m\n\u001b[1;32m   1443\u001b[0m             \u001b[0;32mreturn\u001b[0m \u001b[0mtransport\u001b[0m\u001b[0;34m\u001b[0m\u001b[0;34m\u001b[0m\u001b[0m\n\u001b[1;32m   1444\u001b[0m \u001b[0;34m\u001b[0m\u001b[0m\n\u001b[0;32m-> 1445\u001b[0;31m         return AsyncHTTPTransport(\n\u001b[0m\u001b[1;32m   1446\u001b[0m             \u001b[0mverify\u001b[0m\u001b[0;34m=\u001b[0m\u001b[0mverify\u001b[0m\u001b[0;34m,\u001b[0m\u001b[0;34m\u001b[0m\u001b[0;34m\u001b[0m\u001b[0m\n\u001b[1;32m   1447\u001b[0m             \u001b[0mcert\u001b[0m\u001b[0;34m=\u001b[0m\u001b[0mcert\u001b[0m\u001b[0;34m,\u001b[0m\u001b[0;34m\u001b[0m\u001b[0;34m\u001b[0m\u001b[0m\n",
            "\u001b[0;32m/usr/local/lib/python3.12/dist-packages/httpx/_transports/default.py\u001b[0m in \u001b[0;36m__init__\u001b[0;34m(self, verify, cert, trust_env, http1, http2, limits, proxy, uds, local_address, retries, socket_options)\u001b[0m\n\u001b[1;32m    295\u001b[0m \u001b[0;34m\u001b[0m\u001b[0m\n\u001b[1;32m    296\u001b[0m         \u001b[0mproxy\u001b[0m \u001b[0;34m=\u001b[0m \u001b[0mProxy\u001b[0m\u001b[0;34m(\u001b[0m\u001b[0murl\u001b[0m\u001b[0;34m=\u001b[0m\u001b[0mproxy\u001b[0m\u001b[0;34m)\u001b[0m \u001b[0;32mif\u001b[0m \u001b[0misinstance\u001b[0m\u001b[0;34m(\u001b[0m\u001b[0mproxy\u001b[0m\u001b[0;34m,\u001b[0m \u001b[0;34m(\u001b[0m\u001b[0mstr\u001b[0m\u001b[0;34m,\u001b[0m \u001b[0mURL\u001b[0m\u001b[0;34m)\u001b[0m\u001b[0;34m)\u001b[0m \u001b[0;32melse\u001b[0m \u001b[0mproxy\u001b[0m\u001b[0;34m\u001b[0m\u001b[0;34m\u001b[0m\u001b[0m\n\u001b[0;32m--> 297\u001b[0;31m         \u001b[0mssl_context\u001b[0m \u001b[0;34m=\u001b[0m \u001b[0mcreate_ssl_context\u001b[0m\u001b[0;34m(\u001b[0m\u001b[0mverify\u001b[0m\u001b[0;34m=\u001b[0m\u001b[0mverify\u001b[0m\u001b[0;34m,\u001b[0m \u001b[0mcert\u001b[0m\u001b[0;34m=\u001b[0m\u001b[0mcert\u001b[0m\u001b[0;34m,\u001b[0m \u001b[0mtrust_env\u001b[0m\u001b[0;34m=\u001b[0m\u001b[0mtrust_env\u001b[0m\u001b[0;34m)\u001b[0m\u001b[0;34m\u001b[0m\u001b[0;34m\u001b[0m\u001b[0m\n\u001b[0m\u001b[1;32m    298\u001b[0m \u001b[0;34m\u001b[0m\u001b[0m\n\u001b[1;32m    299\u001b[0m         \u001b[0;32mif\u001b[0m \u001b[0mproxy\u001b[0m \u001b[0;32mis\u001b[0m \u001b[0;32mNone\u001b[0m\u001b[0;34m:\u001b[0m\u001b[0;34m\u001b[0m\u001b[0;34m\u001b[0m\u001b[0m\n",
            "\u001b[0;32m/usr/local/lib/python3.12/dist-packages/httpx/_config.py\u001b[0m in \u001b[0;36mcreate_ssl_context\u001b[0;34m(verify, cert, trust_env)\u001b[0m\n\u001b[1;32m     38\u001b[0m         \u001b[0;32melse\u001b[0m\u001b[0;34m:\u001b[0m\u001b[0;34m\u001b[0m\u001b[0;34m\u001b[0m\u001b[0m\n\u001b[1;32m     39\u001b[0m             \u001b[0;31m# Default case...\u001b[0m\u001b[0;34m\u001b[0m\u001b[0;34m\u001b[0m\u001b[0m\n\u001b[0;32m---> 40\u001b[0;31m             \u001b[0mctx\u001b[0m \u001b[0;34m=\u001b[0m \u001b[0mssl\u001b[0m\u001b[0;34m.\u001b[0m\u001b[0mcreate_default_context\u001b[0m\u001b[0;34m(\u001b[0m\u001b[0mcafile\u001b[0m\u001b[0;34m=\u001b[0m\u001b[0mcertifi\u001b[0m\u001b[0;34m.\u001b[0m\u001b[0mwhere\u001b[0m\u001b[0;34m(\u001b[0m\u001b[0;34m)\u001b[0m\u001b[0;34m)\u001b[0m\u001b[0;34m\u001b[0m\u001b[0;34m\u001b[0m\u001b[0m\n\u001b[0m\u001b[1;32m     41\u001b[0m     \u001b[0;32melif\u001b[0m \u001b[0mverify\u001b[0m \u001b[0;32mis\u001b[0m \u001b[0;32mFalse\u001b[0m\u001b[0;34m:\u001b[0m\u001b[0;34m\u001b[0m\u001b[0;34m\u001b[0m\u001b[0m\n\u001b[1;32m     42\u001b[0m         \u001b[0mctx\u001b[0m \u001b[0;34m=\u001b[0m \u001b[0mssl\u001b[0m\u001b[0;34m.\u001b[0m\u001b[0mSSLContext\u001b[0m\u001b[0;34m(\u001b[0m\u001b[0mssl\u001b[0m\u001b[0;34m.\u001b[0m\u001b[0mPROTOCOL_TLS_CLIENT\u001b[0m\u001b[0;34m)\u001b[0m\u001b[0;34m\u001b[0m\u001b[0;34m\u001b[0m\u001b[0m\n",
            "\u001b[0;32m/usr/lib/python3.12/ssl.py\u001b[0m in \u001b[0;36mcreate_default_context\u001b[0;34m(purpose, cafile, capath, cadata)\u001b[0m\n\u001b[1;32m    705\u001b[0m \u001b[0;34m\u001b[0m\u001b[0m\n\u001b[1;32m    706\u001b[0m     \u001b[0;32mif\u001b[0m \u001b[0mcafile\u001b[0m \u001b[0;32mor\u001b[0m \u001b[0mcapath\u001b[0m \u001b[0;32mor\u001b[0m \u001b[0mcadata\u001b[0m\u001b[0;34m:\u001b[0m\u001b[0;34m\u001b[0m\u001b[0;34m\u001b[0m\u001b[0m\n\u001b[0;32m--> 707\u001b[0;31m         \u001b[0mcontext\u001b[0m\u001b[0;34m.\u001b[0m\u001b[0mload_verify_locations\u001b[0m\u001b[0;34m(\u001b[0m\u001b[0mcafile\u001b[0m\u001b[0;34m,\u001b[0m \u001b[0mcapath\u001b[0m\u001b[0;34m,\u001b[0m \u001b[0mcadata\u001b[0m\u001b[0;34m)\u001b[0m\u001b[0;34m\u001b[0m\u001b[0;34m\u001b[0m\u001b[0m\n\u001b[0m\u001b[1;32m    708\u001b[0m     \u001b[0;32melif\u001b[0m \u001b[0mcontext\u001b[0m\u001b[0;34m.\u001b[0m\u001b[0mverify_mode\u001b[0m \u001b[0;34m!=\u001b[0m \u001b[0mCERT_NONE\u001b[0m\u001b[0;34m:\u001b[0m\u001b[0;34m\u001b[0m\u001b[0;34m\u001b[0m\u001b[0m\n\u001b[1;32m    709\u001b[0m         \u001b[0;31m# no explicit cafile, capath or cadata but the verify mode is\u001b[0m\u001b[0;34m\u001b[0m\u001b[0;34m\u001b[0m\u001b[0m\n",
            "\u001b[0;31mKeyboardInterrupt\u001b[0m: "
          ]
        }
      ],
      "source": [
        "results = classify(test_texts, prompt, model_name=MODEL[0]) # You can first test/tune over 10 samples, and then run 1000 samples.\n",
        "\n",
        "\n",
        "# Print results\n",
        "print()\n",
        "for prompt_id, response in results.items():\n",
        "    print(f\"{prompt_id}: {response['response_text']} type({type(response['response_text'])})\") #prompt_id is the hash of the prompt for cache identification"
      ]
    },
    {
      "cell_type": "markdown",
      "metadata": {
        "id": "SvTQXvjIpTim"
      },
      "source": [
        "Take a look for the output: it is a desired dictionary"
      ]
    },
    {
      "cell_type": "markdown",
      "metadata": {
        "id": "NCVhetnZqFjY"
      },
      "source": [
        "Write a helper function to compute the accuracy score"
      ]
    },
    {
      "cell_type": "code",
      "execution_count": 37,
      "metadata": {
        "id": "rpob3o9jl47W"
      },
      "outputs": [],
      "source": [
        "def accuracy_score(results, texts, labels):\n",
        "    accuracy = 0\n",
        "    for i, (prompt_id, result) in enumerate(results.items()):\n",
        "        ### NOTE: CLEAN before loads!!!\n",
        "        clean_res=result['response_text'].replace(\"```json\",\"\").replace(\"```\",\"\").strip()\n",
        "        classification = json.loads(clean_res)['Sentiment']\n",
        "        if classification == 'Positive' and labels[i] == 1 or classification == 'Negative' and labels[i] == 0:\n",
        "            accuracy += 1\n",
        "\n",
        "    return accuracy/len(results)"
      ]
    },
    {
      "cell_type": "code",
      "execution_count": 38,
      "metadata": {
        "colab": {
          "base_uri": "https://localhost:8080/",
          "height": 704
        },
        "id": "67Lw4K-fV_35",
        "outputId": "115d44b0-cadf-4e76-9faa-eaac84f3aeb5"
      },
      "outputs": [
        {
          "output_type": "error",
          "ename": "JSONDecodeError",
          "evalue": "Expecting value: line 1 column 1 (char 0)",
          "traceback": [
            "\u001b[0;31m---------------------------------------------------------------------------\u001b[0m",
            "\u001b[0;31mJSONDecodeError\u001b[0m                           Traceback (most recent call last)",
            "\u001b[0;32m/tmp/ipython-input-1260867048.py\u001b[0m in \u001b[0;36m<cell line: 0>\u001b[0;34m()\u001b[0m\n\u001b[0;32m----> 1\u001b[0;31m \u001b[0maccuracy\u001b[0m \u001b[0;34m=\u001b[0m \u001b[0maccuracy_score\u001b[0m\u001b[0;34m(\u001b[0m\u001b[0mresults\u001b[0m\u001b[0;34m,\u001b[0m \u001b[0mtest_texts\u001b[0m\u001b[0;34m,\u001b[0m \u001b[0mtest_labels\u001b[0m\u001b[0;34m)\u001b[0m\u001b[0;34m\u001b[0m\u001b[0;34m\u001b[0m\u001b[0m\n\u001b[0m\u001b[1;32m      2\u001b[0m \u001b[0mprint\u001b[0m\u001b[0;34m(\u001b[0m\u001b[0;34m\"accuracy:\"\u001b[0m\u001b[0;34m,\u001b[0m \u001b[0maccuracy\u001b[0m\u001b[0;34m)\u001b[0m\u001b[0;34m\u001b[0m\u001b[0;34m\u001b[0m\u001b[0m\n",
            "\u001b[0;32m/tmp/ipython-input-2049135676.py\u001b[0m in \u001b[0;36maccuracy_score\u001b[0;34m(results, texts, labels)\u001b[0m\n\u001b[1;32m      2\u001b[0m     \u001b[0maccuracy\u001b[0m \u001b[0;34m=\u001b[0m \u001b[0;36m0\u001b[0m\u001b[0;34m\u001b[0m\u001b[0;34m\u001b[0m\u001b[0m\n\u001b[1;32m      3\u001b[0m     \u001b[0;32mfor\u001b[0m \u001b[0mi\u001b[0m\u001b[0;34m,\u001b[0m \u001b[0;34m(\u001b[0m\u001b[0mprompt_id\u001b[0m\u001b[0;34m,\u001b[0m \u001b[0mresult\u001b[0m\u001b[0;34m)\u001b[0m \u001b[0;32min\u001b[0m \u001b[0menumerate\u001b[0m\u001b[0;34m(\u001b[0m\u001b[0mresults\u001b[0m\u001b[0;34m.\u001b[0m\u001b[0mitems\u001b[0m\u001b[0;34m(\u001b[0m\u001b[0;34m)\u001b[0m\u001b[0;34m)\u001b[0m\u001b[0;34m:\u001b[0m\u001b[0;34m\u001b[0m\u001b[0;34m\u001b[0m\u001b[0m\n\u001b[0;32m----> 4\u001b[0;31m         \u001b[0mclassification\u001b[0m \u001b[0;34m=\u001b[0m \u001b[0mjson\u001b[0m\u001b[0;34m.\u001b[0m\u001b[0mloads\u001b[0m\u001b[0;34m(\u001b[0m\u001b[0mresult\u001b[0m\u001b[0;34m[\u001b[0m\u001b[0;34m'response_text'\u001b[0m\u001b[0;34m]\u001b[0m\u001b[0;34m)\u001b[0m\u001b[0;34m[\u001b[0m\u001b[0;34m'Sentiment'\u001b[0m\u001b[0;34m]\u001b[0m\u001b[0;34m\u001b[0m\u001b[0;34m\u001b[0m\u001b[0m\n\u001b[0m\u001b[1;32m      5\u001b[0m         \u001b[0;32mif\u001b[0m \u001b[0mclassification\u001b[0m \u001b[0;34m==\u001b[0m \u001b[0;34m'Positive'\u001b[0m \u001b[0;32mand\u001b[0m \u001b[0mlabels\u001b[0m\u001b[0;34m[\u001b[0m\u001b[0mi\u001b[0m\u001b[0;34m]\u001b[0m \u001b[0;34m==\u001b[0m \u001b[0;36m1\u001b[0m \u001b[0;32mor\u001b[0m \u001b[0mclassification\u001b[0m \u001b[0;34m==\u001b[0m \u001b[0;34m'Negative'\u001b[0m \u001b[0;32mand\u001b[0m \u001b[0mlabels\u001b[0m\u001b[0;34m[\u001b[0m\u001b[0mi\u001b[0m\u001b[0;34m]\u001b[0m \u001b[0;34m==\u001b[0m \u001b[0;36m0\u001b[0m\u001b[0;34m:\u001b[0m\u001b[0;34m\u001b[0m\u001b[0;34m\u001b[0m\u001b[0m\n\u001b[1;32m      6\u001b[0m             \u001b[0maccuracy\u001b[0m \u001b[0;34m+=\u001b[0m \u001b[0;36m1\u001b[0m\u001b[0;34m\u001b[0m\u001b[0;34m\u001b[0m\u001b[0m\n",
            "\u001b[0;32m/usr/lib/python3.12/json/__init__.py\u001b[0m in \u001b[0;36mloads\u001b[0;34m(s, cls, object_hook, parse_float, parse_int, parse_constant, object_pairs_hook, **kw)\u001b[0m\n\u001b[1;32m    344\u001b[0m             \u001b[0mparse_int\u001b[0m \u001b[0;32mis\u001b[0m \u001b[0;32mNone\u001b[0m \u001b[0;32mand\u001b[0m \u001b[0mparse_float\u001b[0m \u001b[0;32mis\u001b[0m \u001b[0;32mNone\u001b[0m \u001b[0;32mand\u001b[0m\u001b[0;34m\u001b[0m\u001b[0;34m\u001b[0m\u001b[0m\n\u001b[1;32m    345\u001b[0m             parse_constant is None and object_pairs_hook is None and not kw):\n\u001b[0;32m--> 346\u001b[0;31m         \u001b[0;32mreturn\u001b[0m \u001b[0m_default_decoder\u001b[0m\u001b[0;34m.\u001b[0m\u001b[0mdecode\u001b[0m\u001b[0;34m(\u001b[0m\u001b[0ms\u001b[0m\u001b[0;34m)\u001b[0m\u001b[0;34m\u001b[0m\u001b[0;34m\u001b[0m\u001b[0m\n\u001b[0m\u001b[1;32m    347\u001b[0m     \u001b[0;32mif\u001b[0m \u001b[0mcls\u001b[0m \u001b[0;32mis\u001b[0m \u001b[0;32mNone\u001b[0m\u001b[0;34m:\u001b[0m\u001b[0;34m\u001b[0m\u001b[0;34m\u001b[0m\u001b[0m\n\u001b[1;32m    348\u001b[0m         \u001b[0mcls\u001b[0m \u001b[0;34m=\u001b[0m \u001b[0mJSONDecoder\u001b[0m\u001b[0;34m\u001b[0m\u001b[0;34m\u001b[0m\u001b[0m\n",
            "\u001b[0;32m/usr/lib/python3.12/json/decoder.py\u001b[0m in \u001b[0;36mdecode\u001b[0;34m(self, s, _w)\u001b[0m\n\u001b[1;32m    336\u001b[0m \u001b[0;34m\u001b[0m\u001b[0m\n\u001b[1;32m    337\u001b[0m         \"\"\"\n\u001b[0;32m--> 338\u001b[0;31m         \u001b[0mobj\u001b[0m\u001b[0;34m,\u001b[0m \u001b[0mend\u001b[0m \u001b[0;34m=\u001b[0m \u001b[0mself\u001b[0m\u001b[0;34m.\u001b[0m\u001b[0mraw_decode\u001b[0m\u001b[0;34m(\u001b[0m\u001b[0ms\u001b[0m\u001b[0;34m,\u001b[0m \u001b[0midx\u001b[0m\u001b[0;34m=\u001b[0m\u001b[0m_w\u001b[0m\u001b[0;34m(\u001b[0m\u001b[0ms\u001b[0m\u001b[0;34m,\u001b[0m \u001b[0;36m0\u001b[0m\u001b[0;34m)\u001b[0m\u001b[0;34m.\u001b[0m\u001b[0mend\u001b[0m\u001b[0;34m(\u001b[0m\u001b[0;34m)\u001b[0m\u001b[0;34m)\u001b[0m\u001b[0;34m\u001b[0m\u001b[0;34m\u001b[0m\u001b[0m\n\u001b[0m\u001b[1;32m    339\u001b[0m         \u001b[0mend\u001b[0m \u001b[0;34m=\u001b[0m \u001b[0m_w\u001b[0m\u001b[0;34m(\u001b[0m\u001b[0ms\u001b[0m\u001b[0;34m,\u001b[0m \u001b[0mend\u001b[0m\u001b[0;34m)\u001b[0m\u001b[0;34m.\u001b[0m\u001b[0mend\u001b[0m\u001b[0;34m(\u001b[0m\u001b[0;34m)\u001b[0m\u001b[0;34m\u001b[0m\u001b[0;34m\u001b[0m\u001b[0m\n\u001b[1;32m    340\u001b[0m         \u001b[0;32mif\u001b[0m \u001b[0mend\u001b[0m \u001b[0;34m!=\u001b[0m \u001b[0mlen\u001b[0m\u001b[0;34m(\u001b[0m\u001b[0ms\u001b[0m\u001b[0;34m)\u001b[0m\u001b[0;34m:\u001b[0m\u001b[0;34m\u001b[0m\u001b[0;34m\u001b[0m\u001b[0m\n",
            "\u001b[0;32m/usr/lib/python3.12/json/decoder.py\u001b[0m in \u001b[0;36mraw_decode\u001b[0;34m(self, s, idx)\u001b[0m\n\u001b[1;32m    354\u001b[0m             \u001b[0mobj\u001b[0m\u001b[0;34m,\u001b[0m \u001b[0mend\u001b[0m \u001b[0;34m=\u001b[0m \u001b[0mself\u001b[0m\u001b[0;34m.\u001b[0m\u001b[0mscan_once\u001b[0m\u001b[0;34m(\u001b[0m\u001b[0ms\u001b[0m\u001b[0;34m,\u001b[0m \u001b[0midx\u001b[0m\u001b[0;34m)\u001b[0m\u001b[0;34m\u001b[0m\u001b[0;34m\u001b[0m\u001b[0m\n\u001b[1;32m    355\u001b[0m         \u001b[0;32mexcept\u001b[0m \u001b[0mStopIteration\u001b[0m \u001b[0;32mas\u001b[0m \u001b[0merr\u001b[0m\u001b[0;34m:\u001b[0m\u001b[0;34m\u001b[0m\u001b[0;34m\u001b[0m\u001b[0m\n\u001b[0;32m--> 356\u001b[0;31m             \u001b[0;32mraise\u001b[0m \u001b[0mJSONDecodeError\u001b[0m\u001b[0;34m(\u001b[0m\u001b[0;34m\"Expecting value\"\u001b[0m\u001b[0;34m,\u001b[0m \u001b[0ms\u001b[0m\u001b[0;34m,\u001b[0m \u001b[0merr\u001b[0m\u001b[0;34m.\u001b[0m\u001b[0mvalue\u001b[0m\u001b[0;34m)\u001b[0m \u001b[0;32mfrom\u001b[0m \u001b[0;32mNone\u001b[0m\u001b[0;34m\u001b[0m\u001b[0;34m\u001b[0m\u001b[0m\n\u001b[0m\u001b[1;32m    357\u001b[0m         \u001b[0;32mreturn\u001b[0m \u001b[0mobj\u001b[0m\u001b[0;34m,\u001b[0m \u001b[0mend\u001b[0m\u001b[0;34m\u001b[0m\u001b[0;34m\u001b[0m\u001b[0m\n",
            "\u001b[0;31mJSONDecodeError\u001b[0m: Expecting value: line 1 column 1 (char 0)"
          ]
        }
      ],
      "source": [
        "accuracy = accuracy_score(results, test_texts, test_labels)\n",
        "print(\"accuracy:\", accuracy)"
      ]
    },
    {
      "cell_type": "markdown",
      "source": [
        "## My enhanced prompt"
      ],
      "metadata": {
        "id": "oAOlVUN1XRm2"
      }
    },
    {
      "cell_type": "code",
      "source": [
        "os.environ['OPENAI_API_KEY'] =\n",
        "\n",
        "from openai import OpenAI\n",
        "from pydantic import BaseModel\n",
        "\n",
        "client = OpenAI()\n",
        "\n",
        "class Step(BaseModel):\n",
        "    explanation: str\n",
        "    output: str\n",
        "\n",
        "class MathReasoning(BaseModel):\n",
        "    steps: list[Step]\n",
        "    final_answer: str\n",
        "\n",
        "response = client.responses.parse(\n",
        "    model=\"gpt-4o-2024-08-06\",\n",
        "    input=[\n",
        "        {\n",
        "            \"role\": \"system\",\n",
        "            \"content\": \"You are a helpful math tutor. Guide the user through the solution step by step.\",\n",
        "        },\n",
        "        {\"role\": \"user\", \"content\": \"how can I solve 8x + 7 = -23\"},\n",
        "    ],\n",
        "    text_format=MathReasoning,\n",
        ")\n",
        "\n",
        "math_reasoning = response.output_parsed"
      ],
      "metadata": {
        "colab": {
          "base_uri": "https://localhost:8080/",
          "height": 412
        },
        "id": "L1oU1VAAL3w_",
        "outputId": "0ecba9d7-7411-42d9-c914-62e9102540c2"
      },
      "execution_count": 27,
      "outputs": [
        {
          "output_type": "error",
          "ename": "OpenAIError",
          "evalue": "The api_key client option must be set either by passing api_key to the client or by setting the OPENAI_API_KEY environment variable",
          "traceback": [
            "\u001b[0;31m---------------------------------------------------------------------------\u001b[0m",
            "\u001b[0;31mOpenAIError\u001b[0m                               Traceback (most recent call last)",
            "\u001b[0;32m/tmp/ipython-input-2535759655.py\u001b[0m in \u001b[0;36m<cell line: 0>\u001b[0;34m()\u001b[0m\n\u001b[1;32m      2\u001b[0m \u001b[0;32mfrom\u001b[0m \u001b[0mpydantic\u001b[0m \u001b[0;32mimport\u001b[0m \u001b[0mBaseModel\u001b[0m\u001b[0;34m\u001b[0m\u001b[0;34m\u001b[0m\u001b[0m\n\u001b[1;32m      3\u001b[0m \u001b[0;34m\u001b[0m\u001b[0m\n\u001b[0;32m----> 4\u001b[0;31m \u001b[0mclient\u001b[0m \u001b[0;34m=\u001b[0m \u001b[0mOpenAI\u001b[0m\u001b[0;34m(\u001b[0m\u001b[0;34m)\u001b[0m\u001b[0;34m\u001b[0m\u001b[0;34m\u001b[0m\u001b[0m\n\u001b[0m\u001b[1;32m      5\u001b[0m \u001b[0;34m\u001b[0m\u001b[0m\n\u001b[1;32m      6\u001b[0m \u001b[0;32mclass\u001b[0m \u001b[0mStep\u001b[0m\u001b[0;34m(\u001b[0m\u001b[0mBaseModel\u001b[0m\u001b[0;34m)\u001b[0m\u001b[0;34m:\u001b[0m\u001b[0;34m\u001b[0m\u001b[0;34m\u001b[0m\u001b[0m\n",
            "\u001b[0;32m/usr/local/lib/python3.12/dist-packages/openai/_client.py\u001b[0m in \u001b[0;36m__init__\u001b[0;34m(self, api_key, organization, project, webhook_secret, base_url, websocket_base_url, timeout, max_retries, default_headers, default_query, http_client, _strict_response_validation)\u001b[0m\n\u001b[1;32m    133\u001b[0m             \u001b[0mapi_key\u001b[0m \u001b[0;34m=\u001b[0m \u001b[0mos\u001b[0m\u001b[0;34m.\u001b[0m\u001b[0menviron\u001b[0m\u001b[0;34m.\u001b[0m\u001b[0mget\u001b[0m\u001b[0;34m(\u001b[0m\u001b[0;34m\"OPENAI_API_KEY\"\u001b[0m\u001b[0;34m)\u001b[0m\u001b[0;34m\u001b[0m\u001b[0;34m\u001b[0m\u001b[0m\n\u001b[1;32m    134\u001b[0m         \u001b[0;32mif\u001b[0m \u001b[0mapi_key\u001b[0m \u001b[0;32mis\u001b[0m \u001b[0;32mNone\u001b[0m\u001b[0;34m:\u001b[0m\u001b[0;34m\u001b[0m\u001b[0;34m\u001b[0m\u001b[0m\n\u001b[0;32m--> 135\u001b[0;31m             raise OpenAIError(\n\u001b[0m\u001b[1;32m    136\u001b[0m                 \u001b[0;34m\"The api_key client option must be set either by passing api_key to the client or by setting the OPENAI_API_KEY environment variable\"\u001b[0m\u001b[0;34m\u001b[0m\u001b[0;34m\u001b[0m\u001b[0m\n\u001b[1;32m    137\u001b[0m             )\n",
            "\u001b[0;31mOpenAIError\u001b[0m: The api_key client option must be set either by passing api_key to the client or by setting the OPENAI_API_KEY environment variable"
          ]
        }
      ]
    }
  ],
  "metadata": {
    "colab": {
      "machine_shape": "hm",
      "provenance": [],
      "toc_visible": true,
      "include_colab_link": true
    },
    "kernelspec": {
      "display_name": "Python 3",
      "name": "python3"
    },
    "language_info": {
      "codemirror_mode": {
        "name": "ipython",
        "version": 3
      },
      "file_extension": ".py",
      "mimetype": "text/x-python",
      "name": "python",
      "nbconvert_exporter": "python",
      "pygments_lexer": "ipython3",
      "version": "3.12.9"
    },
    "widgets": {
      "application/vnd.jupyter.widget-state+json": {
        "b92dcb211e074d94a412f7d9db3ebae2": {
          "model_module": "@jupyter-widgets/controls",
          "model_name": "HBoxModel",
          "model_module_version": "1.5.0",
          "state": {
            "_dom_classes": [],
            "_model_module": "@jupyter-widgets/controls",
            "_model_module_version": "1.5.0",
            "_model_name": "HBoxModel",
            "_view_count": null,
            "_view_module": "@jupyter-widgets/controls",
            "_view_module_version": "1.5.0",
            "_view_name": "HBoxView",
            "box_style": "",
            "children": [
              "IPY_MODEL_07d66783b9074658b95c0dc6502ee0f3",
              "IPY_MODEL_1b519d389cf64b42946a836c19a2b580",
              "IPY_MODEL_eaade09a448f447eb3e623cb395371e3"
            ],
            "layout": "IPY_MODEL_789b8ddc1d34461ca8f4666f7e24567e"
          }
        },
        "07d66783b9074658b95c0dc6502ee0f3": {
          "model_module": "@jupyter-widgets/controls",
          "model_name": "HTMLModel",
          "model_module_version": "1.5.0",
          "state": {
            "_dom_classes": [],
            "_model_module": "@jupyter-widgets/controls",
            "_model_module_version": "1.5.0",
            "_model_name": "HTMLModel",
            "_view_count": null,
            "_view_module": "@jupyter-widgets/controls",
            "_view_module_version": "1.5.0",
            "_view_name": "HTMLView",
            "description": "",
            "description_tooltip": null,
            "layout": "IPY_MODEL_563135c77c8d407693a45593f12e32b7",
            "placeholder": "​",
            "style": "IPY_MODEL_813afe780d234dd4a1d16064bcb4ef18",
            "value": "tokenizer_config.json: 100%"
          }
        },
        "1b519d389cf64b42946a836c19a2b580": {
          "model_module": "@jupyter-widgets/controls",
          "model_name": "FloatProgressModel",
          "model_module_version": "1.5.0",
          "state": {
            "_dom_classes": [],
            "_model_module": "@jupyter-widgets/controls",
            "_model_module_version": "1.5.0",
            "_model_name": "FloatProgressModel",
            "_view_count": null,
            "_view_module": "@jupyter-widgets/controls",
            "_view_module_version": "1.5.0",
            "_view_name": "ProgressView",
            "bar_style": "success",
            "description": "",
            "description_tooltip": null,
            "layout": "IPY_MODEL_8edff418a4c74049aad4ff18d6a77d7f",
            "max": 48,
            "min": 0,
            "orientation": "horizontal",
            "style": "IPY_MODEL_782cb48912024c3f929ce5c2f2587c86",
            "value": 48
          }
        },
        "eaade09a448f447eb3e623cb395371e3": {
          "model_module": "@jupyter-widgets/controls",
          "model_name": "HTMLModel",
          "model_module_version": "1.5.0",
          "state": {
            "_dom_classes": [],
            "_model_module": "@jupyter-widgets/controls",
            "_model_module_version": "1.5.0",
            "_model_name": "HTMLModel",
            "_view_count": null,
            "_view_module": "@jupyter-widgets/controls",
            "_view_module_version": "1.5.0",
            "_view_name": "HTMLView",
            "description": "",
            "description_tooltip": null,
            "layout": "IPY_MODEL_d9c1e92f85524573a3adeeeb874918b0",
            "placeholder": "​",
            "style": "IPY_MODEL_85065afdbdc04746b0120d4b059cafab",
            "value": " 48.0/48.0 [00:00&lt;00:00, 5.68kB/s]"
          }
        },
        "789b8ddc1d34461ca8f4666f7e24567e": {
          "model_module": "@jupyter-widgets/base",
          "model_name": "LayoutModel",
          "model_module_version": "1.2.0",
          "state": {
            "_model_module": "@jupyter-widgets/base",
            "_model_module_version": "1.2.0",
            "_model_name": "LayoutModel",
            "_view_count": null,
            "_view_module": "@jupyter-widgets/base",
            "_view_module_version": "1.2.0",
            "_view_name": "LayoutView",
            "align_content": null,
            "align_items": null,
            "align_self": null,
            "border": null,
            "bottom": null,
            "display": null,
            "flex": null,
            "flex_flow": null,
            "grid_area": null,
            "grid_auto_columns": null,
            "grid_auto_flow": null,
            "grid_auto_rows": null,
            "grid_column": null,
            "grid_gap": null,
            "grid_row": null,
            "grid_template_areas": null,
            "grid_template_columns": null,
            "grid_template_rows": null,
            "height": null,
            "justify_content": null,
            "justify_items": null,
            "left": null,
            "margin": null,
            "max_height": null,
            "max_width": null,
            "min_height": null,
            "min_width": null,
            "object_fit": null,
            "object_position": null,
            "order": null,
            "overflow": null,
            "overflow_x": null,
            "overflow_y": null,
            "padding": null,
            "right": null,
            "top": null,
            "visibility": null,
            "width": null
          }
        },
        "563135c77c8d407693a45593f12e32b7": {
          "model_module": "@jupyter-widgets/base",
          "model_name": "LayoutModel",
          "model_module_version": "1.2.0",
          "state": {
            "_model_module": "@jupyter-widgets/base",
            "_model_module_version": "1.2.0",
            "_model_name": "LayoutModel",
            "_view_count": null,
            "_view_module": "@jupyter-widgets/base",
            "_view_module_version": "1.2.0",
            "_view_name": "LayoutView",
            "align_content": null,
            "align_items": null,
            "align_self": null,
            "border": null,
            "bottom": null,
            "display": null,
            "flex": null,
            "flex_flow": null,
            "grid_area": null,
            "grid_auto_columns": null,
            "grid_auto_flow": null,
            "grid_auto_rows": null,
            "grid_column": null,
            "grid_gap": null,
            "grid_row": null,
            "grid_template_areas": null,
            "grid_template_columns": null,
            "grid_template_rows": null,
            "height": null,
            "justify_content": null,
            "justify_items": null,
            "left": null,
            "margin": null,
            "max_height": null,
            "max_width": null,
            "min_height": null,
            "min_width": null,
            "object_fit": null,
            "object_position": null,
            "order": null,
            "overflow": null,
            "overflow_x": null,
            "overflow_y": null,
            "padding": null,
            "right": null,
            "top": null,
            "visibility": null,
            "width": null
          }
        },
        "813afe780d234dd4a1d16064bcb4ef18": {
          "model_module": "@jupyter-widgets/controls",
          "model_name": "DescriptionStyleModel",
          "model_module_version": "1.5.0",
          "state": {
            "_model_module": "@jupyter-widgets/controls",
            "_model_module_version": "1.5.0",
            "_model_name": "DescriptionStyleModel",
            "_view_count": null,
            "_view_module": "@jupyter-widgets/base",
            "_view_module_version": "1.2.0",
            "_view_name": "StyleView",
            "description_width": ""
          }
        },
        "8edff418a4c74049aad4ff18d6a77d7f": {
          "model_module": "@jupyter-widgets/base",
          "model_name": "LayoutModel",
          "model_module_version": "1.2.0",
          "state": {
            "_model_module": "@jupyter-widgets/base",
            "_model_module_version": "1.2.0",
            "_model_name": "LayoutModel",
            "_view_count": null,
            "_view_module": "@jupyter-widgets/base",
            "_view_module_version": "1.2.0",
            "_view_name": "LayoutView",
            "align_content": null,
            "align_items": null,
            "align_self": null,
            "border": null,
            "bottom": null,
            "display": null,
            "flex": null,
            "flex_flow": null,
            "grid_area": null,
            "grid_auto_columns": null,
            "grid_auto_flow": null,
            "grid_auto_rows": null,
            "grid_column": null,
            "grid_gap": null,
            "grid_row": null,
            "grid_template_areas": null,
            "grid_template_columns": null,
            "grid_template_rows": null,
            "height": null,
            "justify_content": null,
            "justify_items": null,
            "left": null,
            "margin": null,
            "max_height": null,
            "max_width": null,
            "min_height": null,
            "min_width": null,
            "object_fit": null,
            "object_position": null,
            "order": null,
            "overflow": null,
            "overflow_x": null,
            "overflow_y": null,
            "padding": null,
            "right": null,
            "top": null,
            "visibility": null,
            "width": null
          }
        },
        "782cb48912024c3f929ce5c2f2587c86": {
          "model_module": "@jupyter-widgets/controls",
          "model_name": "ProgressStyleModel",
          "model_module_version": "1.5.0",
          "state": {
            "_model_module": "@jupyter-widgets/controls",
            "_model_module_version": "1.5.0",
            "_model_name": "ProgressStyleModel",
            "_view_count": null,
            "_view_module": "@jupyter-widgets/base",
            "_view_module_version": "1.2.0",
            "_view_name": "StyleView",
            "bar_color": null,
            "description_width": ""
          }
        },
        "d9c1e92f85524573a3adeeeb874918b0": {
          "model_module": "@jupyter-widgets/base",
          "model_name": "LayoutModel",
          "model_module_version": "1.2.0",
          "state": {
            "_model_module": "@jupyter-widgets/base",
            "_model_module_version": "1.2.0",
            "_model_name": "LayoutModel",
            "_view_count": null,
            "_view_module": "@jupyter-widgets/base",
            "_view_module_version": "1.2.0",
            "_view_name": "LayoutView",
            "align_content": null,
            "align_items": null,
            "align_self": null,
            "border": null,
            "bottom": null,
            "display": null,
            "flex": null,
            "flex_flow": null,
            "grid_area": null,
            "grid_auto_columns": null,
            "grid_auto_flow": null,
            "grid_auto_rows": null,
            "grid_column": null,
            "grid_gap": null,
            "grid_row": null,
            "grid_template_areas": null,
            "grid_template_columns": null,
            "grid_template_rows": null,
            "height": null,
            "justify_content": null,
            "justify_items": null,
            "left": null,
            "margin": null,
            "max_height": null,
            "max_width": null,
            "min_height": null,
            "min_width": null,
            "object_fit": null,
            "object_position": null,
            "order": null,
            "overflow": null,
            "overflow_x": null,
            "overflow_y": null,
            "padding": null,
            "right": null,
            "top": null,
            "visibility": null,
            "width": null
          }
        },
        "85065afdbdc04746b0120d4b059cafab": {
          "model_module": "@jupyter-widgets/controls",
          "model_name": "DescriptionStyleModel",
          "model_module_version": "1.5.0",
          "state": {
            "_model_module": "@jupyter-widgets/controls",
            "_model_module_version": "1.5.0",
            "_model_name": "DescriptionStyleModel",
            "_view_count": null,
            "_view_module": "@jupyter-widgets/base",
            "_view_module_version": "1.2.0",
            "_view_name": "StyleView",
            "description_width": ""
          }
        },
        "3cf84b8fbcf14b51918b9327df999f4b": {
          "model_module": "@jupyter-widgets/controls",
          "model_name": "HBoxModel",
          "model_module_version": "1.5.0",
          "state": {
            "_dom_classes": [],
            "_model_module": "@jupyter-widgets/controls",
            "_model_module_version": "1.5.0",
            "_model_name": "HBoxModel",
            "_view_count": null,
            "_view_module": "@jupyter-widgets/controls",
            "_view_module_version": "1.5.0",
            "_view_name": "HBoxView",
            "box_style": "",
            "children": [
              "IPY_MODEL_e5567ceec52648f4b4c5e19d7ec7d66c",
              "IPY_MODEL_5f6845383c034b52abf95292a310b581",
              "IPY_MODEL_6d2d050863834f6caba4eca3aa5a1f28"
            ],
            "layout": "IPY_MODEL_96dfd11eaac74eaea4a468f51d293ae5"
          }
        },
        "e5567ceec52648f4b4c5e19d7ec7d66c": {
          "model_module": "@jupyter-widgets/controls",
          "model_name": "HTMLModel",
          "model_module_version": "1.5.0",
          "state": {
            "_dom_classes": [],
            "_model_module": "@jupyter-widgets/controls",
            "_model_module_version": "1.5.0",
            "_model_name": "HTMLModel",
            "_view_count": null,
            "_view_module": "@jupyter-widgets/controls",
            "_view_module_version": "1.5.0",
            "_view_name": "HTMLView",
            "description": "",
            "description_tooltip": null,
            "layout": "IPY_MODEL_8a0a911fae5a48e08559f43cb36713dc",
            "placeholder": "​",
            "style": "IPY_MODEL_d78d232cd14b41068e2a5e45afdcdd1f",
            "value": "config.json: 100%"
          }
        },
        "5f6845383c034b52abf95292a310b581": {
          "model_module": "@jupyter-widgets/controls",
          "model_name": "FloatProgressModel",
          "model_module_version": "1.5.0",
          "state": {
            "_dom_classes": [],
            "_model_module": "@jupyter-widgets/controls",
            "_model_module_version": "1.5.0",
            "_model_name": "FloatProgressModel",
            "_view_count": null,
            "_view_module": "@jupyter-widgets/controls",
            "_view_module_version": "1.5.0",
            "_view_name": "ProgressView",
            "bar_style": "success",
            "description": "",
            "description_tooltip": null,
            "layout": "IPY_MODEL_6ee5960c7a864166ab0a6b5d7fcac390",
            "max": 570,
            "min": 0,
            "orientation": "horizontal",
            "style": "IPY_MODEL_d6d8e385e2794b1b898333130476761e",
            "value": 570
          }
        },
        "6d2d050863834f6caba4eca3aa5a1f28": {
          "model_module": "@jupyter-widgets/controls",
          "model_name": "HTMLModel",
          "model_module_version": "1.5.0",
          "state": {
            "_dom_classes": [],
            "_model_module": "@jupyter-widgets/controls",
            "_model_module_version": "1.5.0",
            "_model_name": "HTMLModel",
            "_view_count": null,
            "_view_module": "@jupyter-widgets/controls",
            "_view_module_version": "1.5.0",
            "_view_name": "HTMLView",
            "description": "",
            "description_tooltip": null,
            "layout": "IPY_MODEL_e61d4937237847109ea5ed1d95a1f210",
            "placeholder": "​",
            "style": "IPY_MODEL_5c71e726e59f4111b32759aebc6c4776",
            "value": " 570/570 [00:00&lt;00:00, 77.6kB/s]"
          }
        },
        "96dfd11eaac74eaea4a468f51d293ae5": {
          "model_module": "@jupyter-widgets/base",
          "model_name": "LayoutModel",
          "model_module_version": "1.2.0",
          "state": {
            "_model_module": "@jupyter-widgets/base",
            "_model_module_version": "1.2.0",
            "_model_name": "LayoutModel",
            "_view_count": null,
            "_view_module": "@jupyter-widgets/base",
            "_view_module_version": "1.2.0",
            "_view_name": "LayoutView",
            "align_content": null,
            "align_items": null,
            "align_self": null,
            "border": null,
            "bottom": null,
            "display": null,
            "flex": null,
            "flex_flow": null,
            "grid_area": null,
            "grid_auto_columns": null,
            "grid_auto_flow": null,
            "grid_auto_rows": null,
            "grid_column": null,
            "grid_gap": null,
            "grid_row": null,
            "grid_template_areas": null,
            "grid_template_columns": null,
            "grid_template_rows": null,
            "height": null,
            "justify_content": null,
            "justify_items": null,
            "left": null,
            "margin": null,
            "max_height": null,
            "max_width": null,
            "min_height": null,
            "min_width": null,
            "object_fit": null,
            "object_position": null,
            "order": null,
            "overflow": null,
            "overflow_x": null,
            "overflow_y": null,
            "padding": null,
            "right": null,
            "top": null,
            "visibility": null,
            "width": null
          }
        },
        "8a0a911fae5a48e08559f43cb36713dc": {
          "model_module": "@jupyter-widgets/base",
          "model_name": "LayoutModel",
          "model_module_version": "1.2.0",
          "state": {
            "_model_module": "@jupyter-widgets/base",
            "_model_module_version": "1.2.0",
            "_model_name": "LayoutModel",
            "_view_count": null,
            "_view_module": "@jupyter-widgets/base",
            "_view_module_version": "1.2.0",
            "_view_name": "LayoutView",
            "align_content": null,
            "align_items": null,
            "align_self": null,
            "border": null,
            "bottom": null,
            "display": null,
            "flex": null,
            "flex_flow": null,
            "grid_area": null,
            "grid_auto_columns": null,
            "grid_auto_flow": null,
            "grid_auto_rows": null,
            "grid_column": null,
            "grid_gap": null,
            "grid_row": null,
            "grid_template_areas": null,
            "grid_template_columns": null,
            "grid_template_rows": null,
            "height": null,
            "justify_content": null,
            "justify_items": null,
            "left": null,
            "margin": null,
            "max_height": null,
            "max_width": null,
            "min_height": null,
            "min_width": null,
            "object_fit": null,
            "object_position": null,
            "order": null,
            "overflow": null,
            "overflow_x": null,
            "overflow_y": null,
            "padding": null,
            "right": null,
            "top": null,
            "visibility": null,
            "width": null
          }
        },
        "d78d232cd14b41068e2a5e45afdcdd1f": {
          "model_module": "@jupyter-widgets/controls",
          "model_name": "DescriptionStyleModel",
          "model_module_version": "1.5.0",
          "state": {
            "_model_module": "@jupyter-widgets/controls",
            "_model_module_version": "1.5.0",
            "_model_name": "DescriptionStyleModel",
            "_view_count": null,
            "_view_module": "@jupyter-widgets/base",
            "_view_module_version": "1.2.0",
            "_view_name": "StyleView",
            "description_width": ""
          }
        },
        "6ee5960c7a864166ab0a6b5d7fcac390": {
          "model_module": "@jupyter-widgets/base",
          "model_name": "LayoutModel",
          "model_module_version": "1.2.0",
          "state": {
            "_model_module": "@jupyter-widgets/base",
            "_model_module_version": "1.2.0",
            "_model_name": "LayoutModel",
            "_view_count": null,
            "_view_module": "@jupyter-widgets/base",
            "_view_module_version": "1.2.0",
            "_view_name": "LayoutView",
            "align_content": null,
            "align_items": null,
            "align_self": null,
            "border": null,
            "bottom": null,
            "display": null,
            "flex": null,
            "flex_flow": null,
            "grid_area": null,
            "grid_auto_columns": null,
            "grid_auto_flow": null,
            "grid_auto_rows": null,
            "grid_column": null,
            "grid_gap": null,
            "grid_row": null,
            "grid_template_areas": null,
            "grid_template_columns": null,
            "grid_template_rows": null,
            "height": null,
            "justify_content": null,
            "justify_items": null,
            "left": null,
            "margin": null,
            "max_height": null,
            "max_width": null,
            "min_height": null,
            "min_width": null,
            "object_fit": null,
            "object_position": null,
            "order": null,
            "overflow": null,
            "overflow_x": null,
            "overflow_y": null,
            "padding": null,
            "right": null,
            "top": null,
            "visibility": null,
            "width": null
          }
        },
        "d6d8e385e2794b1b898333130476761e": {
          "model_module": "@jupyter-widgets/controls",
          "model_name": "ProgressStyleModel",
          "model_module_version": "1.5.0",
          "state": {
            "_model_module": "@jupyter-widgets/controls",
            "_model_module_version": "1.5.0",
            "_model_name": "ProgressStyleModel",
            "_view_count": null,
            "_view_module": "@jupyter-widgets/base",
            "_view_module_version": "1.2.0",
            "_view_name": "StyleView",
            "bar_color": null,
            "description_width": ""
          }
        },
        "e61d4937237847109ea5ed1d95a1f210": {
          "model_module": "@jupyter-widgets/base",
          "model_name": "LayoutModel",
          "model_module_version": "1.2.0",
          "state": {
            "_model_module": "@jupyter-widgets/base",
            "_model_module_version": "1.2.0",
            "_model_name": "LayoutModel",
            "_view_count": null,
            "_view_module": "@jupyter-widgets/base",
            "_view_module_version": "1.2.0",
            "_view_name": "LayoutView",
            "align_content": null,
            "align_items": null,
            "align_self": null,
            "border": null,
            "bottom": null,
            "display": null,
            "flex": null,
            "flex_flow": null,
            "grid_area": null,
            "grid_auto_columns": null,
            "grid_auto_flow": null,
            "grid_auto_rows": null,
            "grid_column": null,
            "grid_gap": null,
            "grid_row": null,
            "grid_template_areas": null,
            "grid_template_columns": null,
            "grid_template_rows": null,
            "height": null,
            "justify_content": null,
            "justify_items": null,
            "left": null,
            "margin": null,
            "max_height": null,
            "max_width": null,
            "min_height": null,
            "min_width": null,
            "object_fit": null,
            "object_position": null,
            "order": null,
            "overflow": null,
            "overflow_x": null,
            "overflow_y": null,
            "padding": null,
            "right": null,
            "top": null,
            "visibility": null,
            "width": null
          }
        },
        "5c71e726e59f4111b32759aebc6c4776": {
          "model_module": "@jupyter-widgets/controls",
          "model_name": "DescriptionStyleModel",
          "model_module_version": "1.5.0",
          "state": {
            "_model_module": "@jupyter-widgets/controls",
            "_model_module_version": "1.5.0",
            "_model_name": "DescriptionStyleModel",
            "_view_count": null,
            "_view_module": "@jupyter-widgets/base",
            "_view_module_version": "1.2.0",
            "_view_name": "StyleView",
            "description_width": ""
          }
        },
        "9432be38aa4e475d8589098d467ddf92": {
          "model_module": "@jupyter-widgets/controls",
          "model_name": "HBoxModel",
          "model_module_version": "1.5.0",
          "state": {
            "_dom_classes": [],
            "_model_module": "@jupyter-widgets/controls",
            "_model_module_version": "1.5.0",
            "_model_name": "HBoxModel",
            "_view_count": null,
            "_view_module": "@jupyter-widgets/controls",
            "_view_module_version": "1.5.0",
            "_view_name": "HBoxView",
            "box_style": "",
            "children": [
              "IPY_MODEL_f5d2600fd483451fbcf7958948f62c5f",
              "IPY_MODEL_6bc3de87526d4d1e9bc738a7d3bbfc17",
              "IPY_MODEL_dd4178fdaa00491496cb2ccfce42f4bf"
            ],
            "layout": "IPY_MODEL_835ef4320d4741349bad4559c0b61756"
          }
        },
        "f5d2600fd483451fbcf7958948f62c5f": {
          "model_module": "@jupyter-widgets/controls",
          "model_name": "HTMLModel",
          "model_module_version": "1.5.0",
          "state": {
            "_dom_classes": [],
            "_model_module": "@jupyter-widgets/controls",
            "_model_module_version": "1.5.0",
            "_model_name": "HTMLModel",
            "_view_count": null,
            "_view_module": "@jupyter-widgets/controls",
            "_view_module_version": "1.5.0",
            "_view_name": "HTMLView",
            "description": "",
            "description_tooltip": null,
            "layout": "IPY_MODEL_73549abc03d14d99b9a8b9103e0498a9",
            "placeholder": "​",
            "style": "IPY_MODEL_73b44ca2553f4787a101259a6247ad80",
            "value": "vocab.txt: 100%"
          }
        },
        "6bc3de87526d4d1e9bc738a7d3bbfc17": {
          "model_module": "@jupyter-widgets/controls",
          "model_name": "FloatProgressModel",
          "model_module_version": "1.5.0",
          "state": {
            "_dom_classes": [],
            "_model_module": "@jupyter-widgets/controls",
            "_model_module_version": "1.5.0",
            "_model_name": "FloatProgressModel",
            "_view_count": null,
            "_view_module": "@jupyter-widgets/controls",
            "_view_module_version": "1.5.0",
            "_view_name": "ProgressView",
            "bar_style": "success",
            "description": "",
            "description_tooltip": null,
            "layout": "IPY_MODEL_5b1744e8818f420f8300577cfec046a9",
            "max": 231508,
            "min": 0,
            "orientation": "horizontal",
            "style": "IPY_MODEL_d7c0974ad1e74d47b6e81a316498bfa2",
            "value": 231508
          }
        },
        "dd4178fdaa00491496cb2ccfce42f4bf": {
          "model_module": "@jupyter-widgets/controls",
          "model_name": "HTMLModel",
          "model_module_version": "1.5.0",
          "state": {
            "_dom_classes": [],
            "_model_module": "@jupyter-widgets/controls",
            "_model_module_version": "1.5.0",
            "_model_name": "HTMLModel",
            "_view_count": null,
            "_view_module": "@jupyter-widgets/controls",
            "_view_module_version": "1.5.0",
            "_view_name": "HTMLView",
            "description": "",
            "description_tooltip": null,
            "layout": "IPY_MODEL_af16a15ec1484ce983f79d80a0c4ec2e",
            "placeholder": "​",
            "style": "IPY_MODEL_c3bd8711e4fe41b6a9e72fb2b7c40f27",
            "value": " 232k/232k [00:00&lt;00:00, 2.66MB/s]"
          }
        },
        "835ef4320d4741349bad4559c0b61756": {
          "model_module": "@jupyter-widgets/base",
          "model_name": "LayoutModel",
          "model_module_version": "1.2.0",
          "state": {
            "_model_module": "@jupyter-widgets/base",
            "_model_module_version": "1.2.0",
            "_model_name": "LayoutModel",
            "_view_count": null,
            "_view_module": "@jupyter-widgets/base",
            "_view_module_version": "1.2.0",
            "_view_name": "LayoutView",
            "align_content": null,
            "align_items": null,
            "align_self": null,
            "border": null,
            "bottom": null,
            "display": null,
            "flex": null,
            "flex_flow": null,
            "grid_area": null,
            "grid_auto_columns": null,
            "grid_auto_flow": null,
            "grid_auto_rows": null,
            "grid_column": null,
            "grid_gap": null,
            "grid_row": null,
            "grid_template_areas": null,
            "grid_template_columns": null,
            "grid_template_rows": null,
            "height": null,
            "justify_content": null,
            "justify_items": null,
            "left": null,
            "margin": null,
            "max_height": null,
            "max_width": null,
            "min_height": null,
            "min_width": null,
            "object_fit": null,
            "object_position": null,
            "order": null,
            "overflow": null,
            "overflow_x": null,
            "overflow_y": null,
            "padding": null,
            "right": null,
            "top": null,
            "visibility": null,
            "width": null
          }
        },
        "73549abc03d14d99b9a8b9103e0498a9": {
          "model_module": "@jupyter-widgets/base",
          "model_name": "LayoutModel",
          "model_module_version": "1.2.0",
          "state": {
            "_model_module": "@jupyter-widgets/base",
            "_model_module_version": "1.2.0",
            "_model_name": "LayoutModel",
            "_view_count": null,
            "_view_module": "@jupyter-widgets/base",
            "_view_module_version": "1.2.0",
            "_view_name": "LayoutView",
            "align_content": null,
            "align_items": null,
            "align_self": null,
            "border": null,
            "bottom": null,
            "display": null,
            "flex": null,
            "flex_flow": null,
            "grid_area": null,
            "grid_auto_columns": null,
            "grid_auto_flow": null,
            "grid_auto_rows": null,
            "grid_column": null,
            "grid_gap": null,
            "grid_row": null,
            "grid_template_areas": null,
            "grid_template_columns": null,
            "grid_template_rows": null,
            "height": null,
            "justify_content": null,
            "justify_items": null,
            "left": null,
            "margin": null,
            "max_height": null,
            "max_width": null,
            "min_height": null,
            "min_width": null,
            "object_fit": null,
            "object_position": null,
            "order": null,
            "overflow": null,
            "overflow_x": null,
            "overflow_y": null,
            "padding": null,
            "right": null,
            "top": null,
            "visibility": null,
            "width": null
          }
        },
        "73b44ca2553f4787a101259a6247ad80": {
          "model_module": "@jupyter-widgets/controls",
          "model_name": "DescriptionStyleModel",
          "model_module_version": "1.5.0",
          "state": {
            "_model_module": "@jupyter-widgets/controls",
            "_model_module_version": "1.5.0",
            "_model_name": "DescriptionStyleModel",
            "_view_count": null,
            "_view_module": "@jupyter-widgets/base",
            "_view_module_version": "1.2.0",
            "_view_name": "StyleView",
            "description_width": ""
          }
        },
        "5b1744e8818f420f8300577cfec046a9": {
          "model_module": "@jupyter-widgets/base",
          "model_name": "LayoutModel",
          "model_module_version": "1.2.0",
          "state": {
            "_model_module": "@jupyter-widgets/base",
            "_model_module_version": "1.2.0",
            "_model_name": "LayoutModel",
            "_view_count": null,
            "_view_module": "@jupyter-widgets/base",
            "_view_module_version": "1.2.0",
            "_view_name": "LayoutView",
            "align_content": null,
            "align_items": null,
            "align_self": null,
            "border": null,
            "bottom": null,
            "display": null,
            "flex": null,
            "flex_flow": null,
            "grid_area": null,
            "grid_auto_columns": null,
            "grid_auto_flow": null,
            "grid_auto_rows": null,
            "grid_column": null,
            "grid_gap": null,
            "grid_row": null,
            "grid_template_areas": null,
            "grid_template_columns": null,
            "grid_template_rows": null,
            "height": null,
            "justify_content": null,
            "justify_items": null,
            "left": null,
            "margin": null,
            "max_height": null,
            "max_width": null,
            "min_height": null,
            "min_width": null,
            "object_fit": null,
            "object_position": null,
            "order": null,
            "overflow": null,
            "overflow_x": null,
            "overflow_y": null,
            "padding": null,
            "right": null,
            "top": null,
            "visibility": null,
            "width": null
          }
        },
        "d7c0974ad1e74d47b6e81a316498bfa2": {
          "model_module": "@jupyter-widgets/controls",
          "model_name": "ProgressStyleModel",
          "model_module_version": "1.5.0",
          "state": {
            "_model_module": "@jupyter-widgets/controls",
            "_model_module_version": "1.5.0",
            "_model_name": "ProgressStyleModel",
            "_view_count": null,
            "_view_module": "@jupyter-widgets/base",
            "_view_module_version": "1.2.0",
            "_view_name": "StyleView",
            "bar_color": null,
            "description_width": ""
          }
        },
        "af16a15ec1484ce983f79d80a0c4ec2e": {
          "model_module": "@jupyter-widgets/base",
          "model_name": "LayoutModel",
          "model_module_version": "1.2.0",
          "state": {
            "_model_module": "@jupyter-widgets/base",
            "_model_module_version": "1.2.0",
            "_model_name": "LayoutModel",
            "_view_count": null,
            "_view_module": "@jupyter-widgets/base",
            "_view_module_version": "1.2.0",
            "_view_name": "LayoutView",
            "align_content": null,
            "align_items": null,
            "align_self": null,
            "border": null,
            "bottom": null,
            "display": null,
            "flex": null,
            "flex_flow": null,
            "grid_area": null,
            "grid_auto_columns": null,
            "grid_auto_flow": null,
            "grid_auto_rows": null,
            "grid_column": null,
            "grid_gap": null,
            "grid_row": null,
            "grid_template_areas": null,
            "grid_template_columns": null,
            "grid_template_rows": null,
            "height": null,
            "justify_content": null,
            "justify_items": null,
            "left": null,
            "margin": null,
            "max_height": null,
            "max_width": null,
            "min_height": null,
            "min_width": null,
            "object_fit": null,
            "object_position": null,
            "order": null,
            "overflow": null,
            "overflow_x": null,
            "overflow_y": null,
            "padding": null,
            "right": null,
            "top": null,
            "visibility": null,
            "width": null
          }
        },
        "c3bd8711e4fe41b6a9e72fb2b7c40f27": {
          "model_module": "@jupyter-widgets/controls",
          "model_name": "DescriptionStyleModel",
          "model_module_version": "1.5.0",
          "state": {
            "_model_module": "@jupyter-widgets/controls",
            "_model_module_version": "1.5.0",
            "_model_name": "DescriptionStyleModel",
            "_view_count": null,
            "_view_module": "@jupyter-widgets/base",
            "_view_module_version": "1.2.0",
            "_view_name": "StyleView",
            "description_width": ""
          }
        },
        "112209cd36f845c1847951861675594c": {
          "model_module": "@jupyter-widgets/controls",
          "model_name": "HBoxModel",
          "model_module_version": "1.5.0",
          "state": {
            "_dom_classes": [],
            "_model_module": "@jupyter-widgets/controls",
            "_model_module_version": "1.5.0",
            "_model_name": "HBoxModel",
            "_view_count": null,
            "_view_module": "@jupyter-widgets/controls",
            "_view_module_version": "1.5.0",
            "_view_name": "HBoxView",
            "box_style": "",
            "children": [
              "IPY_MODEL_cb043abd3c11433ba5304821724ad251",
              "IPY_MODEL_61aac8793b9a4dc39711e0f7da52aa92",
              "IPY_MODEL_8d7ce07fd4dc4b79b2b81db111cd6b71"
            ],
            "layout": "IPY_MODEL_7ac9c42057a04086a313c898bb08c07d"
          }
        },
        "cb043abd3c11433ba5304821724ad251": {
          "model_module": "@jupyter-widgets/controls",
          "model_name": "HTMLModel",
          "model_module_version": "1.5.0",
          "state": {
            "_dom_classes": [],
            "_model_module": "@jupyter-widgets/controls",
            "_model_module_version": "1.5.0",
            "_model_name": "HTMLModel",
            "_view_count": null,
            "_view_module": "@jupyter-widgets/controls",
            "_view_module_version": "1.5.0",
            "_view_name": "HTMLView",
            "description": "",
            "description_tooltip": null,
            "layout": "IPY_MODEL_747ba8e84d094afe90a5988304652495",
            "placeholder": "​",
            "style": "IPY_MODEL_f35fae3867354085917300c028acfbdd",
            "value": "tokenizer.json: 100%"
          }
        },
        "61aac8793b9a4dc39711e0f7da52aa92": {
          "model_module": "@jupyter-widgets/controls",
          "model_name": "FloatProgressModel",
          "model_module_version": "1.5.0",
          "state": {
            "_dom_classes": [],
            "_model_module": "@jupyter-widgets/controls",
            "_model_module_version": "1.5.0",
            "_model_name": "FloatProgressModel",
            "_view_count": null,
            "_view_module": "@jupyter-widgets/controls",
            "_view_module_version": "1.5.0",
            "_view_name": "ProgressView",
            "bar_style": "success",
            "description": "",
            "description_tooltip": null,
            "layout": "IPY_MODEL_8fa2c4ede8c24f238d9d90ec97cd8629",
            "max": 466062,
            "min": 0,
            "orientation": "horizontal",
            "style": "IPY_MODEL_22ea8b2b757342faaca4f690de1c4cc1",
            "value": 466062
          }
        },
        "8d7ce07fd4dc4b79b2b81db111cd6b71": {
          "model_module": "@jupyter-widgets/controls",
          "model_name": "HTMLModel",
          "model_module_version": "1.5.0",
          "state": {
            "_dom_classes": [],
            "_model_module": "@jupyter-widgets/controls",
            "_model_module_version": "1.5.0",
            "_model_name": "HTMLModel",
            "_view_count": null,
            "_view_module": "@jupyter-widgets/controls",
            "_view_module_version": "1.5.0",
            "_view_name": "HTMLView",
            "description": "",
            "description_tooltip": null,
            "layout": "IPY_MODEL_31d9fd32198145c088ecad2febd0f110",
            "placeholder": "​",
            "style": "IPY_MODEL_6667d639e09947afb609079a356259b9",
            "value": " 466k/466k [00:00&lt;00:00, 2.82MB/s]"
          }
        },
        "7ac9c42057a04086a313c898bb08c07d": {
          "model_module": "@jupyter-widgets/base",
          "model_name": "LayoutModel",
          "model_module_version": "1.2.0",
          "state": {
            "_model_module": "@jupyter-widgets/base",
            "_model_module_version": "1.2.0",
            "_model_name": "LayoutModel",
            "_view_count": null,
            "_view_module": "@jupyter-widgets/base",
            "_view_module_version": "1.2.0",
            "_view_name": "LayoutView",
            "align_content": null,
            "align_items": null,
            "align_self": null,
            "border": null,
            "bottom": null,
            "display": null,
            "flex": null,
            "flex_flow": null,
            "grid_area": null,
            "grid_auto_columns": null,
            "grid_auto_flow": null,
            "grid_auto_rows": null,
            "grid_column": null,
            "grid_gap": null,
            "grid_row": null,
            "grid_template_areas": null,
            "grid_template_columns": null,
            "grid_template_rows": null,
            "height": null,
            "justify_content": null,
            "justify_items": null,
            "left": null,
            "margin": null,
            "max_height": null,
            "max_width": null,
            "min_height": null,
            "min_width": null,
            "object_fit": null,
            "object_position": null,
            "order": null,
            "overflow": null,
            "overflow_x": null,
            "overflow_y": null,
            "padding": null,
            "right": null,
            "top": null,
            "visibility": null,
            "width": null
          }
        },
        "747ba8e84d094afe90a5988304652495": {
          "model_module": "@jupyter-widgets/base",
          "model_name": "LayoutModel",
          "model_module_version": "1.2.0",
          "state": {
            "_model_module": "@jupyter-widgets/base",
            "_model_module_version": "1.2.0",
            "_model_name": "LayoutModel",
            "_view_count": null,
            "_view_module": "@jupyter-widgets/base",
            "_view_module_version": "1.2.0",
            "_view_name": "LayoutView",
            "align_content": null,
            "align_items": null,
            "align_self": null,
            "border": null,
            "bottom": null,
            "display": null,
            "flex": null,
            "flex_flow": null,
            "grid_area": null,
            "grid_auto_columns": null,
            "grid_auto_flow": null,
            "grid_auto_rows": null,
            "grid_column": null,
            "grid_gap": null,
            "grid_row": null,
            "grid_template_areas": null,
            "grid_template_columns": null,
            "grid_template_rows": null,
            "height": null,
            "justify_content": null,
            "justify_items": null,
            "left": null,
            "margin": null,
            "max_height": null,
            "max_width": null,
            "min_height": null,
            "min_width": null,
            "object_fit": null,
            "object_position": null,
            "order": null,
            "overflow": null,
            "overflow_x": null,
            "overflow_y": null,
            "padding": null,
            "right": null,
            "top": null,
            "visibility": null,
            "width": null
          }
        },
        "f35fae3867354085917300c028acfbdd": {
          "model_module": "@jupyter-widgets/controls",
          "model_name": "DescriptionStyleModel",
          "model_module_version": "1.5.0",
          "state": {
            "_model_module": "@jupyter-widgets/controls",
            "_model_module_version": "1.5.0",
            "_model_name": "DescriptionStyleModel",
            "_view_count": null,
            "_view_module": "@jupyter-widgets/base",
            "_view_module_version": "1.2.0",
            "_view_name": "StyleView",
            "description_width": ""
          }
        },
        "8fa2c4ede8c24f238d9d90ec97cd8629": {
          "model_module": "@jupyter-widgets/base",
          "model_name": "LayoutModel",
          "model_module_version": "1.2.0",
          "state": {
            "_model_module": "@jupyter-widgets/base",
            "_model_module_version": "1.2.0",
            "_model_name": "LayoutModel",
            "_view_count": null,
            "_view_module": "@jupyter-widgets/base",
            "_view_module_version": "1.2.0",
            "_view_name": "LayoutView",
            "align_content": null,
            "align_items": null,
            "align_self": null,
            "border": null,
            "bottom": null,
            "display": null,
            "flex": null,
            "flex_flow": null,
            "grid_area": null,
            "grid_auto_columns": null,
            "grid_auto_flow": null,
            "grid_auto_rows": null,
            "grid_column": null,
            "grid_gap": null,
            "grid_row": null,
            "grid_template_areas": null,
            "grid_template_columns": null,
            "grid_template_rows": null,
            "height": null,
            "justify_content": null,
            "justify_items": null,
            "left": null,
            "margin": null,
            "max_height": null,
            "max_width": null,
            "min_height": null,
            "min_width": null,
            "object_fit": null,
            "object_position": null,
            "order": null,
            "overflow": null,
            "overflow_x": null,
            "overflow_y": null,
            "padding": null,
            "right": null,
            "top": null,
            "visibility": null,
            "width": null
          }
        },
        "22ea8b2b757342faaca4f690de1c4cc1": {
          "model_module": "@jupyter-widgets/controls",
          "model_name": "ProgressStyleModel",
          "model_module_version": "1.5.0",
          "state": {
            "_model_module": "@jupyter-widgets/controls",
            "_model_module_version": "1.5.0",
            "_model_name": "ProgressStyleModel",
            "_view_count": null,
            "_view_module": "@jupyter-widgets/base",
            "_view_module_version": "1.2.0",
            "_view_name": "StyleView",
            "bar_color": null,
            "description_width": ""
          }
        },
        "31d9fd32198145c088ecad2febd0f110": {
          "model_module": "@jupyter-widgets/base",
          "model_name": "LayoutModel",
          "model_module_version": "1.2.0",
          "state": {
            "_model_module": "@jupyter-widgets/base",
            "_model_module_version": "1.2.0",
            "_model_name": "LayoutModel",
            "_view_count": null,
            "_view_module": "@jupyter-widgets/base",
            "_view_module_version": "1.2.0",
            "_view_name": "LayoutView",
            "align_content": null,
            "align_items": null,
            "align_self": null,
            "border": null,
            "bottom": null,
            "display": null,
            "flex": null,
            "flex_flow": null,
            "grid_area": null,
            "grid_auto_columns": null,
            "grid_auto_flow": null,
            "grid_auto_rows": null,
            "grid_column": null,
            "grid_gap": null,
            "grid_row": null,
            "grid_template_areas": null,
            "grid_template_columns": null,
            "grid_template_rows": null,
            "height": null,
            "justify_content": null,
            "justify_items": null,
            "left": null,
            "margin": null,
            "max_height": null,
            "max_width": null,
            "min_height": null,
            "min_width": null,
            "object_fit": null,
            "object_position": null,
            "order": null,
            "overflow": null,
            "overflow_x": null,
            "overflow_y": null,
            "padding": null,
            "right": null,
            "top": null,
            "visibility": null,
            "width": null
          }
        },
        "6667d639e09947afb609079a356259b9": {
          "model_module": "@jupyter-widgets/controls",
          "model_name": "DescriptionStyleModel",
          "model_module_version": "1.5.0",
          "state": {
            "_model_module": "@jupyter-widgets/controls",
            "_model_module_version": "1.5.0",
            "_model_name": "DescriptionStyleModel",
            "_view_count": null,
            "_view_module": "@jupyter-widgets/base",
            "_view_module_version": "1.2.0",
            "_view_name": "StyleView",
            "description_width": ""
          }
        },
        "65e103eba6fa48f8a58d432a63929e35": {
          "model_module": "@jupyter-widgets/controls",
          "model_name": "HBoxModel",
          "model_module_version": "1.5.0",
          "state": {
            "_dom_classes": [],
            "_model_module": "@jupyter-widgets/controls",
            "_model_module_version": "1.5.0",
            "_model_name": "HBoxModel",
            "_view_count": null,
            "_view_module": "@jupyter-widgets/controls",
            "_view_module_version": "1.5.0",
            "_view_name": "HBoxView",
            "box_style": "",
            "children": [
              "IPY_MODEL_f12a21f0b848430f87d3506b2cf0a6b4",
              "IPY_MODEL_b26c9584b6f14c44bbc673648b0c8f2c",
              "IPY_MODEL_6756c5fc064b4a82bcc7808820022933"
            ],
            "layout": "IPY_MODEL_33cb00f3bcef4885bad3d9303252e578"
          }
        },
        "f12a21f0b848430f87d3506b2cf0a6b4": {
          "model_module": "@jupyter-widgets/controls",
          "model_name": "HTMLModel",
          "model_module_version": "1.5.0",
          "state": {
            "_dom_classes": [],
            "_model_module": "@jupyter-widgets/controls",
            "_model_module_version": "1.5.0",
            "_model_name": "HTMLModel",
            "_view_count": null,
            "_view_module": "@jupyter-widgets/controls",
            "_view_module_version": "1.5.0",
            "_view_name": "HTMLView",
            "description": "",
            "description_tooltip": null,
            "layout": "IPY_MODEL_494c07341d504021ab6e2459797729e3",
            "placeholder": "​",
            "style": "IPY_MODEL_f3d8ba1353204c1da284655462d2c164",
            "value": "config.json: 100%"
          }
        },
        "b26c9584b6f14c44bbc673648b0c8f2c": {
          "model_module": "@jupyter-widgets/controls",
          "model_name": "FloatProgressModel",
          "model_module_version": "1.5.0",
          "state": {
            "_dom_classes": [],
            "_model_module": "@jupyter-widgets/controls",
            "_model_module_version": "1.5.0",
            "_model_name": "FloatProgressModel",
            "_view_count": null,
            "_view_module": "@jupyter-widgets/controls",
            "_view_module_version": "1.5.0",
            "_view_name": "ProgressView",
            "bar_style": "success",
            "description": "",
            "description_tooltip": null,
            "layout": "IPY_MODEL_14fc030515264f37a5f59ea1a08f2d42",
            "max": 570,
            "min": 0,
            "orientation": "horizontal",
            "style": "IPY_MODEL_97b2df4559db4dfc85536a8ae4fcc5a7",
            "value": 570
          }
        },
        "6756c5fc064b4a82bcc7808820022933": {
          "model_module": "@jupyter-widgets/controls",
          "model_name": "HTMLModel",
          "model_module_version": "1.5.0",
          "state": {
            "_dom_classes": [],
            "_model_module": "@jupyter-widgets/controls",
            "_model_module_version": "1.5.0",
            "_model_name": "HTMLModel",
            "_view_count": null,
            "_view_module": "@jupyter-widgets/controls",
            "_view_module_version": "1.5.0",
            "_view_name": "HTMLView",
            "description": "",
            "description_tooltip": null,
            "layout": "IPY_MODEL_d7dc8a026e8c4da4bfb24260a21e3854",
            "placeholder": "​",
            "style": "IPY_MODEL_03d6200bf648448aa674b8decd513992",
            "value": " 570/570 [00:00&lt;00:00, 71.3kB/s]"
          }
        },
        "33cb00f3bcef4885bad3d9303252e578": {
          "model_module": "@jupyter-widgets/base",
          "model_name": "LayoutModel",
          "model_module_version": "1.2.0",
          "state": {
            "_model_module": "@jupyter-widgets/base",
            "_model_module_version": "1.2.0",
            "_model_name": "LayoutModel",
            "_view_count": null,
            "_view_module": "@jupyter-widgets/base",
            "_view_module_version": "1.2.0",
            "_view_name": "LayoutView",
            "align_content": null,
            "align_items": null,
            "align_self": null,
            "border": null,
            "bottom": null,
            "display": null,
            "flex": null,
            "flex_flow": null,
            "grid_area": null,
            "grid_auto_columns": null,
            "grid_auto_flow": null,
            "grid_auto_rows": null,
            "grid_column": null,
            "grid_gap": null,
            "grid_row": null,
            "grid_template_areas": null,
            "grid_template_columns": null,
            "grid_template_rows": null,
            "height": null,
            "justify_content": null,
            "justify_items": null,
            "left": null,
            "margin": null,
            "max_height": null,
            "max_width": null,
            "min_height": null,
            "min_width": null,
            "object_fit": null,
            "object_position": null,
            "order": null,
            "overflow": null,
            "overflow_x": null,
            "overflow_y": null,
            "padding": null,
            "right": null,
            "top": null,
            "visibility": null,
            "width": null
          }
        },
        "494c07341d504021ab6e2459797729e3": {
          "model_module": "@jupyter-widgets/base",
          "model_name": "LayoutModel",
          "model_module_version": "1.2.0",
          "state": {
            "_model_module": "@jupyter-widgets/base",
            "_model_module_version": "1.2.0",
            "_model_name": "LayoutModel",
            "_view_count": null,
            "_view_module": "@jupyter-widgets/base",
            "_view_module_version": "1.2.0",
            "_view_name": "LayoutView",
            "align_content": null,
            "align_items": null,
            "align_self": null,
            "border": null,
            "bottom": null,
            "display": null,
            "flex": null,
            "flex_flow": null,
            "grid_area": null,
            "grid_auto_columns": null,
            "grid_auto_flow": null,
            "grid_auto_rows": null,
            "grid_column": null,
            "grid_gap": null,
            "grid_row": null,
            "grid_template_areas": null,
            "grid_template_columns": null,
            "grid_template_rows": null,
            "height": null,
            "justify_content": null,
            "justify_items": null,
            "left": null,
            "margin": null,
            "max_height": null,
            "max_width": null,
            "min_height": null,
            "min_width": null,
            "object_fit": null,
            "object_position": null,
            "order": null,
            "overflow": null,
            "overflow_x": null,
            "overflow_y": null,
            "padding": null,
            "right": null,
            "top": null,
            "visibility": null,
            "width": null
          }
        },
        "f3d8ba1353204c1da284655462d2c164": {
          "model_module": "@jupyter-widgets/controls",
          "model_name": "DescriptionStyleModel",
          "model_module_version": "1.5.0",
          "state": {
            "_model_module": "@jupyter-widgets/controls",
            "_model_module_version": "1.5.0",
            "_model_name": "DescriptionStyleModel",
            "_view_count": null,
            "_view_module": "@jupyter-widgets/base",
            "_view_module_version": "1.2.0",
            "_view_name": "StyleView",
            "description_width": ""
          }
        },
        "14fc030515264f37a5f59ea1a08f2d42": {
          "model_module": "@jupyter-widgets/base",
          "model_name": "LayoutModel",
          "model_module_version": "1.2.0",
          "state": {
            "_model_module": "@jupyter-widgets/base",
            "_model_module_version": "1.2.0",
            "_model_name": "LayoutModel",
            "_view_count": null,
            "_view_module": "@jupyter-widgets/base",
            "_view_module_version": "1.2.0",
            "_view_name": "LayoutView",
            "align_content": null,
            "align_items": null,
            "align_self": null,
            "border": null,
            "bottom": null,
            "display": null,
            "flex": null,
            "flex_flow": null,
            "grid_area": null,
            "grid_auto_columns": null,
            "grid_auto_flow": null,
            "grid_auto_rows": null,
            "grid_column": null,
            "grid_gap": null,
            "grid_row": null,
            "grid_template_areas": null,
            "grid_template_columns": null,
            "grid_template_rows": null,
            "height": null,
            "justify_content": null,
            "justify_items": null,
            "left": null,
            "margin": null,
            "max_height": null,
            "max_width": null,
            "min_height": null,
            "min_width": null,
            "object_fit": null,
            "object_position": null,
            "order": null,
            "overflow": null,
            "overflow_x": null,
            "overflow_y": null,
            "padding": null,
            "right": null,
            "top": null,
            "visibility": null,
            "width": null
          }
        },
        "97b2df4559db4dfc85536a8ae4fcc5a7": {
          "model_module": "@jupyter-widgets/controls",
          "model_name": "ProgressStyleModel",
          "model_module_version": "1.5.0",
          "state": {
            "_model_module": "@jupyter-widgets/controls",
            "_model_module_version": "1.5.0",
            "_model_name": "ProgressStyleModel",
            "_view_count": null,
            "_view_module": "@jupyter-widgets/base",
            "_view_module_version": "1.2.0",
            "_view_name": "StyleView",
            "bar_color": null,
            "description_width": ""
          }
        },
        "d7dc8a026e8c4da4bfb24260a21e3854": {
          "model_module": "@jupyter-widgets/base",
          "model_name": "LayoutModel",
          "model_module_version": "1.2.0",
          "state": {
            "_model_module": "@jupyter-widgets/base",
            "_model_module_version": "1.2.0",
            "_model_name": "LayoutModel",
            "_view_count": null,
            "_view_module": "@jupyter-widgets/base",
            "_view_module_version": "1.2.0",
            "_view_name": "LayoutView",
            "align_content": null,
            "align_items": null,
            "align_self": null,
            "border": null,
            "bottom": null,
            "display": null,
            "flex": null,
            "flex_flow": null,
            "grid_area": null,
            "grid_auto_columns": null,
            "grid_auto_flow": null,
            "grid_auto_rows": null,
            "grid_column": null,
            "grid_gap": null,
            "grid_row": null,
            "grid_template_areas": null,
            "grid_template_columns": null,
            "grid_template_rows": null,
            "height": null,
            "justify_content": null,
            "justify_items": null,
            "left": null,
            "margin": null,
            "max_height": null,
            "max_width": null,
            "min_height": null,
            "min_width": null,
            "object_fit": null,
            "object_position": null,
            "order": null,
            "overflow": null,
            "overflow_x": null,
            "overflow_y": null,
            "padding": null,
            "right": null,
            "top": null,
            "visibility": null,
            "width": null
          }
        },
        "03d6200bf648448aa674b8decd513992": {
          "model_module": "@jupyter-widgets/controls",
          "model_name": "DescriptionStyleModel",
          "model_module_version": "1.5.0",
          "state": {
            "_model_module": "@jupyter-widgets/controls",
            "_model_module_version": "1.5.0",
            "_model_name": "DescriptionStyleModel",
            "_view_count": null,
            "_view_module": "@jupyter-widgets/base",
            "_view_module_version": "1.2.0",
            "_view_name": "StyleView",
            "description_width": ""
          }
        },
        "595293bf8e0b42ac9940cabc4aa3da0b": {
          "model_module": "@jupyter-widgets/controls",
          "model_name": "HBoxModel",
          "model_module_version": "1.5.0",
          "state": {
            "_dom_classes": [],
            "_model_module": "@jupyter-widgets/controls",
            "_model_module_version": "1.5.0",
            "_model_name": "HBoxModel",
            "_view_count": null,
            "_view_module": "@jupyter-widgets/controls",
            "_view_module_version": "1.5.0",
            "_view_name": "HBoxView",
            "box_style": "",
            "children": [
              "IPY_MODEL_4ea532017d654a4bb927dbf7e764defb",
              "IPY_MODEL_06d7c6a55acc4bcbb83d708e34450010",
              "IPY_MODEL_bfac654b2210432a9011ee6ca001c57a"
            ],
            "layout": "IPY_MODEL_1b697ef5b6c049bcbd6a3f11ded8c791"
          }
        },
        "4ea532017d654a4bb927dbf7e764defb": {
          "model_module": "@jupyter-widgets/controls",
          "model_name": "HTMLModel",
          "model_module_version": "1.5.0",
          "state": {
            "_dom_classes": [],
            "_model_module": "@jupyter-widgets/controls",
            "_model_module_version": "1.5.0",
            "_model_name": "HTMLModel",
            "_view_count": null,
            "_view_module": "@jupyter-widgets/controls",
            "_view_module_version": "1.5.0",
            "_view_name": "HTMLView",
            "description": "",
            "description_tooltip": null,
            "layout": "IPY_MODEL_a8dc2245eb8d4d1b85facbbca12549e6",
            "placeholder": "​",
            "style": "IPY_MODEL_9d4f8e4f9bd04e6682624031de3c92b5",
            "value": "model.safetensors: 100%"
          }
        },
        "06d7c6a55acc4bcbb83d708e34450010": {
          "model_module": "@jupyter-widgets/controls",
          "model_name": "FloatProgressModel",
          "model_module_version": "1.5.0",
          "state": {
            "_dom_classes": [],
            "_model_module": "@jupyter-widgets/controls",
            "_model_module_version": "1.5.0",
            "_model_name": "FloatProgressModel",
            "_view_count": null,
            "_view_module": "@jupyter-widgets/controls",
            "_view_module_version": "1.5.0",
            "_view_name": "ProgressView",
            "bar_style": "success",
            "description": "",
            "description_tooltip": null,
            "layout": "IPY_MODEL_376e961c514d4787a9d48cc88f56b60b",
            "max": 440449768,
            "min": 0,
            "orientation": "horizontal",
            "style": "IPY_MODEL_1d1c4cb668934381a00e2a5d5fdfa434",
            "value": 440449768
          }
        },
        "bfac654b2210432a9011ee6ca001c57a": {
          "model_module": "@jupyter-widgets/controls",
          "model_name": "HTMLModel",
          "model_module_version": "1.5.0",
          "state": {
            "_dom_classes": [],
            "_model_module": "@jupyter-widgets/controls",
            "_model_module_version": "1.5.0",
            "_model_name": "HTMLModel",
            "_view_count": null,
            "_view_module": "@jupyter-widgets/controls",
            "_view_module_version": "1.5.0",
            "_view_name": "HTMLView",
            "description": "",
            "description_tooltip": null,
            "layout": "IPY_MODEL_db993ef7374243c380e808ba62b45b0b",
            "placeholder": "​",
            "style": "IPY_MODEL_83e680af404e468b94cfd404e52449c9",
            "value": " 440M/440M [00:00&lt;00:00, 521MB/s]"
          }
        },
        "1b697ef5b6c049bcbd6a3f11ded8c791": {
          "model_module": "@jupyter-widgets/base",
          "model_name": "LayoutModel",
          "model_module_version": "1.2.0",
          "state": {
            "_model_module": "@jupyter-widgets/base",
            "_model_module_version": "1.2.0",
            "_model_name": "LayoutModel",
            "_view_count": null,
            "_view_module": "@jupyter-widgets/base",
            "_view_module_version": "1.2.0",
            "_view_name": "LayoutView",
            "align_content": null,
            "align_items": null,
            "align_self": null,
            "border": null,
            "bottom": null,
            "display": null,
            "flex": null,
            "flex_flow": null,
            "grid_area": null,
            "grid_auto_columns": null,
            "grid_auto_flow": null,
            "grid_auto_rows": null,
            "grid_column": null,
            "grid_gap": null,
            "grid_row": null,
            "grid_template_areas": null,
            "grid_template_columns": null,
            "grid_template_rows": null,
            "height": null,
            "justify_content": null,
            "justify_items": null,
            "left": null,
            "margin": null,
            "max_height": null,
            "max_width": null,
            "min_height": null,
            "min_width": null,
            "object_fit": null,
            "object_position": null,
            "order": null,
            "overflow": null,
            "overflow_x": null,
            "overflow_y": null,
            "padding": null,
            "right": null,
            "top": null,
            "visibility": null,
            "width": null
          }
        },
        "a8dc2245eb8d4d1b85facbbca12549e6": {
          "model_module": "@jupyter-widgets/base",
          "model_name": "LayoutModel",
          "model_module_version": "1.2.0",
          "state": {
            "_model_module": "@jupyter-widgets/base",
            "_model_module_version": "1.2.0",
            "_model_name": "LayoutModel",
            "_view_count": null,
            "_view_module": "@jupyter-widgets/base",
            "_view_module_version": "1.2.0",
            "_view_name": "LayoutView",
            "align_content": null,
            "align_items": null,
            "align_self": null,
            "border": null,
            "bottom": null,
            "display": null,
            "flex": null,
            "flex_flow": null,
            "grid_area": null,
            "grid_auto_columns": null,
            "grid_auto_flow": null,
            "grid_auto_rows": null,
            "grid_column": null,
            "grid_gap": null,
            "grid_row": null,
            "grid_template_areas": null,
            "grid_template_columns": null,
            "grid_template_rows": null,
            "height": null,
            "justify_content": null,
            "justify_items": null,
            "left": null,
            "margin": null,
            "max_height": null,
            "max_width": null,
            "min_height": null,
            "min_width": null,
            "object_fit": null,
            "object_position": null,
            "order": null,
            "overflow": null,
            "overflow_x": null,
            "overflow_y": null,
            "padding": null,
            "right": null,
            "top": null,
            "visibility": null,
            "width": null
          }
        },
        "9d4f8e4f9bd04e6682624031de3c92b5": {
          "model_module": "@jupyter-widgets/controls",
          "model_name": "DescriptionStyleModel",
          "model_module_version": "1.5.0",
          "state": {
            "_model_module": "@jupyter-widgets/controls",
            "_model_module_version": "1.5.0",
            "_model_name": "DescriptionStyleModel",
            "_view_count": null,
            "_view_module": "@jupyter-widgets/base",
            "_view_module_version": "1.2.0",
            "_view_name": "StyleView",
            "description_width": ""
          }
        },
        "376e961c514d4787a9d48cc88f56b60b": {
          "model_module": "@jupyter-widgets/base",
          "model_name": "LayoutModel",
          "model_module_version": "1.2.0",
          "state": {
            "_model_module": "@jupyter-widgets/base",
            "_model_module_version": "1.2.0",
            "_model_name": "LayoutModel",
            "_view_count": null,
            "_view_module": "@jupyter-widgets/base",
            "_view_module_version": "1.2.0",
            "_view_name": "LayoutView",
            "align_content": null,
            "align_items": null,
            "align_self": null,
            "border": null,
            "bottom": null,
            "display": null,
            "flex": null,
            "flex_flow": null,
            "grid_area": null,
            "grid_auto_columns": null,
            "grid_auto_flow": null,
            "grid_auto_rows": null,
            "grid_column": null,
            "grid_gap": null,
            "grid_row": null,
            "grid_template_areas": null,
            "grid_template_columns": null,
            "grid_template_rows": null,
            "height": null,
            "justify_content": null,
            "justify_items": null,
            "left": null,
            "margin": null,
            "max_height": null,
            "max_width": null,
            "min_height": null,
            "min_width": null,
            "object_fit": null,
            "object_position": null,
            "order": null,
            "overflow": null,
            "overflow_x": null,
            "overflow_y": null,
            "padding": null,
            "right": null,
            "top": null,
            "visibility": null,
            "width": null
          }
        },
        "1d1c4cb668934381a00e2a5d5fdfa434": {
          "model_module": "@jupyter-widgets/controls",
          "model_name": "ProgressStyleModel",
          "model_module_version": "1.5.0",
          "state": {
            "_model_module": "@jupyter-widgets/controls",
            "_model_module_version": "1.5.0",
            "_model_name": "ProgressStyleModel",
            "_view_count": null,
            "_view_module": "@jupyter-widgets/base",
            "_view_module_version": "1.2.0",
            "_view_name": "StyleView",
            "bar_color": null,
            "description_width": ""
          }
        },
        "db993ef7374243c380e808ba62b45b0b": {
          "model_module": "@jupyter-widgets/base",
          "model_name": "LayoutModel",
          "model_module_version": "1.2.0",
          "state": {
            "_model_module": "@jupyter-widgets/base",
            "_model_module_version": "1.2.0",
            "_model_name": "LayoutModel",
            "_view_count": null,
            "_view_module": "@jupyter-widgets/base",
            "_view_module_version": "1.2.0",
            "_view_name": "LayoutView",
            "align_content": null,
            "align_items": null,
            "align_self": null,
            "border": null,
            "bottom": null,
            "display": null,
            "flex": null,
            "flex_flow": null,
            "grid_area": null,
            "grid_auto_columns": null,
            "grid_auto_flow": null,
            "grid_auto_rows": null,
            "grid_column": null,
            "grid_gap": null,
            "grid_row": null,
            "grid_template_areas": null,
            "grid_template_columns": null,
            "grid_template_rows": null,
            "height": null,
            "justify_content": null,
            "justify_items": null,
            "left": null,
            "margin": null,
            "max_height": null,
            "max_width": null,
            "min_height": null,
            "min_width": null,
            "object_fit": null,
            "object_position": null,
            "order": null,
            "overflow": null,
            "overflow_x": null,
            "overflow_y": null,
            "padding": null,
            "right": null,
            "top": null,
            "visibility": null,
            "width": null
          }
        },
        "83e680af404e468b94cfd404e52449c9": {
          "model_module": "@jupyter-widgets/controls",
          "model_name": "DescriptionStyleModel",
          "model_module_version": "1.5.0",
          "state": {
            "_model_module": "@jupyter-widgets/controls",
            "_model_module_version": "1.5.0",
            "_model_name": "DescriptionStyleModel",
            "_view_count": null,
            "_view_module": "@jupyter-widgets/base",
            "_view_module_version": "1.2.0",
            "_view_name": "StyleView",
            "description_width": ""
          }
        },
        "6132e61d9699411cac0e6efc54534c5d": {
          "model_module": "@jupyter-widgets/controls",
          "model_name": "HBoxModel",
          "model_module_version": "1.5.0",
          "state": {
            "_dom_classes": [],
            "_model_module": "@jupyter-widgets/controls",
            "_model_module_version": "1.5.0",
            "_model_name": "HBoxModel",
            "_view_count": null,
            "_view_module": "@jupyter-widgets/controls",
            "_view_module_version": "1.5.0",
            "_view_name": "HBoxView",
            "box_style": "",
            "children": [
              "IPY_MODEL_0d26d18fc0fa4b84ad6f85ec7f4c1cc7",
              "IPY_MODEL_52194b4929e244beb43f06615faf00e9",
              "IPY_MODEL_b15aeda4f7db46a2a4509f8fdad4bf00"
            ],
            "layout": "IPY_MODEL_47649f80722840fcaa6ee55fcbd97e14"
          }
        },
        "0d26d18fc0fa4b84ad6f85ec7f4c1cc7": {
          "model_module": "@jupyter-widgets/controls",
          "model_name": "HTMLModel",
          "model_module_version": "1.5.0",
          "state": {
            "_dom_classes": [],
            "_model_module": "@jupyter-widgets/controls",
            "_model_module_version": "1.5.0",
            "_model_name": "HTMLModel",
            "_view_count": null,
            "_view_module": "@jupyter-widgets/controls",
            "_view_module_version": "1.5.0",
            "_view_name": "HTMLView",
            "description": "",
            "description_tooltip": null,
            "layout": "IPY_MODEL_e89ae389560d4cff9fd7d7fb699f3ab1",
            "placeholder": "​",
            "style": "IPY_MODEL_78ed3a7c37424f50bd2427e414414cd0",
            "value": "tokenizer_config.json: 100%"
          }
        },
        "52194b4929e244beb43f06615faf00e9": {
          "model_module": "@jupyter-widgets/controls",
          "model_name": "FloatProgressModel",
          "model_module_version": "1.5.0",
          "state": {
            "_dom_classes": [],
            "_model_module": "@jupyter-widgets/controls",
            "_model_module_version": "1.5.0",
            "_model_name": "FloatProgressModel",
            "_view_count": null,
            "_view_module": "@jupyter-widgets/controls",
            "_view_module_version": "1.5.0",
            "_view_name": "ProgressView",
            "bar_style": "success",
            "description": "",
            "description_tooltip": null,
            "layout": "IPY_MODEL_defbcfb17a714a2183b98bbac6ddd6f5",
            "max": 48,
            "min": 0,
            "orientation": "horizontal",
            "style": "IPY_MODEL_ab89dfebcca7483aabd02f65cf2fd669",
            "value": 48
          }
        },
        "b15aeda4f7db46a2a4509f8fdad4bf00": {
          "model_module": "@jupyter-widgets/controls",
          "model_name": "HTMLModel",
          "model_module_version": "1.5.0",
          "state": {
            "_dom_classes": [],
            "_model_module": "@jupyter-widgets/controls",
            "_model_module_version": "1.5.0",
            "_model_name": "HTMLModel",
            "_view_count": null,
            "_view_module": "@jupyter-widgets/controls",
            "_view_module_version": "1.5.0",
            "_view_name": "HTMLView",
            "description": "",
            "description_tooltip": null,
            "layout": "IPY_MODEL_e2e379f019314368bb987b4b6f7e3fcf",
            "placeholder": "​",
            "style": "IPY_MODEL_19ff64f2645340549d79ce517e8dd43f",
            "value": " 48.0/48.0 [00:00&lt;00:00, 5.75kB/s]"
          }
        },
        "47649f80722840fcaa6ee55fcbd97e14": {
          "model_module": "@jupyter-widgets/base",
          "model_name": "LayoutModel",
          "model_module_version": "1.2.0",
          "state": {
            "_model_module": "@jupyter-widgets/base",
            "_model_module_version": "1.2.0",
            "_model_name": "LayoutModel",
            "_view_count": null,
            "_view_module": "@jupyter-widgets/base",
            "_view_module_version": "1.2.0",
            "_view_name": "LayoutView",
            "align_content": null,
            "align_items": null,
            "align_self": null,
            "border": null,
            "bottom": null,
            "display": null,
            "flex": null,
            "flex_flow": null,
            "grid_area": null,
            "grid_auto_columns": null,
            "grid_auto_flow": null,
            "grid_auto_rows": null,
            "grid_column": null,
            "grid_gap": null,
            "grid_row": null,
            "grid_template_areas": null,
            "grid_template_columns": null,
            "grid_template_rows": null,
            "height": null,
            "justify_content": null,
            "justify_items": null,
            "left": null,
            "margin": null,
            "max_height": null,
            "max_width": null,
            "min_height": null,
            "min_width": null,
            "object_fit": null,
            "object_position": null,
            "order": null,
            "overflow": null,
            "overflow_x": null,
            "overflow_y": null,
            "padding": null,
            "right": null,
            "top": null,
            "visibility": null,
            "width": null
          }
        },
        "e89ae389560d4cff9fd7d7fb699f3ab1": {
          "model_module": "@jupyter-widgets/base",
          "model_name": "LayoutModel",
          "model_module_version": "1.2.0",
          "state": {
            "_model_module": "@jupyter-widgets/base",
            "_model_module_version": "1.2.0",
            "_model_name": "LayoutModel",
            "_view_count": null,
            "_view_module": "@jupyter-widgets/base",
            "_view_module_version": "1.2.0",
            "_view_name": "LayoutView",
            "align_content": null,
            "align_items": null,
            "align_self": null,
            "border": null,
            "bottom": null,
            "display": null,
            "flex": null,
            "flex_flow": null,
            "grid_area": null,
            "grid_auto_columns": null,
            "grid_auto_flow": null,
            "grid_auto_rows": null,
            "grid_column": null,
            "grid_gap": null,
            "grid_row": null,
            "grid_template_areas": null,
            "grid_template_columns": null,
            "grid_template_rows": null,
            "height": null,
            "justify_content": null,
            "justify_items": null,
            "left": null,
            "margin": null,
            "max_height": null,
            "max_width": null,
            "min_height": null,
            "min_width": null,
            "object_fit": null,
            "object_position": null,
            "order": null,
            "overflow": null,
            "overflow_x": null,
            "overflow_y": null,
            "padding": null,
            "right": null,
            "top": null,
            "visibility": null,
            "width": null
          }
        },
        "78ed3a7c37424f50bd2427e414414cd0": {
          "model_module": "@jupyter-widgets/controls",
          "model_name": "DescriptionStyleModel",
          "model_module_version": "1.5.0",
          "state": {
            "_model_module": "@jupyter-widgets/controls",
            "_model_module_version": "1.5.0",
            "_model_name": "DescriptionStyleModel",
            "_view_count": null,
            "_view_module": "@jupyter-widgets/base",
            "_view_module_version": "1.2.0",
            "_view_name": "StyleView",
            "description_width": ""
          }
        },
        "defbcfb17a714a2183b98bbac6ddd6f5": {
          "model_module": "@jupyter-widgets/base",
          "model_name": "LayoutModel",
          "model_module_version": "1.2.0",
          "state": {
            "_model_module": "@jupyter-widgets/base",
            "_model_module_version": "1.2.0",
            "_model_name": "LayoutModel",
            "_view_count": null,
            "_view_module": "@jupyter-widgets/base",
            "_view_module_version": "1.2.0",
            "_view_name": "LayoutView",
            "align_content": null,
            "align_items": null,
            "align_self": null,
            "border": null,
            "bottom": null,
            "display": null,
            "flex": null,
            "flex_flow": null,
            "grid_area": null,
            "grid_auto_columns": null,
            "grid_auto_flow": null,
            "grid_auto_rows": null,
            "grid_column": null,
            "grid_gap": null,
            "grid_row": null,
            "grid_template_areas": null,
            "grid_template_columns": null,
            "grid_template_rows": null,
            "height": null,
            "justify_content": null,
            "justify_items": null,
            "left": null,
            "margin": null,
            "max_height": null,
            "max_width": null,
            "min_height": null,
            "min_width": null,
            "object_fit": null,
            "object_position": null,
            "order": null,
            "overflow": null,
            "overflow_x": null,
            "overflow_y": null,
            "padding": null,
            "right": null,
            "top": null,
            "visibility": null,
            "width": null
          }
        },
        "ab89dfebcca7483aabd02f65cf2fd669": {
          "model_module": "@jupyter-widgets/controls",
          "model_name": "ProgressStyleModel",
          "model_module_version": "1.5.0",
          "state": {
            "_model_module": "@jupyter-widgets/controls",
            "_model_module_version": "1.5.0",
            "_model_name": "ProgressStyleModel",
            "_view_count": null,
            "_view_module": "@jupyter-widgets/base",
            "_view_module_version": "1.2.0",
            "_view_name": "StyleView",
            "bar_color": null,
            "description_width": ""
          }
        },
        "e2e379f019314368bb987b4b6f7e3fcf": {
          "model_module": "@jupyter-widgets/base",
          "model_name": "LayoutModel",
          "model_module_version": "1.2.0",
          "state": {
            "_model_module": "@jupyter-widgets/base",
            "_model_module_version": "1.2.0",
            "_model_name": "LayoutModel",
            "_view_count": null,
            "_view_module": "@jupyter-widgets/base",
            "_view_module_version": "1.2.0",
            "_view_name": "LayoutView",
            "align_content": null,
            "align_items": null,
            "align_self": null,
            "border": null,
            "bottom": null,
            "display": null,
            "flex": null,
            "flex_flow": null,
            "grid_area": null,
            "grid_auto_columns": null,
            "grid_auto_flow": null,
            "grid_auto_rows": null,
            "grid_column": null,
            "grid_gap": null,
            "grid_row": null,
            "grid_template_areas": null,
            "grid_template_columns": null,
            "grid_template_rows": null,
            "height": null,
            "justify_content": null,
            "justify_items": null,
            "left": null,
            "margin": null,
            "max_height": null,
            "max_width": null,
            "min_height": null,
            "min_width": null,
            "object_fit": null,
            "object_position": null,
            "order": null,
            "overflow": null,
            "overflow_x": null,
            "overflow_y": null,
            "padding": null,
            "right": null,
            "top": null,
            "visibility": null,
            "width": null
          }
        },
        "19ff64f2645340549d79ce517e8dd43f": {
          "model_module": "@jupyter-widgets/controls",
          "model_name": "DescriptionStyleModel",
          "model_module_version": "1.5.0",
          "state": {
            "_model_module": "@jupyter-widgets/controls",
            "_model_module_version": "1.5.0",
            "_model_name": "DescriptionStyleModel",
            "_view_count": null,
            "_view_module": "@jupyter-widgets/base",
            "_view_module_version": "1.2.0",
            "_view_name": "StyleView",
            "description_width": ""
          }
        },
        "2756ac255e4a40c1b6389a800a4df4a4": {
          "model_module": "@jupyter-widgets/controls",
          "model_name": "HBoxModel",
          "model_module_version": "1.5.0",
          "state": {
            "_dom_classes": [],
            "_model_module": "@jupyter-widgets/controls",
            "_model_module_version": "1.5.0",
            "_model_name": "HBoxModel",
            "_view_count": null,
            "_view_module": "@jupyter-widgets/controls",
            "_view_module_version": "1.5.0",
            "_view_name": "HBoxView",
            "box_style": "",
            "children": [
              "IPY_MODEL_ee6cecaae34c4bba86ce05420b51764b",
              "IPY_MODEL_1658221f86ef455dab16c42cb8d3cb8c",
              "IPY_MODEL_b6d73074294f4ab4a482fd4bea68ba71"
            ],
            "layout": "IPY_MODEL_0742fa3cb86b430faf5441ce70542946"
          }
        },
        "ee6cecaae34c4bba86ce05420b51764b": {
          "model_module": "@jupyter-widgets/controls",
          "model_name": "HTMLModel",
          "model_module_version": "1.5.0",
          "state": {
            "_dom_classes": [],
            "_model_module": "@jupyter-widgets/controls",
            "_model_module_version": "1.5.0",
            "_model_name": "HTMLModel",
            "_view_count": null,
            "_view_module": "@jupyter-widgets/controls",
            "_view_module_version": "1.5.0",
            "_view_name": "HTMLView",
            "description": "",
            "description_tooltip": null,
            "layout": "IPY_MODEL_877cccb7b8154dbebefb99b219bf3198",
            "placeholder": "​",
            "style": "IPY_MODEL_2f8874fe05784d84a33639ccc09581ba",
            "value": "vocab.txt: 100%"
          }
        },
        "1658221f86ef455dab16c42cb8d3cb8c": {
          "model_module": "@jupyter-widgets/controls",
          "model_name": "FloatProgressModel",
          "model_module_version": "1.5.0",
          "state": {
            "_dom_classes": [],
            "_model_module": "@jupyter-widgets/controls",
            "_model_module_version": "1.5.0",
            "_model_name": "FloatProgressModel",
            "_view_count": null,
            "_view_module": "@jupyter-widgets/controls",
            "_view_module_version": "1.5.0",
            "_view_name": "ProgressView",
            "bar_style": "success",
            "description": "",
            "description_tooltip": null,
            "layout": "IPY_MODEL_85a98a6c9f104179a38163e5de6d821e",
            "max": 231508,
            "min": 0,
            "orientation": "horizontal",
            "style": "IPY_MODEL_ccbb416464fb499a96abeebd36993f70",
            "value": 231508
          }
        },
        "b6d73074294f4ab4a482fd4bea68ba71": {
          "model_module": "@jupyter-widgets/controls",
          "model_name": "HTMLModel",
          "model_module_version": "1.5.0",
          "state": {
            "_dom_classes": [],
            "_model_module": "@jupyter-widgets/controls",
            "_model_module_version": "1.5.0",
            "_model_name": "HTMLModel",
            "_view_count": null,
            "_view_module": "@jupyter-widgets/controls",
            "_view_module_version": "1.5.0",
            "_view_name": "HTMLView",
            "description": "",
            "description_tooltip": null,
            "layout": "IPY_MODEL_5fef7cd1315e45ce8ce481b1eb880d2b",
            "placeholder": "​",
            "style": "IPY_MODEL_8f52c78022ac4bb3810def1d87fa5849",
            "value": " 232k/232k [00:00&lt;00:00, 1.41MB/s]"
          }
        },
        "0742fa3cb86b430faf5441ce70542946": {
          "model_module": "@jupyter-widgets/base",
          "model_name": "LayoutModel",
          "model_module_version": "1.2.0",
          "state": {
            "_model_module": "@jupyter-widgets/base",
            "_model_module_version": "1.2.0",
            "_model_name": "LayoutModel",
            "_view_count": null,
            "_view_module": "@jupyter-widgets/base",
            "_view_module_version": "1.2.0",
            "_view_name": "LayoutView",
            "align_content": null,
            "align_items": null,
            "align_self": null,
            "border": null,
            "bottom": null,
            "display": null,
            "flex": null,
            "flex_flow": null,
            "grid_area": null,
            "grid_auto_columns": null,
            "grid_auto_flow": null,
            "grid_auto_rows": null,
            "grid_column": null,
            "grid_gap": null,
            "grid_row": null,
            "grid_template_areas": null,
            "grid_template_columns": null,
            "grid_template_rows": null,
            "height": null,
            "justify_content": null,
            "justify_items": null,
            "left": null,
            "margin": null,
            "max_height": null,
            "max_width": null,
            "min_height": null,
            "min_width": null,
            "object_fit": null,
            "object_position": null,
            "order": null,
            "overflow": null,
            "overflow_x": null,
            "overflow_y": null,
            "padding": null,
            "right": null,
            "top": null,
            "visibility": null,
            "width": null
          }
        },
        "877cccb7b8154dbebefb99b219bf3198": {
          "model_module": "@jupyter-widgets/base",
          "model_name": "LayoutModel",
          "model_module_version": "1.2.0",
          "state": {
            "_model_module": "@jupyter-widgets/base",
            "_model_module_version": "1.2.0",
            "_model_name": "LayoutModel",
            "_view_count": null,
            "_view_module": "@jupyter-widgets/base",
            "_view_module_version": "1.2.0",
            "_view_name": "LayoutView",
            "align_content": null,
            "align_items": null,
            "align_self": null,
            "border": null,
            "bottom": null,
            "display": null,
            "flex": null,
            "flex_flow": null,
            "grid_area": null,
            "grid_auto_columns": null,
            "grid_auto_flow": null,
            "grid_auto_rows": null,
            "grid_column": null,
            "grid_gap": null,
            "grid_row": null,
            "grid_template_areas": null,
            "grid_template_columns": null,
            "grid_template_rows": null,
            "height": null,
            "justify_content": null,
            "justify_items": null,
            "left": null,
            "margin": null,
            "max_height": null,
            "max_width": null,
            "min_height": null,
            "min_width": null,
            "object_fit": null,
            "object_position": null,
            "order": null,
            "overflow": null,
            "overflow_x": null,
            "overflow_y": null,
            "padding": null,
            "right": null,
            "top": null,
            "visibility": null,
            "width": null
          }
        },
        "2f8874fe05784d84a33639ccc09581ba": {
          "model_module": "@jupyter-widgets/controls",
          "model_name": "DescriptionStyleModel",
          "model_module_version": "1.5.0",
          "state": {
            "_model_module": "@jupyter-widgets/controls",
            "_model_module_version": "1.5.0",
            "_model_name": "DescriptionStyleModel",
            "_view_count": null,
            "_view_module": "@jupyter-widgets/base",
            "_view_module_version": "1.2.0",
            "_view_name": "StyleView",
            "description_width": ""
          }
        },
        "85a98a6c9f104179a38163e5de6d821e": {
          "model_module": "@jupyter-widgets/base",
          "model_name": "LayoutModel",
          "model_module_version": "1.2.0",
          "state": {
            "_model_module": "@jupyter-widgets/base",
            "_model_module_version": "1.2.0",
            "_model_name": "LayoutModel",
            "_view_count": null,
            "_view_module": "@jupyter-widgets/base",
            "_view_module_version": "1.2.0",
            "_view_name": "LayoutView",
            "align_content": null,
            "align_items": null,
            "align_self": null,
            "border": null,
            "bottom": null,
            "display": null,
            "flex": null,
            "flex_flow": null,
            "grid_area": null,
            "grid_auto_columns": null,
            "grid_auto_flow": null,
            "grid_auto_rows": null,
            "grid_column": null,
            "grid_gap": null,
            "grid_row": null,
            "grid_template_areas": null,
            "grid_template_columns": null,
            "grid_template_rows": null,
            "height": null,
            "justify_content": null,
            "justify_items": null,
            "left": null,
            "margin": null,
            "max_height": null,
            "max_width": null,
            "min_height": null,
            "min_width": null,
            "object_fit": null,
            "object_position": null,
            "order": null,
            "overflow": null,
            "overflow_x": null,
            "overflow_y": null,
            "padding": null,
            "right": null,
            "top": null,
            "visibility": null,
            "width": null
          }
        },
        "ccbb416464fb499a96abeebd36993f70": {
          "model_module": "@jupyter-widgets/controls",
          "model_name": "ProgressStyleModel",
          "model_module_version": "1.5.0",
          "state": {
            "_model_module": "@jupyter-widgets/controls",
            "_model_module_version": "1.5.0",
            "_model_name": "ProgressStyleModel",
            "_view_count": null,
            "_view_module": "@jupyter-widgets/base",
            "_view_module_version": "1.2.0",
            "_view_name": "StyleView",
            "bar_color": null,
            "description_width": ""
          }
        },
        "5fef7cd1315e45ce8ce481b1eb880d2b": {
          "model_module": "@jupyter-widgets/base",
          "model_name": "LayoutModel",
          "model_module_version": "1.2.0",
          "state": {
            "_model_module": "@jupyter-widgets/base",
            "_model_module_version": "1.2.0",
            "_model_name": "LayoutModel",
            "_view_count": null,
            "_view_module": "@jupyter-widgets/base",
            "_view_module_version": "1.2.0",
            "_view_name": "LayoutView",
            "align_content": null,
            "align_items": null,
            "align_self": null,
            "border": null,
            "bottom": null,
            "display": null,
            "flex": null,
            "flex_flow": null,
            "grid_area": null,
            "grid_auto_columns": null,
            "grid_auto_flow": null,
            "grid_auto_rows": null,
            "grid_column": null,
            "grid_gap": null,
            "grid_row": null,
            "grid_template_areas": null,
            "grid_template_columns": null,
            "grid_template_rows": null,
            "height": null,
            "justify_content": null,
            "justify_items": null,
            "left": null,
            "margin": null,
            "max_height": null,
            "max_width": null,
            "min_height": null,
            "min_width": null,
            "object_fit": null,
            "object_position": null,
            "order": null,
            "overflow": null,
            "overflow_x": null,
            "overflow_y": null,
            "padding": null,
            "right": null,
            "top": null,
            "visibility": null,
            "width": null
          }
        },
        "8f52c78022ac4bb3810def1d87fa5849": {
          "model_module": "@jupyter-widgets/controls",
          "model_name": "DescriptionStyleModel",
          "model_module_version": "1.5.0",
          "state": {
            "_model_module": "@jupyter-widgets/controls",
            "_model_module_version": "1.5.0",
            "_model_name": "DescriptionStyleModel",
            "_view_count": null,
            "_view_module": "@jupyter-widgets/base",
            "_view_module_version": "1.2.0",
            "_view_name": "StyleView",
            "description_width": ""
          }
        },
        "1e4bf5e3b5744728b304b660ab3ecad5": {
          "model_module": "@jupyter-widgets/controls",
          "model_name": "HBoxModel",
          "model_module_version": "1.5.0",
          "state": {
            "_dom_classes": [],
            "_model_module": "@jupyter-widgets/controls",
            "_model_module_version": "1.5.0",
            "_model_name": "HBoxModel",
            "_view_count": null,
            "_view_module": "@jupyter-widgets/controls",
            "_view_module_version": "1.5.0",
            "_view_name": "HBoxView",
            "box_style": "",
            "children": [
              "IPY_MODEL_f1849833435543e5bd16fa8fd0e90891",
              "IPY_MODEL_9eb901ff97ed4d3980ce0adb1005bb85",
              "IPY_MODEL_edd530e96c9e489cbb7fa993afdad708"
            ],
            "layout": "IPY_MODEL_9a9703bf72484e3a9b802a09695da993"
          }
        },
        "f1849833435543e5bd16fa8fd0e90891": {
          "model_module": "@jupyter-widgets/controls",
          "model_name": "HTMLModel",
          "model_module_version": "1.5.0",
          "state": {
            "_dom_classes": [],
            "_model_module": "@jupyter-widgets/controls",
            "_model_module_version": "1.5.0",
            "_model_name": "HTMLModel",
            "_view_count": null,
            "_view_module": "@jupyter-widgets/controls",
            "_view_module_version": "1.5.0",
            "_view_name": "HTMLView",
            "description": "",
            "description_tooltip": null,
            "layout": "IPY_MODEL_2e964b6e4c8942d6b8bc45ec9837761b",
            "placeholder": "​",
            "style": "IPY_MODEL_03c3e134c9844e10aacef1a03c5a77e3",
            "value": "tokenizer.json: 100%"
          }
        },
        "9eb901ff97ed4d3980ce0adb1005bb85": {
          "model_module": "@jupyter-widgets/controls",
          "model_name": "FloatProgressModel",
          "model_module_version": "1.5.0",
          "state": {
            "_dom_classes": [],
            "_model_module": "@jupyter-widgets/controls",
            "_model_module_version": "1.5.0",
            "_model_name": "FloatProgressModel",
            "_view_count": null,
            "_view_module": "@jupyter-widgets/controls",
            "_view_module_version": "1.5.0",
            "_view_name": "ProgressView",
            "bar_style": "success",
            "description": "",
            "description_tooltip": null,
            "layout": "IPY_MODEL_ec237943bfb4483fb44b046982db15c0",
            "max": 466062,
            "min": 0,
            "orientation": "horizontal",
            "style": "IPY_MODEL_19f6ba44504049b38e0cc96679653e3f",
            "value": 466062
          }
        },
        "edd530e96c9e489cbb7fa993afdad708": {
          "model_module": "@jupyter-widgets/controls",
          "model_name": "HTMLModel",
          "model_module_version": "1.5.0",
          "state": {
            "_dom_classes": [],
            "_model_module": "@jupyter-widgets/controls",
            "_model_module_version": "1.5.0",
            "_model_name": "HTMLModel",
            "_view_count": null,
            "_view_module": "@jupyter-widgets/controls",
            "_view_module_version": "1.5.0",
            "_view_name": "HTMLView",
            "description": "",
            "description_tooltip": null,
            "layout": "IPY_MODEL_370356b87be34cf792a8e090241ae65f",
            "placeholder": "​",
            "style": "IPY_MODEL_67a5fd72865841a7b4ee06d17a5f7a55",
            "value": " 466k/466k [00:00&lt;00:00, 5.41MB/s]"
          }
        },
        "9a9703bf72484e3a9b802a09695da993": {
          "model_module": "@jupyter-widgets/base",
          "model_name": "LayoutModel",
          "model_module_version": "1.2.0",
          "state": {
            "_model_module": "@jupyter-widgets/base",
            "_model_module_version": "1.2.0",
            "_model_name": "LayoutModel",
            "_view_count": null,
            "_view_module": "@jupyter-widgets/base",
            "_view_module_version": "1.2.0",
            "_view_name": "LayoutView",
            "align_content": null,
            "align_items": null,
            "align_self": null,
            "border": null,
            "bottom": null,
            "display": null,
            "flex": null,
            "flex_flow": null,
            "grid_area": null,
            "grid_auto_columns": null,
            "grid_auto_flow": null,
            "grid_auto_rows": null,
            "grid_column": null,
            "grid_gap": null,
            "grid_row": null,
            "grid_template_areas": null,
            "grid_template_columns": null,
            "grid_template_rows": null,
            "height": null,
            "justify_content": null,
            "justify_items": null,
            "left": null,
            "margin": null,
            "max_height": null,
            "max_width": null,
            "min_height": null,
            "min_width": null,
            "object_fit": null,
            "object_position": null,
            "order": null,
            "overflow": null,
            "overflow_x": null,
            "overflow_y": null,
            "padding": null,
            "right": null,
            "top": null,
            "visibility": null,
            "width": null
          }
        },
        "2e964b6e4c8942d6b8bc45ec9837761b": {
          "model_module": "@jupyter-widgets/base",
          "model_name": "LayoutModel",
          "model_module_version": "1.2.0",
          "state": {
            "_model_module": "@jupyter-widgets/base",
            "_model_module_version": "1.2.0",
            "_model_name": "LayoutModel",
            "_view_count": null,
            "_view_module": "@jupyter-widgets/base",
            "_view_module_version": "1.2.0",
            "_view_name": "LayoutView",
            "align_content": null,
            "align_items": null,
            "align_self": null,
            "border": null,
            "bottom": null,
            "display": null,
            "flex": null,
            "flex_flow": null,
            "grid_area": null,
            "grid_auto_columns": null,
            "grid_auto_flow": null,
            "grid_auto_rows": null,
            "grid_column": null,
            "grid_gap": null,
            "grid_row": null,
            "grid_template_areas": null,
            "grid_template_columns": null,
            "grid_template_rows": null,
            "height": null,
            "justify_content": null,
            "justify_items": null,
            "left": null,
            "margin": null,
            "max_height": null,
            "max_width": null,
            "min_height": null,
            "min_width": null,
            "object_fit": null,
            "object_position": null,
            "order": null,
            "overflow": null,
            "overflow_x": null,
            "overflow_y": null,
            "padding": null,
            "right": null,
            "top": null,
            "visibility": null,
            "width": null
          }
        },
        "03c3e134c9844e10aacef1a03c5a77e3": {
          "model_module": "@jupyter-widgets/controls",
          "model_name": "DescriptionStyleModel",
          "model_module_version": "1.5.0",
          "state": {
            "_model_module": "@jupyter-widgets/controls",
            "_model_module_version": "1.5.0",
            "_model_name": "DescriptionStyleModel",
            "_view_count": null,
            "_view_module": "@jupyter-widgets/base",
            "_view_module_version": "1.2.0",
            "_view_name": "StyleView",
            "description_width": ""
          }
        },
        "ec237943bfb4483fb44b046982db15c0": {
          "model_module": "@jupyter-widgets/base",
          "model_name": "LayoutModel",
          "model_module_version": "1.2.0",
          "state": {
            "_model_module": "@jupyter-widgets/base",
            "_model_module_version": "1.2.0",
            "_model_name": "LayoutModel",
            "_view_count": null,
            "_view_module": "@jupyter-widgets/base",
            "_view_module_version": "1.2.0",
            "_view_name": "LayoutView",
            "align_content": null,
            "align_items": null,
            "align_self": null,
            "border": null,
            "bottom": null,
            "display": null,
            "flex": null,
            "flex_flow": null,
            "grid_area": null,
            "grid_auto_columns": null,
            "grid_auto_flow": null,
            "grid_auto_rows": null,
            "grid_column": null,
            "grid_gap": null,
            "grid_row": null,
            "grid_template_areas": null,
            "grid_template_columns": null,
            "grid_template_rows": null,
            "height": null,
            "justify_content": null,
            "justify_items": null,
            "left": null,
            "margin": null,
            "max_height": null,
            "max_width": null,
            "min_height": null,
            "min_width": null,
            "object_fit": null,
            "object_position": null,
            "order": null,
            "overflow": null,
            "overflow_x": null,
            "overflow_y": null,
            "padding": null,
            "right": null,
            "top": null,
            "visibility": null,
            "width": null
          }
        },
        "19f6ba44504049b38e0cc96679653e3f": {
          "model_module": "@jupyter-widgets/controls",
          "model_name": "ProgressStyleModel",
          "model_module_version": "1.5.0",
          "state": {
            "_model_module": "@jupyter-widgets/controls",
            "_model_module_version": "1.5.0",
            "_model_name": "ProgressStyleModel",
            "_view_count": null,
            "_view_module": "@jupyter-widgets/base",
            "_view_module_version": "1.2.0",
            "_view_name": "StyleView",
            "bar_color": null,
            "description_width": ""
          }
        },
        "370356b87be34cf792a8e090241ae65f": {
          "model_module": "@jupyter-widgets/base",
          "model_name": "LayoutModel",
          "model_module_version": "1.2.0",
          "state": {
            "_model_module": "@jupyter-widgets/base",
            "_model_module_version": "1.2.0",
            "_model_name": "LayoutModel",
            "_view_count": null,
            "_view_module": "@jupyter-widgets/base",
            "_view_module_version": "1.2.0",
            "_view_name": "LayoutView",
            "align_content": null,
            "align_items": null,
            "align_self": null,
            "border": null,
            "bottom": null,
            "display": null,
            "flex": null,
            "flex_flow": null,
            "grid_area": null,
            "grid_auto_columns": null,
            "grid_auto_flow": null,
            "grid_auto_rows": null,
            "grid_column": null,
            "grid_gap": null,
            "grid_row": null,
            "grid_template_areas": null,
            "grid_template_columns": null,
            "grid_template_rows": null,
            "height": null,
            "justify_content": null,
            "justify_items": null,
            "left": null,
            "margin": null,
            "max_height": null,
            "max_width": null,
            "min_height": null,
            "min_width": null,
            "object_fit": null,
            "object_position": null,
            "order": null,
            "overflow": null,
            "overflow_x": null,
            "overflow_y": null,
            "padding": null,
            "right": null,
            "top": null,
            "visibility": null,
            "width": null
          }
        },
        "67a5fd72865841a7b4ee06d17a5f7a55": {
          "model_module": "@jupyter-widgets/controls",
          "model_name": "DescriptionStyleModel",
          "model_module_version": "1.5.0",
          "state": {
            "_model_module": "@jupyter-widgets/controls",
            "_model_module_version": "1.5.0",
            "_model_name": "DescriptionStyleModel",
            "_view_count": null,
            "_view_module": "@jupyter-widgets/base",
            "_view_module_version": "1.2.0",
            "_view_name": "StyleView",
            "description_width": ""
          }
        }
      }
    }
  },
  "nbformat": 4,
  "nbformat_minor": 0
}